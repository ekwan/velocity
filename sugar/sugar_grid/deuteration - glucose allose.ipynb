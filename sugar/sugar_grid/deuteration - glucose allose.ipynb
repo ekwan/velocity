{
 "cells": [
  {
   "cell_type": "code",
   "execution_count": 1,
   "id": "fdc076f3-0577-44f6-a1f4-6dd9907d88ef",
   "metadata": {},
   "outputs": [
    {
     "name": "stdout",
     "output_type": "stream",
     "text": [
      "['/Users/kwaneu/research/velocity/', '/Users/kwaneu/research/velocity/sugar/sugar_grid', '/Users/kwaneu/miniconda3/envs/python/lib/python39.zip', '/Users/kwaneu/miniconda3/envs/python/lib/python3.9', '/Users/kwaneu/miniconda3/envs/python/lib/python3.9/lib-dynload', '', '/Users/kwaneu/miniconda3/envs/python/lib/python3.9/site-packages', '/Users/kwaneu/miniconda3/envs/python/lib/python3.9/site-packages/IPython/extensions', '/Users/kwaneu/.ipython']\n"
     ]
    }
   ],
   "source": [
    "import sys\n",
    "sys.path[0]=\"/Users/kwaneu/research/velocity/\"\n",
    "print(sys.path)\n",
    "import pandas as pd\n",
    "import numpy as np\n",
    "import velocity\n",
    "from velocity.chemistry import Species, Reaction, Network\n",
    "from math import sqrt\n",
    "import lmfit\n",
    "from tqdm.notebook import tqdm\n",
    "from IPython.display import display, HTML\n",
    "import matplotlib\n",
    "matplotlib.use(\"Agg\")\n",
    "import matplotlib.pyplot as plt\n",
    "%matplotlib inline\n",
    "import plotly.graph_objects as go\n",
    "from plotly.subplots import make_subplots"
   ]
  },
  {
   "cell_type": "code",
   "execution_count": 2,
   "id": "ce9efc0b-3042-46fa-bdbc-2e8cecca9a06",
   "metadata": {},
   "outputs": [],
   "source": [
    "# make a simplified deuterated reaction network of the form:\n",
    "#\n",
    "# allow all H/D variants at site A (but not at sites X or Y):\n",
    "# {sugar1_HHH,sugar1_DHH} == site_A_radical == {sugar2_H,sugar2_D}\n",
    "# \n",
    "# allow unproductive H/D exchange at sites X and Y (single substitutions only):\n",
    "# sugar1_HDH <- site_X_radical == sugar1_HHH == site_Y_radical -> sugar1_HHD\n",
    "#\n",
    "# KIE = 1 assumed\n",
    "def make_deuteration_network(\n",
    "    abundance,             # fraction from 0 to 1 of deuterium\n",
    "    base_rate_constant_A,  # of desired site A\n",
    "    base_rate_constant_X,  # of undesired site X\n",
    "    base_rate_constant_Y,  # of undesired site Y\n",
    "    HAA_selectivity,       # preference for destroying sugar 1 over sugar 2\n",
    "    HAD_selectivity,       # preference for regenerating sugar 2 over sugar 1\n",
    "    commitment = 1000.0,   # ratio of HAD rate constant to HAA rate constant\n",
    "    conversion = 1e-6      # base rate constants will be converted to actual rate constants by this scaling factor\n",
    "):\n",
    "    # abbreviations\n",
    "    a = abundance\n",
    "    bA, bX, bY = base_rate_constant_A*conversion, base_rate_constant_X*conversion, base_rate_constant_Y*conversion\n",
    "    HAA, HAD = HAA_selectivity, HAD_selectivity\n",
    "    c = commitment\n",
    "\n",
    "    # setup species\n",
    "    # xyz nomenclature refers to desired site A, undesired site X, undesired site Y\n",
    "    # H/D indicates the isotope at each site\n",
    "    sugar1_HHH = Species(\"1_HHH\", \"sugar 1 HHH\")\n",
    "    sugar1_DHH = Species(\"1_DHH\", \"sugar 1 DHH\")\n",
    "    sugar1_HDH = Species(\"1_HDH\", \"sugar 1 HDH\")\n",
    "    sugar1_HHD = Species(\"1_HHD\", \"sugar 1 HHD\")\n",
    "    sugar2_H   = Species(\"2_H\",   \"sugar 2 H\")\n",
    "    sugar2_D   = Species(\"2_D\",   \"sugar 2 D\")\n",
    "    Adot       = Species(\"A_dot\", \"site A radical\")\n",
    "    Xdot       = Species(\"X_dot\", \"site X radical\")\n",
    "    Ydot       = Species(\"Y_dot\", \"site Y radical\")\n",
    "    cat        = Species(\"cat\",   \"catalyst\")\n",
    "    \n",
    "    # setup reactions\n",
    "    reactions_dict = {}\n",
    "    \n",
    "    # sugar1_HHH == Adot == sugar2_H\n",
    "    reaction1 = Reaction({sugar1_HHH:1, cat:1}, {Adot:1, cat:1}, reversible=True)\n",
    "    reaction2 = Reaction({Adot:1, cat:1}, {sugar2_H:1, cat:1}, reversible=True)\n",
    "    reactions_dict[reaction1] = (bA*sqrt(HAA), (1-a)*bA*c/sqrt(HAD))\n",
    "    reactions_dict[reaction2] = ((1-a)*bA*c*sqrt(HAD), bA/sqrt(HAA))\n",
    "    \n",
    "    # sugar1_DHH == Adot == sugar2_D\n",
    "    reaction3 = Reaction({sugar1_DHH:1, cat:1}, {Adot:1, cat:1}, reversible=True)\n",
    "    reaction4 = Reaction({Adot:1, cat:1}, {sugar2_D:1, cat:1}, reversible=True)\n",
    "    reactions_dict[reaction3] = (bA*sqrt(HAA), a*bA*c/sqrt(HAD))\n",
    "    reactions_dict[reaction4] = (a*bA*c*sqrt(HAD), bA/sqrt(HAA))\n",
    "    \n",
    "    # sugar1_HDH <- site_X_radical == sugar1_HHH\n",
    "    reaction5 = Reaction({sugar1_HHH:1, cat:1}, {Xdot:1, cat:1}, reversible=True)\n",
    "    reaction6 = Reaction({Xdot:1, cat:1}, {sugar1_HDH:1, cat:1})\n",
    "    reactions_dict[reaction5] = (bX, (1-a)*bX*c)\n",
    "    reactions_dict[reaction6] = a*bX*c\n",
    "    \n",
    "    # sugar1_HHH == site_Y_radical -> sugar1_HHD\n",
    "    reaction7 = Reaction({sugar1_HHH:1, cat:1}, {Ydot:1, cat:1}, reversible=True)\n",
    "    reaction8 = Reaction({Ydot:1, cat:1}, {sugar1_HHD:1, cat:1})\n",
    "    reactions_dict[reaction7] = (bY, (1-a)*bY*c)\n",
    "    reactions_dict[reaction8] = a*bY*c    \n",
    "    \n",
    "    # return result\n",
    "    network = Network(reactions_dict, fixed_concentrations=None)\n",
    "    return network, sugar1_HHH, cat"
   ]
  },
  {
   "cell_type": "code",
   "execution_count": 102,
   "id": "4eb1f3b0-ff7b-4038-9255-705b74033dfa",
   "metadata": {},
   "outputs": [],
   "source": [
    "# model glucose/allose experiment\n",
    "network, sugar1_HHH, cat = make_deuteration_network(\n",
    "    abundance = 0.7,\n",
    "    base_rate_constant_A = 13000, # allose (C3)\n",
    "    base_rate_constant_X = 1000,   # mannose (C2)\n",
    "    base_rate_constant_Y = 1000,   # galactose (C4)\n",
    "    HAA_selectivity = 1.2,\n",
    "    HAD_selectivity = 5.0,\n",
    "    commitment = 10000.0,\n",
    ")\n",
    "\n",
    "initial_concentrations_dict = {\n",
    "    sugar1_HHH : 0.2,\n",
    "    cat : 0.2*0.02,\n",
    "}\n",
    "t_span = (0.0, 3600.0)\n",
    "t_eval = np.arange(0, 3605.0, 5.0)\n",
    "concentrations_df = network.simulate_timecourse(initial_concentrations_dict, t_span, t_eval)"
   ]
  },
  {
   "cell_type": "code",
   "execution_count": 103,
   "id": "aa4b4453-a928-43ff-a04f-6a519090049a",
   "metadata": {},
   "outputs": [
    {
     "data": {
      "text/plain": [
       "time\n",
       "0.0             NaN\n",
       "5.0       91.531893\n",
       "10.0      86.180110\n",
       "15.0      81.890912\n",
       "20.0      78.467980\n",
       "            ...    \n",
       "3580.0    53.948910\n",
       "3585.0    53.946959\n",
       "3590.0    53.947089\n",
       "3595.0    53.944203\n",
       "3600.0    53.944505\n",
       "Length: 721, dtype: float64"
      ]
     },
     "execution_count": 103,
     "metadata": {},
     "output_type": "execute_result"
    },
    {
     "data": {
      "image/png": "[encoded data removed]",
      "text/plain": [
       "<Figure size 432x288 with 1 Axes>"
      ]
     },
     "metadata": {
      "needs_background": "light"
     },
     "output_type": "display_data"
    }
   ],
   "source": [
    "df = concentrations_df\n",
    "recovered_A = df[\"1_DHH\"] * 100.0 / (df[\"1_DHH\"] + df[\"1_HDH\"] + df[\"1_HHD\"])\n",
    "recovered_X = df[\"1_HDH\"] * 100.0 / (df[\"1_DHH\"] + df[\"1_HDH\"] + df[\"1_HHD\"])\n",
    "recovered_Y = df[\"1_HHD\"] * 100.0 / (df[\"1_DHH\"] + df[\"1_HDH\"] + df[\"1_HHD\"])\n",
    "plt.plot(concentrations_df.index, recovered_A, \"k.\")\n",
    "plt.plot(concentrations_df.index, recovered_X, \"b.\")\n",
    "plt.plot(concentrations_df.index, recovered_Y+1, \"r.\")\n",
    "recovered_A"
   ]
  },
  {
   "cell_type": "code",
   "execution_count": 104,
   "id": "10d280c2-15ab-4ee8-ac22-60ff6abf3adc",
   "metadata": {},
   "outputs": [
    {
     "data": {
      "text/plain": [
       "cat      0.004000\n",
       "A_dot    0.000007\n",
       "X_dot    0.000018\n",
       "Y_dot    0.000018\n",
       "1_DHH    0.002246\n",
       "1_HDH    0.000943\n",
       "1_HHD    0.000943\n",
       "1_HHH    0.179647\n",
       "2_D      0.011324\n",
       "2_H      0.004853\n",
       "Name: 1800.0, dtype: float64"
      ]
     },
     "metadata": {},
     "output_type": "display_data"
    }
   ],
   "source": [
    "df = concentrations_df.loc[1800]\n",
    "display(df)\n",
    "#df = df.iloc[0]"
   ]
  },
  {
   "cell_type": "code",
   "execution_count": 105,
   "id": "48f6023c-de68-44f2-ad39-8487af03bcef",
   "metadata": {},
   "outputs": [
    {
     "name": "stdout",
     "output_type": "stream",
     "text": [
      "A:54.4%  X:22.8%  Y:22.8%   deuteration:2.2%\n"
     ]
    }
   ],
   "source": [
    "recovered_A = df[\"1_DHH\"] * 100.0 / (df[\"1_DHH\"] + df[\"1_HDH\"] + df[\"1_HHD\"])\n",
    "recovered_X = df[\"1_HDH\"] * 100.0 / (df[\"1_DHH\"] + df[\"1_HDH\"] + df[\"1_HHD\"])\n",
    "recovered_Y = df[\"1_HHD\"] * 100.0 / (df[\"1_DHH\"] + df[\"1_HDH\"] + df[\"1_HHD\"])\n",
    "deuteration = (df[\"1_DHH\"] + df[\"1_HDH\"] + df[\"1_HHD\"])*100.0/(df[\"1_DHH\"] + df[\"1_HDH\"] + df[\"1_HHD\"] + df[\"1_HHH\"])\n",
    "print(f\"A:{recovered_A:.1f}%  X:{recovered_X:.1f}%  Y:{recovered_Y:.1f}%   deuteration:{deuteration:.1f}%\")"
   ]
  },
  {
   "cell_type": "code",
   "execution_count": 101,
   "id": "abe50119-4957-47f7-8e44-fc80b3eb1e58",
   "metadata": {},
   "outputs": [
    {
     "name": "stdout",
     "output_type": "stream",
     "text": [
      "0.6480478064428945\n"
     ]
    }
   ],
   "source": [
    "conversion = 1-df[\"1_HHH\"]/0.2\n",
    "print(conversion)"
   ]
  },
  {
   "cell_type": "code",
   "execution_count": 78,
   "id": "0e0eb5b2-a579-4fa5-b5c5-1d94f47c08dd",
   "metadata": {},
   "outputs": [
    {
     "data": {
      "text/plain": [
       "[<matplotlib.lines.Line2D at 0x7fd5941acd00>]"
      ]
     },
     "execution_count": 78,
     "metadata": {},
     "output_type": "execute_result"
    },
    {
     "data": {
      "image/png": "[encoded data removed]",
      "text/plain": [
       "<Figure size 432x288 with 1 Axes>"
      ]
     },
     "metadata": {
      "needs_background": "light"
     },
     "output_type": "display_data"
    }
   ],
   "source": [
    "plt.plot(concentrations_df.index, concentrations_df[\"1_DHH\"], \"k.\")\n",
    "plt.plot(concentrations_df.index, concentrations_df[\"1_HDH\"], \"b.\")\n",
    "plt.plot(concentrations_df.index, concentrations_df[\"1_HHD\"], \"r.\")"
   ]
  },
  {
   "cell_type": "code",
   "execution_count": 79,
   "id": "a7eb5825-dabf-4b3f-928b-7e28e3b59549",
   "metadata": {},
   "outputs": [
    {
     "data": {
      "text/plain": [
       "[<matplotlib.lines.Line2D at 0x7fd594a24070>]"
      ]
     },
     "execution_count": 79,
     "metadata": {},
     "output_type": "execute_result"
    },
    {
     "data": {
      "image/png": "[encoded data removed]",
      "text/plain": [
       "<Figure size 432x288 with 1 Axes>"
      ]
     },
     "metadata": {
      "needs_background": "light"
     },
     "output_type": "display_data"
    }
   ],
   "source": [
    "plt.plot(concentrations_df.index, concentrations_df[\"1_HHH\"]/0.2, \"k.\")\n",
    "#plt.plot(concentrations_df.index, concentrations_df[\"2_H\"]/(concentrations_df[\"2_H\"]+concentrations_df[\"2_D\"]), \"b.\")\n",
    "plt.plot(concentrations_df.index, concentrations_df[\"2_D\"]/0.2, \"r.\")\n",
    "plt.plot(concentrations_df.index, concentrations_df[\"2_H\"]/0.2, \"b.\")"
   ]
  },
  {
   "cell_type": "code",
   "execution_count": null,
   "id": "4aa9e82c-5fc5-46a2-b935-61d46c88c3c7",
   "metadata": {},
   "outputs": [],
   "source": []
  },
  {
   "cell_type": "code",
   "execution_count": null,
   "id": "c00acc86-cbdb-41f4-9094-64c84bb6c27d",
   "metadata": {},
   "outputs": [],
   "source": []
  }
 ],
 "metadata": {
  "kernelspec": {
   "display_name": "Python 3",
   "language": "python",
   "name": "python3"
  },
  "language_info": {
   "codemirror_mode": {
    "name": "ipython",
    "version": 3
   },
   "file_extension": ".py",
   "mimetype": "text/x-python",
   "name": "python",
   "nbconvert_exporter": "python",
   "pygments_lexer": "ipython3",
   "version": "3.9.5"
  }
 },
 "nbformat": 4,
 "nbformat_minor": 5
}
