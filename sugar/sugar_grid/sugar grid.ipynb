{
 "cells": [
  {
   "cell_type": "code",
   "execution_count": 1,
   "id": "f91ff7b3-331a-4d37-9221-87c17aa5c96a",
   "metadata": {},
   "outputs": [
    {
     "name": "stdout",
     "output_type": "stream",
     "text": [
      "['/Users/kwaneu/research/velocity/', '/Users/kwaneu/research/velocity/sugar/sugar_grid', '/Users/kwaneu/miniconda3/envs/python/lib/python39.zip', '/Users/kwaneu/miniconda3/envs/python/lib/python3.9', '/Users/kwaneu/miniconda3/envs/python/lib/python3.9/lib-dynload', '', '/Users/kwaneu/miniconda3/envs/python/lib/python3.9/site-packages', '/Users/kwaneu/miniconda3/envs/python/lib/python3.9/site-packages/IPython/extensions', '/Users/kwaneu/.ipython']\n"
     ]
    }
   ],
   "source": [
    "import sys\n",
    "sys.path[0]=\"/Users/kwaneu/research/velocity/\"\n",
    "#print(sys.path)\n",
    "import pandas as pd\n",
    "import numpy as np\n",
    "import velocity\n",
    "from velocity.chemistry import Species, Reaction, Network\n",
    "from math import sqrt\n",
    "import lmfit\n",
    "from tqdm.notebook import tqdm\n",
    "from IPython.display import display, HTML\n",
    "import matplotlib\n",
    "matplotlib.use(\"Agg\")\n",
    "import matplotlib.pyplot as plt\n",
    "%matplotlib inline\n",
    "import plotly.graph_objects as go\n",
    "from plotly.subplots import make_subplots"
   ]
  },
  {
   "cell_type": "code",
   "execution_count": 2,
   "id": "7171aacb-9c33-4836-b2d5-347123c33117",
   "metadata": {},
   "outputs": [],
   "source": [
    "# settings\n",
    "observations_filename = \"observations.xlsx\"  # spreadsheet filename\n",
    "\n",
    "# parameter bounds\n",
    "min_log10_base_rate_constant = -3\n",
    "max_log10_base_rate_constant = -1\n",
    "min_log10_selectivity = -2\n",
    "max_log10_selectivity = 2\n",
    "min_log10_catalyst_deactivation_rate_constant = -6\n",
    "default_log10_catalyst_deactivation_rate_constant = np.log10(0.000014)\n",
    "max_log10_catalyst_deactivation_rate_constant = -4"
   ]
  },
  {
   "cell_type": "code",
   "execution_count": 3,
   "id": "cc8a6fcc-8963-4ecf-bc15-4c60e9afd69d",
   "metadata": {},
   "outputs": [],
   "source": [
    "# setup sugars\n",
    "glucose = Species(\"Glc\", \"glucose\")\n",
    "mannose = Species(\"Man\", \"mannose\")\n",
    "altrose = Species(\"Alt\", \"altrose\")\n",
    "allose = Species(\"All\", \"allose\")\n",
    "gulose = Species(\"Gul\", \"gulose\")\n",
    "galactose = Species(\"Gal\", \"galactose\")\n",
    "talose = Species(\"Tal\", \"talose\")\n",
    "idose = Species(\"Ido\", \"idose\")\n",
    "\n",
    "# must match order in spreadsheet!\n",
    "sugars = [ glucose, mannose, allose, galactose, altrose, talose, gulose, idose ]\n",
    "sugars_dict = { s.abbreviation : s for s in sugars }\n",
    "sugar_abbreviations = [ s.abbreviation for s in sugars ]\n",
    "\n",
    "# setup catalyst\n",
    "catalyst_active = Species(\"cat\", \"catalyst (active)\")\n",
    "catalyst_dead = Species(\"dead\", \"catalyst (dead)\")\n",
    "\n",
    "# these are the network connections\n",
    "CONNECTIONS = [\"Glc_All\",  \"Glc_Gal\",  \"Glc_Man\",\n",
    "               \"All_Gul\",  \"Gul_Gal\",  \"Gal_Tal\",\n",
    "               \"Tal_Man\",  \"Man_Alt\",  \"Alt_All\",\n",
    "               \"Alt_Ido\",  \"Tal_Ido\",  \"Ido_Gul\"]"
   ]
  },
  {
   "cell_type": "code",
   "execution_count": 4,
   "id": "faa25d24-5685-4258-bad1-1f8d34acb064",
   "metadata": {},
   "outputs": [],
   "source": [
    "def add_connection(reactions_dict, connection_string, base_rate_constant, selectivity):\n",
    "    sugar1, sugar2 = connection_string.split(\"_\")\n",
    "    sugar1 = sugars_dict[sugar1]\n",
    "    sugar2 = sugars_dict[sugar2]\n",
    "\n",
    "    jk1 = base_rate_constant*sqrt(selectivity)\n",
    "    jk2 = base_rate_constant/sqrt(selectivity)\n",
    "    reaction = Reaction({sugar1:1, catalyst_active:1}, {sugar2:1, catalyst_active:1}, reversible=True)\n",
    "    reactions_dict[reaction] = (jk1,jk2)"
   ]
  },
  {
   "cell_type": "code",
   "execution_count": 5,
   "id": "24e9691c-9e3f-481d-831c-326a1fbcf36d",
   "metadata": {},
   "outputs": [],
   "source": [
    "def create_network(x):\n",
    "    reactions_dict = {}\n",
    "\n",
    "    for connection in CONNECTIONS:\n",
    "        base_rate_constant = np.power(10, x[f\"{connection}_log10_base_rate_constant\"])\n",
    "        selectivity = np.power(10, x[f\"{connection}_log10_selectivity\"])\n",
    "        add_connection(reactions_dict, connection, base_rate_constant, selectivity)\n",
    "\n",
    "    catalyst_deactivation_reaction = Reaction(catalyst_active, catalyst_dead, reversible=False)\n",
    "    reactions_dict[catalyst_deactivation_reaction] = np.power(10.0,x[\"log10_catalyst_deactivation_rate_constant\"])\n",
    "    \n",
    "    network = Network(reactions_dict, fixed_concentrations=None)\n",
    "    return network"
   ]
  },
  {
   "cell_type": "code",
   "execution_count": 80,
   "id": "b1c976eb-541c-4bda-b144-17eb0f3fb23e",
   "metadata": {},
   "outputs": [],
   "source": [
    "def add_parameters(connection, base_rate_constant, selectivity, vary=(False,False)):\n",
    "    vary_rate, vary_selectivity = vary\n",
    "    parameter = lmfit.Parameter(\n",
    "        name = f\"{connection}_log10_base_rate_constant\",\n",
    "        min = min_log10_base_rate_constant,\n",
    "        value = np.log10(base_rate_constant*1e-6),\n",
    "        max = max_log10_base_rate_constant,\n",
    "        vary = True\n",
    "    )\n",
    "    parameters.add(parameter)\n",
    "\n",
    "    parameter = lmfit.Parameter(\n",
    "        name = f\"{connection}_log10_selectivity\",\n",
    "        min = min_log10_selectivity,\n",
    "        value = np.log10(convert(selectivity)),\n",
    "        max = max_log10_selectivity,\n",
    "        vary = True\n",
    "    )\n",
    "    parameters.add(parameter)"
   ]
  },
  {
   "cell_type": "code",
   "execution_count": 62,
   "id": "06284050-8bcb-46e6-a4e8-d310fe2e12ed",
   "metadata": {},
   "outputs": [],
   "source": [
    "# root mean square average\n",
    "def rms(x):\n",
    "    assert isinstance(x, (list,np.ndarray))\n",
    "    assert len(x) > 0\n",
    "    return np.sqrt(np.mean(np.square((x))))"
   ]
  },
  {
   "cell_type": "code",
   "execution_count": 63,
   "id": "fc359a42-db0f-4e84-bc6d-2ecf01535995",
   "metadata": {},
   "outputs": [],
   "source": [
    "def convert(selectivity):\n",
    "    \"\"\"Converts negative selectivites into inverse selectivities.\n",
    "\n",
    "    Leaves positive selectivities untouched.\n",
    "\n",
    "    Args:\n",
    "        selectivity (int or float): The selectivity to convert.\n",
    "\n",
    "    Returns:\n",
    "        selectivity (float): The converted selectivity.\n",
    "    \"\"\"\n",
    "    selectivity = float(selectivity)\n",
    "    if selectivity < 0.0:\n",
    "        selectivity = -1.0/selectivity\n",
    "    return selectivity"
   ]
  },
  {
   "cell_type": "code",
   "execution_count": 64,
   "id": "79443621-88f4-4d2c-82c1-36ba39a1d8cf",
   "metadata": {},
   "outputs": [],
   "source": [
    "# represents a single experimental isomerization run\n",
    "class ExperimentalRun():\n",
    "    def __init__(self, starting_sugar):\n",
    "        assert starting_sugar in sugar_abbreviations, f\"sugar {starting_sugar} not found\"\n",
    "        self.starting_sugar = sugars_dict[starting_sugar]\n",
    "        self.observation_times = []          # list of floats\n",
    "        self.observations = []               # list of np.array (float),\n",
    "                                             # where the outer index parallels observation_times\n",
    "                                             # and the inner index parallels sugars\n",
    "\n",
    "    def add_observation(self, observation_time, observed_mole_fractions):\n",
    "        assert isinstance(observation_time, (int,float)) and observation_time > 0.0\n",
    "        self.observation_times.append(float(observation_time))\n",
    "        assert isinstance(observed_mole_fractions, list)\n",
    "        assert len(observed_mole_fractions) == len(sugars)\n",
    "        for i in observed_mole_fractions:\n",
    "            assert isinstance(i, (int,float)) and i >= 0.0\n",
    "        observed_mole_fractions = np.array(observed_mole_fractions, dtype=float)\n",
    "        observed_mole_fractions = observed_mole_fractions / np.sum(observed_mole_fractions)\n",
    "        self.observations.append(observed_mole_fractions)"
   ]
  },
  {
   "cell_type": "code",
   "execution_count": 65,
   "id": "c31e2bc5-73e6-445b-91c8-1a1cb26ea0fa",
   "metadata": {},
   "outputs": [],
   "source": [
    "# read experimental data\n",
    "observations_df = pd.read_excel(observations_filename)\n",
    "expected_columns = [\"Run\", \"Starting Sugar\", \"Time\"]\n",
    "expected_columns.extend(sugar_abbreviations)\n",
    "assert np.all(observations_df.columns == expected_columns), \"check spreadsheet columns\"\n",
    "current_run = None\n",
    "current_run_number = None\n",
    "experimental_runs = []\n",
    "for _,row in observations_df.iterrows():\n",
    "    run_number, starting_sugar, time, *observations = row\n",
    "    if current_run is None:\n",
    "        assert run_number == 1\n",
    "        current_run = ExperimentalRun(starting_sugar)\n",
    "        current_run_number = run_number\n",
    "    elif run_number != current_run_number:\n",
    "        assert run_number == current_run_number + 1\n",
    "        experimental_runs.append(current_run)\n",
    "        current_run = ExperimentalRun(starting_sugar)\n",
    "        current_run_number = run_number\n",
    "    else:\n",
    "        assert starting_sugar == current_run.starting_sugar.abbreviation\n",
    "    current_run.add_observation(time, observations)\n",
    "\n",
    "if current_run:\n",
    "    experimental_runs.append(current_run)"
   ]
  },
  {
   "cell_type": "code",
   "execution_count": 66,
   "id": "f52c4d75-5e10-4cc2-a9e2-76300f725a1e",
   "metadata": {},
   "outputs": [
    {
     "name": "stdout",
     "output_type": "stream",
     "text": [
      "Read 8 experimental runs.\n",
      "Will evaluate these times within (0.0, 64800.0) s:\n",
      "[1200.0, 1800.0, 2400.0, 4920.0, 9720.0, 16920.0, 64800.0]\n",
      "\n"
     ]
    }
   ],
   "source": [
    "# generate times to run simulation over\n",
    "all_times = set()\n",
    "for r in experimental_runs:\n",
    "    all_times.update(r.observation_times)\n",
    "all_times = list(sorted(all_times))\n",
    "t_span = (0.0, all_times[-1])\n",
    "t_eval = np.array(all_times)\n",
    "print(f\"Read {len(experimental_runs)} experimental runs.\")\n",
    "print(f\"Will evaluate these times within {t_span} s:\")\n",
    "print(all_times)\n",
    "print()"
   ]
  },
  {
   "cell_type": "code",
   "execution_count": 67,
   "id": "73f3b49e-0113-495d-9fd3-ed3313f4030f",
   "metadata": {},
   "outputs": [],
   "source": [
    "# run simulations\n",
    "def run_simulations():\n",
    "    network = create_network(parameters)\n",
    "    for run in experimental_runs:\n",
    "        initial_concentrations_dict = {\n",
    "            run.starting_sugar : 0.2,\n",
    "            catalyst_active : 0.2*0.02,\n",
    "        }\n",
    "        concentrations_df = network.simulate_timecourse(initial_concentrations_dict, t_span, t_eval)\n",
    "        run.simulation_df = concentrations_df"
   ]
  },
  {
   "cell_type": "code",
   "execution_count": 68,
   "id": "f1b42458-d879-46da-b656-7dd84138bfc5",
   "metadata": {},
   "outputs": [],
   "source": [
    "def plot():\n",
    "    titles = [ e.starting_sugar.description for e in experimental_runs ]\n",
    "    fig = make_subplots(rows=2, cols=4, subplot_titles=titles, vertical_spacing=0.2, horizontal_spacing=0.03)\n",
    "    for i,experimental_run in enumerate(experimental_runs):\n",
    "        # interleave observed and simulated data\n",
    "        simulation_df = experimental_run.simulation_df[sugar_abbreviations]\n",
    "        observation_times = experimental_run.observation_times\n",
    "        data_rows, labels = [], []\n",
    "        for j,experimental_observations in enumerate(experimental_run.observations):\n",
    "            data_rows.append(experimental_observations)\n",
    "            labels.append(f\"exp:{t_eval[j]:.0f} s\")\n",
    "            simulated_row = simulation_df.loc[observation_times[j]].to_numpy()\n",
    "            data_rows.append(simulated_row / np.sum(simulated_row))\n",
    "            labels.append(f\"sim:{t_eval[j]:.0f} s\")\n",
    "        results_df = pd.DataFrame(data_rows, index=labels, columns=sugar_abbreviations)\n",
    "\n",
    "        # create the bar objects\n",
    "        row = i // 4 + 1\n",
    "        col = i % 4 + 1\n",
    "        count = -1\n",
    "        colors = [\"red\",\"blue\"] * len(experimental_run.observations)\n",
    "        for label,df_row in results_df.iterrows():\n",
    "            count += 1 \n",
    "            bar = go.Bar(name=label, x=sugar_abbreviations, y=df_row, marker_color=colors[count])\n",
    "            fig.add_trace(bar, row=row, col=col)\n",
    "        fig.update_yaxes(range=[0,1], row=row, col=col)\n",
    "\n",
    "    fig.update_layout(barmode=\"group\", showlegend=False, height=400, width=1400)\n",
    "    fig.show()\n",
    "    "
   ]
  },
  {
   "cell_type": "code",
   "execution_count": 69,
   "id": "c7bcf689-b781-431c-bbc4-f8a6151369e6",
   "metadata": {},
   "outputs": [],
   "source": [
    "# calculate the loss for a single simulation\n",
    "# treats all runs with same weight regardless of number of observations\n",
    "def loss_function(experimental_run, concentrations_df):\n",
    "    losses = []\n",
    "#    print(\"============\")\n",
    "    for t,observed in zip(experimental_run.observation_times, experimental_run.observations):\n",
    "        df = concentrations_df.query(f\"index == {t}\")\n",
    "        assert len(df) == 1\n",
    "        simulated = df[sugar_abbreviations]\n",
    "#         display(simulated)\n",
    "        simulated = simulated.iloc[0].to_numpy()\n",
    "        simulated = simulated / np.sum(simulated)\n",
    "#         print([f\"{i:.3f}\" for i in simulated])\n",
    "#         print([f\"{i:.3f}\" for i in observed])\n",
    "#         print(\"---\")\n",
    "#         print(\"Simulated:\")\n",
    "#         print(simulated)\n",
    "#         print(\"Obeserved:\")\n",
    "#         print(observed)\n",
    "#         print(\"diff:\")\n",
    "#         print(simulated-observed)\n",
    "#         print(\"rms:\")\n",
    "        loss = rms(simulated-observed)\n",
    "#         print(loss)\n",
    "        losses.append(loss)\n",
    "    # print(\"LOSSES\")\n",
    "    # print(losses)\n",
    "    # print(rms(losses))\n",
    "    return rms(losses)"
   ]
  },
  {
   "cell_type": "code",
   "execution_count": 70,
   "id": "5b988ad4-4c4c-4118-b703-18b0c65d2125",
   "metadata": {},
   "outputs": [
    {
     "data": {
      "text/plain": [
       "'\\nadd_parameters(\"Glc_All\",  50000,  10)\\nadd_parameters(\"Glc_Gal\",  10000,   1)\\nadd_parameters(\"Glc_Man\",  10000,   1)\\nadd_parameters(\"All_Gul\",  10000,  -5)\\nadd_parameters(\"Gul_Gal\",  10000,   1)\\nadd_parameters(\"Gal_Tal\",   2000,  10)\\nadd_parameters(\"Tal_Man\",  20000, -10)\\nadd_parameters(\"Man_Alt\",  10000,   1)\\nadd_parameters(\"Alt_All\",  10000,  10)\\nadd_parameters(\"Alt_Ido\",  10000,   1)\\nadd_parameters(\"Tal_Ido\",  10000, -10)\\nadd_parameters(\"Ido_Gul\",  10000,   1)\\n\\nadd_parameters(\"Glc_All\",  50000,  10)\\nadd_parameters(\"Glc_Gal\",   1000,   1, (True,True))\\nadd_parameters(\"Glc_Man\",   1000,   1, (False,True))\\nadd_parameters(\"All_Gul\",  10000,  -5)\\nadd_parameters(\"Gul_Gal\",   3000,   4, (True,True))\\nadd_parameters(\"Gal_Tal\",  10000,  10, (True,False))\\nadd_parameters(\"Tal_Man\",  20000, -10)\\nadd_parameters(\"Man_Alt\",  10000,   1)\\nadd_parameters(\"Alt_All\",  10000,  10)\\nadd_parameters(\"Alt_Ido\",   1000,   1)\\nadd_parameters(\"Tal_Ido\",  10000, -10)\\nadd_parameters(\"Ido_Gul\",   1000,   1)\\n\\nadd_parameters(\"Glc_All\",  44000,  10, (True,False))\\nadd_parameters(\"Glc_Gal\",   1000,  1,  (True,False))\\nadd_parameters(\"Glc_Man\",   1000,  1,  (True,False))\\nadd_parameters(\"All_Gul\",   7000, -10, (True,False))\\nadd_parameters(\"Gul_Gal\",  12000,  1,  (True,False))\\nadd_parameters(\"Gal_Tal\",  12000,  10, (True,False))\\nadd_parameters(\"Tal_Man\",  15000, -10, (True,False))\\nadd_parameters(\"Man_Alt\",  25000,  1,  (True,False))\\nadd_parameters(\"Alt_All\",   4900,  10, (True,False))\\nadd_parameters(\"Alt_Ido\",   1000,  1,  (True,False))\\nadd_parameters(\"Tal_Ido\",   6500, -10, (True,False))\\nadd_parameters(\"Ido_Gul\",   1000,  1,  (True,False))\\n'"
      ]
     },
     "execution_count": 70,
     "metadata": {},
     "output_type": "execute_result"
    }
   ],
   "source": [
    "'''\n",
    "add_parameters(\"Glc_All\",  50000,  10)\n",
    "add_parameters(\"Glc_Gal\",  10000,   1)\n",
    "add_parameters(\"Glc_Man\",  10000,   1)\n",
    "add_parameters(\"All_Gul\",  10000,  -5)\n",
    "add_parameters(\"Gul_Gal\",  10000,   1)\n",
    "add_parameters(\"Gal_Tal\",   2000,  10)\n",
    "add_parameters(\"Tal_Man\",  20000, -10)\n",
    "add_parameters(\"Man_Alt\",  10000,   1)\n",
    "add_parameters(\"Alt_All\",  10000,  10)\n",
    "add_parameters(\"Alt_Ido\",  10000,   1)\n",
    "add_parameters(\"Tal_Ido\",  10000, -10)\n",
    "add_parameters(\"Ido_Gul\",  10000,   1)\n",
    "\n",
    "add_parameters(\"Glc_All\",  50000,  10)\n",
    "add_parameters(\"Glc_Gal\",   1000,   1, (True,True))\n",
    "add_parameters(\"Glc_Man\",   1000,   1, (False,True))\n",
    "add_parameters(\"All_Gul\",  10000,  -5)\n",
    "add_parameters(\"Gul_Gal\",   3000,   4, (True,True))\n",
    "add_parameters(\"Gal_Tal\",  10000,  10, (True,False))\n",
    "add_parameters(\"Tal_Man\",  20000, -10)\n",
    "add_parameters(\"Man_Alt\",  10000,   1)\n",
    "add_parameters(\"Alt_All\",  10000,  10)\n",
    "add_parameters(\"Alt_Ido\",   1000,   1)\n",
    "add_parameters(\"Tal_Ido\",  10000, -10)\n",
    "add_parameters(\"Ido_Gul\",   1000,   1)\n",
    "\n",
    "add_parameters(\"Glc_All\",  44000,  10, (True,False))\n",
    "add_parameters(\"Glc_Gal\",   1000,  1,  (True,False))\n",
    "add_parameters(\"Glc_Man\",   1000,  1,  (True,False))\n",
    "add_parameters(\"All_Gul\",   7000, -10, (True,False))\n",
    "add_parameters(\"Gul_Gal\",  12000,  1,  (True,False))\n",
    "add_parameters(\"Gal_Tal\",  12000,  10, (True,False))\n",
    "add_parameters(\"Tal_Man\",  15000, -10, (True,False))\n",
    "add_parameters(\"Man_Alt\",  25000,  1,  (True,False))\n",
    "add_parameters(\"Alt_All\",   4900,  10, (True,False))\n",
    "add_parameters(\"Alt_Ido\",   1000,  1,  (True,False))\n",
    "add_parameters(\"Tal_Ido\",   6500, -10, (True,False))\n",
    "add_parameters(\"Ido_Gul\",   1000,  1,  (True,False))\n",
    "'''"
   ]
  },
  {
   "cell_type": "markdown",
   "id": "88338fca-75a0-4297-8917-d67331c3730e",
   "metadata": {},
   "source": [
    "parameters = lmfit.Parameters()\n",
    "\n",
    "add_parameters(\"Glc_All\",  13000,  10, (True,False))\n",
    "add_parameters(\"Glc_Gal\",   1000,  -2,  (True,False))\n",
    "add_parameters(\"Glc_Man\",   1000,  -3,  (True,False))\n",
    "add_parameters(\"All_Gul\",   4000, -11, (True,False))\n",
    "add_parameters(\"Gul_Gal\",   4000,  -3,  (True,False))\n",
    "add_parameters(\"Gal_Tal\",   3000,  10, (True,False))\n",
    "add_parameters(\"Tal_Man\",   5000, -12, (True,False))\n",
    "add_parameters(\"Man_Alt\",  10000,  -2,  (True,False))\n",
    "add_parameters(\"Alt_All\",   3700,  10, (True,False))\n",
    "add_parameters(\"Alt_Ido\",   1000,  1,  (True,False))\n",
    "add_parameters(\"Tal_Ido\",   5600, -14, (True,False))\n",
    "add_parameters(\"Ido_Gul\",   1000,  2,  (True,False))\n",
    "\n",
    "parameter = lmfit.Parameter(\n",
    "    name = f\"log10_catalyst_deactivation_rate_constant\",\n",
    "    min = min_log10_catalyst_deactivation_rate_constant,\n",
    "    value = default_log10_catalyst_deactivation_rate_constant,\n",
    "    max = max_log10_catalyst_deactivation_rate_constant,\n",
    "    vary = False\n",
    ")\n",
    "parameters.add(parameter)\n",
    "#parameters.pretty_print()\n",
    "#print(f\"There are {len(parameters)} parameters.\\n\")"
   ]
  },
  {
   "cell_type": "code",
   "execution_count": 91,
   "id": "220e9e87-29a8-481f-886d-5540e3121bf2",
   "metadata": {},
   "outputs": [
    {
     "data": {
      "application/vnd.plotly.v1+json": {
       "config": {
        "plotlyServerURL": "https://plot.ly"
       },
       "data": [
        {
         "marker": {
          "color": "red"
         },
         "name": "exp:1200 s",
         "type": "bar",
         "x": [
          "Glc",
          "Man",
          "All",
          "Gal",
          "Alt",
          "Tal",
          "Gul",
          "Ido"
         ],
         "xaxis": "x",
         "y": [
          0.8282828282828283,
          0.010101010101010102,
          0.15151515151515152,
          0.010101010101010102,
          0,
          0,
          0,
          0
         ],
         "yaxis": "y"
        },
        {
         "marker": {
          "color": "blue"
         },
         "name": "sim:1200 s",
         "type": "bar",
         "x": [
          "Glc",
          "Man",
          "All",
          "Gal",
          "Alt",
          "Tal",
          "Gul",
          "Ido"
         ],
         "xaxis": "x",
         "y": [
          0.8189334356060636,
          0.0023493891438985766,
          0.1745441518655779,
          0.002922462075778229,
          0.0005229637092812629,
          0.00016990613720828355,
          0.0005557972615488511,
          1.8942006433679938e-06
         ],
         "yaxis": "y"
        },
        {
         "marker": {
          "color": "red"
         },
         "name": "exp:1800 s",
         "type": "bar",
         "x": [
          "Glc",
          "Man",
          "All",
          "Gal",
          "Alt",
          "Tal",
          "Gul",
          "Ido"
         ],
         "xaxis": "x",
         "y": [
          0.6907216494845361,
          0.010309278350515464,
          0.28865979381443296,
          0.010309278350515464,
          0,
          0,
          0,
          0
         ],
         "yaxis": "y"
        },
        {
         "marker": {
          "color": "blue"
         },
         "name": "sim:1800 s",
         "type": "bar",
         "x": [
          "Glc",
          "Man",
          "All",
          "Gal",
          "Alt",
          "Tal",
          "Gul",
          "Ido"
         ],
         "xaxis": "x",
         "y": [
          0.6759149319790111,
          0.004042692456662951,
          0.31054709600717306,
          0.00506440080986318,
          0.0018321598143393471,
          0.0006062272701372212,
          0.001979487684014824,
          1.300397879829556e-05
         ],
         "yaxis": "y"
        },
        {
         "marker": {
          "color": "red"
         },
         "name": "exp:2400 s",
         "type": "bar",
         "x": [
          "Glc",
          "Man",
          "All",
          "Gal",
          "Alt",
          "Tal",
          "Gul",
          "Ido"
         ],
         "xaxis": "x",
         "y": [
          0.4742268041237113,
          0.010309278350515464,
          0.4845360824742268,
          0.020618556701030927,
          0,
          0.010309278350515464,
          0,
          0
         ],
         "yaxis": "y"
        },
        {
         "marker": {
          "color": "blue"
         },
         "name": "sim:2400 s",
         "type": "bar",
         "x": [
          "Glc",
          "Man",
          "All",
          "Gal",
          "Alt",
          "Tal",
          "Gul",
          "Ido"
         ],
         "xaxis": "x",
         "y": [
          0.4641749794952111,
          0.0063548436866785706,
          0.5070154757527081,
          0.007848356396737782,
          0.005892147405431617,
          0.0020449802260926074,
          0.006583447143527032,
          8.576989361318174e-05
         ],
         "yaxis": "y"
        },
        {
         "marker": {
          "color": "red"
         },
         "name": "exp:4920 s",
         "type": "bar",
         "x": [
          "Glc",
          "Man",
          "All",
          "Gal",
          "Alt",
          "Tal",
          "Gul",
          "Ido"
         ],
         "xaxis": "x",
         "y": [
          0.2268041237113402,
          0.010309278350515464,
          0.7010309278350515,
          0.041237113402061855,
          0,
          0.020618556701030927,
          0,
          0
         ],
         "yaxis": "y"
        },
        {
         "marker": {
          "color": "blue"
         },
         "name": "sim:4920 s",
         "type": "bar",
         "x": [
          "Glc",
          "Man",
          "All",
          "Gal",
          "Alt",
          "Tal",
          "Gul",
          "Ido"
         ],
         "xaxis": "x",
         "y": [
          0.25435935108385355,
          0.008912994688061114,
          0.6891754743423798,
          0.009818143345326649,
          0.014501953253457087,
          0.0056790418259256535,
          0.017140645137355925,
          0.0004123963236401809
         ],
         "yaxis": "y"
        },
        {
         "marker": {
          "color": "red"
         },
         "name": "exp:9720 s",
         "type": "bar",
         "x": [
          "Glc",
          "Man",
          "All",
          "Gal",
          "Alt",
          "Tal",
          "Gul",
          "Ido"
         ],
         "xaxis": "x",
         "y": [
          0.1111111111111111,
          0.010101010101010102,
          0.7878787878787878,
          0.050505050505050504,
          0,
          0.04040404040404041,
          0,
          0
         ],
         "yaxis": "y"
        },
        {
         "marker": {
          "color": "blue"
         },
         "name": "sim:9720 s",
         "type": "bar",
         "x": [
          "Glc",
          "Man",
          "All",
          "Gal",
          "Alt",
          "Tal",
          "Gul",
          "Ido"
         ],
         "xaxis": "x",
         "y": [
          0.13894462757729706,
          0.011939839730696785,
          0.7707983510670595,
          0.01019379720606895,
          0.02432895039777491,
          0.011866605001526273,
          0.030755374500712796,
          0.0011724545188637183
         ],
         "yaxis": "y"
        },
        {
         "marker": {
          "color": "red"
         },
         "name": "exp:1200 s",
         "type": "bar",
         "x": [
          "Glc",
          "Man",
          "All",
          "Gal",
          "Alt",
          "Tal",
          "Gul",
          "Ido"
         ],
         "xaxis": "x2",
         "y": [
          0.01098901098901099,
          0.8901098901098901,
          0,
          0,
          0.02197802197802198,
          0.07692307692307693,
          0,
          0
         ],
         "yaxis": "y2"
        },
        {
         "marker": {
          "color": "blue"
         },
         "name": "sim:1200 s",
         "type": "bar",
         "x": [
          "Glc",
          "Man",
          "All",
          "Gal",
          "Alt",
          "Tal",
          "Gul",
          "Ido"
         ],
         "xaxis": "x2",
         "y": [
          0.007021356810348186,
          0.8843395502654267,
          0.001568161060924252,
          0.00018462034133559532,
          0.029691243022850818,
          0.07684845557987802,
          5.959361555434998e-06,
          0.00034065355768115647
         ],
         "yaxis": "y2"
        },
        {
         "marker": {
          "color": "red"
         },
         "name": "exp:1800 s",
         "type": "bar",
         "x": [
          "Glc",
          "Man",
          "All",
          "Gal",
          "Alt",
          "Tal",
          "Gul",
          "Ido"
         ],
         "xaxis": "x2",
         "y": [
          0.03225806451612903,
          0.7849462365591398,
          0,
          0,
          0.043010752688172046,
          0.13978494623655913,
          0,
          0
         ],
         "yaxis": "y2"
        },
        {
         "marker": {
          "color": "blue"
         },
         "name": "sim:1800 s",
         "type": "bar",
         "x": [
          "Glc",
          "Man",
          "All",
          "Gal",
          "Alt",
          "Tal",
          "Gul",
          "Ido"
         ],
         "xaxis": "x2",
         "y": [
          0.011940188926284387,
          0.7858841332272372,
          0.005586309126950665,
          0.000673268455247006,
          0.05211096199049426,
          0.1425364844946568,
          4.168566645201161e-05,
          0.001226968112677878
         ],
         "yaxis": "y2"
        },
        {
         "marker": {
          "color": "red"
         },
         "name": "exp:2400 s",
         "type": "bar",
         "x": [
          "Glc",
          "Man",
          "All",
          "Gal",
          "Alt",
          "Tal",
          "Gul",
          "Ido"
         ],
         "xaxis": "x2",
         "y": [
          0.04081632653061224,
          0.6326530612244898,
          0.02040816326530612,
          0,
          0.07142857142857142,
          0.23469387755102042,
          0,
          0
         ],
         "yaxis": "y2"
        },
        {
         "marker": {
          "color": "blue"
         },
         "name": "sim:2400 s",
         "type": "bar",
         "x": [
          "Glc",
          "Man",
          "All",
          "Gal",
          "Alt",
          "Tal",
          "Gul",
          "Ido"
         ],
         "xaxis": "x2",
         "y": [
          0.017843518570893058,
          0.6227697341294581,
          0.01857517888977239,
          0.0023472614306489993,
          0.08206484080505821,
          0.2519469640142645,
          0.0002859987368482349,
          0.004166503423056469
         ],
         "yaxis": "y2"
        },
        {
         "marker": {
          "color": "red"
         },
         "name": "exp:4920 s",
         "type": "bar",
         "x": [
          "Glc",
          "Man",
          "All",
          "Gal",
          "Alt",
          "Tal",
          "Gul",
          "Ido"
         ],
         "xaxis": "x2",
         "y": [
          0.046296296296296294,
          0.42592592592592593,
          0.05555555555555555,
          0.009259259259259259,
          0.09259259259259259,
          0.37037037037037035,
          0,
          0
         ],
         "yaxis": "y2"
        },
        {
         "marker": {
          "color": "blue"
         },
         "name": "sim:4920 s",
         "type": "bar",
         "x": [
          "Glc",
          "Man",
          "All",
          "Gal",
          "Alt",
          "Tal",
          "Gul",
          "Ido"
         ],
         "xaxis": "x2",
         "y": [
          0.02108312746977948,
          0.42159054312819977,
          0.048440541038938405,
          0.00661431783598003,
          0.10182006164516991,
          0.38779809584877317,
          0.0014710432119401152,
          0.01118226982121915
         ],
         "yaxis": "y2"
        },
        {
         "marker": {
          "color": "red"
         },
         "name": "exp:9720 s",
         "type": "bar",
         "x": [
          "Glc",
          "Man",
          "All",
          "Gal",
          "Alt",
          "Tal",
          "Gul",
          "Ido"
         ],
         "xaxis": "x2",
         "y": [
          0.04807692307692308,
          0.2692307692307692,
          0.09615384615384616,
          0.009615384615384616,
          0.09615384615384616,
          0.4807692307692308,
          0,
          0
         ],
         "yaxis": "y2"
        },
        {
         "marker": {
          "color": "blue"
         },
         "name": "sim:9720 s",
         "type": "bar",
         "x": [
          "Glc",
          "Man",
          "All",
          "Gal",
          "Alt",
          "Tal",
          "Gul",
          "Ido"
         ],
         "xaxis": "x2",
         "y": [
          0.020662750677925355,
          0.2628082309768327,
          0.08755182007300204,
          0.013067265432639624,
          0.09596159140893537,
          0.4947791940972705,
          0.004505305350658124,
          0.0206638419827363
         ],
         "yaxis": "y2"
        },
        {
         "marker": {
          "color": "red"
         },
         "name": "exp:1200 s",
         "type": "bar",
         "x": [
          "Glc",
          "Man",
          "All",
          "Gal",
          "Alt",
          "Tal",
          "Gul",
          "Ido"
         ],
         "xaxis": "x3",
         "y": [
          0.03,
          0,
          0.97,
          0,
          0,
          0,
          0,
          0
         ],
         "yaxis": "y3"
        },
        {
         "marker": {
          "color": "blue"
         },
         "name": "sim:1200 s",
         "type": "bar",
         "x": [
          "Glc",
          "Man",
          "All",
          "Gal",
          "Alt",
          "Tal",
          "Gul",
          "Ido"
         ],
         "xaxis": "x3",
         "y": [
          0.01745929815600677,
          0.00019394775383830735,
          0.9716625991902667,
          5.908755058718457e-05,
          0.0051532807823049765,
          7.412505532014027e-06,
          0.005443314958003033,
          2.1059103461008416e-05
         ],
         "yaxis": "y3"
        },
        {
         "marker": {
          "color": "red"
         },
         "name": "exp:1800 s",
         "type": "bar",
         "x": [
          "Glc",
          "Man",
          "All",
          "Gal",
          "Alt",
          "Tal",
          "Gul",
          "Ido"
         ],
         "xaxis": "x3",
         "y": [
          0.039603960396039604,
          0,
          0.9603960396039604,
          0,
          0,
          0,
          0,
          0
         ],
         "yaxis": "y3"
        },
        {
         "marker": {
          "color": "blue"
         },
         "name": "sim:1800 s",
         "type": "bar",
         "x": [
          "Glc",
          "Man",
          "All",
          "Gal",
          "Alt",
          "Tal",
          "Gul",
          "Ido"
         ],
         "xaxis": "x3",
         "y": [
          0.031066248035923134,
          0.0006964835675976631,
          0.9481345437133936,
          0.0002147067884637738,
          0.009496079577619216,
          5.191229711016729e-05,
          0.010263250719245463,
          7.677530064700486e-05
         ],
         "yaxis": "y3"
        },
        {
         "marker": {
          "color": "red"
         },
         "name": "exp:2400 s",
         "type": "bar",
         "x": [
          "Glc",
          "Man",
          "All",
          "Gal",
          "Alt",
          "Tal",
          "Gul",
          "Ido"
         ],
         "xaxis": "x3",
         "y": [
          0.047619047619047616,
          0,
          0.9523809523809523,
          0,
          0,
          0,
          0,
          0
         ],
         "yaxis": "y3"
        },
        {
         "marker": {
          "color": "blue"
         },
         "name": "sim:2400 s",
         "type": "bar",
         "x": [
          "Glc",
          "Man",
          "All",
          "Gal",
          "Alt",
          "Tal",
          "Gul",
          "Ido"
         ],
         "xaxis": "x3",
         "y": [
          0.050713346012694185,
          0.002353493337354026,
          0.9102263731063023,
          0.0007440323816641492,
          0.01659758881223109,
          0.00036367176293826967,
          0.018733268084830293,
          0.00026822650198575493
         ],
         "yaxis": "y3"
        },
        {
         "marker": {
          "color": "red"
         },
         "name": "exp:4920 s",
         "type": "bar",
         "x": [
          "Glc",
          "Man",
          "All",
          "Gal",
          "Alt",
          "Tal",
          "Gul",
          "Ido"
         ],
         "xaxis": "x3",
         "y": [
          0.06060606060606061,
          0,
          0.9393939393939394,
          0,
          0,
          0,
          0,
          0
         ],
         "yaxis": "y3"
        },
        {
         "marker": {
          "color": "blue"
         },
         "name": "sim:4920 s",
         "type": "bar",
         "x": [
          "Glc",
          "Man",
          "All",
          "Gal",
          "Alt",
          "Tal",
          "Gul",
          "Ido"
         ],
         "xaxis": "x3",
         "y": [
          0.06897820665969885,
          0.0062727349985187255,
          0.8643341695908261,
          0.0020799611878247943,
          0.025192184300675186,
          0.0019853968133009625,
          0.030392727191369477,
          0.0007646192577858322
         ],
         "yaxis": "y3"
        },
        {
         "marker": {
          "color": "red"
         },
         "name": "exp:9720 s",
         "type": "bar",
         "x": [
          "Glc",
          "Man",
          "All",
          "Gal",
          "Alt",
          "Tal",
          "Gul",
          "Ido"
         ],
         "xaxis": "x3",
         "y": [
          0.0707070707070707,
          0,
          0.9292929292929293,
          0,
          0,
          0,
          0,
          0
         ],
         "yaxis": "y3"
        },
        {
         "marker": {
          "color": "blue"
         },
         "name": "sim:9720 s",
         "type": "bar",
         "x": [
          "Glc",
          "Man",
          "All",
          "Gal",
          "Alt",
          "Tal",
          "Gul",
          "Ido"
         ],
         "xaxis": "x3",
         "y": [
          0.07726072858837378,
          0.011579272232376737,
          0.82588736499399,
          0.004104650441772922,
          0.03181203724911754,
          0.006614058384172517,
          0.0411771358540881,
          0.0015647522561084493
         ],
         "yaxis": "y3"
        },
        {
         "marker": {
          "color": "red"
         },
         "name": "exp:1200 s",
         "type": "bar",
         "x": [
          "Glc",
          "Man",
          "All",
          "Gal",
          "Alt",
          "Tal",
          "Gul",
          "Ido"
         ],
         "xaxis": "x4",
         "y": [
          0.020202020202020204,
          0,
          0,
          0.9090909090909091,
          0,
          0.04040404040404041,
          0.030303030303030304,
          0
         ],
         "yaxis": "y4"
        },
        {
         "marker": {
          "color": "blue"
         },
         "name": "sim:1200 s",
         "type": "bar",
         "x": [
          "Glc",
          "Man",
          "All",
          "Gal",
          "Alt",
          "Tal",
          "Gul",
          "Ido"
         ],
         "xaxis": "x4",
         "y": [
          0.005848491849162597,
          0.00015180035703657636,
          0.0015679419315324783,
          0.918908046646684,
          5.042086193064101e-06,
          0.04290516113758007,
          0.03041318900589947,
          0.0002003269859117953
         ],
         "yaxis": "y4"
        },
        {
         "marker": {
          "color": "red"
         },
         "name": "exp:1800 s",
         "type": "bar",
         "x": [
          "Glc",
          "Man",
          "All",
          "Gal",
          "Alt",
          "Tal",
          "Gul",
          "Ido"
         ],
         "xaxis": "x4",
         "y": [
          0.020833333333333332,
          0,
          0,
          0.8541666666666666,
          0,
          0.08333333333333333,
          0.041666666666666664,
          0
         ],
         "yaxis": "y4"
        },
        {
         "marker": {
          "color": "blue"
         },
         "name": "sim:1800 s",
         "type": "bar",
         "x": [
          "Glc",
          "Man",
          "All",
          "Gal",
          "Alt",
          "Tal",
          "Gul",
          "Ido"
         ],
         "xaxis": "x4",
         "y": [
          0.010147683082318884,
          0.0005546470603528002,
          0.005719834699770899,
          0.8460808298556147,
          3.4946675053513604e-05,
          0.08100416173628751,
          0.05572579323044017,
          0.0007321036601614827
         ],
         "yaxis": "y4"
        },
        {
         "marker": {
          "color": "red"
         },
         "name": "exp:2400 s",
         "type": "bar",
         "x": [
          "Glc",
          "Man",
          "All",
          "Gal",
          "Alt",
          "Tal",
          "Gul",
          "Ido"
         ],
         "xaxis": "x4",
         "y": [
          0.04040404040404041,
          0,
          0.010101010101010102,
          0.7171717171717171,
          0,
          0.1414141414141414,
          0.09090909090909091,
          0
         ],
         "yaxis": "y4"
        },
        {
         "marker": {
          "color": "blue"
         },
         "name": "sim:2400 s",
         "type": "bar",
         "x": [
          "Glc",
          "Man",
          "All",
          "Gal",
          "Alt",
          "Tal",
          "Gul",
          "Ido"
         ],
         "xaxis": "x4",
         "y": [
          0.0158185342235646,
          0.0019428949753935046,
          0.01995637534749688,
          0.7159027865324958,
          0.0002388452681005182,
          0.14799129100740643,
          0.0955911767779853,
          0.0025580958675570915
         ],
         "yaxis": "y4"
        },
        {
         "marker": {
          "color": "red"
         },
         "name": "exp:4920 s",
         "type": "bar",
         "x": [
          "Glc",
          "Man",
          "All",
          "Gal",
          "Alt",
          "Tal",
          "Gul",
          "Ido"
         ],
         "xaxis": "x4",
         "y": [
          0.04854368932038835,
          0,
          0.04854368932038835,
          0.5533980582524272,
          0,
          0.23300970873786409,
          0.11650485436893204,
          0
         ],
         "yaxis": "y4"
        },
        {
         "marker": {
          "color": "blue"
         },
         "name": "sim:4920 s",
         "type": "bar",
         "x": [
          "Glc",
          "Man",
          "All",
          "Gal",
          "Alt",
          "Tal",
          "Gul",
          "Ido"
         ],
         "xaxis": "x4",
         "y": [
          0.02023432104633726,
          0.005545233377519836,
          0.05640981479693647,
          0.5327284485017884,
          0.0012226667864121202,
          0.23943047824566513,
          0.13724182731206008,
          0.007187209933280705
         ],
         "yaxis": "y4"
        },
        {
         "marker": {
          "color": "red"
         },
         "name": "exp:9720 s",
         "type": "bar",
         "x": [
          "Glc",
          "Man",
          "All",
          "Gal",
          "Alt",
          "Tal",
          "Gul",
          "Ido"
         ],
         "xaxis": "x4",
         "y": [
          0.039603960396039604,
          0,
          0.1188118811881188,
          0.39603960396039606,
          0,
          0.31683168316831684,
          0.12871287128712872,
          0
         ],
         "yaxis": "y4"
        },
        {
         "marker": {
          "color": "blue"
         },
         "name": "sim:9720 s",
         "type": "bar",
         "x": [
          "Glc",
          "Man",
          "All",
          "Gal",
          "Alt",
          "Tal",
          "Gul",
          "Ido"
         ],
         "xaxis": "x4",
         "y": [
          0.022126589776358063,
          0.01121689927388402,
          0.11219080906241777,
          0.3601364028890112,
          0.0037228718003593747,
          0.3216499996679339,
          0.15497342501875414,
          0.01398300251128156
         ],
         "yaxis": "y4"
        },
        {
         "marker": {
          "color": "red"
         },
         "name": "exp:1200 s",
         "type": "bar",
         "x": [
          "Glc",
          "Man",
          "All",
          "Gal",
          "Alt",
          "Tal",
          "Gul",
          "Ido"
         ],
         "xaxis": "x5",
         "y": [
          0,
          0,
          0,
          0,
          0,
          1,
          0,
          0
         ],
         "yaxis": "y5"
        },
        {
         "marker": {
          "color": "blue"
         },
         "name": "sim:1200 s",
         "type": "bar",
         "x": [
          "Glc",
          "Man",
          "All",
          "Gal",
          "Alt",
          "Tal",
          "Gul",
          "Ido"
         ],
         "xaxis": "x5",
         "y": [
          3.8706557135217143e-05,
          0.006404696618680803,
          7.335343051243638e-06,
          0.0042905080321583074,
          0.00012085285766687051,
          0.9823643343903097,
          9.2389407429568e-05,
          0.00668117679356832
         ],
         "yaxis": "y5"
        },
        {
         "marker": {
          "color": "red"
         },
         "name": "exp:1800 s",
         "type": "bar",
         "x": [
          "Glc",
          "Man",
          "All",
          "Gal",
          "Alt",
          "Tal",
          "Gul",
          "Ido"
         ],
         "xaxis": "x5",
         "y": [
          0,
          0,
          0,
          0,
          0,
          1,
          0,
          0
         ],
         "yaxis": "y5"
        },
        {
         "marker": {
          "color": "blue"
         },
         "name": "sim:1800 s",
         "type": "bar",
         "x": [
          "Glc",
          "Man",
          "All",
          "Gal",
          "Alt",
          "Tal",
          "Gul",
          "Ido"
         ],
         "xaxis": "x5",
         "y": [
          0.0001376998747481103,
          0.011880583867209814,
          5.093475699676001e-05,
          0.00810003347186666,
          0.0004367259473545004,
          0.9665957473230704,
          0.0003423760654642679,
          0.012455898693289565
         ],
         "yaxis": "y5"
        },
        {
         "marker": {
          "color": "red"
         },
         "name": "exp:2400 s",
         "type": "bar",
         "x": [
          "Glc",
          "Man",
          "All",
          "Gal",
          "Alt",
          "Tal",
          "Gul",
          "Ido"
         ],
         "xaxis": "x5",
         "y": [
          0,
          0,
          0,
          0.010101010101010102,
          0,
          0.98989898989899,
          0,
          0
         ],
         "yaxis": "y5"
        },
        {
         "marker": {
          "color": "blue"
         },
         "name": "sim:2400 s",
         "type": "bar",
         "x": [
          "Glc",
          "Man",
          "All",
          "Gal",
          "Alt",
          "Tal",
          "Gul",
          "Ido"
         ],
         "xaxis": "x5",
         "y": [
          0.00046108432153919426,
          0.021001425796920145,
          0.0003519660792804198,
          0.014794499168074848,
          0.0014965171057206687,
          0.9384707257403163,
          0.001232318308174901,
          0.02219146347997361
         ],
         "yaxis": "y5"
        },
        {
         "marker": {
          "color": "red"
         },
         "name": "exp:4920 s",
         "type": "bar",
         "x": [
          "Glc",
          "Man",
          "All",
          "Gal",
          "Alt",
          "Tal",
          "Gul",
          "Ido"
         ],
         "xaxis": "x5",
         "y": [
          0,
          0,
          0,
          0.020833333333333332,
          0,
          0.9791666666666666,
          0,
          0
         ],
         "yaxis": "y5"
        },
        {
         "marker": {
          "color": "blue"
         },
         "name": "sim:4920 s",
         "type": "bar",
         "x": [
          "Glc",
          "Man",
          "All",
          "Gal",
          "Alt",
          "Tal",
          "Gul",
          "Ido"
         ],
         "xaxis": "x5",
         "y": [
          0.0012196692958698762,
          0.03234992441858002,
          0.0019320741060475444,
          0.023917862177759996,
          0.004064829364982595,
          0.898461509672417,
          0.003646500320249871,
          0.03440763064409315
         ],
         "yaxis": "y5"
        },
        {
         "marker": {
          "color": "red"
         },
         "name": "exp:9720 s",
         "type": "bar",
         "x": [
          "Glc",
          "Man",
          "All",
          "Gal",
          "Alt",
          "Tal",
          "Gul",
          "Ido"
         ],
         "xaxis": "x5",
         "y": [
          0,
          0,
          0,
          0.03225806451612903,
          0,
          0.967741935483871,
          0,
          0
         ],
         "yaxis": "y5"
        },
        {
         "marker": {
          "color": "blue"
         },
         "name": "sim:9720 s",
         "type": "bar",
         "x": [
          "Glc",
          "Man",
          "All",
          "Gal",
          "Alt",
          "Tal",
          "Gul",
          "Ido"
         ],
         "xaxis": "x5",
         "y": [
          0.002320102366966465,
          0.04133644629946757,
          0.006483245535480003,
          0.03207755099562795,
          0.007651767527172217,
          0.858646690135619,
          0.007614320645706483,
          0.043869876493960284
         ],
         "yaxis": "y5"
        },
        {
         "marker": {
          "color": "red"
         },
         "name": "exp:1200 s",
         "type": "bar",
         "x": [
          "Glc",
          "Man",
          "All",
          "Gal",
          "Alt",
          "Tal",
          "Gul",
          "Ido"
         ],
         "xaxis": "x6",
         "y": [
          0,
          0.04,
          0.04,
          0,
          0.9,
          0,
          0,
          0.02
         ],
         "yaxis": "y6"
        },
        {
         "marker": {
          "color": "blue"
         },
         "name": "sim:1200 s",
         "type": "bar",
         "x": [
          "Glc",
          "Man",
          "All",
          "Gal",
          "Alt",
          "Tal",
          "Gul",
          "Ido"
         ],
         "xaxis": "x6",
         "y": [
          0.0007205260064981079,
          0.05937989758732354,
          0.051542618660722,
          5.6974207420098975e-06,
          0.8812035583300634,
          0.0027527397928202744,
          0.00016220229380164153,
          0.004232759908029174
         ],
         "yaxis": "y6"
        },
        {
         "marker": {
          "color": "red"
         },
         "name": "exp:1800 s",
         "type": "bar",
         "x": [
          "Glc",
          "Man",
          "All",
          "Gal",
          "Alt",
          "Tal",
          "Gul",
          "Ido"
         ],
         "xaxis": "x6",
         "y": [
          0.009708737864077669,
          0.08737864077669903,
          0.08737864077669903,
          0,
          0.7961165048543689,
          0,
          0,
          0.019417475728155338
         ],
         "yaxis": "y6"
        },
        {
         "marker": {
          "color": "blue"
         },
         "name": "sim:1800 s",
         "type": "bar",
         "x": [
          "Glc",
          "Man",
          "All",
          "Gal",
          "Alt",
          "Tal",
          "Gul",
          "Ido"
         ],
         "xaxis": "x6",
         "y": [
          0.0025073093449971243,
          0.10420410507160481,
          0.09504493290404156,
          3.974941543690065e-05,
          0.7801627488377171,
          0.009940211570170165,
          0.0005917705071955295,
          0.007509172348836815
         ],
         "yaxis": "y6"
        },
        {
         "marker": {
          "color": "red"
         },
         "name": "exp:2400 s",
         "type": "bar",
         "x": [
          "Glc",
          "Man",
          "All",
          "Gal",
          "Alt",
          "Tal",
          "Gul",
          "Ido"
         ],
         "xaxis": "x6",
         "y": [
          0.018867924528301886,
          0.12264150943396226,
          0.16037735849056603,
          0,
          0.6226415094339622,
          0.02830188679245283,
          0,
          0.04716981132075472
         ],
         "yaxis": "y6"
        },
        {
         "marker": {
          "color": "blue"
         },
         "name": "sim:2400 s",
         "type": "bar",
         "x": [
          "Glc",
          "Man",
          "All",
          "Gal",
          "Alt",
          "Tal",
          "Gul",
          "Ido"
         ],
         "xaxis": "x6",
         "y": [
          0.00793391999958351,
          0.16401129729758632,
          0.1665895902729155,
          0.0002714336419109488,
          0.6129830363230955,
          0.0339364357779616,
          0.0020687685645185173,
          0.012205518122428118
         ],
         "yaxis": "y6"
        },
        {
         "marker": {
          "color": "red"
         },
         "name": "exp:4920 s",
         "type": "bar",
         "x": [
          "Glc",
          "Man",
          "All",
          "Gal",
          "Alt",
          "Tal",
          "Gul",
          "Ido"
         ],
         "xaxis": "x6",
         "y": [
          0.019417475728155338,
          0.18446601941747573,
          0.24271844660194175,
          0,
          0.4368932038834951,
          0.08737864077669903,
          0,
          0.02912621359223301
         ],
         "yaxis": "y6"
        },
        {
         "marker": {
          "color": "blue"
         },
         "name": "sim:4920 s",
         "type": "bar",
         "x": [
          "Glc",
          "Man",
          "All",
          "Gal",
          "Alt",
          "Tal",
          "Gul",
          "Ido"
         ],
         "xaxis": "x6",
         "y": [
          0.01896150739412164,
          0.20309075388538725,
          0.25477408118251144,
          0.0013834954098283668,
          0.40733031640295086,
          0.09196031444386649,
          0.005896908652734645,
          0.016602622628599312
         ],
         "yaxis": "y6"
        },
        {
         "marker": {
          "color": "red"
         },
         "name": "exp:9720 s",
         "type": "bar",
         "x": [
          "Glc",
          "Man",
          "All",
          "Gal",
          "Alt",
          "Tal",
          "Gul",
          "Ido"
         ],
         "xaxis": "x6",
         "y": [
          0.019801980198019802,
          0.1782178217821782,
          0.33663366336633666,
          0,
          0.2871287128712871,
          0.13861386138613863,
          0,
          0.039603960396039604
         ],
         "yaxis": "y6"
        },
        {
         "marker": {
          "color": "blue"
         },
         "name": "sim:9720 s",
         "type": "bar",
         "x": [
          "Glc",
          "Man",
          "All",
          "Gal",
          "Alt",
          "Tal",
          "Gul",
          "Ido"
         ],
         "xaxis": "x6",
         "y": [
          0.03063863685303067,
          0.19042517364880276,
          0.3258019802390389,
          0.004175764231743677,
          0.24576139787000206,
          0.17218859056604552,
          0.01195522385760899,
          0.019053232733727415
         ],
         "yaxis": "y6"
        },
        {
         "marker": {
          "color": "red"
         },
         "name": "exp:1200 s",
         "type": "bar",
         "x": [
          "Glc",
          "Man",
          "All",
          "Gal",
          "Alt",
          "Tal",
          "Gul",
          "Ido"
         ],
         "xaxis": "x7",
         "y": [
          0,
          0,
          0.08823529411764706,
          0,
          0,
          0,
          0.9117647058823529,
          0
         ],
         "yaxis": "y7"
        },
        {
         "marker": {
          "color": "blue"
         },
         "name": "sim:1200 s",
         "type": "bar",
         "x": [
          "Glc",
          "Man",
          "All",
          "Gal",
          "Alt",
          "Tal",
          "Gul",
          "Ido"
         ],
         "xaxis": "x7",
         "y": [
          0.0005893609219567883,
          5.341312229458007e-06,
          0.05987301596064901,
          0.010138092959792431,
          0.00016970779482424768,
          0.0003903287842764214,
          0.9257696579229536,
          0.0030644943433178976
         ],
         "yaxis": "y7"
        },
        {
         "marker": {
          "color": "red"
         },
         "name": "exp:1800 s",
         "type": "bar",
         "x": [
          "Glc",
          "Man",
          "All",
          "Gal",
          "Alt",
          "Tal",
          "Gul",
          "Ido"
         ],
         "xaxis": "x7",
         "y": [
          0,
          0,
          0.13,
          0,
          0,
          0,
          0.87,
          0
         ],
         "yaxis": "y7"
        },
        {
         "marker": {
          "color": "blue"
         },
         "name": "sim:1800 s",
         "type": "bar",
         "x": [
          "Glc",
          "Man",
          "All",
          "Gal",
          "Alt",
          "Tal",
          "Gul",
          "Ido"
         ],
         "xaxis": "x7",
         "y": [
          0.0021021833265075737,
          3.716460192300004e-05,
          0.11287994323559714,
          0.018577898825486123,
          0.0006192556778072143,
          0.001445203906841836,
          0.8587899054715779,
          0.005548444954259144
         ],
         "yaxis": "y7"
        },
        {
         "marker": {
          "color": "red"
         },
         "name": "exp:2400 s",
         "type": "bar",
         "x": [
          "Glc",
          "Man",
          "All",
          "Gal",
          "Alt",
          "Tal",
          "Gul",
          "Ido"
         ],
         "xaxis": "x7",
         "y": [
          0,
          0,
          0.2222222222222222,
          0,
          0,
          0.030303030303030304,
          0.7474747474747475,
          0
         ],
         "yaxis": "y7"
        },
        {
         "marker": {
          "color": "blue"
         },
         "name": "sim:2400 s",
         "type": "bar",
         "x": [
          "Glc",
          "Man",
          "All",
          "Gal",
          "Alt",
          "Tal",
          "Gul",
          "Ido"
         ],
         "xaxis": "x7",
         "y": [
          0.007001335616461728,
          0.0002546066627081381,
          0.2059938656908138,
          0.031882036701279995,
          0.0021613703424432106,
          0.0051940114458815705,
          0.7382023713827505,
          0.009310402157661112
         ],
         "yaxis": "y7"
        },
        {
         "marker": {
          "color": "red"
         },
         "name": "exp:4920 s",
         "type": "bar",
         "x": [
          "Glc",
          "Man",
          "All",
          "Gal",
          "Alt",
          "Tal",
          "Gul",
          "Ido"
         ],
         "xaxis": "x7",
         "y": [
          0.022222222222222223,
          0,
          0.34444444444444444,
          0,
          0,
          0.06666666666666667,
          0.5666666666666667,
          0
         ],
         "yaxis": "y7"
        },
        {
         "marker": {
          "color": "blue"
         },
         "name": "sim:4920 s",
         "type": "bar",
         "x": [
          "Glc",
          "Man",
          "All",
          "Gal",
          "Alt",
          "Tal",
          "Gul",
          "Ido"
         ],
         "xaxis": "x7",
         "y": [
          0.01827850347758483,
          0.0013056134480715765,
          0.33393961364572833,
          0.04584216195527078,
          0.006108576561787579,
          0.015410602348783472,
          0.5661536228237937,
          0.012961305738979752
         ],
         "yaxis": "y7"
        },
        {
         "marker": {
          "color": "red"
         },
         "name": "exp:9720 s",
         "type": "bar",
         "x": [
          "Glc",
          "Man",
          "All",
          "Gal",
          "Alt",
          "Tal",
          "Gul",
          "Ido"
         ],
         "xaxis": "x7",
         "y": [
          0.04597701149425287,
          0,
          0.42528735632183906,
          0,
          0,
          0.10344827586206896,
          0.42528735632183906,
          0
         ],
         "yaxis": "y7"
        },
        {
         "marker": {
          "color": "blue"
         },
         "name": "sim:9720 s",
         "type": "bar",
         "x": [
          "Glc",
          "Man",
          "All",
          "Gal",
          "Alt",
          "Tal",
          "Gul",
          "Ido"
         ],
         "xaxis": "x7",
         "y": [
          0.032918920529364036,
          0.003981309364898209,
          0.4517588806018153,
          0.05195432973590886,
          0.01212909515627129,
          0.032505489942092694,
          0.40040345575348535,
          0.014348518916164248
         ],
         "yaxis": "y7"
        },
        {
         "marker": {
          "color": "red"
         },
         "name": "exp:1200 s",
         "type": "bar",
         "x": [
          "Glc",
          "Man",
          "All",
          "Gal",
          "Alt",
          "Tal",
          "Gul",
          "Ido"
         ],
         "xaxis": "x8",
         "y": [
          0,
          0,
          0.01,
          0,
          0.02,
          0.12,
          0,
          0.85
         ],
         "yaxis": "y8"
        },
        {
         "marker": {
          "color": "blue"
         },
         "name": "sim:1200 s",
         "type": "bar",
         "x": [
          "Glc",
          "Man",
          "All",
          "Gal",
          "Alt",
          "Tal",
          "Gul",
          "Ido"
         ],
         "xaxis": "x8",
         "y": [
          1.2025202423816098e-05,
          0.00097266097906597,
          0.0006852757479669706,
          0.0005238916161225603,
          0.00596789406911227,
          0.13542048485867111,
          0.008747233575217816,
          0.8476705339514196
         ],
         "yaxis": "y8"
        },
        {
         "marker": {
          "color": "red"
         },
         "name": "exp:1800 s",
         "type": "bar",
         "x": [
          "Glc",
          "Man",
          "All",
          "Gal",
          "Alt",
          "Tal",
          "Gul",
          "Ido"
         ],
         "xaxis": "x8",
         "y": [
          0,
          0,
          0.08653846153846154,
          0.08653846153846154,
          0.019230769230769232,
          0.7115384615384616,
          0,
          0.09615384615384616
         ],
         "yaxis": "y8"
        },
        {
         "marker": {
          "color": "blue"
         },
         "name": "sim:1800 s",
         "type": "bar",
         "x": [
          "Glc",
          "Man",
          "All",
          "Gal",
          "Alt",
          "Tal",
          "Gul",
          "Ido"
         ],
         "xaxis": "x8",
         "y": [
          0.009665330243771869,
          0.047803741843295125,
          0.07940227477350713,
          0.038285499754550006,
          0.017933464508591693,
          0.715140636471724,
          0.027780482043613962,
          0.06398857036094613
         ],
         "yaxis": "y8"
        }
       ],
       "layout": {
        "annotations": [
         {
          "font": {
           "size": 16
          },
          "showarrow": false,
          "text": "glucose",
          "x": 0.11375,
          "xanchor": "center",
          "xref": "paper",
          "y": 1,
          "yanchor": "bottom",
          "yref": "paper"
         },
         {
          "font": {
           "size": 16
          },
          "showarrow": false,
          "text": "mannose",
          "x": 0.37124999999999997,
          "xanchor": "center",
          "xref": "paper",
          "y": 1,
          "yanchor": "bottom",
          "yref": "paper"
         },
         {
          "font": {
           "size": 16
          },
          "showarrow": false,
          "text": "allose",
          "x": 0.62875,
          "xanchor": "center",
          "xref": "paper",
          "y": 1,
          "yanchor": "bottom",
          "yref": "paper"
         },
         {
          "font": {
           "size": 16
          },
          "showarrow": false,
          "text": "galactose",
          "x": 0.88625,
          "xanchor": "center",
          "xref": "paper",
          "y": 1,
          "yanchor": "bottom",
          "yref": "paper"
         },
         {
          "font": {
           "size": 16
          },
          "showarrow": false,
          "text": "talose",
          "x": 0.11375,
          "xanchor": "center",
          "xref": "paper",
          "y": 0.4,
          "yanchor": "bottom",
          "yref": "paper"
         },
         {
          "font": {
           "size": 16
          },
          "showarrow": false,
          "text": "altrose",
          "x": 0.37124999999999997,
          "xanchor": "center",
          "xref": "paper",
          "y": 0.4,
          "yanchor": "bottom",
          "yref": "paper"
         },
         {
          "font": {
           "size": 16
          },
          "showarrow": false,
          "text": "gulose",
          "x": 0.62875,
          "xanchor": "center",
          "xref": "paper",
          "y": 0.4,
          "yanchor": "bottom",
          "yref": "paper"
         },
         {
          "font": {
           "size": 16
          },
          "showarrow": false,
          "text": "idose",
          "x": 0.88625,
          "xanchor": "center",
          "xref": "paper",
          "y": 0.4,
          "yanchor": "bottom",
          "yref": "paper"
         }
        ],
        "barmode": "group",
        "height": 400,
        "showlegend": false,
        "template": {
         "data": {
          "bar": [
           {
            "error_x": {
             "color": "#2a3f5f"
            },
            "error_y": {
             "color": "#2a3f5f"
            },
            "marker": {
             "line": {
              "color": "#E5ECF6",
              "width": 0.5
             },
             "pattern": {
              "fillmode": "overlay",
              "size": 10,
              "solidity": 0.2
             }
            },
            "type": "bar"
           }
          ],
          "barpolar": [
           {
            "marker": {
             "line": {
              "color": "#E5ECF6",
              "width": 0.5
             },
             "pattern": {
              "fillmode": "overlay",
              "size": 10,
              "solidity": 0.2
             }
            },
            "type": "barpolar"
           }
          ],
          "carpet": [
           {
            "aaxis": {
             "endlinecolor": "#2a3f5f",
             "gridcolor": "white",
             "linecolor": "white",
             "minorgridcolor": "white",
             "startlinecolor": "#2a3f5f"
            },
            "baxis": {
             "endlinecolor": "#2a3f5f",
             "gridcolor": "white",
             "linecolor": "white",
             "minorgridcolor": "white",
             "startlinecolor": "#2a3f5f"
            },
            "type": "carpet"
           }
          ],
          "choropleth": [
           {
            "colorbar": {
             "outlinewidth": 0,
             "ticks": ""
            },
            "type": "choropleth"
           }
          ],
          "contour": [
           {
            "colorbar": {
             "outlinewidth": 0,
             "ticks": ""
            },
            "colorscale": [
             [
              0,
              "#0d0887"
             ],
             [
              0.1111111111111111,
              "#46039f"
             ],
             [
              0.2222222222222222,
              "#7201a8"
             ],
             [
              0.3333333333333333,
              "#9c179e"
             ],
             [
              0.4444444444444444,
              "#bd3786"
             ],
             [
              0.5555555555555556,
              "#d8576b"
             ],
             [
              0.6666666666666666,
              "#ed7953"
             ],
             [
              0.7777777777777778,
              "#fb9f3a"
             ],
             [
              0.8888888888888888,
              "#fdca26"
             ],
             [
              1,
              "#f0f921"
             ]
            ],
            "type": "contour"
           }
          ],
          "contourcarpet": [
           {
            "colorbar": {
             "outlinewidth": 0,
             "ticks": ""
            },
            "type": "contourcarpet"
           }
          ],
          "heatmap": [
           {
            "colorbar": {
             "outlinewidth": 0,
             "ticks": ""
            },
            "colorscale": [
             [
              0,
              "#0d0887"
             ],
             [
              0.1111111111111111,
              "#46039f"
             ],
             [
              0.2222222222222222,
              "#7201a8"
             ],
             [
              0.3333333333333333,
              "#9c179e"
             ],
             [
              0.4444444444444444,
              "#bd3786"
             ],
             [
              0.5555555555555556,
              "#d8576b"
             ],
             [
              0.6666666666666666,
              "#ed7953"
             ],
             [
              0.7777777777777778,
              "#fb9f3a"
             ],
             [
              0.8888888888888888,
              "#fdca26"
             ],
             [
              1,
              "#f0f921"
             ]
            ],
            "type": "heatmap"
           }
          ],
          "heatmapgl": [
           {
            "colorbar": {
             "outlinewidth": 0,
             "ticks": ""
            },
            "colorscale": [
             [
              0,
              "#0d0887"
             ],
             [
              0.1111111111111111,
              "#46039f"
             ],
             [
              0.2222222222222222,
              "#7201a8"
             ],
             [
              0.3333333333333333,
              "#9c179e"
             ],
             [
              0.4444444444444444,
              "#bd3786"
             ],
             [
              0.5555555555555556,
              "#d8576b"
             ],
             [
              0.6666666666666666,
              "#ed7953"
             ],
             [
              0.7777777777777778,
              "#fb9f3a"
             ],
             [
              0.8888888888888888,
              "#fdca26"
             ],
             [
              1,
              "#f0f921"
             ]
            ],
            "type": "heatmapgl"
           }
          ],
          "histogram": [
           {
            "marker": {
             "pattern": {
              "fillmode": "overlay",
              "size": 10,
              "solidity": 0.2
             }
            },
            "type": "histogram"
           }
          ],
          "histogram2d": [
           {
            "colorbar": {
             "outlinewidth": 0,
             "ticks": ""
            },
            "colorscale": [
             [
              0,
              "#0d0887"
             ],
             [
              0.1111111111111111,
              "#46039f"
             ],
             [
              0.2222222222222222,
              "#7201a8"
             ],
             [
              0.3333333333333333,
              "#9c179e"
             ],
             [
              0.4444444444444444,
              "#bd3786"
             ],
             [
              0.5555555555555556,
              "#d8576b"
             ],
             [
              0.6666666666666666,
              "#ed7953"
             ],
             [
              0.7777777777777778,
              "#fb9f3a"
             ],
             [
              0.8888888888888888,
              "#fdca26"
             ],
             [
              1,
              "#f0f921"
             ]
            ],
            "type": "histogram2d"
           }
          ],
          "histogram2dcontour": [
           {
            "colorbar": {
             "outlinewidth": 0,
             "ticks": ""
            },
            "colorscale": [
             [
              0,
              "#0d0887"
             ],
             [
              0.1111111111111111,
              "#46039f"
             ],
             [
              0.2222222222222222,
              "#7201a8"
             ],
             [
              0.3333333333333333,
              "#9c179e"
             ],
             [
              0.4444444444444444,
              "#bd3786"
             ],
             [
              0.5555555555555556,
              "#d8576b"
             ],
             [
              0.6666666666666666,
              "#ed7953"
             ],
             [
              0.7777777777777778,
              "#fb9f3a"
             ],
             [
              0.8888888888888888,
              "#fdca26"
             ],
             [
              1,
              "#f0f921"
             ]
            ],
            "type": "histogram2dcontour"
           }
          ],
          "mesh3d": [
           {
            "colorbar": {
             "outlinewidth": 0,
             "ticks": ""
            },
            "type": "mesh3d"
           }
          ],
          "parcoords": [
           {
            "line": {
             "colorbar": {
              "outlinewidth": 0,
              "ticks": ""
             }
            },
            "type": "parcoords"
           }
          ],
          "pie": [
           {
            "automargin": true,
            "type": "pie"
           }
          ],
          "scatter": [
           {
            "fillpattern": {
             "fillmode": "overlay",
             "size": 10,
             "solidity": 0.2
            },
            "type": "scatter"
           }
          ],
          "scatter3d": [
           {
            "line": {
             "colorbar": {
              "outlinewidth": 0,
              "ticks": ""
             }
            },
            "marker": {
             "colorbar": {
              "outlinewidth": 0,
              "ticks": ""
             }
            },
            "type": "scatter3d"
           }
          ],
          "scattercarpet": [
           {
            "marker": {
             "colorbar": {
              "outlinewidth": 0,
              "ticks": ""
             }
            },
            "type": "scattercarpet"
           }
          ],
          "scattergeo": [
           {
            "marker": {
             "colorbar": {
              "outlinewidth": 0,
              "ticks": ""
             }
            },
            "type": "scattergeo"
           }
          ],
          "scattergl": [
           {
            "marker": {
             "colorbar": {
              "outlinewidth": 0,
              "ticks": ""
             }
            },
            "type": "scattergl"
           }
          ],
          "scattermapbox": [
           {
            "marker": {
             "colorbar": {
              "outlinewidth": 0,
              "ticks": ""
             }
            },
            "type": "scattermapbox"
           }
          ],
          "scatterpolar": [
           {
            "marker": {
             "colorbar": {
              "outlinewidth": 0,
              "ticks": ""
             }
            },
            "type": "scatterpolar"
           }
          ],
          "scatterpolargl": [
           {
            "marker": {
             "colorbar": {
              "outlinewidth": 0,
              "ticks": ""
             }
            },
            "type": "scatterpolargl"
           }
          ],
          "scatterternary": [
           {
            "marker": {
             "colorbar": {
              "outlinewidth": 0,
              "ticks": ""
             }
            },
            "type": "scatterternary"
           }
          ],
          "surface": [
           {
            "colorbar": {
             "outlinewidth": 0,
             "ticks": ""
            },
            "colorscale": [
             [
              0,
              "#0d0887"
             ],
             [
              0.1111111111111111,
              "#46039f"
             ],
             [
              0.2222222222222222,
              "#7201a8"
             ],
             [
              0.3333333333333333,
              "#9c179e"
             ],
             [
              0.4444444444444444,
              "#bd3786"
             ],
             [
              0.5555555555555556,
              "#d8576b"
             ],
             [
              0.6666666666666666,
              "#ed7953"
             ],
             [
              0.7777777777777778,
              "#fb9f3a"
             ],
             [
              0.8888888888888888,
              "#fdca26"
             ],
             [
              1,
              "#f0f921"
             ]
            ],
            "type": "surface"
           }
          ],
          "table": [
           {
            "cells": {
             "fill": {
              "color": "#EBF0F8"
             },
             "line": {
              "color": "white"
             }
            },
            "header": {
             "fill": {
              "color": "#C8D4E3"
             },
             "line": {
              "color": "white"
             }
            },
            "type": "table"
           }
          ]
         },
         "layout": {
          "annotationdefaults": {
           "arrowcolor": "#2a3f5f",
           "arrowhead": 0,
           "arrowwidth": 1
          },
          "autotypenumbers": "strict",
          "coloraxis": {
           "colorbar": {
            "outlinewidth": 0,
            "ticks": ""
           }
          },
          "colorscale": {
           "diverging": [
            [
             0,
             "#8e0152"
            ],
            [
             0.1,
             "#c51b7d"
            ],
            [
             0.2,
             "#de77ae"
            ],
            [
             0.3,
             "#f1b6da"
            ],
            [
             0.4,
             "#fde0ef"
            ],
            [
             0.5,
             "#f7f7f7"
            ],
            [
             0.6,
             "#e6f5d0"
            ],
            [
             0.7,
             "#b8e186"
            ],
            [
             0.8,
             "#7fbc41"
            ],
            [
             0.9,
             "#4d9221"
            ],
            [
             1,
             "#276419"
            ]
           ],
           "sequential": [
            [
             0,
             "#0d0887"
            ],
            [
             0.1111111111111111,
             "#46039f"
            ],
            [
             0.2222222222222222,
             "#7201a8"
            ],
            [
             0.3333333333333333,
             "#9c179e"
            ],
            [
             0.4444444444444444,
             "#bd3786"
            ],
            [
             0.5555555555555556,
             "#d8576b"
            ],
            [
             0.6666666666666666,
             "#ed7953"
            ],
            [
             0.7777777777777778,
             "#fb9f3a"
            ],
            [
             0.8888888888888888,
             "#fdca26"
            ],
            [
             1,
             "#f0f921"
            ]
           ],
           "sequentialminus": [
            [
             0,
             "#0d0887"
            ],
            [
             0.1111111111111111,
             "#46039f"
            ],
            [
             0.2222222222222222,
             "#7201a8"
            ],
            [
             0.3333333333333333,
             "#9c179e"
            ],
            [
             0.4444444444444444,
             "#bd3786"
            ],
            [
             0.5555555555555556,
             "#d8576b"
            ],
            [
             0.6666666666666666,
             "#ed7953"
            ],
            [
             0.7777777777777778,
             "#fb9f3a"
            ],
            [
             0.8888888888888888,
             "#fdca26"
            ],
            [
             1,
             "#f0f921"
            ]
           ]
          },
          "colorway": [
           "#636efa",
           "#EF553B",
           "#00cc96",
           "#ab63fa",
           "#FFA15A",
           "#19d3f3",
           "#FF6692",
           "#B6E880",
           "#FF97FF",
           "#FECB52"
          ],
          "font": {
           "color": "#2a3f5f"
          },
          "geo": {
           "bgcolor": "white",
           "lakecolor": "white",
           "landcolor": "#E5ECF6",
           "showlakes": true,
           "showland": true,
           "subunitcolor": "white"
          },
          "hoverlabel": {
           "align": "left"
          },
          "hovermode": "closest",
          "mapbox": {
           "style": "light"
          },
          "paper_bgcolor": "white",
          "plot_bgcolor": "#E5ECF6",
          "polar": {
           "angularaxis": {
            "gridcolor": "white",
            "linecolor": "white",
            "ticks": ""
           },
           "bgcolor": "#E5ECF6",
           "radialaxis": {
            "gridcolor": "white",
            "linecolor": "white",
            "ticks": ""
           }
          },
          "scene": {
           "xaxis": {
            "backgroundcolor": "#E5ECF6",
            "gridcolor": "white",
            "gridwidth": 2,
            "linecolor": "white",
            "showbackground": true,
            "ticks": "",
            "zerolinecolor": "white"
           },
           "yaxis": {
            "backgroundcolor": "#E5ECF6",
            "gridcolor": "white",
            "gridwidth": 2,
            "linecolor": "white",
            "showbackground": true,
            "ticks": "",
            "zerolinecolor": "white"
           },
           "zaxis": {
            "backgroundcolor": "#E5ECF6",
            "gridcolor": "white",
            "gridwidth": 2,
            "linecolor": "white",
            "showbackground": true,
            "ticks": "",
            "zerolinecolor": "white"
           }
          },
          "shapedefaults": {
           "line": {
            "color": "#2a3f5f"
           }
          },
          "ternary": {
           "aaxis": {
            "gridcolor": "white",
            "linecolor": "white",
            "ticks": ""
           },
           "baxis": {
            "gridcolor": "white",
            "linecolor": "white",
            "ticks": ""
           },
           "bgcolor": "#E5ECF6",
           "caxis": {
            "gridcolor": "white",
            "linecolor": "white",
            "ticks": ""
           }
          },
          "title": {
           "x": 0.05
          },
          "xaxis": {
           "automargin": true,
           "gridcolor": "white",
           "linecolor": "white",
           "ticks": "",
           "title": {
            "standoff": 15
           },
           "zerolinecolor": "white",
           "zerolinewidth": 2
          },
          "yaxis": {
           "automargin": true,
           "gridcolor": "white",
           "linecolor": "white",
           "ticks": "",
           "title": {
            "standoff": 15
           },
           "zerolinecolor": "white",
           "zerolinewidth": 2
          }
         }
        },
        "width": 1400,
        "xaxis": {
         "anchor": "y",
         "autorange": true,
         "domain": [
          0,
          0.2275
         ],
         "range": [
          -0.5,
          7.5
         ],
         "type": "category"
        },
        "xaxis2": {
         "anchor": "y2",
         "autorange": true,
         "domain": [
          0.2575,
          0.485
         ],
         "range": [
          -0.5,
          7.5
         ],
         "type": "category"
        },
        "xaxis3": {
         "anchor": "y3",
         "autorange": true,
         "domain": [
          0.515,
          0.7425
         ],
         "range": [
          -0.5,
          7.5
         ],
         "type": "category"
        },
        "xaxis4": {
         "anchor": "y4",
         "autorange": true,
         "domain": [
          0.7725,
          1
         ],
         "range": [
          -0.5,
          7.5
         ],
         "type": "category"
        },
        "xaxis5": {
         "anchor": "y5",
         "autorange": true,
         "domain": [
          0,
          0.2275
         ],
         "range": [
          -0.5,
          7.5
         ],
         "type": "category"
        },
        "xaxis6": {
         "anchor": "y6",
         "autorange": true,
         "domain": [
          0.2575,
          0.485
         ],
         "range": [
          -0.5,
          7.5
         ],
         "type": "category"
        },
        "xaxis7": {
         "anchor": "y7",
         "autorange": true,
         "domain": [
          0.515,
          0.7425
         ],
         "range": [
          -0.5,
          7.5
         ],
         "type": "category"
        },
        "xaxis8": {
         "anchor": "y8",
         "autorange": true,
         "domain": [
          0.7725,
          1
         ],
         "range": [
          -0.5,
          7.5
         ],
         "type": "category"
        },
        "yaxis": {
         "anchor": "x",
         "domain": [
          0.6000000000000001,
          1
         ],
         "range": [
          0,
          1
         ],
         "type": "linear"
        },
        "yaxis2": {
         "anchor": "x2",
         "domain": [
          0.6000000000000001,
          1
         ],
         "range": [
          0,
          1
         ],
         "type": "linear"
        },
        "yaxis3": {
         "anchor": "x3",
         "domain": [
          0.6000000000000001,
          1
         ],
         "range": [
          0,
          1
         ],
         "type": "linear"
        },
        "yaxis4": {
         "anchor": "x4",
         "domain": [
          0.6000000000000001,
          1
         ],
         "range": [
          0,
          1
         ],
         "type": "linear"
        },
        "yaxis5": {
         "anchor": "x5",
         "domain": [
          0,
          0.4
         ],
         "range": [
          0,
          1
         ],
         "type": "linear"
        },
        "yaxis6": {
         "anchor": "x6",
         "domain": [
          0,
          0.4
         ],
         "range": [
          0,
          1
         ],
         "type": "linear"
        },
        "yaxis7": {
         "anchor": "x7",
         "domain": [
          0,
          0.4
         ],
         "range": [
          0,
          1
         ],
         "type": "linear"
        },
        "yaxis8": {
         "anchor": "x8",
         "domain": [
          0,
          0.4
         ],
         "range": [
          0,
          1
         ],
         "type": "linear"
        }
       }
      },
      "image/png": "[encoded data removed]",
      "text/html": [
       "<div>                            <div id=\"a3214f1f-a9d0-4017-a0ab-2c944043b10e\" class=\"plotly-graph-div\" style=\"height:400px; width:1400px;\"></div>            <script type=\"text/javascript\">                require([\"plotly\"], function(Plotly) {                    window.PLOTLYENV=window.PLOTLYENV || {};                                    if (document.getElementById(\"a3214f1f-a9d0-4017-a0ab-2c944043b10e\")) {                    Plotly.newPlot(                        \"a3214f1f-a9d0-4017-a0ab-2c944043b10e\",                        [{\"marker\":{\"color\":\"red\"},\"name\":\"exp:1200 s\",\"x\":[\"Glc\",\"Man\",\"All\",\"Gal\",\"Alt\",\"Tal\",\"Gul\",\"Ido\"],\"y\":[0.8282828282828283,0.010101010101010102,0.15151515151515152,0.010101010101010102,0.0,0.0,0.0,0.0],\"type\":\"bar\",\"xaxis\":\"x\",\"yaxis\":\"y\"},{\"marker\":{\"color\":\"blue\"},\"name\":\"sim:1200 s\",\"x\":[\"Glc\",\"Man\",\"All\",\"Gal\",\"Alt\",\"Tal\",\"Gul\",\"Ido\"],\"y\":[0.8189334356060636,0.0023493891438985766,0.1745441518655779,0.002922462075778229,0.0005229637092812629,0.00016990613720828355,0.0005557972615488511,1.8942006433679938e-06],\"type\":\"bar\",\"xaxis\":\"x\",\"yaxis\":\"y\"},{\"marker\":{\"color\":\"red\"},\"name\":\"exp:1800 s\",\"x\":[\"Glc\",\"Man\",\"All\",\"Gal\",\"Alt\",\"Tal\",\"Gul\",\"Ido\"],\"y\":[0.6907216494845361,0.010309278350515464,0.28865979381443296,0.010309278350515464,0.0,0.0,0.0,0.0],\"type\":\"bar\",\"xaxis\":\"x\",\"yaxis\":\"y\"},{\"marker\":{\"color\":\"blue\"},\"name\":\"sim:1800 s\",\"x\":[\"Glc\",\"Man\",\"All\",\"Gal\",\"Alt\",\"Tal\",\"Gul\",\"Ido\"],\"y\":[0.6759149319790111,0.004042692456662951,0.31054709600717306,0.00506440080986318,0.0018321598143393471,0.0006062272701372212,0.001979487684014824,1.300397879829556e-05],\"type\":\"bar\",\"xaxis\":\"x\",\"yaxis\":\"y\"},{\"marker\":{\"color\":\"red\"},\"name\":\"exp:2400 s\",\"x\":[\"Glc\",\"Man\",\"All\",\"Gal\",\"Alt\",\"Tal\",\"Gul\",\"Ido\"],\"y\":[0.4742268041237113,0.010309278350515464,0.4845360824742268,0.020618556701030927,0.0,0.010309278350515464,0.0,0.0],\"type\":\"bar\",\"xaxis\":\"x\",\"yaxis\":\"y\"},{\"marker\":{\"color\":\"blue\"},\"name\":\"sim:2400 s\",\"x\":[\"Glc\",\"Man\",\"All\",\"Gal\",\"Alt\",\"Tal\",\"Gul\",\"Ido\"],\"y\":[0.4641749794952111,0.0063548436866785706,0.5070154757527081,0.007848356396737782,0.005892147405431617,0.0020449802260926074,0.006583447143527032,8.576989361318174e-05],\"type\":\"bar\",\"xaxis\":\"x\",\"yaxis\":\"y\"},{\"marker\":{\"color\":\"red\"},\"name\":\"exp:4920 s\",\"x\":[\"Glc\",\"Man\",\"All\",\"Gal\",\"Alt\",\"Tal\",\"Gul\",\"Ido\"],\"y\":[0.2268041237113402,0.010309278350515464,0.7010309278350515,0.041237113402061855,0.0,0.020618556701030927,0.0,0.0],\"type\":\"bar\",\"xaxis\":\"x\",\"yaxis\":\"y\"},{\"marker\":{\"color\":\"blue\"},\"name\":\"sim:4920 s\",\"x\":[\"Glc\",\"Man\",\"All\",\"Gal\",\"Alt\",\"Tal\",\"Gul\",\"Ido\"],\"y\":[0.25435935108385355,0.008912994688061114,0.6891754743423798,0.009818143345326649,0.014501953253457087,0.0056790418259256535,0.017140645137355925,0.0004123963236401809],\"type\":\"bar\",\"xaxis\":\"x\",\"yaxis\":\"y\"},{\"marker\":{\"color\":\"red\"},\"name\":\"exp:9720 s\",\"x\":[\"Glc\",\"Man\",\"All\",\"Gal\",\"Alt\",\"Tal\",\"Gul\",\"Ido\"],\"y\":[0.1111111111111111,0.010101010101010102,0.7878787878787878,0.050505050505050504,0.0,0.04040404040404041,0.0,0.0],\"type\":\"bar\",\"xaxis\":\"x\",\"yaxis\":\"y\"},{\"marker\":{\"color\":\"blue\"},\"name\":\"sim:9720 s\",\"x\":[\"Glc\",\"Man\",\"All\",\"Gal\",\"Alt\",\"Tal\",\"Gul\",\"Ido\"],\"y\":[0.13894462757729706,0.011939839730696785,0.7707983510670595,0.01019379720606895,0.02432895039777491,0.011866605001526273,0.030755374500712796,0.0011724545188637183],\"type\":\"bar\",\"xaxis\":\"x\",\"yaxis\":\"y\"},{\"marker\":{\"color\":\"red\"},\"name\":\"exp:1200 s\",\"x\":[\"Glc\",\"Man\",\"All\",\"Gal\",\"Alt\",\"Tal\",\"Gul\",\"Ido\"],\"y\":[0.01098901098901099,0.8901098901098901,0.0,0.0,0.02197802197802198,0.07692307692307693,0.0,0.0],\"type\":\"bar\",\"xaxis\":\"x2\",\"yaxis\":\"y2\"},{\"marker\":{\"color\":\"blue\"},\"name\":\"sim:1200 s\",\"x\":[\"Glc\",\"Man\",\"All\",\"Gal\",\"Alt\",\"Tal\",\"Gul\",\"Ido\"],\"y\":[0.007021356810348186,0.8843395502654267,0.001568161060924252,0.00018462034133559532,0.029691243022850818,0.07684845557987802,5.959361555434998e-06,0.00034065355768115647],\"type\":\"bar\",\"xaxis\":\"x2\",\"yaxis\":\"y2\"},{\"marker\":{\"color\":\"red\"},\"name\":\"exp:1800 s\",\"x\":[\"Glc\",\"Man\",\"All\",\"Gal\",\"Alt\",\"Tal\",\"Gul\",\"Ido\"],\"y\":[0.03225806451612903,0.7849462365591398,0.0,0.0,0.043010752688172046,0.13978494623655913,0.0,0.0],\"type\":\"bar\",\"xaxis\":\"x2\",\"yaxis\":\"y2\"},{\"marker\":{\"color\":\"blue\"},\"name\":\"sim:1800 s\",\"x\":[\"Glc\",\"Man\",\"All\",\"Gal\",\"Alt\",\"Tal\",\"Gul\",\"Ido\"],\"y\":[0.011940188926284387,0.7858841332272372,0.005586309126950665,0.000673268455247006,0.05211096199049426,0.1425364844946568,4.168566645201161e-05,0.001226968112677878],\"type\":\"bar\",\"xaxis\":\"x2\",\"yaxis\":\"y2\"},{\"marker\":{\"color\":\"red\"},\"name\":\"exp:2400 s\",\"x\":[\"Glc\",\"Man\",\"All\",\"Gal\",\"Alt\",\"Tal\",\"Gul\",\"Ido\"],\"y\":[0.04081632653061224,0.6326530612244898,0.02040816326530612,0.0,0.07142857142857142,0.23469387755102042,0.0,0.0],\"type\":\"bar\",\"xaxis\":\"x2\",\"yaxis\":\"y2\"},{\"marker\":{\"color\":\"blue\"},\"name\":\"sim:2400 s\",\"x\":[\"Glc\",\"Man\",\"All\",\"Gal\",\"Alt\",\"Tal\",\"Gul\",\"Ido\"],\"y\":[0.017843518570893058,0.6227697341294581,0.01857517888977239,0.0023472614306489993,0.08206484080505821,0.2519469640142645,0.0002859987368482349,0.004166503423056469],\"type\":\"bar\",\"xaxis\":\"x2\",\"yaxis\":\"y2\"},{\"marker\":{\"color\":\"red\"},\"name\":\"exp:4920 s\",\"x\":[\"Glc\",\"Man\",\"All\",\"Gal\",\"Alt\",\"Tal\",\"Gul\",\"Ido\"],\"y\":[0.046296296296296294,0.42592592592592593,0.05555555555555555,0.009259259259259259,0.09259259259259259,0.37037037037037035,0.0,0.0],\"type\":\"bar\",\"xaxis\":\"x2\",\"yaxis\":\"y2\"},{\"marker\":{\"color\":\"blue\"},\"name\":\"sim:4920 s\",\"x\":[\"Glc\",\"Man\",\"All\",\"Gal\",\"Alt\",\"Tal\",\"Gul\",\"Ido\"],\"y\":[0.02108312746977948,0.42159054312819977,0.048440541038938405,0.00661431783598003,0.10182006164516991,0.38779809584877317,0.0014710432119401152,0.01118226982121915],\"type\":\"bar\",\"xaxis\":\"x2\",\"yaxis\":\"y2\"},{\"marker\":{\"color\":\"red\"},\"name\":\"exp:9720 s\",\"x\":[\"Glc\",\"Man\",\"All\",\"Gal\",\"Alt\",\"Tal\",\"Gul\",\"Ido\"],\"y\":[0.04807692307692308,0.2692307692307692,0.09615384615384616,0.009615384615384616,0.09615384615384616,0.4807692307692308,0.0,0.0],\"type\":\"bar\",\"xaxis\":\"x2\",\"yaxis\":\"y2\"},{\"marker\":{\"color\":\"blue\"},\"name\":\"sim:9720 s\",\"x\":[\"Glc\",\"Man\",\"All\",\"Gal\",\"Alt\",\"Tal\",\"Gul\",\"Ido\"],\"y\":[0.020662750677925355,0.2628082309768327,0.08755182007300204,0.013067265432639624,0.09596159140893537,0.4947791940972705,0.004505305350658124,0.0206638419827363],\"type\":\"bar\",\"xaxis\":\"x2\",\"yaxis\":\"y2\"},{\"marker\":{\"color\":\"red\"},\"name\":\"exp:1200 s\",\"x\":[\"Glc\",\"Man\",\"All\",\"Gal\",\"Alt\",\"Tal\",\"Gul\",\"Ido\"],\"y\":[0.03,0.0,0.97,0.0,0.0,0.0,0.0,0.0],\"type\":\"bar\",\"xaxis\":\"x3\",\"yaxis\":\"y3\"},{\"marker\":{\"color\":\"blue\"},\"name\":\"sim:1200 s\",\"x\":[\"Glc\",\"Man\",\"All\",\"Gal\",\"Alt\",\"Tal\",\"Gul\",\"Ido\"],\"y\":[0.01745929815600677,0.00019394775383830735,0.9716625991902667,5.908755058718457e-05,0.0051532807823049765,7.412505532014027e-06,0.005443314958003033,2.1059103461008416e-05],\"type\":\"bar\",\"xaxis\":\"x3\",\"yaxis\":\"y3\"},{\"marker\":{\"color\":\"red\"},\"name\":\"exp:1800 s\",\"x\":[\"Glc\",\"Man\",\"All\",\"Gal\",\"Alt\",\"Tal\",\"Gul\",\"Ido\"],\"y\":[0.039603960396039604,0.0,0.9603960396039604,0.0,0.0,0.0,0.0,0.0],\"type\":\"bar\",\"xaxis\":\"x3\",\"yaxis\":\"y3\"},{\"marker\":{\"color\":\"blue\"},\"name\":\"sim:1800 s\",\"x\":[\"Glc\",\"Man\",\"All\",\"Gal\",\"Alt\",\"Tal\",\"Gul\",\"Ido\"],\"y\":[0.031066248035923134,0.0006964835675976631,0.9481345437133936,0.0002147067884637738,0.009496079577619216,5.191229711016729e-05,0.010263250719245463,7.677530064700486e-05],\"type\":\"bar\",\"xaxis\":\"x3\",\"yaxis\":\"y3\"},{\"marker\":{\"color\":\"red\"},\"name\":\"exp:2400 s\",\"x\":[\"Glc\",\"Man\",\"All\",\"Gal\",\"Alt\",\"Tal\",\"Gul\",\"Ido\"],\"y\":[0.047619047619047616,0.0,0.9523809523809523,0.0,0.0,0.0,0.0,0.0],\"type\":\"bar\",\"xaxis\":\"x3\",\"yaxis\":\"y3\"},{\"marker\":{\"color\":\"blue\"},\"name\":\"sim:2400 s\",\"x\":[\"Glc\",\"Man\",\"All\",\"Gal\",\"Alt\",\"Tal\",\"Gul\",\"Ido\"],\"y\":[0.050713346012694185,0.002353493337354026,0.9102263731063023,0.0007440323816641492,0.01659758881223109,0.00036367176293826967,0.018733268084830293,0.00026822650198575493],\"type\":\"bar\",\"xaxis\":\"x3\",\"yaxis\":\"y3\"},{\"marker\":{\"color\":\"red\"},\"name\":\"exp:4920 s\",\"x\":[\"Glc\",\"Man\",\"All\",\"Gal\",\"Alt\",\"Tal\",\"Gul\",\"Ido\"],\"y\":[0.06060606060606061,0.0,0.9393939393939394,0.0,0.0,0.0,0.0,0.0],\"type\":\"bar\",\"xaxis\":\"x3\",\"yaxis\":\"y3\"},{\"marker\":{\"color\":\"blue\"},\"name\":\"sim:4920 s\",\"x\":[\"Glc\",\"Man\",\"All\",\"Gal\",\"Alt\",\"Tal\",\"Gul\",\"Ido\"],\"y\":[0.06897820665969885,0.0062727349985187255,0.8643341695908261,0.0020799611878247943,0.025192184300675186,0.0019853968133009625,0.030392727191369477,0.0007646192577858322],\"type\":\"bar\",\"xaxis\":\"x3\",\"yaxis\":\"y3\"},{\"marker\":{\"color\":\"red\"},\"name\":\"exp:9720 s\",\"x\":[\"Glc\",\"Man\",\"All\",\"Gal\",\"Alt\",\"Tal\",\"Gul\",\"Ido\"],\"y\":[0.0707070707070707,0.0,0.9292929292929293,0.0,0.0,0.0,0.0,0.0],\"type\":\"bar\",\"xaxis\":\"x3\",\"yaxis\":\"y3\"},{\"marker\":{\"color\":\"blue\"},\"name\":\"sim:9720 s\",\"x\":[\"Glc\",\"Man\",\"All\",\"Gal\",\"Alt\",\"Tal\",\"Gul\",\"Ido\"],\"y\":[0.07726072858837378,0.011579272232376737,0.82588736499399,0.004104650441772922,0.03181203724911754,0.006614058384172517,0.0411771358540881,0.0015647522561084493],\"type\":\"bar\",\"xaxis\":\"x3\",\"yaxis\":\"y3\"},{\"marker\":{\"color\":\"red\"},\"name\":\"exp:1200 s\",\"x\":[\"Glc\",\"Man\",\"All\",\"Gal\",\"Alt\",\"Tal\",\"Gul\",\"Ido\"],\"y\":[0.020202020202020204,0.0,0.0,0.9090909090909091,0.0,0.04040404040404041,0.030303030303030304,0.0],\"type\":\"bar\",\"xaxis\":\"x4\",\"yaxis\":\"y4\"},{\"marker\":{\"color\":\"blue\"},\"name\":\"sim:1200 s\",\"x\":[\"Glc\",\"Man\",\"All\",\"Gal\",\"Alt\",\"Tal\",\"Gul\",\"Ido\"],\"y\":[0.005848491849162597,0.00015180035703657636,0.0015679419315324783,0.918908046646684,5.042086193064101e-06,0.04290516113758007,0.03041318900589947,0.0002003269859117953],\"type\":\"bar\",\"xaxis\":\"x4\",\"yaxis\":\"y4\"},{\"marker\":{\"color\":\"red\"},\"name\":\"exp:1800 s\",\"x\":[\"Glc\",\"Man\",\"All\",\"Gal\",\"Alt\",\"Tal\",\"Gul\",\"Ido\"],\"y\":[0.020833333333333332,0.0,0.0,0.8541666666666666,0.0,0.08333333333333333,0.041666666666666664,0.0],\"type\":\"bar\",\"xaxis\":\"x4\",\"yaxis\":\"y4\"},{\"marker\":{\"color\":\"blue\"},\"name\":\"sim:1800 s\",\"x\":[\"Glc\",\"Man\",\"All\",\"Gal\",\"Alt\",\"Tal\",\"Gul\",\"Ido\"],\"y\":[0.010147683082318884,0.0005546470603528002,0.005719834699770899,0.8460808298556147,3.4946675053513604e-05,0.08100416173628751,0.05572579323044017,0.0007321036601614827],\"type\":\"bar\",\"xaxis\":\"x4\",\"yaxis\":\"y4\"},{\"marker\":{\"color\":\"red\"},\"name\":\"exp:2400 s\",\"x\":[\"Glc\",\"Man\",\"All\",\"Gal\",\"Alt\",\"Tal\",\"Gul\",\"Ido\"],\"y\":[0.04040404040404041,0.0,0.010101010101010102,0.7171717171717171,0.0,0.1414141414141414,0.09090909090909091,0.0],\"type\":\"bar\",\"xaxis\":\"x4\",\"yaxis\":\"y4\"},{\"marker\":{\"color\":\"blue\"},\"name\":\"sim:2400 s\",\"x\":[\"Glc\",\"Man\",\"All\",\"Gal\",\"Alt\",\"Tal\",\"Gul\",\"Ido\"],\"y\":[0.0158185342235646,0.0019428949753935046,0.01995637534749688,0.7159027865324958,0.0002388452681005182,0.14799129100740643,0.0955911767779853,0.0025580958675570915],\"type\":\"bar\",\"xaxis\":\"x4\",\"yaxis\":\"y4\"},{\"marker\":{\"color\":\"red\"},\"name\":\"exp:4920 s\",\"x\":[\"Glc\",\"Man\",\"All\",\"Gal\",\"Alt\",\"Tal\",\"Gul\",\"Ido\"],\"y\":[0.04854368932038835,0.0,0.04854368932038835,0.5533980582524272,0.0,0.23300970873786409,0.11650485436893204,0.0],\"type\":\"bar\",\"xaxis\":\"x4\",\"yaxis\":\"y4\"},{\"marker\":{\"color\":\"blue\"},\"name\":\"sim:4920 s\",\"x\":[\"Glc\",\"Man\",\"All\",\"Gal\",\"Alt\",\"Tal\",\"Gul\",\"Ido\"],\"y\":[0.02023432104633726,0.005545233377519836,0.05640981479693647,0.5327284485017884,0.0012226667864121202,0.23943047824566513,0.13724182731206008,0.007187209933280705],\"type\":\"bar\",\"xaxis\":\"x4\",\"yaxis\":\"y4\"},{\"marker\":{\"color\":\"red\"},\"name\":\"exp:9720 s\",\"x\":[\"Glc\",\"Man\",\"All\",\"Gal\",\"Alt\",\"Tal\",\"Gul\",\"Ido\"],\"y\":[0.039603960396039604,0.0,0.1188118811881188,0.39603960396039606,0.0,0.31683168316831684,0.12871287128712872,0.0],\"type\":\"bar\",\"xaxis\":\"x4\",\"yaxis\":\"y4\"},{\"marker\":{\"color\":\"blue\"},\"name\":\"sim:9720 s\",\"x\":[\"Glc\",\"Man\",\"All\",\"Gal\",\"Alt\",\"Tal\",\"Gul\",\"Ido\"],\"y\":[0.022126589776358063,0.01121689927388402,0.11219080906241777,0.3601364028890112,0.0037228718003593747,0.3216499996679339,0.15497342501875414,0.01398300251128156],\"type\":\"bar\",\"xaxis\":\"x4\",\"yaxis\":\"y4\"},{\"marker\":{\"color\":\"red\"},\"name\":\"exp:1200 s\",\"x\":[\"Glc\",\"Man\",\"All\",\"Gal\",\"Alt\",\"Tal\",\"Gul\",\"Ido\"],\"y\":[0.0,0.0,0.0,0.0,0.0,1.0,0.0,0.0],\"type\":\"bar\",\"xaxis\":\"x5\",\"yaxis\":\"y5\"},{\"marker\":{\"color\":\"blue\"},\"name\":\"sim:1200 s\",\"x\":[\"Glc\",\"Man\",\"All\",\"Gal\",\"Alt\",\"Tal\",\"Gul\",\"Ido\"],\"y\":[3.8706557135217143e-05,0.006404696618680803,7.335343051243638e-06,0.0042905080321583074,0.00012085285766687051,0.9823643343903097,9.2389407429568e-05,0.00668117679356832],\"type\":\"bar\",\"xaxis\":\"x5\",\"yaxis\":\"y5\"},{\"marker\":{\"color\":\"red\"},\"name\":\"exp:1800 s\",\"x\":[\"Glc\",\"Man\",\"All\",\"Gal\",\"Alt\",\"Tal\",\"Gul\",\"Ido\"],\"y\":[0.0,0.0,0.0,0.0,0.0,1.0,0.0,0.0],\"type\":\"bar\",\"xaxis\":\"x5\",\"yaxis\":\"y5\"},{\"marker\":{\"color\":\"blue\"},\"name\":\"sim:1800 s\",\"x\":[\"Glc\",\"Man\",\"All\",\"Gal\",\"Alt\",\"Tal\",\"Gul\",\"Ido\"],\"y\":[0.0001376998747481103,0.011880583867209814,5.093475699676001e-05,0.00810003347186666,0.0004367259473545004,0.9665957473230704,0.0003423760654642679,0.012455898693289565],\"type\":\"bar\",\"xaxis\":\"x5\",\"yaxis\":\"y5\"},{\"marker\":{\"color\":\"red\"},\"name\":\"exp:2400 s\",\"x\":[\"Glc\",\"Man\",\"All\",\"Gal\",\"Alt\",\"Tal\",\"Gul\",\"Ido\"],\"y\":[0.0,0.0,0.0,0.010101010101010102,0.0,0.98989898989899,0.0,0.0],\"type\":\"bar\",\"xaxis\":\"x5\",\"yaxis\":\"y5\"},{\"marker\":{\"color\":\"blue\"},\"name\":\"sim:2400 s\",\"x\":[\"Glc\",\"Man\",\"All\",\"Gal\",\"Alt\",\"Tal\",\"Gul\",\"Ido\"],\"y\":[0.00046108432153919426,0.021001425796920145,0.0003519660792804198,0.014794499168074848,0.0014965171057206687,0.9384707257403163,0.001232318308174901,0.02219146347997361],\"type\":\"bar\",\"xaxis\":\"x5\",\"yaxis\":\"y5\"},{\"marker\":{\"color\":\"red\"},\"name\":\"exp:4920 s\",\"x\":[\"Glc\",\"Man\",\"All\",\"Gal\",\"Alt\",\"Tal\",\"Gul\",\"Ido\"],\"y\":[0.0,0.0,0.0,0.020833333333333332,0.0,0.9791666666666666,0.0,0.0],\"type\":\"bar\",\"xaxis\":\"x5\",\"yaxis\":\"y5\"},{\"marker\":{\"color\":\"blue\"},\"name\":\"sim:4920 s\",\"x\":[\"Glc\",\"Man\",\"All\",\"Gal\",\"Alt\",\"Tal\",\"Gul\",\"Ido\"],\"y\":[0.0012196692958698762,0.03234992441858002,0.0019320741060475444,0.023917862177759996,0.004064829364982595,0.898461509672417,0.003646500320249871,0.03440763064409315],\"type\":\"bar\",\"xaxis\":\"x5\",\"yaxis\":\"y5\"},{\"marker\":{\"color\":\"red\"},\"name\":\"exp:9720 s\",\"x\":[\"Glc\",\"Man\",\"All\",\"Gal\",\"Alt\",\"Tal\",\"Gul\",\"Ido\"],\"y\":[0.0,0.0,0.0,0.03225806451612903,0.0,0.967741935483871,0.0,0.0],\"type\":\"bar\",\"xaxis\":\"x5\",\"yaxis\":\"y5\"},{\"marker\":{\"color\":\"blue\"},\"name\":\"sim:9720 s\",\"x\":[\"Glc\",\"Man\",\"All\",\"Gal\",\"Alt\",\"Tal\",\"Gul\",\"Ido\"],\"y\":[0.002320102366966465,0.04133644629946757,0.006483245535480003,0.03207755099562795,0.007651767527172217,0.858646690135619,0.007614320645706483,0.043869876493960284],\"type\":\"bar\",\"xaxis\":\"x5\",\"yaxis\":\"y5\"},{\"marker\":{\"color\":\"red\"},\"name\":\"exp:1200 s\",\"x\":[\"Glc\",\"Man\",\"All\",\"Gal\",\"Alt\",\"Tal\",\"Gul\",\"Ido\"],\"y\":[0.0,0.04,0.04,0.0,0.9,0.0,0.0,0.02],\"type\":\"bar\",\"xaxis\":\"x6\",\"yaxis\":\"y6\"},{\"marker\":{\"color\":\"blue\"},\"name\":\"sim:1200 s\",\"x\":[\"Glc\",\"Man\",\"All\",\"Gal\",\"Alt\",\"Tal\",\"Gul\",\"Ido\"],\"y\":[0.0007205260064981079,0.05937989758732354,0.051542618660722,5.6974207420098975e-06,0.8812035583300634,0.0027527397928202744,0.00016220229380164153,0.004232759908029174],\"type\":\"bar\",\"xaxis\":\"x6\",\"yaxis\":\"y6\"},{\"marker\":{\"color\":\"red\"},\"name\":\"exp:1800 s\",\"x\":[\"Glc\",\"Man\",\"All\",\"Gal\",\"Alt\",\"Tal\",\"Gul\",\"Ido\"],\"y\":[0.009708737864077669,0.08737864077669903,0.08737864077669903,0.0,0.7961165048543689,0.0,0.0,0.019417475728155338],\"type\":\"bar\",\"xaxis\":\"x6\",\"yaxis\":\"y6\"},{\"marker\":{\"color\":\"blue\"},\"name\":\"sim:1800 s\",\"x\":[\"Glc\",\"Man\",\"All\",\"Gal\",\"Alt\",\"Tal\",\"Gul\",\"Ido\"],\"y\":[0.0025073093449971243,0.10420410507160481,0.09504493290404156,3.974941543690065e-05,0.7801627488377171,0.009940211570170165,0.0005917705071955295,0.007509172348836815],\"type\":\"bar\",\"xaxis\":\"x6\",\"yaxis\":\"y6\"},{\"marker\":{\"color\":\"red\"},\"name\":\"exp:2400 s\",\"x\":[\"Glc\",\"Man\",\"All\",\"Gal\",\"Alt\",\"Tal\",\"Gul\",\"Ido\"],\"y\":[0.018867924528301886,0.12264150943396226,0.16037735849056603,0.0,0.6226415094339622,0.02830188679245283,0.0,0.04716981132075472],\"type\":\"bar\",\"xaxis\":\"x6\",\"yaxis\":\"y6\"},{\"marker\":{\"color\":\"blue\"},\"name\":\"sim:2400 s\",\"x\":[\"Glc\",\"Man\",\"All\",\"Gal\",\"Alt\",\"Tal\",\"Gul\",\"Ido\"],\"y\":[0.00793391999958351,0.16401129729758632,0.1665895902729155,0.0002714336419109488,0.6129830363230955,0.0339364357779616,0.0020687685645185173,0.012205518122428118],\"type\":\"bar\",\"xaxis\":\"x6\",\"yaxis\":\"y6\"},{\"marker\":{\"color\":\"red\"},\"name\":\"exp:4920 s\",\"x\":[\"Glc\",\"Man\",\"All\",\"Gal\",\"Alt\",\"Tal\",\"Gul\",\"Ido\"],\"y\":[0.019417475728155338,0.18446601941747573,0.24271844660194175,0.0,0.4368932038834951,0.08737864077669903,0.0,0.02912621359223301],\"type\":\"bar\",\"xaxis\":\"x6\",\"yaxis\":\"y6\"},{\"marker\":{\"color\":\"blue\"},\"name\":\"sim:4920 s\",\"x\":[\"Glc\",\"Man\",\"All\",\"Gal\",\"Alt\",\"Tal\",\"Gul\",\"Ido\"],\"y\":[0.01896150739412164,0.20309075388538725,0.25477408118251144,0.0013834954098283668,0.40733031640295086,0.09196031444386649,0.005896908652734645,0.016602622628599312],\"type\":\"bar\",\"xaxis\":\"x6\",\"yaxis\":\"y6\"},{\"marker\":{\"color\":\"red\"},\"name\":\"exp:9720 s\",\"x\":[\"Glc\",\"Man\",\"All\",\"Gal\",\"Alt\",\"Tal\",\"Gul\",\"Ido\"],\"y\":[0.019801980198019802,0.1782178217821782,0.33663366336633666,0.0,0.2871287128712871,0.13861386138613863,0.0,0.039603960396039604],\"type\":\"bar\",\"xaxis\":\"x6\",\"yaxis\":\"y6\"},{\"marker\":{\"color\":\"blue\"},\"name\":\"sim:9720 s\",\"x\":[\"Glc\",\"Man\",\"All\",\"Gal\",\"Alt\",\"Tal\",\"Gul\",\"Ido\"],\"y\":[0.03063863685303067,0.19042517364880276,0.3258019802390389,0.004175764231743677,0.24576139787000206,0.17218859056604552,0.01195522385760899,0.019053232733727415],\"type\":\"bar\",\"xaxis\":\"x6\",\"yaxis\":\"y6\"},{\"marker\":{\"color\":\"red\"},\"name\":\"exp:1200 s\",\"x\":[\"Glc\",\"Man\",\"All\",\"Gal\",\"Alt\",\"Tal\",\"Gul\",\"Ido\"],\"y\":[0.0,0.0,0.08823529411764706,0.0,0.0,0.0,0.9117647058823529,0.0],\"type\":\"bar\",\"xaxis\":\"x7\",\"yaxis\":\"y7\"},{\"marker\":{\"color\":\"blue\"},\"name\":\"sim:1200 s\",\"x\":[\"Glc\",\"Man\",\"All\",\"Gal\",\"Alt\",\"Tal\",\"Gul\",\"Ido\"],\"y\":[0.0005893609219567883,5.341312229458007e-06,0.05987301596064901,0.010138092959792431,0.00016970779482424768,0.0003903287842764214,0.9257696579229536,0.0030644943433178976],\"type\":\"bar\",\"xaxis\":\"x7\",\"yaxis\":\"y7\"},{\"marker\":{\"color\":\"red\"},\"name\":\"exp:1800 s\",\"x\":[\"Glc\",\"Man\",\"All\",\"Gal\",\"Alt\",\"Tal\",\"Gul\",\"Ido\"],\"y\":[0.0,0.0,0.13,0.0,0.0,0.0,0.87,0.0],\"type\":\"bar\",\"xaxis\":\"x7\",\"yaxis\":\"y7\"},{\"marker\":{\"color\":\"blue\"},\"name\":\"sim:1800 s\",\"x\":[\"Glc\",\"Man\",\"All\",\"Gal\",\"Alt\",\"Tal\",\"Gul\",\"Ido\"],\"y\":[0.0021021833265075737,3.716460192300004e-05,0.11287994323559714,0.018577898825486123,0.0006192556778072143,0.001445203906841836,0.8587899054715779,0.005548444954259144],\"type\":\"bar\",\"xaxis\":\"x7\",\"yaxis\":\"y7\"},{\"marker\":{\"color\":\"red\"},\"name\":\"exp:2400 s\",\"x\":[\"Glc\",\"Man\",\"All\",\"Gal\",\"Alt\",\"Tal\",\"Gul\",\"Ido\"],\"y\":[0.0,0.0,0.2222222222222222,0.0,0.0,0.030303030303030304,0.7474747474747475,0.0],\"type\":\"bar\",\"xaxis\":\"x7\",\"yaxis\":\"y7\"},{\"marker\":{\"color\":\"blue\"},\"name\":\"sim:2400 s\",\"x\":[\"Glc\",\"Man\",\"All\",\"Gal\",\"Alt\",\"Tal\",\"Gul\",\"Ido\"],\"y\":[0.007001335616461728,0.0002546066627081381,0.2059938656908138,0.031882036701279995,0.0021613703424432106,0.0051940114458815705,0.7382023713827505,0.009310402157661112],\"type\":\"bar\",\"xaxis\":\"x7\",\"yaxis\":\"y7\"},{\"marker\":{\"color\":\"red\"},\"name\":\"exp:4920 s\",\"x\":[\"Glc\",\"Man\",\"All\",\"Gal\",\"Alt\",\"Tal\",\"Gul\",\"Ido\"],\"y\":[0.022222222222222223,0.0,0.34444444444444444,0.0,0.0,0.06666666666666667,0.5666666666666667,0.0],\"type\":\"bar\",\"xaxis\":\"x7\",\"yaxis\":\"y7\"},{\"marker\":{\"color\":\"blue\"},\"name\":\"sim:4920 s\",\"x\":[\"Glc\",\"Man\",\"All\",\"Gal\",\"Alt\",\"Tal\",\"Gul\",\"Ido\"],\"y\":[0.01827850347758483,0.0013056134480715765,0.33393961364572833,0.04584216195527078,0.006108576561787579,0.015410602348783472,0.5661536228237937,0.012961305738979752],\"type\":\"bar\",\"xaxis\":\"x7\",\"yaxis\":\"y7\"},{\"marker\":{\"color\":\"red\"},\"name\":\"exp:9720 s\",\"x\":[\"Glc\",\"Man\",\"All\",\"Gal\",\"Alt\",\"Tal\",\"Gul\",\"Ido\"],\"y\":[0.04597701149425287,0.0,0.42528735632183906,0.0,0.0,0.10344827586206896,0.42528735632183906,0.0],\"type\":\"bar\",\"xaxis\":\"x7\",\"yaxis\":\"y7\"},{\"marker\":{\"color\":\"blue\"},\"name\":\"sim:9720 s\",\"x\":[\"Glc\",\"Man\",\"All\",\"Gal\",\"Alt\",\"Tal\",\"Gul\",\"Ido\"],\"y\":[0.032918920529364036,0.003981309364898209,0.4517588806018153,0.05195432973590886,0.01212909515627129,0.032505489942092694,0.40040345575348535,0.014348518916164248],\"type\":\"bar\",\"xaxis\":\"x7\",\"yaxis\":\"y7\"},{\"marker\":{\"color\":\"red\"},\"name\":\"exp:1200 s\",\"x\":[\"Glc\",\"Man\",\"All\",\"Gal\",\"Alt\",\"Tal\",\"Gul\",\"Ido\"],\"y\":[0.0,0.0,0.01,0.0,0.02,0.12,0.0,0.85],\"type\":\"bar\",\"xaxis\":\"x8\",\"yaxis\":\"y8\"},{\"marker\":{\"color\":\"blue\"},\"name\":\"sim:1200 s\",\"x\":[\"Glc\",\"Man\",\"All\",\"Gal\",\"Alt\",\"Tal\",\"Gul\",\"Ido\"],\"y\":[1.2025202423816098e-05,0.00097266097906597,0.0006852757479669706,0.0005238916161225603,0.00596789406911227,0.13542048485867111,0.008747233575217816,0.8476705339514196],\"type\":\"bar\",\"xaxis\":\"x8\",\"yaxis\":\"y8\"},{\"marker\":{\"color\":\"red\"},\"name\":\"exp:1800 s\",\"x\":[\"Glc\",\"Man\",\"All\",\"Gal\",\"Alt\",\"Tal\",\"Gul\",\"Ido\"],\"y\":[0.0,0.0,0.08653846153846154,0.08653846153846154,0.019230769230769232,0.7115384615384616,0.0,0.09615384615384616],\"type\":\"bar\",\"xaxis\":\"x8\",\"yaxis\":\"y8\"},{\"marker\":{\"color\":\"blue\"},\"name\":\"sim:1800 s\",\"x\":[\"Glc\",\"Man\",\"All\",\"Gal\",\"Alt\",\"Tal\",\"Gul\",\"Ido\"],\"y\":[0.009665330243771869,0.047803741843295125,0.07940227477350713,0.038285499754550006,0.017933464508591693,0.715140636471724,0.027780482043613962,0.06398857036094613],\"type\":\"bar\",\"xaxis\":\"x8\",\"yaxis\":\"y8\"}],                        {\"template\":{\"data\":{\"histogram2dcontour\":[{\"type\":\"histogram2dcontour\",\"colorbar\":{\"outlinewidth\":0,\"ticks\":\"\"},\"colorscale\":[[0.0,\"#0d0887\"],[0.1111111111111111,\"#46039f\"],[0.2222222222222222,\"#7201a8\"],[0.3333333333333333,\"#9c179e\"],[0.4444444444444444,\"#bd3786\"],[0.5555555555555556,\"#d8576b\"],[0.6666666666666666,\"#ed7953\"],[0.7777777777777778,\"#fb9f3a\"],[0.8888888888888888,\"#fdca26\"],[1.0,\"#f0f921\"]]}],\"choropleth\":[{\"type\":\"choropleth\",\"colorbar\":{\"outlinewidth\":0,\"ticks\":\"\"}}],\"histogram2d\":[{\"type\":\"histogram2d\",\"colorbar\":{\"outlinewidth\":0,\"ticks\":\"\"},\"colorscale\":[[0.0,\"#0d0887\"],[0.1111111111111111,\"#46039f\"],[0.2222222222222222,\"#7201a8\"],[0.3333333333333333,\"#9c179e\"],[0.4444444444444444,\"#bd3786\"],[0.5555555555555556,\"#d8576b\"],[0.6666666666666666,\"#ed7953\"],[0.7777777777777778,\"#fb9f3a\"],[0.8888888888888888,\"#fdca26\"],[1.0,\"#f0f921\"]]}],\"heatmap\":[{\"type\":\"heatmap\",\"colorbar\":{\"outlinewidth\":0,\"ticks\":\"\"},\"colorscale\":[[0.0,\"#0d0887\"],[0.1111111111111111,\"#46039f\"],[0.2222222222222222,\"#7201a8\"],[0.3333333333333333,\"#9c179e\"],[0.4444444444444444,\"#bd3786\"],[0.5555555555555556,\"#d8576b\"],[0.6666666666666666,\"#ed7953\"],[0.7777777777777778,\"#fb9f3a\"],[0.8888888888888888,\"#fdca26\"],[1.0,\"#f0f921\"]]}],\"heatmapgl\":[{\"type\":\"heatmapgl\",\"colorbar\":{\"outlinewidth\":0,\"ticks\":\"\"},\"colorscale\":[[0.0,\"#0d0887\"],[0.1111111111111111,\"#46039f\"],[0.2222222222222222,\"#7201a8\"],[0.3333333333333333,\"#9c179e\"],[0.4444444444444444,\"#bd3786\"],[0.5555555555555556,\"#d8576b\"],[0.6666666666666666,\"#ed7953\"],[0.7777777777777778,\"#fb9f3a\"],[0.8888888888888888,\"#fdca26\"],[1.0,\"#f0f921\"]]}],\"contourcarpet\":[{\"type\":\"contourcarpet\",\"colorbar\":{\"outlinewidth\":0,\"ticks\":\"\"}}],\"contour\":[{\"type\":\"contour\",\"colorbar\":{\"outlinewidth\":0,\"ticks\":\"\"},\"colorscale\":[[0.0,\"#0d0887\"],[0.1111111111111111,\"#46039f\"],[0.2222222222222222,\"#7201a8\"],[0.3333333333333333,\"#9c179e\"],[0.4444444444444444,\"#bd3786\"],[0.5555555555555556,\"#d8576b\"],[0.6666666666666666,\"#ed7953\"],[0.7777777777777778,\"#fb9f3a\"],[0.8888888888888888,\"#fdca26\"],[1.0,\"#f0f921\"]]}],\"surface\":[{\"type\":\"surface\",\"colorbar\":{\"outlinewidth\":0,\"ticks\":\"\"},\"colorscale\":[[0.0,\"#0d0887\"],[0.1111111111111111,\"#46039f\"],[0.2222222222222222,\"#7201a8\"],[0.3333333333333333,\"#9c179e\"],[0.4444444444444444,\"#bd3786\"],[0.5555555555555556,\"#d8576b\"],[0.6666666666666666,\"#ed7953\"],[0.7777777777777778,\"#fb9f3a\"],[0.8888888888888888,\"#fdca26\"],[1.0,\"#f0f921\"]]}],\"mesh3d\":[{\"type\":\"mesh3d\",\"colorbar\":{\"outlinewidth\":0,\"ticks\":\"\"}}],\"scatter\":[{\"fillpattern\":{\"fillmode\":\"overlay\",\"size\":10,\"solidity\":0.2},\"type\":\"scatter\"}],\"parcoords\":[{\"type\":\"parcoords\",\"line\":{\"colorbar\":{\"outlinewidth\":0,\"ticks\":\"\"}}}],\"scatterpolargl\":[{\"type\":\"scatterpolargl\",\"marker\":{\"colorbar\":{\"outlinewidth\":0,\"ticks\":\"\"}}}],\"bar\":[{\"error_x\":{\"color\":\"#2a3f5f\"},\"error_y\":{\"color\":\"#2a3f5f\"},\"marker\":{\"line\":{\"color\":\"#E5ECF6\",\"width\":0.5},\"pattern\":{\"fillmode\":\"overlay\",\"size\":10,\"solidity\":0.2}},\"type\":\"bar\"}],\"scattergeo\":[{\"type\":\"scattergeo\",\"marker\":{\"colorbar\":{\"outlinewidth\":0,\"ticks\":\"\"}}}],\"scatterpolar\":[{\"type\":\"scatterpolar\",\"marker\":{\"colorbar\":{\"outlinewidth\":0,\"ticks\":\"\"}}}],\"histogram\":[{\"marker\":{\"pattern\":{\"fillmode\":\"overlay\",\"size\":10,\"solidity\":0.2}},\"type\":\"histogram\"}],\"scattergl\":[{\"type\":\"scattergl\",\"marker\":{\"colorbar\":{\"outlinewidth\":0,\"ticks\":\"\"}}}],\"scatter3d\":[{\"type\":\"scatter3d\",\"line\":{\"colorbar\":{\"outlinewidth\":0,\"ticks\":\"\"}},\"marker\":{\"colorbar\":{\"outlinewidth\":0,\"ticks\":\"\"}}}],\"scattermapbox\":[{\"type\":\"scattermapbox\",\"marker\":{\"colorbar\":{\"outlinewidth\":0,\"ticks\":\"\"}}}],\"scatterternary\":[{\"type\":\"scatterternary\",\"marker\":{\"colorbar\":{\"outlinewidth\":0,\"ticks\":\"\"}}}],\"scattercarpet\":[{\"type\":\"scattercarpet\",\"marker\":{\"colorbar\":{\"outlinewidth\":0,\"ticks\":\"\"}}}],\"carpet\":[{\"aaxis\":{\"endlinecolor\":\"#2a3f5f\",\"gridcolor\":\"white\",\"linecolor\":\"white\",\"minorgridcolor\":\"white\",\"startlinecolor\":\"#2a3f5f\"},\"baxis\":{\"endlinecolor\":\"#2a3f5f\",\"gridcolor\":\"white\",\"linecolor\":\"white\",\"minorgridcolor\":\"white\",\"startlinecolor\":\"#2a3f5f\"},\"type\":\"carpet\"}],\"table\":[{\"cells\":{\"fill\":{\"color\":\"#EBF0F8\"},\"line\":{\"color\":\"white\"}},\"header\":{\"fill\":{\"color\":\"#C8D4E3\"},\"line\":{\"color\":\"white\"}},\"type\":\"table\"}],\"barpolar\":[{\"marker\":{\"line\":{\"color\":\"#E5ECF6\",\"width\":0.5},\"pattern\":{\"fillmode\":\"overlay\",\"size\":10,\"solidity\":0.2}},\"type\":\"barpolar\"}],\"pie\":[{\"automargin\":true,\"type\":\"pie\"}]},\"layout\":{\"autotypenumbers\":\"strict\",\"colorway\":[\"#636efa\",\"#EF553B\",\"#00cc96\",\"#ab63fa\",\"#FFA15A\",\"#19d3f3\",\"#FF6692\",\"#B6E880\",\"#FF97FF\",\"#FECB52\"],\"font\":{\"color\":\"#2a3f5f\"},\"hovermode\":\"closest\",\"hoverlabel\":{\"align\":\"left\"},\"paper_bgcolor\":\"white\",\"plot_bgcolor\":\"#E5ECF6\",\"polar\":{\"bgcolor\":\"#E5ECF6\",\"angularaxis\":{\"gridcolor\":\"white\",\"linecolor\":\"white\",\"ticks\":\"\"},\"radialaxis\":{\"gridcolor\":\"white\",\"linecolor\":\"white\",\"ticks\":\"\"}},\"ternary\":{\"bgcolor\":\"#E5ECF6\",\"aaxis\":{\"gridcolor\":\"white\",\"linecolor\":\"white\",\"ticks\":\"\"},\"baxis\":{\"gridcolor\":\"white\",\"linecolor\":\"white\",\"ticks\":\"\"},\"caxis\":{\"gridcolor\":\"white\",\"linecolor\":\"white\",\"ticks\":\"\"}},\"coloraxis\":{\"colorbar\":{\"outlinewidth\":0,\"ticks\":\"\"}},\"colorscale\":{\"sequential\":[[0.0,\"#0d0887\"],[0.1111111111111111,\"#46039f\"],[0.2222222222222222,\"#7201a8\"],[0.3333333333333333,\"#9c179e\"],[0.4444444444444444,\"#bd3786\"],[0.5555555555555556,\"#d8576b\"],[0.6666666666666666,\"#ed7953\"],[0.7777777777777778,\"#fb9f3a\"],[0.8888888888888888,\"#fdca26\"],[1.0,\"#f0f921\"]],\"sequentialminus\":[[0.0,\"#0d0887\"],[0.1111111111111111,\"#46039f\"],[0.2222222222222222,\"#7201a8\"],[0.3333333333333333,\"#9c179e\"],[0.4444444444444444,\"#bd3786\"],[0.5555555555555556,\"#d8576b\"],[0.6666666666666666,\"#ed7953\"],[0.7777777777777778,\"#fb9f3a\"],[0.8888888888888888,\"#fdca26\"],[1.0,\"#f0f921\"]],\"diverging\":[[0,\"#8e0152\"],[0.1,\"#c51b7d\"],[0.2,\"#de77ae\"],[0.3,\"#f1b6da\"],[0.4,\"#fde0ef\"],[0.5,\"#f7f7f7\"],[0.6,\"#e6f5d0\"],[0.7,\"#b8e186\"],[0.8,\"#7fbc41\"],[0.9,\"#4d9221\"],[1,\"#276419\"]]},\"xaxis\":{\"gridcolor\":\"white\",\"linecolor\":\"white\",\"ticks\":\"\",\"title\":{\"standoff\":15},\"zerolinecolor\":\"white\",\"automargin\":true,\"zerolinewidth\":2},\"yaxis\":{\"gridcolor\":\"white\",\"linecolor\":\"white\",\"ticks\":\"\",\"title\":{\"standoff\":15},\"zerolinecolor\":\"white\",\"automargin\":true,\"zerolinewidth\":2},\"scene\":{\"xaxis\":{\"backgroundcolor\":\"#E5ECF6\",\"gridcolor\":\"white\",\"linecolor\":\"white\",\"showbackground\":true,\"ticks\":\"\",\"zerolinecolor\":\"white\",\"gridwidth\":2},\"yaxis\":{\"backgroundcolor\":\"#E5ECF6\",\"gridcolor\":\"white\",\"linecolor\":\"white\",\"showbackground\":true,\"ticks\":\"\",\"zerolinecolor\":\"white\",\"gridwidth\":2},\"zaxis\":{\"backgroundcolor\":\"#E5ECF6\",\"gridcolor\":\"white\",\"linecolor\":\"white\",\"showbackground\":true,\"ticks\":\"\",\"zerolinecolor\":\"white\",\"gridwidth\":2}},\"shapedefaults\":{\"line\":{\"color\":\"#2a3f5f\"}},\"annotationdefaults\":{\"arrowcolor\":\"#2a3f5f\",\"arrowhead\":0,\"arrowwidth\":1},\"geo\":{\"bgcolor\":\"white\",\"landcolor\":\"#E5ECF6\",\"subunitcolor\":\"white\",\"showland\":true,\"showlakes\":true,\"lakecolor\":\"white\"},\"title\":{\"x\":0.05},\"mapbox\":{\"style\":\"light\"}}},\"xaxis\":{\"anchor\":\"y\",\"domain\":[0.0,0.2275]},\"yaxis\":{\"anchor\":\"x\",\"domain\":[0.6000000000000001,1.0],\"range\":[0,1]},\"xaxis2\":{\"anchor\":\"y2\",\"domain\":[0.2575,0.485]},\"yaxis2\":{\"anchor\":\"x2\",\"domain\":[0.6000000000000001,1.0],\"range\":[0,1]},\"xaxis3\":{\"anchor\":\"y3\",\"domain\":[0.515,0.7425]},\"yaxis3\":{\"anchor\":\"x3\",\"domain\":[0.6000000000000001,1.0],\"range\":[0,1]},\"xaxis4\":{\"anchor\":\"y4\",\"domain\":[0.7725,1.0]},\"yaxis4\":{\"anchor\":\"x4\",\"domain\":[0.6000000000000001,1.0],\"range\":[0,1]},\"xaxis5\":{\"anchor\":\"y5\",\"domain\":[0.0,0.2275]},\"yaxis5\":{\"anchor\":\"x5\",\"domain\":[0.0,0.4],\"range\":[0,1]},\"xaxis6\":{\"anchor\":\"y6\",\"domain\":[0.2575,0.485]},\"yaxis6\":{\"anchor\":\"x6\",\"domain\":[0.0,0.4],\"range\":[0,1]},\"xaxis7\":{\"anchor\":\"y7\",\"domain\":[0.515,0.7425]},\"yaxis7\":{\"anchor\":\"x7\",\"domain\":[0.0,0.4],\"range\":[0,1]},\"xaxis8\":{\"anchor\":\"y8\",\"domain\":[0.7725,1.0]},\"yaxis8\":{\"anchor\":\"x8\",\"domain\":[0.0,0.4],\"range\":[0,1]},\"annotations\":[{\"font\":{\"size\":16},\"showarrow\":false,\"text\":\"glucose\",\"x\":0.11375,\"xanchor\":\"center\",\"xref\":\"paper\",\"y\":1.0,\"yanchor\":\"bottom\",\"yref\":\"paper\"},{\"font\":{\"size\":16},\"showarrow\":false,\"text\":\"mannose\",\"x\":0.37124999999999997,\"xanchor\":\"center\",\"xref\":\"paper\",\"y\":1.0,\"yanchor\":\"bottom\",\"yref\":\"paper\"},{\"font\":{\"size\":16},\"showarrow\":false,\"text\":\"allose\",\"x\":0.62875,\"xanchor\":\"center\",\"xref\":\"paper\",\"y\":1.0,\"yanchor\":\"bottom\",\"yref\":\"paper\"},{\"font\":{\"size\":16},\"showarrow\":false,\"text\":\"galactose\",\"x\":0.88625,\"xanchor\":\"center\",\"xref\":\"paper\",\"y\":1.0,\"yanchor\":\"bottom\",\"yref\":\"paper\"},{\"font\":{\"size\":16},\"showarrow\":false,\"text\":\"talose\",\"x\":0.11375,\"xanchor\":\"center\",\"xref\":\"paper\",\"y\":0.4,\"yanchor\":\"bottom\",\"yref\":\"paper\"},{\"font\":{\"size\":16},\"showarrow\":false,\"text\":\"altrose\",\"x\":0.37124999999999997,\"xanchor\":\"center\",\"xref\":\"paper\",\"y\":0.4,\"yanchor\":\"bottom\",\"yref\":\"paper\"},{\"font\":{\"size\":16},\"showarrow\":false,\"text\":\"gulose\",\"x\":0.62875,\"xanchor\":\"center\",\"xref\":\"paper\",\"y\":0.4,\"yanchor\":\"bottom\",\"yref\":\"paper\"},{\"font\":{\"size\":16},\"showarrow\":false,\"text\":\"idose\",\"x\":0.88625,\"xanchor\":\"center\",\"xref\":\"paper\",\"y\":0.4,\"yanchor\":\"bottom\",\"yref\":\"paper\"}],\"barmode\":\"group\",\"showlegend\":false,\"height\":400,\"width\":1400},                        {\"responsive\": true}                    ).then(function(){\n",
       "                            \n",
       "var gd = document.getElementById('a3214f1f-a9d0-4017-a0ab-2c944043b10e');\n",
       "var x = new MutationObserver(function (mutations, observer) {{\n",
       "        var display = window.getComputedStyle(gd).display;\n",
       "        if (!display || display === 'none') {{\n",
       "            console.log([gd, 'removed!']);\n",
       "            Plotly.purge(gd);\n",
       "            observer.disconnect();\n",
       "        }}\n",
       "}});\n",
       "\n",
       "// Listen for the removal of the full notebook cells\n",
       "var notebookContainer = gd.closest('#notebook-container');\n",
       "if (notebookContainer) {{\n",
       "    x.observe(notebookContainer, {childList: true});\n",
       "}}\n",
       "\n",
       "// Listen for the clearing of the current output cell\n",
       "var outputEl = gd.closest('.output');\n",
       "if (outputEl) {{\n",
       "    x.observe(outputEl, {childList: true});\n",
       "}}\n",
       "\n",
       "                        })                };                });            </script>        </div>"
      ]
     },
     "metadata": {},
     "output_type": "display_data"
    }
   ],
   "source": [
    "run_simulations()\n",
    "plot() # red is experiment, blue is simulated"
   ]
  },
  {
   "cell_type": "code",
   "execution_count": 83,
   "id": "01a8abb1-0fb0-4b2f-ad18-c8c6a03aea4c",
   "metadata": {},
   "outputs": [
    {
     "name": "stdout",
     "output_type": "stream",
     "text": [
      "Glc : 0.0159   Man : 0.0106   All : 0.0245   Gal : 0.0123   Alt : 0.0274   Tal : 0.0163   Gul : 0.0216   Ido : 0.0212     :::   0.0195\n"
     ]
    }
   ],
   "source": [
    "network = create_network(parameters)\n",
    "\n",
    "# run simulations\n",
    "losses = []\n",
    "report_string = \"\"\n",
    "for i,run in enumerate(experimental_runs):\n",
    "    initial_concentrations_dict = {\n",
    "        run.starting_sugar : 0.2,\n",
    "        catalyst_active : 0.2*0.02,\n",
    "    }\n",
    "    concentrations_df = network.simulate_timecourse(initial_concentrations_dict, t_span, t_eval)\n",
    "    loss = loss_function(run, concentrations_df)\n",
    "    report_string += f\"{sugar_abbreviations[i].strip()} : {loss:.4f}   \"\n",
    "    losses.append(loss)\n",
    "\n",
    "# aggregate losses\n",
    "loss = rms(losses) #+ np.std(losses)\n",
    "print(f\"{report_string}  ::: {loss:8.4f}\")"
   ]
  },
  {
   "cell_type": "code",
   "execution_count": 84,
   "id": "b3e7180f-14a9-4868-a5db-4ef920e3f0ac",
   "metadata": {},
   "outputs": [
    {
     "name": "stdout",
     "output_type": "stream",
     "text": [
      "Name                                          Value      Min      Max   Stderr     Vary     Expr Brute_Step\n",
      "All_Gul_log10_base_rate_constant             -2.398       -3       -1     None     True     None     None\n",
      "All_Gul_log10_selectivity                    -1.041       -2        2     None     True     None     None\n",
      "Alt_All_log10_base_rate_constant             -2.432       -3       -1     None     True     None     None\n",
      "Alt_All_log10_selectivity                         1       -2        2     None     True     None     None\n",
      "Alt_Ido_log10_base_rate_constant                 -3       -3       -1     None     True     None     None\n",
      "Alt_Ido_log10_selectivity                         0       -2        2     None     True     None     None\n",
      "Gal_Tal_log10_base_rate_constant             -2.523       -3       -1     None     True     None     None\n",
      "Gal_Tal_log10_selectivity                         1       -2        2     None     True     None     None\n",
      "Glc_All_log10_base_rate_constant             -1.886       -3       -1     None     True     None     None\n",
      "Glc_All_log10_selectivity                         1       -2        2     None     True     None     None\n",
      "Glc_Gal_log10_base_rate_constant                 -3       -3       -1     None     True     None     None\n",
      "Glc_Gal_log10_selectivity                    -0.301       -2        2     None     True     None     None\n",
      "Glc_Man_log10_base_rate_constant                 -3       -3       -1     None     True     None     None\n",
      "Glc_Man_log10_selectivity                   -0.4771       -2        2     None     True     None     None\n",
      "Gul_Gal_log10_base_rate_constant             -2.398       -3       -1     None     True     None     None\n",
      "Gul_Gal_log10_selectivity                   -0.4771       -2        2     None     True     None     None\n",
      "Ido_Gul_log10_base_rate_constant                 -3       -3       -1     None     True     None     None\n",
      "Ido_Gul_log10_selectivity                     0.301       -2        2     None     True     None     None\n",
      "Man_Alt_log10_base_rate_constant                 -2       -3       -1     None     True     None     None\n",
      "Man_Alt_log10_selectivity                    -0.301       -2        2     None     True     None     None\n",
      "Tal_Ido_log10_base_rate_constant             -2.252       -3       -1     None     True     None     None\n",
      "Tal_Ido_log10_selectivity                    -1.146       -2        2     None     True     None     None\n",
      "Tal_Man_log10_base_rate_constant             -2.301       -3       -1     None     True     None     None\n",
      "Tal_Man_log10_selectivity                    -1.079       -2        2     None     True     None     None\n",
      "log10_catalyst_deactivation_rate_constant    -4.854       -6       -4     None    False     None     None\n"
     ]
    }
   ],
   "source": [
    "parameters.pretty_print()"
   ]
  },
  {
   "cell_type": "code",
   "execution_count": 85,
   "id": "d9be51d8-4b48-4098-ae97-ced6f6446ad8",
   "metadata": {},
   "outputs": [],
   "source": [
    "# simulate each experimental run for one set of parameters\n",
    "def trial(x):\n",
    "    global iteration, best_loss\n",
    "    iteration += 1\n",
    "    network = create_network(x)\n",
    "\n",
    "    # run simulations\n",
    "    losses = []\n",
    "    #x.pretty_print()\n",
    "    report_string = \"\"\n",
    "    for i,run in enumerate(experimental_runs, start=1):\n",
    "        initial_concentrations_dict = {\n",
    "            run.starting_sugar : 0.2,\n",
    "            catalyst_active : 0.2*0.02,\n",
    "        }\n",
    "        concentrations_df = network.simulate_timecourse(initial_concentrations_dict, t_span, t_eval)\n",
    "        loss = loss_function(run, concentrations_df)\n",
    "        report_string += f\"{loss:8.4f} \"\n",
    "        losses.append(loss)\n",
    "\n",
    "    # aggregate losses\n",
    "    loss = rms(losses) #+ np.std(losses)\n",
    "    if not best_loss or loss < best_loss:\n",
    "        best_loss = loss\n",
    "\n",
    "    # report progress\n",
    "    print(f\"{report_string}  ::: {loss:8.4f} (best={best_loss:8.4f})  (iteration={iteration})\", end=\"\\r\", flush=True)\n",
    "    if iteration == 1:\n",
    "        print()\n",
    "    return loss"
   ]
  },
  {
   "cell_type": "code",
   "execution_count": 86,
   "id": "42f615d3-9908-48ac-a284-9ed9fc814596",
   "metadata": {},
   "outputs": [
    {
     "name": "stdout",
     "output_type": "stream",
     "text": [
      "  0.0159   0.0106   0.0245   0.0123   0.0274   0.0163   0.0216   0.0212   :::   0.0195 (best=  0.0195)  (iteration=1)\n",
      "  0.0141   0.0078   0.0110   0.0092   0.0132   0.0106   0.0221   0.0199   :::   0.0143 (best=  0.0143)  (iteration=501)\r"
     ]
    }
   ],
   "source": [
    "# run the optimization\n",
    "# def iter_cb(parameters, iteration, residual):\n",
    "#     print(f\"iteration {iteration:5d}   loss = {residual:12.4f}\", flush=True)\n",
    "iteration = 0\n",
    "best_loss = None\n",
    "results = lmfit.minimize(trial, parameters, method=\"cg\", max_nfev=500)\n",
    "#results = lmfit.minimize(trial, results.params, method=\"cg\", max_nfev=2000)"
   ]
  },
  {
   "cell_type": "code",
   "execution_count": 87,
   "id": "cf85bf13-f242-4cc1-8b93-886ce704b5a7",
   "metadata": {},
   "outputs": [
    {
     "name": "stdout",
     "output_type": "stream",
     "text": [
      "[[Fit Statistics]]\n",
      "    # fitting method   = CG\n",
      "    # function evals   = 501\n",
      "    # data points      = 1\n",
      "    # variables        = 24\n",
      "    chi-square         = 2.0489e-04\n",
      "    reduced chi-square = 2.0489e-04\n",
      "    Akaike info crit   = 39.5069837\n",
      "    Bayesian info crit = -8.49301634\n",
      "##  Warning: uncertainties could not be estimated:\n",
      "    this fitting method does not natively calculate uncertainties\n",
      "    and numdifftools is not installed for lmfit to do this. Use\n",
      "    `pip install numdifftools` for lmfit to estimate uncertainties\n",
      "    with this fitting method.\n",
      "[[Variables]]\n",
      "    Glc_All_log10_base_rate_constant:          -2.03261936 (init = -1.886057)\n",
      "    Glc_All_log10_selectivity:                  1.23298724 (init = 1)\n",
      "    Glc_Gal_log10_base_rate_constant:          -3.00000000 (init = -3)\n",
      "    Glc_Gal_log10_selectivity:                 -0.39024911 (init = -0.30103)\n",
      "    Glc_Man_log10_base_rate_constant:          -3.00000000 (init = -3)\n",
      "    Glc_Man_log10_selectivity:                 -0.69597000 (init = -0.4771213)\n",
      "    All_Gul_log10_base_rate_constant:          -2.57584556 (init = -2.39794)\n",
      "    All_Gul_log10_selectivity:                 -1.36452853 (init = -1.041393)\n",
      "    Gul_Gal_log10_base_rate_constant:          -2.50947034 (init = -2.39794)\n",
      "    Gul_Gal_log10_selectivity:                 -0.58796066 (init = -0.4771213)\n",
      "    Gal_Tal_log10_base_rate_constant:          -2.52682907 (init = -2.522879)\n",
      "    Gal_Tal_log10_selectivity:                  0.97586796 (init = 1)\n",
      "    Tal_Man_log10_base_rate_constant:          -2.57662550 (init = -2.30103)\n",
      "    Tal_Man_log10_selectivity:                 -1.54973787 (init = -1.079181)\n",
      "    Man_Alt_log10_base_rate_constant:          -2.03014976 (init = -2)\n",
      "    Man_Alt_log10_selectivity:                 -0.26267771 (init = -0.30103)\n",
      "    Alt_All_log10_base_rate_constant:          -2.61345169 (init = -2.431798)\n",
      "    Alt_All_log10_selectivity:                  1.26334277 (init = 1)\n",
      "    Alt_Ido_log10_base_rate_constant:          -3.00000000 (init = -3)\n",
      "    Alt_Ido_log10_selectivity:                  0.07225519 (init = 0)\n",
      "    Tal_Ido_log10_base_rate_constant:          -2.49864572 (init = -2.251812)\n",
      "    Tal_Ido_log10_selectivity:                 -1.36926333 (init = -1.146128)\n",
      "    Ido_Gul_log10_base_rate_constant:          -3.00000000 (init = -3)\n",
      "    Ido_Gul_log10_selectivity:                  0.28770853 (init = 0.30103)\n",
      "    log10_catalyst_deactivation_rate_constant: -4.853872 (fixed)\n",
      "\n",
      "Glc_All_log10_base_rate_constant                 9276           17\n",
      "Glc_Gal_log10_base_rate_constant                 1000           -2\n",
      "Glc_Man_log10_base_rate_constant                 1000           -5\n",
      "All_Gul_log10_base_rate_constant                 2656          -23\n",
      "Gul_Gal_log10_base_rate_constant                 3094           -4\n",
      "Gal_Tal_log10_base_rate_constant                 2973            9\n",
      "Tal_Man_log10_base_rate_constant                 2651          -35\n",
      "Man_Alt_log10_base_rate_constant                 9329           -2\n",
      "Alt_All_log10_base_rate_constant                 2435           18\n",
      "Alt_Ido_log10_base_rate_constant                 1000            1\n",
      "Tal_Ido_log10_base_rate_constant                 3172          -23\n",
      "Ido_Gul_log10_base_rate_constant                 1000            2\n",
      "log10_catalyst_deactivation_rate_constant          14   \n"
     ]
    }
   ],
   "source": [
    "print(lmfit.fit_report(results))\n",
    "print()\n",
    "print_count = 0\n",
    "# params is the best params (see lmfit docs)\n",
    "for name, param in results.params.items():\n",
    "    print_count += 1\n",
    "    value = np.power(10.0, param.value)\n",
    "    if \"rate\" in name:\n",
    "        value = value*1e6\n",
    "    if print_count % 2:\n",
    "        print(f\"{name:42s} {value:10.0f}   \", end=\"\")\n",
    "    else:\n",
    "        if value < 1:\n",
    "            value = -1/value\n",
    "        print(f\"{value:10.0f}\")\n",
    "print()"
   ]
  },
  {
   "cell_type": "code",
   "execution_count": null,
   "id": "a321689a-85e4-4400-b74b-4dd603c22bee",
   "metadata": {},
   "outputs": [],
   "source": [
    "def create_deuterated_network(x, abundance=0.7, commitment=1000.0):\n",
    "    reactions_dict = {}\n",
    "\n",
    "    for connection in CONNECTIONS:\n",
    "        base_rate_constant = np.power(10, x[f\"{connection}_log10_base_rate_constant\"])\n",
    "        selectivity = np.power(10, x[f\"{connection}_log10_selectivity\"])\n",
    "        add_connection(reactions_dict, connection, base_rate_constant, selectivity)\n",
    "\n",
    "    catalyst_deactivation_reaction = Reaction(catalyst_active, catalyst_dead, reversible=False)\n",
    "    reactions_dict[catalyst_deactivation_reaction] = np.power(10.0,x[\"log10_catalyst_deactivation_rate_constant\"])\n",
    "    \n",
    "    network = Network(reactions_dict, fixed_concentrations=None)\n",
    "    return network"
   ]
  }
 ],
 "metadata": {
  "kernelspec": {
   "display_name": "Python 3",
   "language": "python",
   "name": "python3"
  },
  "language_info": {
   "codemirror_mode": {
    "name": "ipython",
    "version": 3
   },
   "file_extension": ".py",
   "mimetype": "text/x-python",
   "name": "python",
   "nbconvert_exporter": "python",
   "pygments_lexer": "ipython3",
   "version": "3.9.5"
  }
 },
 "nbformat": 4,
 "nbformat_minor": 5
}
