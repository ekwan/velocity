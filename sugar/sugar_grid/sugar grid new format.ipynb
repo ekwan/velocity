{
 "cells": [
  {
   "cell_type": "code",
   "execution_count": 1,
   "id": "f91ff7b3-331a-4d37-9221-87c17aa5c96a",
   "metadata": {},
   "outputs": [],
   "source": [
    "import sys\n",
    "sys.path[0]=\"/Users/kwaneu/research/velocity/\"\n",
    "#print(sys.path)\n",
    "import pandas as pd\n",
    "import numpy as np\n",
    "import velocity\n",
    "from velocity.chemistry import Species, Reaction, Network\n",
    "from math import sqrt\n",
    "import lmfit\n",
    "from tqdm.notebook import tqdm\n",
    "from IPython.display import display, HTML\n",
    "import matplotlib\n",
    "matplotlib.use(\"Agg\")\n",
    "import matplotlib.pyplot as plt\n",
    "%matplotlib inline\n",
    "import plotly.graph_objects as go\n",
    "from plotly.subplots import make_subplots"
   ]
  },
  {
   "cell_type": "code",
   "execution_count": 67,
   "id": "7171aacb-9c33-4836-b2d5-347123c33117",
   "metadata": {},
   "outputs": [],
   "source": [
    "# settings\n",
    "observations_filename = \"observations new.xlsx\"  # spreadsheet filename\n",
    "\n",
    "# parameter bounds\n",
    "min_log10_base_rate_constant = -4\n",
    "max_log10_base_rate_constant = -1\n",
    "min_log10_selectivity = -1\n",
    "max_log10_selectivity = 1\n",
    "min_log10_catalyst_deactivation_rate_constant = -6\n",
    "default_log10_catalyst_deactivation_rate_constant = np.log10(0.000014)\n",
    "max_log10_catalyst_deactivation_rate_constant = -4"
   ]
  },
  {
   "cell_type": "code",
   "execution_count": 68,
   "id": "cc8a6fcc-8963-4ecf-bc15-4c60e9afd69d",
   "metadata": {},
   "outputs": [],
   "source": [
    "# setup sugars\n",
    "glucose = Species(\"Glc\", \"glucose\")\n",
    "mannose = Species(\"Man\", \"mannose\")\n",
    "altrose = Species(\"Alt\", \"altrose\")\n",
    "allose = Species(\"All\", \"allose\")\n",
    "gulose = Species(\"Gul\", \"gulose\")\n",
    "galactose = Species(\"Gal\", \"galactose\")\n",
    "talose = Species(\"Tal\", \"talose\")\n",
    "idose = Species(\"Ido\", \"idose\")\n",
    "\n",
    "# must match order in spreadsheet!\n",
    "sugars = [ glucose, mannose, allose, galactose, altrose, talose, gulose, idose ]\n",
    "sugars_dict = { s.abbreviation : s for s in sugars }\n",
    "sugar_abbreviations = [ s.abbreviation for s in sugars ]\n",
    "\n",
    "# setup catalyst\n",
    "catalyst_active = Species(\"cat\", \"catalyst (active)\")\n",
    "catalyst_dead = Species(\"dead\", \"catalyst (dead)\")\n",
    "\n",
    "# these are the network connections\n",
    "CONNECTIONS = [\"Glc_All\",  \"Glc_Gal\",  \"Glc_Man\",\n",
    "               \"All_Gul\",  \"Gul_Gal\",  \"Gal_Tal\",\n",
    "               \"Tal_Man\",  \"Man_Alt\",  \"Alt_All\",\n",
    "               \"Alt_Ido\",  \"Tal_Ido\",  \"Ido_Gul\"]"
   ]
  },
  {
   "cell_type": "code",
   "execution_count": 69,
   "id": "faa25d24-5685-4258-bad1-1f8d34acb064",
   "metadata": {},
   "outputs": [],
   "source": [
    "def add_connection(reactions_dict, connection_string, base_rate_constant, selectivity):\n",
    "    sugar1, sugar2 = connection_string.split(\"_\")\n",
    "    sugar1 = sugars_dict[sugar1]\n",
    "    sugar2 = sugars_dict[sugar2]\n",
    "\n",
    "    jk1 = base_rate_constant*sqrt(selectivity)\n",
    "    jk2 = base_rate_constant/sqrt(selectivity)\n",
    "    reaction = Reaction({sugar1:1, catalyst_active:1}, {sugar2:1, catalyst_active:1}, reversible=True)\n",
    "    reactions_dict[reaction] = (jk1,jk2)"
   ]
  },
  {
   "cell_type": "code",
   "execution_count": 70,
   "id": "24e9691c-9e3f-481d-831c-326a1fbcf36d",
   "metadata": {},
   "outputs": [],
   "source": [
    "def create_network(x):\n",
    "    reactions_dict = {}\n",
    "\n",
    "    for connection in CONNECTIONS:\n",
    "        base_rate_constant = np.power(10, x[f\"{connection}_log10_base_rate_constant\"])\n",
    "        selectivity = np.power(10, x[f\"{connection}_log10_selectivity\"])\n",
    "        add_connection(reactions_dict, connection, base_rate_constant, selectivity)\n",
    "\n",
    "    catalyst_deactivation_reaction = Reaction(catalyst_active, catalyst_dead, reversible=False)\n",
    "    reactions_dict[catalyst_deactivation_reaction] = np.power(10.0,x[\"log10_catalyst_deactivation_rate_constant\"])\n",
    "    \n",
    "    network = Network(reactions_dict, fixed_concentrations=None)\n",
    "    return network"
   ]
  },
  {
   "cell_type": "code",
   "execution_count": 71,
   "id": "b1c976eb-541c-4bda-b144-17eb0f3fb23e",
   "metadata": {},
   "outputs": [],
   "source": [
    "def add_parameters(connection, base_rate_constant, selectivity, vary=(False,False)):\n",
    "    vary_rate, vary_selectivity = vary\n",
    "    parameter = lmfit.Parameter(\n",
    "        name = f\"{connection}_log10_base_rate_constant\",\n",
    "        min = min_log10_base_rate_constant,\n",
    "        value = np.log10(base_rate_constant*1e-6),\n",
    "        max = max_log10_base_rate_constant,\n",
    "        vary = True\n",
    "    )\n",
    "    parameters.add(parameter)\n",
    "\n",
    "    parameter = lmfit.Parameter(\n",
    "        name = f\"{connection}_log10_selectivity\",\n",
    "        min = min_log10_selectivity,\n",
    "        value = np.log10(convert(selectivity)),\n",
    "        max = max_log10_selectivity,\n",
    "        vary = True\n",
    "    )\n",
    "    parameters.add(parameter)"
   ]
  },
  {
   "cell_type": "code",
   "execution_count": 72,
   "id": "06284050-8bcb-46e6-a4e8-d310fe2e12ed",
   "metadata": {},
   "outputs": [],
   "source": [
    "# root mean square average\n",
    "def rms(x):\n",
    "    assert isinstance(x, (list,np.ndarray))\n",
    "    assert len(x) > 0\n",
    "    return np.sqrt(np.mean(np.square((x))))"
   ]
  },
  {
   "cell_type": "code",
   "execution_count": 73,
   "id": "fc359a42-db0f-4e84-bc6d-2ecf01535995",
   "metadata": {},
   "outputs": [],
   "source": [
    "def convert(selectivity):\n",
    "    \"\"\"Converts negative selectivites into inverse selectivities.\n",
    "\n",
    "    Leaves positive selectivities untouched.\n",
    "\n",
    "    Args:\n",
    "        selectivity (int or float): The selectivity to convert.\n",
    "\n",
    "    Returns:\n",
    "        selectivity (float): The converted selectivity.\n",
    "    \"\"\"\n",
    "    selectivity = float(selectivity)\n",
    "    if selectivity < 0.0:\n",
    "        selectivity = -1.0/selectivity\n",
    "    return selectivity"
   ]
  },
  {
   "cell_type": "code",
   "execution_count": 74,
   "id": "79443621-88f4-4d2c-82c1-36ba39a1d8cf",
   "metadata": {},
   "outputs": [],
   "source": [
    "# represents a single experimental isomerization run\n",
    "class ExperimentalRun():\n",
    "    def __init__(self, initial_concentrations_dict, description):\n",
    "        self.initial_concentrations_dict = initial_concentrations_dict\n",
    "        self.description = description\n",
    "        self.observation_times = []          # list of floats\n",
    "        self.observations = []               # list of np.array (float),\n",
    "                                             # where the outer index parallels observation_times\n",
    "                                             # and the inner index parallels sugars\n",
    "\n",
    "    def add_observation(self, observation_time, observed_mole_fractions):\n",
    "        assert isinstance(observation_time, (int,float)) and observation_time > 0.0\n",
    "        self.observation_times.append(float(observation_time))\n",
    "        if isinstance(observed_mole_fractions, np.ndarray):\n",
    "            observed_mole_fractions = list(observed_mole_fractions)\n",
    "        assert isinstance(observed_mole_fractions, list)\n",
    "        assert len(observed_mole_fractions) == len(sugars)\n",
    "        for i in observed_mole_fractions:\n",
    "            assert isinstance(i, (int,float)) and i >= 0.0\n",
    "        observed_mole_fractions = np.array(observed_mole_fractions, dtype=float)\n",
    "        observed_mole_fractions = observed_mole_fractions / np.sum(observed_mole_fractions)\n",
    "        self.observations.append(observed_mole_fractions)"
   ]
  },
  {
   "cell_type": "code",
   "execution_count": 75,
   "id": "660fd282-fd6a-4deb-bbab-e4e1e4f6027a",
   "metadata": {},
   "outputs": [],
   "source": [
    "observations_df = pd.read_excel(observations_filename)\n",
    "expected_columns = [\"Run\", \"Time\", \"Glc\", \"Man\", \"All\", \"Gal\", \"Alt\", \"Tal\", \"Gul\", \"Ido\"]\n",
    "for s in expected_columns[2:]:\n",
    "    assert s in sugars_dict\n",
    "assert len(observations_df.columns) == len(expected_columns)\n",
    "for c1,c2 in zip(observations_df.columns, expected_columns):\n",
    "    assert c1 == c2\n",
    "current_run = None\n",
    "current_run_number = 0\n",
    "experimental_runs = []\n",
    "for _,row in observations_df.iterrows():\n",
    "    run_number, time, *observations = row\n",
    "    for o in observations:\n",
    "        assert 0.0 <= o <= 100.0\n",
    "    observations = np.array(observations)\n",
    "    observations = observations / np.sum(observations)\n",
    "    \n",
    "    if run_number != current_run_number:\n",
    "        if current_run:\n",
    "            experimental_runs.append(current_run)\n",
    "        assert run_number == current_run_number + 1\n",
    "        assert time == 0.0, f\"expected t=0 but got t={time}\"\n",
    "        initial_concentrations_dict = {\n",
    "            catalyst_active : 0.2*0.02,\n",
    "        }\n",
    "        description = \"start = \"\n",
    "        for sugar,mole_fraction in zip(expected_columns[2:], observations):\n",
    "            if mole_fraction > 0.0:\n",
    "                sugar = sugars_dict[sugar]\n",
    "                initial_concentrations_dict[sugar] = 0.2 * mole_fraction\n",
    "                description += f\"{mole_fraction*100:.0f}% {sugar.description} \"\n",
    "        current_run = ExperimentalRun(initial_concentrations_dict, description.strip())\n",
    "        current_run_number = run_number\n",
    "    elif run_number == current_run_number:\n",
    "        current_run.add_observation(time, observations)\n",
    "    else:\n",
    "        raise ValueError(\"impossible\")\n",
    "\n",
    "if current_run:\n",
    "    experimental_runs.append(current_run)"
   ]
  },
  {
   "cell_type": "code",
   "execution_count": 76,
   "id": "f52c4d75-5e10-4cc2-a9e2-76300f725a1e",
   "metadata": {},
   "outputs": [
    {
     "name": "stdout",
     "output_type": "stream",
     "text": [
      "Read 14 experimental runs.\n",
      "Will evaluate these times within (0.0, 16920.0) s:\n",
      "[1200.0, 2400.0, 4800.0, 4920.0, 9600.0, 9720.0, 16800.0, 16920.0]\n",
      "\n"
     ]
    }
   ],
   "source": [
    "# generate times to run simulation over\n",
    "all_times = set()\n",
    "for r in experimental_runs:\n",
    "    all_times.update(r.observation_times)\n",
    "all_times = list(sorted(all_times))\n",
    "t_span = (0.0, all_times[-1])\n",
    "t_eval = np.array(all_times)\n",
    "print(f\"Read {len(experimental_runs)} experimental runs.\")\n",
    "print(f\"Will evaluate these times within {t_span} s:\")\n",
    "print(all_times)\n",
    "print()"
   ]
  },
  {
   "cell_type": "code",
   "execution_count": 77,
   "id": "73f3b49e-0113-495d-9fd3-ed3313f4030f",
   "metadata": {},
   "outputs": [],
   "source": [
    "# run simulations\n",
    "def run_simulations():\n",
    "    network = create_network(parameters)\n",
    "    for run in experimental_runs:\n",
    "        concentrations_df = network.simulate_timecourse(run.initial_concentrations_dict, t_span, t_eval)\n",
    "        run.simulation_df = concentrations_df"
   ]
  },
  {
   "cell_type": "code",
   "execution_count": 78,
   "id": "f1b42458-d879-46da-b656-7dd84138bfc5",
   "metadata": {},
   "outputs": [],
   "source": [
    "def plot():\n",
    "    titles = [ e.description for e in experimental_runs ]\n",
    "    fig = make_subplots(rows=4, cols=4, subplot_titles=titles, vertical_spacing=0.1, horizontal_spacing=0.03)\n",
    "    for i,experimental_run in enumerate(experimental_runs):\n",
    "        # interleave observed and simulated data\n",
    "        simulation_df = experimental_run.simulation_df[sugar_abbreviations]\n",
    "        observation_times = experimental_run.observation_times\n",
    "        data_rows, labels = [], []\n",
    "        for j,experimental_observations in enumerate(experimental_run.observations):\n",
    "            data_rows.append(experimental_observations)\n",
    "            labels.append(f\"exp:{t_eval[j]:.0f} s\")\n",
    "            simulated_row = simulation_df.loc[observation_times[j]].to_numpy()\n",
    "            data_rows.append(simulated_row / np.sum(simulated_row))\n",
    "            labels.append(f\"sim:{t_eval[j]:.0f} s\")\n",
    "        results_df = pd.DataFrame(data_rows, index=labels, columns=sugar_abbreviations)\n",
    "\n",
    "        # create the bar objects\n",
    "        row = i // 4 + 1\n",
    "        col = i % 4 + 1\n",
    "        count = -1\n",
    "        colors = [\"red\",\"blue\"] * len(experimental_run.observations)\n",
    "        for label,df_row in results_df.iterrows():\n",
    "            count += 1 \n",
    "            bar = go.Bar(name=label, x=sugar_abbreviations, y=df_row, marker_color=colors[count])\n",
    "            fig.add_trace(bar, row=row, col=col)\n",
    "        fig.update_yaxes(range=[0,1], row=row, col=col)\n",
    "\n",
    "    fig.update_layout(barmode=\"group\", showlegend=False, height=800, width=1400)\n",
    "    fig.show()\n",
    "    "
   ]
  },
  {
   "cell_type": "code",
   "execution_count": 79,
   "id": "c7bcf689-b781-431c-bbc4-f8a6151369e6",
   "metadata": {},
   "outputs": [],
   "source": [
    "# calculate the loss for a single simulation\n",
    "# treats all runs with same weight regardless of number of observations\n",
    "def loss_function(experimental_run, concentrations_df):\n",
    "    losses = []\n",
    "    for t,observed in zip(experimental_run.observation_times, experimental_run.observations):\n",
    "        df = concentrations_df.query(f\"index == {t}\")\n",
    "        assert len(df) == 1\n",
    "        simulated = df[sugar_abbreviations]\n",
    "        simulated = simulated.iloc[0].to_numpy()\n",
    "        simulated = simulated / np.sum(simulated)\n",
    "        loss = rms(simulated-observed)\n",
    "        losses.append(loss)\n",
    "    return rms(losses)"
   ]
  },
  {
   "cell_type": "code",
   "execution_count": 80,
   "id": "268fd96c-e679-4d71-8506-887978092a4e",
   "metadata": {},
   "outputs": [
    {
     "data": {
      "text/plain": [
       "'\\nadd_parameters(\"Glc_All\",  11776,  10, (True,True))\\nadd_parameters(\"Glc_Gal\",   3826,   1,  (True,True))\\nadd_parameters(\"Glc_Man\",   1316, -10,  (True,True))\\nadd_parameters(\"All_Gul\",   2889, -10, )\\nadd_parameters(\"Gul_Gal\",   7182,   1,)\\nadd_parameters(\"Gal_Tal\",   2719,  10,)\\nadd_parameters(\"Tal_Man\",   4889, -10, )\\nadd_parameters(\"Man_Alt\",   8314,  -2,  )\\nadd_parameters(\"Alt_All\",   2056,  10, )\\nadd_parameters(\"Alt_Ido\",   5401,   1, )\\nadd_parameters(\"Tal_Ido\",   4487, -10, )\\nadd_parameters(\"Ido_Gul\",   2518,   2, )\\n\\nadd_parameters(\"Glc_All\",  11736,  10)\\nadd_parameters(\"Glc_Gal\",   2414,   1)\\nadd_parameters(\"Glc_Man\",    936, -10)\\nadd_parameters(\"All_Gul\",   3703, -10)\\nadd_parameters(\"Gul_Gal\",   4163,   1)\\nadd_parameters(\"Gal_Tal\",   2814,  10)\\nadd_parameters(\"Tal_Man\",   5043, -10)\\nadd_parameters(\"Man_Alt\",   7914,  -2)\\nadd_parameters(\"Alt_All\",   3217,  10)\\nadd_parameters(\"Alt_Ido\",   2520,   1)\\nadd_parameters(\"Tal_Ido\",   5022, -10)\\nadd_parameters(\"Ido_Gul\",   1807,   2)\\n\\nadd_parameters(\"Glc_All\",  5000,  1)\\nadd_parameters(\"Glc_Gal\",  5000,   1)\\nadd_parameters(\"Glc_Man\",  5000, 1)\\nadd_parameters(\"All_Gul\",  5000, 1)\\nadd_parameters(\"Gul_Gal\",  5000,   1)\\nadd_parameters(\"Gal_Tal\",  5000,  1)\\nadd_parameters(\"Tal_Man\",   5000, 1)\\nadd_parameters(\"Man_Alt\",   5000,  1)\\nadd_parameters(\"Alt_All\",   5000,  1)\\nadd_parameters(\"Alt_Ido\",   5000,   1)\\nadd_parameters(\"Tal_Ido\",   5000, 1)\\nadd_parameters(\"Ido_Gul\",   5000,   1)\\n\\nadd_parameters(\"Glc_All\",  12212,  10)\\nadd_parameters(\"Glc_Gal\",  7509,   1)\\nadd_parameters(\"Glc_Man\",   100, 5)\\nadd_parameters(\"All_Gul\",  5006, -2)\\nadd_parameters(\"Gul_Gal\",   215,   -7)\\nadd_parameters(\"Gal_Tal\",   275,  -4)\\nadd_parameters(\"Tal_Man\",  8814, -5)\\nadd_parameters(\"Man_Alt\",   101,  2)\\nadd_parameters(\"Alt_All\",  6095,  6)\\nadd_parameters(\"Alt_Ido\",   794,   -3)\\nadd_parameters(\"Tal_Ido\",  5988, -9)\\nadd_parameters(\"Ido_Gul\",  5023,   -2)\\n\\nadd_parameters(\"Glc_All\", 20000, 10)\\nadd_parameters(\"Glc_Gal\",  5000,  1)\\nadd_parameters(\"Glc_Man\",  5000,  1)\\nadd_parameters(\"All_Gul\",  5000, -5)\\nadd_parameters(\"Gul_Gal\",  3000, -5)\\nadd_parameters(\"Gal_Tal\",  5000,  5)\\nadd_parameters(\"Tal_Man\",  5000, -5)\\nadd_parameters(\"Man_Alt\",  5000, -5)\\nadd_parameters(\"Alt_All\",  5000,  5)\\nadd_parameters(\"Alt_Ido\",  5000,  1)\\nadd_parameters(\"Tal_Ido\",  5000, -10)\\nadd_parameters(\"Ido_Gul\",  5000,  1)\\n\\nadd_parameters(\"Glc_All\", 11579, 10)\\nadd_parameters(\"Glc_Gal\",  2734,  2)\\nadd_parameters(\"Glc_Man\",  2239, -2)\\nadd_parameters(\"All_Gul\",  3600, -9)\\nadd_parameters(\"Gul_Gal\",  3000, -5)\\nadd_parameters(\"Gal_Tal\",  3117,  7)\\nadd_parameters(\"Tal_Man\",  5488, -8)\\nadd_parameters(\"Man_Alt\",  6163, -3)\\nadd_parameters(\"Alt_All\",  3100,  8)\\nadd_parameters(\"Alt_Ido\",  4473,  1)\\nadd_parameters(\"Tal_Ido\",  5018, -10)\\nadd_parameters(\"Ido_Gul\",  2187,  1)\\n\\nadd_parameters(\"Glc_All\", 11690,  10)\\nadd_parameters(\"Glc_Gal\",  2772,   1)\\nadd_parameters(\"Glc_Man\",  1791,  -3)\\nadd_parameters(\"All_Gul\",  3405, -10)\\nadd_parameters(\"Gul_Gal\",  5266,   1)\\nadd_parameters(\"Gal_Tal\",  2724,  10)\\nadd_parameters(\"Tal_Man\",  4949, -10)\\nadd_parameters(\"Man_Alt\",  7816,  -2)\\nadd_parameters(\"Alt_All\",  2852,  10)\\nadd_parameters(\"Alt_Ido\",  4305,   1)\\nadd_parameters(\"Tal_Ido\",  4891, -10)\\nadd_parameters(\"Ido_Gul\",  2080,   2)\\n'"
      ]
     },
     "execution_count": 80,
     "metadata": {},
     "output_type": "execute_result"
    }
   ],
   "source": [
    "'''\n",
    "add_parameters(\"Glc_All\",  11776,  10, (True,True))\n",
    "add_parameters(\"Glc_Gal\",   3826,   1,  (True,True))\n",
    "add_parameters(\"Glc_Man\",   1316, -10,  (True,True))\n",
    "add_parameters(\"All_Gul\",   2889, -10, )\n",
    "add_parameters(\"Gul_Gal\",   7182,   1,)\n",
    "add_parameters(\"Gal_Tal\",   2719,  10,)\n",
    "add_parameters(\"Tal_Man\",   4889, -10, )\n",
    "add_parameters(\"Man_Alt\",   8314,  -2,  )\n",
    "add_parameters(\"Alt_All\",   2056,  10, )\n",
    "add_parameters(\"Alt_Ido\",   5401,   1, )\n",
    "add_parameters(\"Tal_Ido\",   4487, -10, )\n",
    "add_parameters(\"Ido_Gul\",   2518,   2, )\n",
    "\n",
    "add_parameters(\"Glc_All\",  11736,  10)\n",
    "add_parameters(\"Glc_Gal\",   2414,   1)\n",
    "add_parameters(\"Glc_Man\",    936, -10)\n",
    "add_parameters(\"All_Gul\",   3703, -10)\n",
    "add_parameters(\"Gul_Gal\",   4163,   1)\n",
    "add_parameters(\"Gal_Tal\",   2814,  10)\n",
    "add_parameters(\"Tal_Man\",   5043, -10)\n",
    "add_parameters(\"Man_Alt\",   7914,  -2)\n",
    "add_parameters(\"Alt_All\",   3217,  10)\n",
    "add_parameters(\"Alt_Ido\",   2520,   1)\n",
    "add_parameters(\"Tal_Ido\",   5022, -10)\n",
    "add_parameters(\"Ido_Gul\",   1807,   2)\n",
    "\n",
    "add_parameters(\"Glc_All\",  5000,  1)\n",
    "add_parameters(\"Glc_Gal\",  5000,   1)\n",
    "add_parameters(\"Glc_Man\",  5000, 1)\n",
    "add_parameters(\"All_Gul\",  5000, 1)\n",
    "add_parameters(\"Gul_Gal\",  5000,   1)\n",
    "add_parameters(\"Gal_Tal\",  5000,  1)\n",
    "add_parameters(\"Tal_Man\",   5000, 1)\n",
    "add_parameters(\"Man_Alt\",   5000,  1)\n",
    "add_parameters(\"Alt_All\",   5000,  1)\n",
    "add_parameters(\"Alt_Ido\",   5000,   1)\n",
    "add_parameters(\"Tal_Ido\",   5000, 1)\n",
    "add_parameters(\"Ido_Gul\",   5000,   1)\n",
    "\n",
    "add_parameters(\"Glc_All\",  12212,  10)\n",
    "add_parameters(\"Glc_Gal\",  7509,   1)\n",
    "add_parameters(\"Glc_Man\",   100, 5)\n",
    "add_parameters(\"All_Gul\",  5006, -2)\n",
    "add_parameters(\"Gul_Gal\",   215,   -7)\n",
    "add_parameters(\"Gal_Tal\",   275,  -4)\n",
    "add_parameters(\"Tal_Man\",  8814, -5)\n",
    "add_parameters(\"Man_Alt\",   101,  2)\n",
    "add_parameters(\"Alt_All\",  6095,  6)\n",
    "add_parameters(\"Alt_Ido\",   794,   -3)\n",
    "add_parameters(\"Tal_Ido\",  5988, -9)\n",
    "add_parameters(\"Ido_Gul\",  5023,   -2)\n",
    "\n",
    "add_parameters(\"Glc_All\", 20000, 10)\n",
    "add_parameters(\"Glc_Gal\",  5000,  1)\n",
    "add_parameters(\"Glc_Man\",  5000,  1)\n",
    "add_parameters(\"All_Gul\",  5000, -5)\n",
    "add_parameters(\"Gul_Gal\",  3000, -5)\n",
    "add_parameters(\"Gal_Tal\",  5000,  5)\n",
    "add_parameters(\"Tal_Man\",  5000, -5)\n",
    "add_parameters(\"Man_Alt\",  5000, -5)\n",
    "add_parameters(\"Alt_All\",  5000,  5)\n",
    "add_parameters(\"Alt_Ido\",  5000,  1)\n",
    "add_parameters(\"Tal_Ido\",  5000, -10)\n",
    "add_parameters(\"Ido_Gul\",  5000,  1)\n",
    "\n",
    "add_parameters(\"Glc_All\", 11579, 10)\n",
    "add_parameters(\"Glc_Gal\",  2734,  2)\n",
    "add_parameters(\"Glc_Man\",  2239, -2)\n",
    "add_parameters(\"All_Gul\",  3600, -9)\n",
    "add_parameters(\"Gul_Gal\",  3000, -5)\n",
    "add_parameters(\"Gal_Tal\",  3117,  7)\n",
    "add_parameters(\"Tal_Man\",  5488, -8)\n",
    "add_parameters(\"Man_Alt\",  6163, -3)\n",
    "add_parameters(\"Alt_All\",  3100,  8)\n",
    "add_parameters(\"Alt_Ido\",  4473,  1)\n",
    "add_parameters(\"Tal_Ido\",  5018, -10)\n",
    "add_parameters(\"Ido_Gul\",  2187,  1)\n",
    "\n",
    "add_parameters(\"Glc_All\", 11690,  10)\n",
    "add_parameters(\"Glc_Gal\",  2772,   1)\n",
    "add_parameters(\"Glc_Man\",  1791,  -3)\n",
    "add_parameters(\"All_Gul\",  3405, -10)\n",
    "add_parameters(\"Gul_Gal\",  5266,   1)\n",
    "add_parameters(\"Gal_Tal\",  2724,  10)\n",
    "add_parameters(\"Tal_Man\",  4949, -10)\n",
    "add_parameters(\"Man_Alt\",  7816,  -2)\n",
    "add_parameters(\"Alt_All\",  2852,  10)\n",
    "add_parameters(\"Alt_Ido\",  4305,   1)\n",
    "add_parameters(\"Tal_Ido\",  4891, -10)\n",
    "add_parameters(\"Ido_Gul\",  2080,   2)\n",
    "'''"
   ]
  },
  {
   "cell_type": "code",
   "execution_count": 95,
   "id": "1ac55987-2e40-4eb1-82a6-47b467992c4c",
   "metadata": {},
   "outputs": [],
   "source": [
    "parameters = lmfit.Parameters()\n",
    "\n",
    "add_parameters(\"Glc_All\", 11413,  10)\n",
    "add_parameters(\"Glc_Gal\",  2788,   1)\n",
    "add_parameters(\"Glc_Man\",  1745,  -3)\n",
    "add_parameters(\"All_Gul\",  3408, -10)\n",
    "add_parameters(\"Gul_Gal\",  5165,   1)\n",
    "add_parameters(\"Gal_Tal\",  2556,  10)\n",
    "add_parameters(\"Tal_Man\",  4366, -10)\n",
    "add_parameters(\"Man_Alt\",  7893,  -2)\n",
    "add_parameters(\"Alt_All\",  2632,  10)\n",
    "add_parameters(\"Alt_Ido\",  4593,   1)\n",
    "add_parameters(\"Tal_Ido\",  4783, -10)\n",
    "add_parameters(\"Ido_Gul\",  2087,   2)\n",
    "\n",
    "parameter = lmfit.Parameter(\n",
    "    name = f\"log10_catalyst_deactivation_rate_constant\",\n",
    "    min = min_log10_catalyst_deactivation_rate_constant,\n",
    "    value = default_log10_catalyst_deactivation_rate_constant,\n",
    "    max = max_log10_catalyst_deactivation_rate_constant,\n",
    "    vary = False\n",
    ")\n",
    "parameters.add(parameter)\n",
    "#parameters.pretty_print()\n",
    "#print(f\"There are {len(parameters)} parameters.\\n\")"
   ]
  },
  {
   "cell_type": "code",
   "execution_count": 96,
   "id": "220e9e87-29a8-481f-886d-5540e3121bf2",
   "metadata": {},
   "outputs": [
    {
     "data": {
      "application/vnd.plotly.v1+json": {
       "config": {
        "plotlyServerURL": "https://plot.ly"
       },
       "data": [
        {
         "marker": {
          "color": "red"
         },
         "name": "exp:1200 s",
         "type": "bar",
         "x": [
          "Glc",
          "Man",
          "All",
          "Gal",
          "Alt",
          "Tal",
          "Gul",
          "Ido"
         ],
         "xaxis": "x",
         "y": [
          0.8282828282828283,
          0.010101010101010102,
          0.15151515151515152,
          0.010101010101010102,
          0,
          0,
          0,
          0
         ],
         "yaxis": "y"
        },
        {
         "marker": {
          "color": "blue"
         },
         "name": "sim:1200 s",
         "type": "bar",
         "x": [
          "Glc",
          "Man",
          "All",
          "Gal",
          "Alt",
          "Tal",
          "Gul",
          "Ido"
         ],
         "xaxis": "x",
         "y": [
          0.828465867906947,
          0.004145828822907294,
          0.15446943385424036,
          0.011635181520599782,
          0.000360300160147231,
          0.00037441336929532987,
          0.0005440831598595577,
          4.8912060035355075e-06
         ],
         "yaxis": "y"
        },
        {
         "marker": {
          "color": "red"
         },
         "name": "exp:2400 s",
         "type": "bar",
         "x": [
          "Glc",
          "Man",
          "All",
          "Gal",
          "Alt",
          "Tal",
          "Gul",
          "Ido"
         ],
         "xaxis": "x",
         "y": [
          0.6907216494845361,
          0.010309278350515464,
          0.28865979381443296,
          0.010309278350515464,
          0,
          0,
          0,
          0
         ],
         "yaxis": "y"
        },
        {
         "marker": {
          "color": "blue"
         },
         "name": "sim:2400 s",
         "type": "bar",
         "x": [
          "Glc",
          "Man",
          "All",
          "Gal",
          "Alt",
          "Tal",
          "Gul",
          "Ido"
         ],
         "xaxis": "x",
         "y": [
          0.6910387066076887,
          0.007162025964675804,
          0.27687553391577174,
          0.020335282787079995,
          0.0012717161536061952,
          0.0013443700517047326,
          0.0019386375029603832,
          3.3727016512360866e-05
         ],
         "yaxis": "y"
        },
        {
         "marker": {
          "color": "red"
         },
         "name": "exp:4800 s",
         "type": "bar",
         "x": [
          "Glc",
          "Man",
          "All",
          "Gal",
          "Alt",
          "Tal",
          "Gul",
          "Ido"
         ],
         "xaxis": "x",
         "y": [
          0.4742268041237113,
          0.010309278350515464,
          0.4845360824742268,
          0.020618556701030927,
          0,
          0.010309278350515464,
          0,
          0
         ],
         "yaxis": "y"
        },
        {
         "marker": {
          "color": "blue"
         },
         "name": "sim:4800 s",
         "type": "bar",
         "x": [
          "Glc",
          "Man",
          "All",
          "Gal",
          "Alt",
          "Tal",
          "Gul",
          "Ido"
         ],
         "xaxis": "x",
         "y": [
          0.4833431091232174,
          0.011078232722230748,
          0.4582508326951225,
          0.031945245092372114,
          0.004150186857387718,
          0.004560246185324911,
          0.0064482273484061225,
          0.00022391997593847752
         ],
         "yaxis": "y"
        },
        {
         "marker": {
          "color": "red"
         },
         "name": "exp:4920 s",
         "type": "bar",
         "x": [
          "Glc",
          "Man",
          "All",
          "Gal",
          "Alt",
          "Tal",
          "Gul",
          "Ido"
         ],
         "xaxis": "x",
         "y": [
          0.22680412371134023,
          0.010309278350515465,
          0.7010309278350516,
          0.04123711340206186,
          0,
          0.02061855670103093,
          0,
          0
         ],
         "yaxis": "y"
        },
        {
         "marker": {
          "color": "blue"
         },
         "name": "sim:4920 s",
         "type": "bar",
         "x": [
          "Glc",
          "Man",
          "All",
          "Gal",
          "Alt",
          "Tal",
          "Gul",
          "Ido"
         ],
         "xaxis": "x",
         "y": [
          0.2695861113868317,
          0.01404441519180895,
          0.6352716895860856,
          0.04034113456499018,
          0.01046219296993326,
          0.012451132421365106,
          0.016760405892041558,
          0.0010829179869435931
         ],
         "yaxis": "y"
        },
        {
         "marker": {
          "color": "red"
         },
         "name": "exp:9600 s",
         "type": "bar",
         "x": [
          "Glc",
          "Man",
          "All",
          "Gal",
          "Alt",
          "Tal",
          "Gul",
          "Ido"
         ],
         "xaxis": "x",
         "y": [
          0.1111111111111111,
          0.010101010101010102,
          0.7878787878787878,
          0.050505050505050504,
          0,
          0.04040404040404041,
          0,
          0
         ],
         "yaxis": "y"
        },
        {
         "marker": {
          "color": "blue"
         },
         "name": "sim:9600 s",
         "type": "bar",
         "x": [
          "Glc",
          "Man",
          "All",
          "Gal",
          "Alt",
          "Tal",
          "Gul",
          "Ido"
         ],
         "xaxis": "x",
         "y": [
          0.14503893470401338,
          0.015326732438670995,
          0.7232660769309901,
          0.0409443230451895,
          0.01804745305527366,
          0.024394969844373105,
          0.029910881061000014,
          0.003070628920489387
         ],
         "yaxis": "y"
        },
        {
         "marker": {
          "color": "red"
         },
         "name": "exp:1200 s",
         "type": "bar",
         "x": [
          "Glc",
          "Man",
          "All",
          "Gal",
          "Alt",
          "Tal",
          "Gul",
          "Ido"
         ],
         "xaxis": "x2",
         "y": [
          0.010989010989010992,
          0.8901098901098902,
          0,
          0,
          0.021978021978021983,
          0.07692307692307694,
          0,
          0
         ],
         "yaxis": "y2"
        },
        {
         "marker": {
          "color": "blue"
         },
         "name": "sim:1200 s",
         "type": "bar",
         "x": [
          "Glc",
          "Man",
          "All",
          "Gal",
          "Alt",
          "Tal",
          "Gul",
          "Ido"
         ],
         "xaxis": "x2",
         "y": [
          0.012423987417333828,
          0.8996834211183974,
          0.001593223084421294,
          0.00020241755193592628,
          0.023798036358075435,
          0.06181324649373493,
          6.840079761453995e-06,
          0.00047882789633967726
         ],
         "yaxis": "y2"
        },
        {
         "marker": {
          "color": "red"
         },
         "name": "exp:2400 s",
         "type": "bar",
         "x": [
          "Glc",
          "Man",
          "All",
          "Gal",
          "Alt",
          "Tal",
          "Gul",
          "Ido"
         ],
         "xaxis": "x2",
         "y": [
          0.03225806451612903,
          0.7849462365591398,
          0,
          0,
          0.043010752688172046,
          0.13978494623655913,
          0,
          0
         ],
         "yaxis": "y2"
        },
        {
         "marker": {
          "color": "blue"
         },
         "name": "sim:2400 s",
         "type": "bar",
         "x": [
          "Glc",
          "Man",
          "All",
          "Gal",
          "Alt",
          "Tal",
          "Gul",
          "Ido"
         ],
         "xaxis": "x2",
         "y": [
          0.021385257971338584,
          0.8123899272764692,
          0.00570472813757139,
          0.0007311608966733138,
          0.042401908406470956,
          0.115619910891066,
          4.7549814189589116e-05,
          0.0017195566062208453
         ],
         "yaxis": "y2"
        },
        {
         "marker": {
          "color": "red"
         },
         "name": "exp:4800 s",
         "type": "bar",
         "x": [
          "Glc",
          "Man",
          "All",
          "Gal",
          "Alt",
          "Tal",
          "Gul",
          "Ido"
         ],
         "xaxis": "x2",
         "y": [
          0.04081632653061224,
          0.6326530612244898,
          0.02040816326530612,
          0,
          0.07142857142857142,
          0.23469387755102042,
          0,
          0
         ],
         "yaxis": "y2"
        },
        {
         "marker": {
          "color": "blue"
         },
         "name": "sim:4800 s",
         "type": "bar",
         "x": [
          "Glc",
          "Man",
          "All",
          "Gal",
          "Alt",
          "Tal",
          "Gul",
          "Ido"
         ],
         "xaxis": "x2",
         "y": [
          0.03255724314046795,
          0.6631830806622078,
          0.019160370600346453,
          0.0025031539113251518,
          0.06884411805179601,
          0.20762919747671693,
          0.0003242945844459962,
          0.005798541572693733
         ],
         "yaxis": "y2"
        },
        {
         "marker": {
          "color": "red"
         },
         "name": "exp:4920 s",
         "type": "bar",
         "x": [
          "Glc",
          "Man",
          "All",
          "Gal",
          "Alt",
          "Tal",
          "Gul",
          "Ido"
         ],
         "xaxis": "x2",
         "y": [
          0.0462962962962963,
          0.425925925925926,
          0.05555555555555556,
          0.00925925925925926,
          0.0925925925925926,
          0.3703703703703704,
          0,
          0
         ],
         "yaxis": "y2"
        },
        {
         "marker": {
          "color": "blue"
         },
         "name": "sim:4920 s",
         "type": "bar",
         "x": [
          "Glc",
          "Man",
          "All",
          "Gal",
          "Alt",
          "Tal",
          "Gul",
          "Ido"
         ],
         "xaxis": "x2",
         "y": [
          0.038862044084071436,
          0.4689154477059749,
          0.05076602088360834,
          0.0068803591411398845,
          0.09018054802234168,
          0.3274133494507567,
          0.0016503126796858381,
          0.015331918032421255
         ],
         "yaxis": "y2"
        },
        {
         "marker": {
          "color": "red"
         },
         "name": "exp:9600 s",
         "type": "bar",
         "x": [
          "Glc",
          "Man",
          "All",
          "Gal",
          "Alt",
          "Tal",
          "Gul",
          "Ido"
         ],
         "xaxis": "x2",
         "y": [
          0.04807692307692308,
          0.2692307692307692,
          0.09615384615384616,
          0.009615384615384616,
          0.09615384615384616,
          0.4807692307692308,
          0,
          0
         ],
         "yaxis": "y2"
        },
        {
         "marker": {
          "color": "blue"
         },
         "name": "sim:9600 s",
         "type": "bar",
         "x": [
          "Glc",
          "Man",
          "All",
          "Gal",
          "Alt",
          "Tal",
          "Gul",
          "Ido"
         ],
         "xaxis": "x2",
         "y": [
          0.03670708281189913,
          0.30411809144513735,
          0.09341237546425596,
          0.013336944534757393,
          0.09135021312213314,
          0.428441510330574,
          0.004974999623665118,
          0.02765878266757795
         ],
         "yaxis": "y2"
        },
        {
         "marker": {
          "color": "red"
         },
         "name": "exp:1200 s",
         "type": "bar",
         "x": [
          "Glc",
          "Man",
          "All",
          "Gal",
          "Alt",
          "Tal",
          "Gul",
          "Ido"
         ],
         "xaxis": "x3",
         "y": [
          0.03,
          0,
          0.97,
          0,
          0,
          0,
          0,
          0
         ],
         "yaxis": "y3"
        },
        {
         "marker": {
          "color": "blue"
         },
         "name": "sim:1200 s",
         "type": "bar",
         "x": [
          "Glc",
          "Man",
          "All",
          "Gal",
          "Alt",
          "Tal",
          "Gul",
          "Ido"
         ],
         "xaxis": "x3",
         "y": [
          0.015450568705591297,
          0.0001336045059397444,
          0.9756302704853658,
          0.0001623463457999463,
          0.0036974492131032046,
          6.772671499067582e-06,
          0.004862454276105029,
          5.653379659589879e-05
         ],
         "yaxis": "y3"
        },
        {
         "marker": {
          "color": "red"
         },
         "name": "exp:2400 s",
         "type": "bar",
         "x": [
          "Glc",
          "Man",
          "All",
          "Gal",
          "Alt",
          "Tal",
          "Gul",
          "Ido"
         ],
         "xaxis": "x3",
         "y": [
          0.039603960396039604,
          0,
          0.9603960396039604,
          0,
          0,
          0,
          0,
          0
         ],
         "yaxis": "y3"
        },
        {
         "marker": {
          "color": "blue"
         },
         "name": "sim:2400 s",
         "type": "bar",
         "x": [
          "Glc",
          "Man",
          "All",
          "Gal",
          "Alt",
          "Tal",
          "Gul",
          "Ido"
         ],
         "xaxis": "x3",
         "y": [
          0.027697307806940595,
          0.00048324006809014004,
          0.9549406651861843,
          0.0005900086799664261,
          0.006868279016594227,
          4.792227665147688e-05,
          0.00916619722982183,
          0.00020637973575106874
         ],
         "yaxis": "y3"
        },
        {
         "marker": {
          "color": "red"
         },
         "name": "exp:4800 s",
         "type": "bar",
         "x": [
          "Glc",
          "Man",
          "All",
          "Gal",
          "Alt",
          "Tal",
          "Gul",
          "Ido"
         ],
         "xaxis": "x3",
         "y": [
          0.047619047619047616,
          0,
          0.9523809523809523,
          0,
          0,
          0,
          0,
          0
         ],
         "yaxis": "y3"
        },
        {
         "marker": {
          "color": "blue"
         },
         "name": "sim:4800 s",
         "type": "bar",
         "x": [
          "Glc",
          "Man",
          "All",
          "Gal",
          "Alt",
          "Tal",
          "Gul",
          "Ido"
         ],
         "xaxis": "x3",
         "y": [
          0.045838490680922245,
          0.0016574912367538909,
          0.9204817516327878,
          0.0020442656934611856,
          0.01218651152570688,
          0.00033992275484686073,
          0.01673003430830732,
          0.0007215321672138722
         ],
         "yaxis": "y3"
        },
        {
         "marker": {
          "color": "red"
         },
         "name": "exp:4920 s",
         "type": "bar",
         "x": [
          "Glc",
          "Man",
          "All",
          "Gal",
          "Alt",
          "Tal",
          "Gul",
          "Ido"
         ],
         "xaxis": "x3",
         "y": [
          0.06060606060606061,
          0,
          0.9393939393939394,
          0,
          0,
          0,
          0,
          0
         ],
         "yaxis": "y3"
        },
        {
         "marker": {
          "color": "blue"
         },
         "name": "sim:4920 s",
         "type": "bar",
         "x": [
          "Glc",
          "Man",
          "All",
          "Gal",
          "Alt",
          "Tal",
          "Gul",
          "Ido"
         ],
         "xaxis": "x3",
         "y": [
          0.0636016628979504,
          0.0045328422702533505,
          0.8761298609956032,
          0.0056967050764377344,
          0.01892746397793546,
          0.0018941969476163405,
          0.027174114797939672,
          0.0020431530362638828
         ],
         "yaxis": "y3"
        },
        {
         "marker": {
          "color": "red"
         },
         "name": "exp:9600 s",
         "type": "bar",
         "x": [
          "Glc",
          "Man",
          "All",
          "Gal",
          "Alt",
          "Tal",
          "Gul",
          "Ido"
         ],
         "xaxis": "x3",
         "y": [
          0.0707070707070707,
          0,
          0.9292929292929293,
          0,
          0,
          0,
          0,
          0
         ],
         "yaxis": "y3"
        },
        {
         "marker": {
          "color": "blue"
         },
         "name": "sim:9600 s",
         "type": "bar",
         "x": [
          "Glc",
          "Man",
          "All",
          "Gal",
          "Alt",
          "Tal",
          "Gul",
          "Ido"
         ],
         "xaxis": "x3",
         "y": [
          0.07255684698437823,
          0.008645935132384272,
          0.8356551413747941,
          0.01114300172388107,
          0.02449744365759053,
          0.006467640375286039,
          0.03695000798830286,
          0.00408398276338287
         ],
         "yaxis": "y3"
        },
        {
         "marker": {
          "color": "red"
         },
         "name": "exp:1200 s",
         "type": "bar",
         "x": [
          "Glc",
          "Man",
          "All",
          "Gal",
          "Alt",
          "Tal",
          "Gul",
          "Ido"
         ],
         "xaxis": "x4",
         "y": [
          0.020202020202020204,
          0,
          0,
          0.9090909090909091,
          0,
          0.04040404040404041,
          0.030303030303030304,
          0
         ],
         "yaxis": "y4"
        },
        {
         "marker": {
          "color": "blue"
         },
         "name": "sim:1200 s",
         "type": "bar",
         "x": [
          "Glc",
          "Man",
          "All",
          "Gal",
          "Alt",
          "Tal",
          "Gul",
          "Ido"
         ],
         "xaxis": "x4",
         "y": [
          0.011637120113065492,
          0.00014625781909181372,
          0.00162561469530376,
          0.9269388516264596,
          5.095696420171764e-06,
          0.03672741526581426,
          0.022711266518692957,
          0.00020837826515188187
         ],
         "yaxis": "y4"
        },
        {
         "marker": {
          "color": "red"
         },
         "name": "exp:2400 s",
         "type": "bar",
         "x": [
          "Glc",
          "Man",
          "All",
          "Gal",
          "Alt",
          "Tal",
          "Gul",
          "Ido"
         ],
         "xaxis": "x4",
         "y": [
          0.020833333333333332,
          0,
          0,
          0.8541666666666666,
          0,
          0.08333333333333333,
          0.041666666666666664,
          0
         ],
         "yaxis": "y4"
        },
        {
         "marker": {
          "color": "blue"
         },
         "name": "sim:2400 s",
         "type": "bar",
         "x": [
          "Glc",
          "Man",
          "All",
          "Gal",
          "Alt",
          "Tal",
          "Gul",
          "Ido"
         ],
         "xaxis": "x4",
         "y": [
          0.020339884437632325,
          0.0005350111561611977,
          0.005906185895718558,
          0.8610710026189894,
          3.539620652194793e-05,
          0.0696593284757005,
          0.04169065720777916,
          0.0007625340014969317
         ],
         "yaxis": "y4"
        },
        {
         "marker": {
          "color": "red"
         },
         "name": "exp:4800 s",
         "type": "bar",
         "x": [
          "Glc",
          "Man",
          "All",
          "Gal",
          "Alt",
          "Tal",
          "Gul",
          "Ido"
         ],
         "xaxis": "x4",
         "y": [
          0.04040404040404041,
          0,
          0.010101010101010102,
          0.7171717171717171,
          0,
          0.1414141414141414,
          0.09090909090909091,
          0
         ],
         "yaxis": "y4"
        },
        {
         "marker": {
          "color": "blue"
         },
         "name": "sim:4800 s",
         "type": "bar",
         "x": [
          "Glc",
          "Man",
          "All",
          "Gal",
          "Alt",
          "Tal",
          "Gul",
          "Ido"
         ],
         "xaxis": "x4",
         "y": [
          0.03196410888672847,
          0.0018791014426062201,
          0.020434939477727516,
          0.7425336787319259,
          0.00024284396904851875,
          0.12844296864361537,
          0.07182954460854164,
          0.002672814239806254
         ],
         "yaxis": "y4"
        },
        {
         "marker": {
          "color": "red"
         },
         "name": "exp:4920 s",
         "type": "bar",
         "x": [
          "Glc",
          "Man",
          "All",
          "Gal",
          "Alt",
          "Tal",
          "Gul",
          "Ido"
         ],
         "xaxis": "x4",
         "y": [
          0.04854368932038835,
          0,
          0.04854368932038835,
          0.5533980582524272,
          0,
          0.23300970873786409,
          0.11650485436893204,
          0
         ],
         "yaxis": "y4"
        },
        {
         "marker": {
          "color": "blue"
         },
         "name": "sim:4920 s",
         "type": "bar",
         "x": [
          "Glc",
          "Man",
          "All",
          "Gal",
          "Alt",
          "Tal",
          "Gul",
          "Ido"
         ],
         "xaxis": "x4",
         "y": [
          0.04043311744247029,
          0.0053934566892691,
          0.056937002263795077,
          0.5731379428867905,
          0.001253044550844158,
          0.21113803319569308,
          0.10414366099391345,
          0.007563741977224387
         ],
         "yaxis": "y4"
        },
        {
         "marker": {
          "color": "red"
         },
         "name": "exp:9600 s",
         "type": "bar",
         "x": [
          "Glc",
          "Man",
          "All",
          "Gal",
          "Alt",
          "Tal",
          "Gul",
          "Ido"
         ],
         "xaxis": "x4",
         "y": [
          0.039603960396039604,
          0,
          0.1188118811881188,
          0.39603960396039606,
          0,
          0.31683168316831684,
          0.12871287128712872,
          0
         ],
         "yaxis": "y4"
        },
        {
         "marker": {
          "color": "blue"
         },
         "name": "sim:9600 s",
         "type": "bar",
         "x": [
          "Glc",
          "Man",
          "All",
          "Gal",
          "Alt",
          "Tal",
          "Gul",
          "Ido"
         ],
         "xaxis": "x4",
         "y": [
          0.041210277497690205,
          0.01101536221526239,
          0.11135242704480404,
          0.40873929016294175,
          0.0038465168751290043,
          0.2893257493216006,
          0.11960849147205631,
          0.014901885410515708
         ],
         "yaxis": "y4"
        },
        {
         "marker": {
          "color": "red"
         },
         "name": "exp:1200 s",
         "type": "bar",
         "x": [
          "Glc",
          "Man",
          "All",
          "Gal",
          "Alt",
          "Tal",
          "Gul",
          "Ido"
         ],
         "xaxis": "x5",
         "y": [
          0,
          0,
          0,
          0,
          0,
          1,
          0,
          0
         ],
         "yaxis": "y5"
        },
        {
         "marker": {
          "color": "blue"
         },
         "name": "sim:1200 s",
         "type": "bar",
         "x": [
          "Glc",
          "Man",
          "All",
          "Gal",
          "Alt",
          "Tal",
          "Gul",
          "Ido"
         ],
         "xaxis": "x5",
         "y": [
          6.546113305253979e-05,
          0.0061822260973893,
          7.97504599801885e-06,
          0.0036731483644589203,
          0.0001529442056605112,
          0.9830598927147278,
          9.166064381198182e-05,
          0.006766691794900939
         ],
         "yaxis": "y5"
        },
        {
         "marker": {
          "color": "red"
         },
         "name": "exp:2400 s",
         "type": "bar",
         "x": [
          "Glc",
          "Man",
          "All",
          "Gal",
          "Alt",
          "Tal",
          "Gul",
          "Ido"
         ],
         "xaxis": "x5",
         "y": [
          0,
          0,
          0,
          0,
          0,
          1,
          0,
          0
         ],
         "yaxis": "y5"
        },
        {
         "marker": {
          "color": "blue"
         },
         "name": "sim:2400 s",
         "type": "bar",
         "x": [
          "Glc",
          "Man",
          "All",
          "Gal",
          "Alt",
          "Tal",
          "Gul",
          "Ido"
         ],
         "xaxis": "x5",
         "y": [
          0.0002345208598731515,
          0.011567061202677023,
          5.571500390068662e-05,
          0.0069685019595349465,
          0.0005576088840275988,
          0.9676335298244231,
          0.00033910996137388716,
          0.012643952304189732
         ],
         "yaxis": "y5"
        },
        {
         "marker": {
          "color": "red"
         },
         "name": "exp:4800 s",
         "type": "bar",
         "x": [
          "Glc",
          "Man",
          "All",
          "Gal",
          "Alt",
          "Tal",
          "Gul",
          "Ido"
         ],
         "xaxis": "x5",
         "y": [
          0,
          0,
          0,
          0.010101010101010102,
          0,
          0.98989898989899,
          0,
          0
         ],
         "yaxis": "y5"
        },
        {
         "marker": {
          "color": "blue"
         },
         "name": "sim:4800 s",
         "type": "bar",
         "x": [
          "Glc",
          "Man",
          "All",
          "Gal",
          "Alt",
          "Tal",
          "Gul",
          "Ido"
         ],
         "xaxis": "x5",
         "y": [
          0.0007938825900653115,
          0.020790285253587483,
          0.00038754809713172636,
          0.012860165332181869,
          0.0019434253208568293,
          0.9393698396309182,
          0.001217009771286178,
          0.0226378440039723
         ],
         "yaxis": "y5"
        },
        {
         "marker": {
          "color": "red"
         },
         "name": "exp:4920 s",
         "type": "bar",
         "x": [
          "Glc",
          "Man",
          "All",
          "Gal",
          "Alt",
          "Tal",
          "Gul",
          "Ido"
         ],
         "xaxis": "x5",
         "y": [
          0,
          0,
          0,
          0.020833333333333332,
          0,
          0.9791666666666666,
          0,
          0
         ],
         "yaxis": "y5"
        },
        {
         "marker": {
          "color": "blue"
         },
         "name": "sim:4920 s",
         "type": "bar",
         "x": [
          "Glc",
          "Man",
          "All",
          "Gal",
          "Alt",
          "Tal",
          "Gul",
          "Ido"
         ],
         "xaxis": "x5",
         "y": [
          0.002128493628529826,
          0.0328855805152632,
          0.0021424675883628327,
          0.021198602743427487,
          0.005433126766986688,
          0.8971873012942758,
          0.0035855075123249662,
          0.035438919950829054
         ],
         "yaxis": "y5"
        },
        {
         "marker": {
          "color": "red"
         },
         "name": "exp:9600 s",
         "type": "bar",
         "x": [
          "Glc",
          "Man",
          "All",
          "Gal",
          "Alt",
          "Tal",
          "Gul",
          "Ido"
         ],
         "xaxis": "x5",
         "y": [
          0,
          0,
          0,
          0.03225806451612903,
          0,
          0.967741935483871,
          0,
          0
         ],
         "yaxis": "y5"
        },
        {
         "marker": {
          "color": "blue"
         },
         "name": "sim:9600 s",
         "type": "bar",
         "x": [
          "Glc",
          "Man",
          "All",
          "Gal",
          "Alt",
          "Tal",
          "Gul",
          "Ido"
         ],
         "xaxis": "x5",
         "y": [
          0.004044557592683941,
          0.04328789237961964,
          0.007242942033644997,
          0.02920231073364933,
          0.01056520677766607,
          0.8523960773768882,
          0.007459210482704648,
          0.045801802623143116
         ],
         "yaxis": "y5"
        },
        {
         "marker": {
          "color": "red"
         },
         "name": "exp:1200 s",
         "type": "bar",
         "x": [
          "Glc",
          "Man",
          "All",
          "Gal",
          "Alt",
          "Tal",
          "Gul",
          "Ido"
         ],
         "xaxis": "x6",
         "y": [
          0,
          0.04,
          0.04,
          0,
          0.9,
          0,
          0,
          0.02
         ],
         "yaxis": "y6"
        },
        {
         "marker": {
          "color": "blue"
         },
         "name": "sim:1200 s",
         "type": "bar",
         "x": [
          "Glc",
          "Man",
          "All",
          "Gal",
          "Alt",
          "Tal",
          "Gul",
          "Ido"
         ],
         "xaxis": "x6",
         "y": [
          0.0006368565997582663,
          0.04759199200244471,
          0.03699059641676042,
          8.006605336302911e-06,
          0.8926271586752391,
          0.0023381543767180667,
          0.00023291047319784914,
          0.01957432485054536
         ],
         "yaxis": "y6"
        },
        {
         "marker": {
          "color": "red"
         },
         "name": "exp:2400 s",
         "type": "bar",
         "x": [
          "Glc",
          "Man",
          "All",
          "Gal",
          "Alt",
          "Tal",
          "Gul",
          "Ido"
         ],
         "xaxis": "x6",
         "y": [
          0.009708737864077669,
          0.08737864077669903,
          0.08737864077669903,
          0,
          0.7961165048543689,
          0,
          0,
          0.019417475728155338
         ],
         "yaxis": "y6"
        },
        {
         "marker": {
          "color": "blue"
         },
         "name": "sim:2400 s",
         "type": "bar",
         "x": [
          "Glc",
          "Man",
          "All",
          "Gal",
          "Alt",
          "Tal",
          "Gul",
          "Ido"
         ],
         "xaxis": "x6",
         "y": [
          0.0022281348166157794,
          0.08477537715120155,
          0.06880116559663421,
          5.5568590463050206e-05,
          0.7999104968422474,
          0.008522653601210477,
          0.0008408038523453439,
          0.034865799549282234
         ],
         "yaxis": "y6"
        },
        {
         "marker": {
          "color": "red"
         },
         "name": "exp:4800 s",
         "type": "bar",
         "x": [
          "Glc",
          "Man",
          "All",
          "Gal",
          "Alt",
          "Tal",
          "Gul",
          "Ido"
         ],
         "xaxis": "x6",
         "y": [
          0.018867924528301886,
          0.12264150943396226,
          0.16037735849056603,
          0,
          0.6226415094339622,
          0.02830188679245283,
          0,
          0.04716981132075472
         ],
         "yaxis": "y6"
        },
        {
         "marker": {
          "color": "blue"
         },
         "name": "sim:4800 s",
         "type": "bar",
         "x": [
          "Glc",
          "Man",
          "All",
          "Gal",
          "Alt",
          "Tal",
          "Gul",
          "Ido"
         ],
         "xaxis": "x6",
         "y": [
          0.007123293825735721,
          0.13749608169032104,
          0.12268991081476444,
          0.00037863319979613885,
          0.6431797363580904,
          0.02964582174956136,
          0.0028708218427241296,
          0.0566157005190067
         ],
         "yaxis": "y6"
        },
        {
         "marker": {
          "color": "red"
         },
         "name": "exp:4920 s",
         "type": "bar",
         "x": [
          "Glc",
          "Man",
          "All",
          "Gal",
          "Alt",
          "Tal",
          "Gul",
          "Ido"
         ],
         "xaxis": "x6",
         "y": [
          0.019417475728155338,
          0.18446601941747573,
          0.24271844660194175,
          0,
          0.4368932038834951,
          0.08737864077669903,
          0,
          0.02912621359223301
         ],
         "yaxis": "y6"
        },
        {
         "marker": {
          "color": "blue"
         },
         "name": "sim:4920 s",
         "type": "bar",
         "x": [
          "Glc",
          "Man",
          "All",
          "Gal",
          "Alt",
          "Tal",
          "Gul",
          "Ido"
         ],
         "xaxis": "x6",
         "y": [
          0.017273374055961323,
          0.17940965769217387,
          0.1932715911287811,
          0.0019260522807015164,
          0.44304345581423416,
          0.08285563815415233,
          0.0078097138845858415,
          0.0744105169894098
         ],
         "yaxis": "y6"
        },
        {
         "marker": {
          "color": "red"
         },
         "name": "exp:9600 s",
         "type": "bar",
         "x": [
          "Glc",
          "Man",
          "All",
          "Gal",
          "Alt",
          "Tal",
          "Gul",
          "Ido"
         ],
         "xaxis": "x6",
         "y": [
          0.019801980198019802,
          0.1782178217821782,
          0.33663366336633666,
          0,
          0.2871287128712871,
          0.13861386138613863,
          0,
          0.039603960396039604
         ],
         "yaxis": "y6"
        },
        {
         "marker": {
          "color": "blue"
         },
         "name": "sim:9600 s",
         "type": "bar",
         "x": [
          "Glc",
          "Man",
          "All",
          "Gal",
          "Alt",
          "Tal",
          "Gul",
          "Ido"
         ],
         "xaxis": "x6",
         "y": [
          0.02826908374400682,
          0.17992791702018585,
          0.2563141779290805,
          0.00580793227555716,
          0.2775946117893453,
          0.16093149250985986,
          0.014806796066146731,
          0.07634798866581771
         ],
         "yaxis": "y6"
        },
        {
         "marker": {
          "color": "red"
         },
         "name": "exp:1200 s",
         "type": "bar",
         "x": [
          "Glc",
          "Man",
          "All",
          "Gal",
          "Alt",
          "Tal",
          "Gul",
          "Ido"
         ],
         "xaxis": "x7",
         "y": [
          0,
          0,
          0.08823529411764706,
          0,
          0,
          0,
          0.9117647058823529,
          0
         ],
         "yaxis": "y7"
        },
        {
         "marker": {
          "color": "blue"
         },
         "name": "sim:1200 s",
         "type": "bar",
         "x": [
          "Glc",
          "Man",
          "All",
          "Gal",
          "Alt",
          "Tal",
          "Gul",
          "Ido"
         ],
         "xaxis": "x7",
         "y": [
          0.0005434240390290035,
          5.389029627447315e-06,
          0.04862202458520092,
          0.022710886472059617,
          0.0001635766146312561,
          0.0006817109679223305,
          0.9208835591582822,
          0.006389429133247088
         ],
         "yaxis": "y7"
        },
        {
         "marker": {
          "color": "red"
         },
         "name": "exp:2400 s",
         "type": "bar",
         "x": [
          "Glc",
          "Man",
          "All",
          "Gal",
          "Alt",
          "Tal",
          "Gul",
          "Ido"
         ],
         "xaxis": "x7",
         "y": [
          0,
          0,
          0.13,
          0,
          0,
          0,
          0.87,
          0
         ],
         "yaxis": "y7"
        },
        {
         "marker": {
          "color": "blue"
         },
         "name": "sim:2400 s",
         "type": "bar",
         "x": [
          "Glc",
          "Man",
          "All",
          "Gal",
          "Alt",
          "Tal",
          "Gul",
          "Ido"
         ],
         "xaxis": "x7",
         "y": [
          0.0019379597121649988,
          3.7571936287940065e-05,
          0.09165103387877122,
          0.041688341416050594,
          0.0005930517985895114,
          0.002526066624720214,
          0.850007098105208,
          0.011558876528207558
         ],
         "yaxis": "y7"
        },
        {
         "marker": {
          "color": "red"
         },
         "name": "exp:4800 s",
         "type": "bar",
         "x": [
          "Glc",
          "Man",
          "All",
          "Gal",
          "Alt",
          "Tal",
          "Gul",
          "Ido"
         ],
         "xaxis": "x7",
         "y": [
          0,
          0,
          0.2222222222222222,
          0,
          0,
          0.030303030303030304,
          0.7474747474747475,
          0
         ],
         "yaxis": "y7"
        },
        {
         "marker": {
          "color": "blue"
         },
         "name": "sim:4800 s",
         "type": "bar",
         "x": [
          "Glc",
          "Man",
          "All",
          "Gal",
          "Alt",
          "Tal",
          "Gul",
          "Ido"
         ],
         "xaxis": "x7",
         "y": [
          0.00644804037444855,
          0.00025820160372286196,
          0.16725805234084246,
          0.07181418280898769,
          0.002041858034256941,
          0.009087711504743431,
          0.7237207288368683,
          0.019371224496129658
         ],
         "yaxis": "y7"
        },
        {
         "marker": {
          "color": "red"
         },
         "name": "exp:4920 s",
         "type": "bar",
         "x": [
          "Glc",
          "Man",
          "All",
          "Gal",
          "Alt",
          "Tal",
          "Gul",
          "Ido"
         ],
         "xaxis": "x7",
         "y": [
          0.022222222222222223,
          0,
          0.34444444444444444,
          0,
          0,
          0.06666666666666667,
          0.5666666666666667,
          0
         ],
         "yaxis": "y7"
        },
        {
         "marker": {
          "color": "blue"
         },
         "name": "sim:4920 s",
         "type": "bar",
         "x": [
          "Glc",
          "Man",
          "All",
          "Gal",
          "Alt",
          "Tal",
          "Gul",
          "Ido"
         ],
         "xaxis": "x7",
         "y": [
          0.016768524929157813,
          0.0013311590637480244,
          0.27150443804321955,
          0.1040588173545885,
          0.005630181549486472,
          0.02694921617715473,
          0.5468177102939572,
          0.026939952588687834
         ],
         "yaxis": "y7"
        },
        {
         "marker": {
          "color": "red"
         },
         "name": "exp:9600 s",
         "type": "bar",
         "x": [
          "Glc",
          "Man",
          "All",
          "Gal",
          "Alt",
          "Tal",
          "Gul",
          "Ido"
         ],
         "xaxis": "x7",
         "y": [
          0.04597701149425287,
          0,
          0.42528735632183906,
          0,
          0,
          0.10344827586206896,
          0.42528735632183906,
          0
         ],
         "yaxis": "y7"
        },
        {
         "marker": {
          "color": "blue"
         },
         "name": "sim:9600 s",
         "type": "bar",
         "x": [
          "Glc",
          "Man",
          "All",
          "Gal",
          "Alt",
          "Tal",
          "Gul",
          "Ido"
         ],
         "xaxis": "x7",
         "y": [
          0.029956011335048577,
          0.004081498528315292,
          0.36872596379621764,
          0.1193311675295622,
          0.010833113579772392,
          0.05655829244505873,
          0.38066643194206856,
          0.029847520843956633
         ],
         "yaxis": "y7"
        },
        {
         "marker": {
          "color": "red"
         },
         "name": "exp:1200 s",
         "type": "bar",
         "x": [
          "Glc",
          "Man",
          "All",
          "Gal",
          "Alt",
          "Tal",
          "Gul",
          "Ido"
         ],
         "xaxis": "x8",
         "y": [
          0,
          0,
          0,
          0,
          0.02,
          0.09,
          0,
          0.89
         ],
         "yaxis": "y8"
        },
        {
         "marker": {
          "color": "blue"
         },
         "name": "sim:1200 s",
         "type": "bar",
         "x": [
          "Glc",
          "Man",
          "All",
          "Gal",
          "Alt",
          "Tal",
          "Gul",
          "Ido"
         ],
         "xaxis": "x8",
         "y": [
          9.149922349285949e-06,
          0.0007387815879819316,
          0.0007338052617943368,
          0.0002873886829131996,
          0.01957250246348796,
          0.06767132084236577,
          0.012776982813485925,
          0.8982100684256215
         ],
         "yaxis": "y8"
        },
        {
         "marker": {
          "color": "red"
         },
         "name": "exp:2400 s",
         "type": "bar",
         "x": [
          "Glc",
          "Man",
          "All",
          "Gal",
          "Alt",
          "Tal",
          "Gul",
          "Ido"
         ],
         "xaxis": "x8",
         "y": [
          0,
          0,
          0,
          0,
          0.0297029702970297,
          0.15841584158415842,
          0.0297029702970297,
          0.7821782178217822
         ],
         "yaxis": "y8"
        },
        {
         "marker": {
          "color": "blue"
         },
         "name": "sim:2400 s",
         "type": "bar",
         "x": [
          "Glc",
          "Man",
          "All",
          "Gal",
          "Alt",
          "Tal",
          "Gul",
          "Ido"
         ],
         "xaxis": "x8",
         "y": [
          6.169879534622716e-05,
          0.002639292314607045,
          0.0026827827635747927,
          0.001047752207408139,
          0.034853475608685264,
          0.12648123430071667,
          0.02310499255783841,
          0.8091287714518234
         ],
         "yaxis": "y8"
        },
        {
         "marker": {
          "color": "red"
         },
         "name": "exp:4800 s",
         "type": "bar",
         "x": [
          "Glc",
          "Man",
          "All",
          "Gal",
          "Alt",
          "Tal",
          "Gul",
          "Ido"
         ],
         "xaxis": "x8",
         "y": [
          0,
          0,
          0,
          0,
          0.04,
          0.25,
          0.05,
          0.66
         ],
         "yaxis": "y8"
        },
        {
         "marker": {
          "color": "blue"
         },
         "name": "sim:4800 s",
         "type": "bar",
         "x": [
          "Glc",
          "Man",
          "All",
          "Gal",
          "Alt",
          "Tal",
          "Gul",
          "Ido"
         ],
         "xaxis": "x8",
         "y": [
          0.00038105793625389556,
          0.008466076651850668,
          0.009028694252709834,
          0.0034998621208196176,
          0.055756793476706826,
          0.2225636539527787,
          0.03806795604583109,
          0.6622359055630495
         ],
         "yaxis": "y8"
        },
        {
         "marker": {
          "color": "red"
         },
         "name": "exp:4920 s",
         "type": "bar",
         "x": [
          "Glc",
          "Man",
          "All",
          "Gal",
          "Alt",
          "Tal",
          "Gul",
          "Ido"
         ],
         "xaxis": "x8",
         "y": [
          0,
          0,
          0.01,
          0,
          0.05,
          0.38,
          0.07,
          0.49
         ],
         "yaxis": "y8"
        },
        {
         "marker": {
          "color": "blue"
         },
         "name": "sim:4920 s",
         "type": "bar",
         "x": [
          "Glc",
          "Man",
          "All",
          "Gal",
          "Alt",
          "Tal",
          "Gul",
          "Ido"
         ],
         "xaxis": "x8",
         "y": [
          0.0018767764950953626,
          0.022434895137407148,
          0.02639686620134138,
          0.010008907000561803,
          0.07378232522002022,
          0.35366957321586395,
          0.05319226026159921,
          0.45863839646811094
         ],
         "yaxis": "y8"
        },
        {
         "marker": {
          "color": "red"
         },
         "name": "exp:9600 s",
         "type": "bar",
         "x": [
          "Glc",
          "Man",
          "All",
          "Gal",
          "Alt",
          "Tal",
          "Gul",
          "Ido"
         ],
         "xaxis": "x8",
         "y": [
          0,
          0,
          0.04040404040404041,
          0,
          0.04040404040404041,
          0.5050505050505051,
          0.0707070707070707,
          0.3434343434343434
         ],
         "yaxis": "y8"
        },
        {
         "marker": {
          "color": "blue"
         },
         "name": "sim:9600 s",
         "type": "bar",
         "x": [
          "Glc",
          "Man",
          "All",
          "Gal",
          "Alt",
          "Tal",
          "Gul",
          "Ido"
         ],
         "xaxis": "x8",
         "y": [
          0.005272429793524587,
          0.03958418873766251,
          0.053872318530420855,
          0.019555824254737432,
          0.07511939470987215,
          0.4622642338576585,
          0.058161024910327735,
          0.2861705852057962
         ],
         "yaxis": "y8"
        },
        {
         "marker": {
          "color": "red"
         },
         "name": "exp:1200 s",
         "type": "bar",
         "x": [
          "Glc",
          "Man",
          "All",
          "Gal",
          "Alt",
          "Tal",
          "Gul",
          "Ido"
         ],
         "xaxis": "x9",
         "y": [
          0.02,
          0.46,
          0.02,
          0,
          0.46,
          0.04,
          0,
          0
         ],
         "yaxis": "y9"
        },
        {
         "marker": {
          "color": "blue"
         },
         "name": "sim:1200 s",
         "type": "bar",
         "x": [
          "Glc",
          "Man",
          "All",
          "Gal",
          "Alt",
          "Tal",
          "Gul",
          "Ido"
         ],
         "xaxis": "x9",
         "y": [
          0.006530663751735761,
          0.47363786573246036,
          0.019291753738362415,
          0.0001051903596953458,
          0.458212363420796,
          0.032075582436249396,
          0.00011985479896018578,
          0.010026725761740553
         ],
         "yaxis": "y9"
        },
        {
         "marker": {
          "color": "red"
         },
         "name": "exp:2400 s",
         "type": "bar",
         "x": [
          "Glc",
          "Man",
          "All",
          "Gal",
          "Alt",
          "Tal",
          "Gul",
          "Ido"
         ],
         "xaxis": "x9",
         "y": [
          0.02,
          0.43,
          0.04,
          0,
          0.42,
          0.07,
          0,
          0.02
         ],
         "yaxis": "y9"
        },
        {
         "marker": {
          "color": "blue"
         },
         "name": "sim:2400 s",
         "type": "bar",
         "x": [
          "Glc",
          "Man",
          "All",
          "Gal",
          "Alt",
          "Tal",
          "Gul",
          "Ido"
         ],
         "xaxis": "x9",
         "y": [
          0.011807123121623629,
          0.44858296356130234,
          0.03725264969239994,
          0.00039332917115678274,
          0.421155817757602,
          0.06207104447616196,
          0.00044414385696539934,
          0.018292928362787956
         ],
         "yaxis": "y9"
        },
        {
         "marker": {
          "color": "red"
         },
         "name": "exp:4800 s",
         "type": "bar",
         "x": [
          "Glc",
          "Man",
          "All",
          "Gal",
          "Alt",
          "Tal",
          "Gul",
          "Ido"
         ],
         "xaxis": "x9",
         "y": [
          0.0297029702970297,
          0.36633663366336633,
          0.07920792079207921,
          0,
          0.3564356435643564,
          0.13861386138613863,
          0,
          0.0297029702970297
         ],
         "yaxis": "y9"
        },
        {
         "marker": {
          "color": "blue"
         },
         "name": "sim:4800 s",
         "type": "bar",
         "x": [
          "Glc",
          "Man",
          "All",
          "Gal",
          "Alt",
          "Tal",
          "Gul",
          "Ido"
         ],
         "xaxis": "x9",
         "y": [
          0.01953569213216334,
          0.4025058508200419,
          0.06943747556664986,
          0.0013800145903697253,
          0.3587721513364245,
          0.1161300426281249,
          0.0015312376199470654,
          0.030707535306278733
         ],
         "yaxis": "y9"
        },
        {
         "marker": {
          "color": "red"
         },
         "name": "exp:4920 s",
         "type": "bar",
         "x": [
          "Glc",
          "Man",
          "All",
          "Gal",
          "Alt",
          "Tal",
          "Gul",
          "Ido"
         ],
         "xaxis": "x9",
         "y": [
          0.030303030303030304,
          0.31313131313131315,
          0.13131313131313133,
          0,
          0.2828282828282828,
          0.20202020202020202,
          0,
          0.04040404040404041
         ],
         "yaxis": "y9"
        },
        {
         "marker": {
          "color": "blue"
         },
         "name": "sim:4920 s",
         "type": "bar",
         "x": [
          "Glc",
          "Man",
          "All",
          "Gal",
          "Alt",
          "Tal",
          "Gul",
          "Ido"
         ],
         "xaxis": "x9",
         "y": [
          0.027929023140968734,
          0.32582906262923883,
          0.1209254158289906,
          0.0043209516511104685,
          0.26843027077767806,
          0.2032752668449489,
          0.004645110969327235,
          0.04464489815773718
         ],
         "yaxis": "y9"
        },
        {
         "marker": {
          "color": "red"
         },
         "name": "exp:9600 s",
         "type": "bar",
         "x": [
          "Glc",
          "Man",
          "All",
          "Gal",
          "Alt",
          "Tal",
          "Gul",
          "Ido"
         ],
         "xaxis": "x9",
         "y": [
          0.039603960396039604,
          0.22772277227722773,
          0.19801980198019803,
          0,
          0.18811881188118812,
          0.3069306930693069,
          0,
          0.039603960396039604
         ],
         "yaxis": "y9"
        },
        {
         "marker": {
          "color": "blue"
         },
         "name": "sim:9600 s",
         "type": "bar",
         "x": [
          "Glc",
          "Man",
          "All",
          "Gal",
          "Alt",
          "Tal",
          "Gul",
          "Ido"
         ],
         "xaxis": "x9",
         "y": [
          0.0324491651841363,
          0.2431314130186713,
          0.17416217751012333,
          0.009486885242413574,
          0.1855059499900762,
          0.2935048028611526,
          0.009808189061408772,
          0.05195141713201794
         ],
         "yaxis": "y9"
        },
        {
         "marker": {
          "color": "red"
         },
         "name": "exp:1200 s",
         "type": "bar",
         "x": [
          "Glc",
          "Man",
          "All",
          "Gal",
          "Alt",
          "Tal",
          "Gul",
          "Ido"
         ],
         "xaxis": "x10",
         "y": [
          0,
          0,
          0.03,
          0.44,
          0,
          0.04,
          0.49,
          0
         ],
         "yaxis": "y10"
        },
        {
         "marker": {
          "color": "blue"
         },
         "name": "sim:1200 s",
         "type": "bar",
         "x": [
          "Glc",
          "Man",
          "All",
          "Gal",
          "Alt",
          "Tal",
          "Gul",
          "Ido"
         ],
         "xaxis": "x10",
         "y": [
          0.005757502350001817,
          7.160803959439975e-05,
          0.02653372029755791,
          0.4476980610824614,
          8.906398153358909e-05,
          0.01762315862526806,
          0.4987425081181217,
          0.003484377505461072
         ],
         "yaxis": "y10"
        },
        {
         "marker": {
          "color": "red"
         },
         "name": "exp:2400 s",
         "type": "bar",
         "x": [
          "Glc",
          "Man",
          "All",
          "Gal",
          "Alt",
          "Tal",
          "Gul",
          "Ido"
         ],
         "xaxis": "x10",
         "y": [
          0.019801980198019802,
          0,
          0.0594059405940594,
          0.43564356435643564,
          0,
          0.04950495049504951,
          0.43564356435643564,
          0
         ],
         "yaxis": "y10"
        },
        {
         "marker": {
          "color": "blue"
         },
         "name": "sim:2400 s",
         "type": "bar",
         "x": [
          "Glc",
          "Man",
          "All",
          "Gal",
          "Alt",
          "Tal",
          "Gul",
          "Ido"
         ],
         "xaxis": "x10",
         "y": [
          0.0105869889828256,
          0.00027139120454766614,
          0.051350908271214996,
          0.4267982377148061,
          0.0003309031193310459,
          0.034078636351154074,
          0.4700982618970735,
          0.006484672459047042
         ],
         "yaxis": "y10"
        },
        {
         "marker": {
          "color": "red"
         },
         "name": "exp:4800 s",
         "type": "bar",
         "x": [
          "Glc",
          "Man",
          "All",
          "Gal",
          "Alt",
          "Tal",
          "Gul",
          "Ido"
         ],
         "xaxis": "x10",
         "y": [
          0.03,
          0,
          0.1,
          0.41,
          0,
          0.09,
          0.37,
          0
         ],
         "yaxis": "y10"
        },
        {
         "marker": {
          "color": "blue"
         },
         "name": "sim:4800 s",
         "type": "bar",
         "x": [
          "Glc",
          "Man",
          "All",
          "Gal",
          "Alt",
          "Tal",
          "Gul",
          "Ido"
         ],
         "xaxis": "x10",
         "y": [
          0.018126063777010527,
          0.0009759140765588758,
          0.09616745383145187,
          0.3888262124992975,
          0.0011465485100828111,
          0.06380204587764703,
          0.419639520172668,
          0.011316241255283481
         ],
         "yaxis": "y10"
        },
        {
         "marker": {
          "color": "red"
         },
         "name": "exp:4920 s",
         "type": "bar",
         "x": [
          "Glc",
          "Man",
          "All",
          "Gal",
          "Alt",
          "Tal",
          "Gul",
          "Ido"
         ],
         "xaxis": "x10",
         "y": [
          0.04,
          0,
          0.15,
          0.38,
          0,
          0.13,
          0.3,
          0
         ],
         "yaxis": "y10"
        },
        {
         "marker": {
          "color": "blue"
         },
         "name": "sim:4920 s",
         "type": "bar",
         "x": [
          "Glc",
          "Man",
          "All",
          "Gal",
          "Alt",
          "Tal",
          "Gul",
          "Ido"
         ],
         "xaxis": "x10",
         "y": [
          0.027710206681682774,
          0.0031769298629737448,
          0.16908626670713925,
          0.32590665453276296,
          0.003508062726736458,
          0.11246002799792404,
          0.3404391841525233,
          0.017712667338257465
         ],
         "yaxis": "y10"
        },
        {
         "marker": {
          "color": "red"
         },
         "name": "exp:9600 s",
         "type": "bar",
         "x": [
          "Glc",
          "Man",
          "All",
          "Gal",
          "Alt",
          "Tal",
          "Gul",
          "Ido"
         ],
         "xaxis": "x10",
         "y": [
          0.050505050505050504,
          0,
          0.2222222222222222,
          0.29292929292929293,
          0,
          0.1919191919191919,
          0.24242424242424243,
          0
         ],
         "yaxis": "y10"
        },
        {
         "marker": {
          "color": "blue"
         },
         "name": "sim:9600 s",
         "type": "bar",
         "x": [
          "Glc",
          "Man",
          "All",
          "Gal",
          "Alt",
          "Tal",
          "Gul",
          "Ido"
         ],
         "xaxis": "x10",
         "y": [
          0.03515852302905505,
          0.00727054583865003,
          0.24671808204102896,
          0.2563141442056417,
          0.007485067512058873,
          0.16523872248101057,
          0.25904895938782396,
          0.022765955504730737
         ],
         "yaxis": "y10"
        },
        {
         "marker": {
          "color": "red"
         },
         "name": "exp:1200 s",
         "type": "bar",
         "x": [
          "Glc",
          "Man",
          "All",
          "Gal",
          "Alt",
          "Tal",
          "Gul",
          "Ido"
         ],
         "xaxis": "x11",
         "y": [
          0.41,
          0.47,
          0.06,
          0,
          0.02,
          0.04,
          0,
          0
         ],
         "yaxis": "y11"
        },
        {
         "marker": {
          "color": "blue"
         },
         "name": "sim:1200 s",
         "type": "bar",
         "x": [
          "Glc",
          "Man",
          "All",
          "Gal",
          "Alt",
          "Tal",
          "Gul",
          "Ido"
         ],
         "xaxis": "x11",
         "y": [
          0.4041211399386565,
          0.46982570993643946,
          0.07497666636803799,
          0.0056904683365770065,
          0.012547670492298452,
          0.03232238596799179,
          0.00026454276304659725,
          0.0002514161969522254
         ],
         "yaxis": "y11"
        },
        {
         "marker": {
          "color": "red"
         },
         "name": "exp:2400 s",
         "type": "bar",
         "x": [
          "Glc",
          "Man",
          "All",
          "Gal",
          "Alt",
          "Tal",
          "Gul",
          "Ido"
         ],
         "xaxis": "x11",
         "y": [
          0.36,
          0.41,
          0.11,
          0.02,
          0.03,
          0.07,
          0,
          0
         ],
         "yaxis": "y11"
        },
        {
         "marker": {
          "color": "blue"
         },
         "name": "sim:2400 s",
         "type": "bar",
         "x": [
          "Glc",
          "Man",
          "All",
          "Gal",
          "Alt",
          "Tal",
          "Gul",
          "Ido"
         ],
         "xaxis": "x11",
         "y": [
          0.3428165551253585,
          0.4258808473413034,
          0.13586901363390105,
          0.010141403405606401,
          0.02265917129549637,
          0.06076744147103778,
          0.0009551243315278233,
          0.0009104433957686358
         ],
         "yaxis": "y11"
        },
        {
         "marker": {
          "color": "red"
         },
         "name": "exp:4800 s",
         "type": "bar",
         "x": [
          "Glc",
          "Man",
          "All",
          "Gal",
          "Alt",
          "Tal",
          "Gul",
          "Ido"
         ],
         "xaxis": "x11",
         "y": [
          0.26732673267326734,
          0.3465346534653465,
          0.19801980198019803,
          0.019801980198019802,
          0.039603960396039604,
          0.12871287128712872,
          0,
          0
         ],
         "yaxis": "y11"
        },
        {
         "marker": {
          "color": "blue"
         },
         "name": "sim:4800 s",
         "type": "bar",
         "x": [
          "Glc",
          "Man",
          "All",
          "Gal",
          "Alt",
          "Tal",
          "Gul",
          "Ido"
         ],
         "xaxis": "x11",
         "y": [
          0.2525257700671432,
          0.35333688674268526,
          0.22630048822532128,
          0.01639654443459429,
          0.03722571941101003,
          0.10808015081588103,
          0.003134808729300114,
          0.0029996315740647467
         ],
         "yaxis": "y11"
        },
        {
         "marker": {
          "color": "red"
         },
         "name": "exp:4920 s",
         "type": "bar",
         "x": [
          "Glc",
          "Man",
          "All",
          "Gal",
          "Alt",
          "Tal",
          "Gul",
          "Ido"
         ],
         "xaxis": "x11",
         "y": [
          0.18,
          0.23,
          0.29,
          0.04,
          0.06,
          0.2,
          0,
          0
         ],
         "yaxis": "y11"
        },
        {
         "marker": {
          "color": "blue"
         },
         "name": "sim:4920 s",
         "type": "bar",
         "x": [
          "Glc",
          "Man",
          "All",
          "Gal",
          "Alt",
          "Tal",
          "Gul",
          "Ido"
         ],
         "xaxis": "x11",
         "y": [
          0.15127376693096786,
          0.25253350419218035,
          0.32960216391294,
          0.02284153188262816,
          0.05171829508293782,
          0.1749166013323205,
          0.008758057874059007,
          0.008356078791966304
         ],
         "yaxis": "y11"
        },
        {
         "marker": {
          "color": "red"
         },
         "name": "exp:9600 s",
         "type": "bar",
         "x": [
          "Glc",
          "Man",
          "All",
          "Gal",
          "Alt",
          "Tal",
          "Gul",
          "Ido"
         ],
         "xaxis": "x11",
         "y": [
          0.10101010101010101,
          0.16161616161616163,
          0.3838383838383838,
          0.04040404040404041,
          0.050505050505050504,
          0.26262626262626265,
          0,
          0
         ],
         "yaxis": "y11"
        },
        {
         "marker": {
          "color": "blue"
         },
         "name": "sim:9600 s",
         "type": "bar",
         "x": [
          "Glc",
          "Man",
          "All",
          "Gal",
          "Alt",
          "Tal",
          "Gul",
          "Ido"
         ],
         "xaxis": "x11",
         "y": [
          0.08930609227819294,
          0.1665151760517428,
          0.39509293632638903,
          0.02654969655845207,
          0.056173421573758514,
          0.2337862949216113,
          0.016825181737423634,
          0.015751200552429796
         ],
         "yaxis": "y11"
        },
        {
         "marker": {
          "color": "red"
         },
         "name": "exp:1200 s",
         "type": "bar",
         "x": [
          "Glc",
          "Man",
          "All",
          "Gal",
          "Alt",
          "Tal",
          "Gul",
          "Ido"
         ],
         "xaxis": "x12",
         "y": [
          0.45454545454545453,
          0,
          0.08080808080808081,
          0.43434343434343436,
          0,
          0.020202020202020204,
          0.010101010101010102,
          0
         ],
         "yaxis": "y12"
        },
        {
         "marker": {
          "color": "blue"
         },
         "name": "sim:1200 s",
         "type": "bar",
         "x": [
          "Glc",
          "Man",
          "All",
          "Gal",
          "Alt",
          "Tal",
          "Gul",
          "Ido"
         ],
         "xaxis": "x12",
         "y": [
          0.46088972471552725,
          0.002346239056596542,
          0.08569284041218307,
          0.42352226378558705,
          0.0002002879944679758,
          0.01673306710497726,
          0.010519049159953692,
          9.652777070720978e-05
         ],
         "yaxis": "y12"
        },
        {
         "marker": {
          "color": "red"
         },
         "name": "exp:2400 s",
         "type": "bar",
         "x": [
          "Glc",
          "Man",
          "All",
          "Gal",
          "Alt",
          "Tal",
          "Gul",
          "Ido"
         ],
         "xaxis": "x12",
         "y": [
          0.3838383838383838,
          0,
          0.15151515151515152,
          0.37373737373737376,
          0,
          0.06060606060606061,
          0.030303030303030304,
          0
         ],
         "yaxis": "y12"
        },
        {
         "marker": {
          "color": "blue"
         },
         "name": "sim:2400 s",
         "type": "bar",
         "x": [
          "Glc",
          "Man",
          "All",
          "Gal",
          "Alt",
          "Tal",
          "Gul",
          "Ido"
         ],
         "xaxis": "x12",
         "y": [
          0.38922155651032264,
          0.004180068669815396,
          0.1549419559427461,
          0.39866673637075,
          0.000715211251027478,
          0.0320859102818378,
          0.019826793851500917,
          0.0003617671219997632
         ],
         "yaxis": "y12"
        },
        {
         "marker": {
          "color": "red"
         },
         "name": "exp:4800 s",
         "type": "bar",
         "x": [
          "Glc",
          "Man",
          "All",
          "Gal",
          "Alt",
          "Tal",
          "Gul",
          "Ido"
         ],
         "xaxis": "x12",
         "y": [
          0.28,
          0,
          0.25,
          0.36,
          0,
          0.07,
          0.04,
          0
         ],
         "yaxis": "y12"
        },
        {
         "marker": {
          "color": "blue"
         },
         "name": "sim:4800 s",
         "type": "bar",
         "x": [
          "Glc",
          "Man",
          "All",
          "Gal",
          "Alt",
          "Tal",
          "Gul",
          "Ido"
         ],
         "xaxis": "x12",
         "y": [
          0.28437189058491497,
          0.006833370487210634,
          0.2571547830908398,
          0.35379263696980756,
          0.002299195430973015,
          0.05907559570477167,
          0.035202078851248306,
          0.001270448880234024
         ],
         "yaxis": "y12"
        },
        {
         "marker": {
          "color": "red"
         },
         "name": "exp:4920 s",
         "type": "bar",
         "x": [
          "Glc",
          "Man",
          "All",
          "Gal",
          "Alt",
          "Tal",
          "Gul",
          "Ido"
         ],
         "xaxis": "x12",
         "y": [
          0.18000000000000002,
          0,
          0.35000000000000003,
          0.30000000000000004,
          0,
          0.11000000000000003,
          0.06000000000000001,
          0
         ],
         "yaxis": "y12"
        },
        {
         "marker": {
          "color": "blue"
         },
         "name": "sim:4920 s",
         "type": "bar",
         "x": [
          "Glc",
          "Man",
          "All",
          "Gal",
          "Alt",
          "Tal",
          "Gul",
          "Ido"
         ],
         "xaxis": "x12",
         "y": [
          0.1683505170225035,
          0.010088116514335128,
          0.3730877793418339,
          0.28163796094241256,
          0.006219317064250021,
          0.1009818645667798,
          0.05570847743022122,
          0.003925967117663996
         ],
         "yaxis": "y12"
        },
        {
         "marker": {
          "color": "red"
         },
         "name": "exp:9600 s",
         "type": "bar",
         "x": [
          "Glc",
          "Man",
          "All",
          "Gal",
          "Alt",
          "Tal",
          "Gul",
          "Ido"
         ],
         "xaxis": "x12",
         "y": [
          0.11,
          0,
          0.44,
          0.22,
          0,
          0.16,
          0.07,
          0
         ],
         "yaxis": "y12"
        },
        {
         "marker": {
          "color": "blue"
         },
         "name": "sim:9600 s",
         "type": "bar",
         "x": [
          "Glc",
          "Man",
          "All",
          "Gal",
          "Alt",
          "Tal",
          "Gul",
          "Ido"
         ],
         "xaxis": "x12",
         "y": [
          0.09897425400289726,
          0.013337449421504105,
          0.4471556245954195,
          0.2074229360581445,
          0.011579695239133452,
          0.1430635751075879,
          0.07014176720574482,
          0.008324698369568381
         ],
         "yaxis": "y12"
        },
        {
         "marker": {
          "color": "red"
         },
         "name": "exp:1200 s",
         "type": "bar",
         "x": [
          "Glc",
          "Man",
          "All",
          "Gal",
          "Alt",
          "Tal",
          "Gul",
          "Ido"
         ],
         "xaxis": "x13",
         "y": [
          0,
          0.01,
          0.04,
          0,
          0.44,
          0.05,
          0.01,
          0.45
         ],
         "yaxis": "y13"
        },
        {
         "marker": {
          "color": "blue"
         },
         "name": "sim:1200 s",
         "type": "bar",
         "x": [
          "Glc",
          "Man",
          "All",
          "Gal",
          "Alt",
          "Tal",
          "Gul",
          "Ido"
         ],
         "xaxis": "x13",
         "y": [
          0.000335356310724655,
          0.02510269827824308,
          0.01958754089883418,
          0.00014210795084450205,
          0.4735607498812286,
          0.03369801477237774,
          0.006254097105983738,
          0.4413194348017634
         ],
         "yaxis": "y13"
        },
        {
         "marker": {
          "color": "red"
         },
         "name": "exp:2400 s",
         "type": "bar",
         "x": [
          "Glc",
          "Man",
          "All",
          "Gal",
          "Alt",
          "Tal",
          "Gul",
          "Ido"
         ],
         "xaxis": "x13",
         "y": [
          0,
          0.03,
          0.05,
          0,
          0.4,
          0.09,
          0.03,
          0.4
         ],
         "yaxis": "y13"
        },
        {
         "marker": {
          "color": "blue"
         },
         "name": "sim:2400 s",
         "type": "bar",
         "x": [
          "Glc",
          "Man",
          "All",
          "Gal",
          "Alt",
          "Tal",
          "Gul",
          "Ido"
         ],
         "xaxis": "x13",
         "y": [
          0.0011878812373277757,
          0.04535043610550906,
          0.03706470983754041,
          0.0005318245241933206,
          0.4326828566389031,
          0.06514264028015596,
          0.011527646925620449,
          0.4065120044507499
         ],
         "yaxis": "y13"
        },
        {
         "marker": {
          "color": "red"
         },
         "name": "exp:4800 s",
         "type": "bar",
         "x": [
          "Glc",
          "Man",
          "All",
          "Gal",
          "Alt",
          "Tal",
          "Gul",
          "Ido"
         ],
         "xaxis": "x13",
         "y": [
          0,
          0.07,
          0.09,
          0,
          0.32,
          0.14,
          0.03,
          0.35
         ],
         "yaxis": "y13"
        },
        {
         "marker": {
          "color": "blue"
         },
         "name": "sim:4800 s",
         "type": "bar",
         "x": [
          "Glc",
          "Man",
          "All",
          "Gal",
          "Alt",
          "Tal",
          "Gul",
          "Ido"
         ],
         "xaxis": "x13",
         "y": [
          0.0037523089640940335,
          0.0745837079352462,
          0.06696976490110206,
          0.001864881939946903,
          0.364582823429495,
          0.12163170976719766,
          0.019707075144841456,
          0.3469077279180766
         ],
         "yaxis": "y13"
        },
        {
         "marker": {
          "color": "red"
         },
         "name": "exp:4920 s",
         "type": "bar",
         "x": [
          "Glc",
          "Man",
          "All",
          "Gal",
          "Alt",
          "Tal",
          "Gul",
          "Ido"
         ],
         "xaxis": "x13",
         "y": [
          0,
          0.06,
          0.13,
          0,
          0.25,
          0.23,
          0.04,
          0.29
         ],
         "yaxis": "y13"
        },
        {
         "marker": {
          "color": "blue"
         },
         "name": "sim:4920 s",
         "type": "bar",
         "x": [
          "Glc",
          "Man",
          "All",
          "Gal",
          "Alt",
          "Tal",
          "Gul",
          "Ido"
         ],
         "xaxis": "x13",
         "y": [
          0.009762753390651288,
          0.10382531060750894,
          0.11244163873051422,
          0.005778762626060973,
          0.26780682134489364,
          0.21212507352685206,
          0.029527475463000323,
          0.25873216431051854
         ],
         "yaxis": "y13"
        },
        {
         "marker": {
          "color": "red"
         },
         "name": "exp:9600 s",
         "type": "bar",
         "x": [
          "Glc",
          "Man",
          "All",
          "Gal",
          "Alt",
          "Tal",
          "Gul",
          "Ido"
         ],
         "xaxis": "x13",
         "y": [
          0,
          0.07,
          0.18,
          0,
          0.17,
          0.32,
          0.04,
          0.22
         ],
         "yaxis": "y13"
        },
        {
         "marker": {
          "color": "blue"
         },
         "name": "sim:9600 s",
         "type": "bar",
         "x": [
          "Glc",
          "Man",
          "All",
          "Gal",
          "Alt",
          "Tal",
          "Gul",
          "Ido"
         ],
         "xaxis": "x13",
         "y": [
          0.017161503810800862,
          0.11269388974104977,
          0.15872971742104217,
          0.012369000764715891,
          0.18142126231318662,
          0.30496238561537037,
          0.035562808292084136,
          0.1770994320417502
         ],
         "yaxis": "y13"
        },
        {
         "marker": {
          "color": "red"
         },
         "name": "exp:1200 s",
         "type": "bar",
         "x": [
          "Glc",
          "Man",
          "All",
          "Gal",
          "Alt",
          "Tal",
          "Gul",
          "Ido"
         ],
         "xaxis": "x14",
         "y": [
          0,
          0,
          0.02,
          0.04,
          0,
          0.05,
          0.43,
          0.46
         ],
         "yaxis": "y14"
        },
        {
         "marker": {
          "color": "blue"
         },
         "name": "sim:1200 s",
         "type": "bar",
         "x": [
          "Glc",
          "Man",
          "All",
          "Gal",
          "Alt",
          "Tal",
          "Gul",
          "Ido"
         ],
         "xaxis": "x14",
         "y": [
          0.00026560461365432024,
          0.0003865710179478081,
          0.02372009141975938,
          0.01105065715884636,
          0.010256441953370022,
          0.03551653724094187,
          0.44866818757605326,
          0.470135909019427
         ],
         "yaxis": "y14"
        },
        {
         "marker": {
          "color": "red"
         },
         "name": "exp:2400 s",
         "type": "bar",
         "x": [
          "Glc",
          "Man",
          "All",
          "Gal",
          "Alt",
          "Tal",
          "Gul",
          "Ido"
         ],
         "xaxis": "x14",
         "y": [
          0,
          0,
          0.05,
          0.06,
          0,
          0.08,
          0.4,
          0.41
         ],
         "yaxis": "y14"
        },
        {
         "marker": {
          "color": "blue"
         },
         "name": "sim:2400 s",
         "type": "bar",
         "x": [
          "Glc",
          "Man",
          "All",
          "Gal",
          "Alt",
          "Tal",
          "Gul",
          "Ido"
         ],
         "xaxis": "x14",
         "y": [
          0.0009623058418729407,
          0.0013901703470614885,
          0.045387456155208575,
          0.02055521821366423,
          0.018408813524824024,
          0.06698308459609498,
          0.42001807301439903,
          0.42629487830687485
         ],
         "yaxis": "y14"
        },
        {
         "marker": {
          "color": "red"
         },
         "name": "exp:4800 s",
         "type": "bar",
         "x": [
          "Glc",
          "Man",
          "All",
          "Gal",
          "Alt",
          "Tal",
          "Gul",
          "Ido"
         ],
         "xaxis": "x14",
         "y": [
          0,
          0,
          0.08,
          0.09,
          0.02,
          0.14,
          0.34,
          0.33
         ],
         "yaxis": "y14"
        },
        {
         "marker": {
          "color": "blue"
         },
         "name": "sim:4800 s",
         "type": "bar",
         "x": [
          "Glc",
          "Man",
          "All",
          "Gal",
          "Alt",
          "Tal",
          "Gul",
          "Ido"
         ],
         "xaxis": "x14",
         "y": [
          0.0031757009269034555,
          0.00451802848126431,
          0.08343784112753742,
          0.03572373931086927,
          0.029935892411953647,
          0.11991596751118543,
          0.36977490869621343,
          0.353517921534073
         ],
         "yaxis": "y14"
        },
        {
         "marker": {
          "color": "red"
         },
         "name": "exp:4920 s",
         "type": "bar",
         "x": [
          "Glc",
          "Man",
          "All",
          "Gal",
          "Alt",
          "Tal",
          "Gul",
          "Ido"
         ],
         "xaxis": "x14",
         "y": [
          0,
          0,
          0.1188118811881188,
          0.1188118811881188,
          0.0297029702970297,
          0.19801980198019803,
          0.2871287128712871,
          0.24752475247524752
         ],
         "yaxis": "y14"
        },
        {
         "marker": {
          "color": "blue"
         },
         "name": "sim:4920 s",
         "type": "bar",
         "x": [
          "Glc",
          "Man",
          "All",
          "Gal",
          "Alt",
          "Tal",
          "Gul",
          "Ido"
         ],
         "xaxis": "x14",
         "y": [
          0.008904121488796326,
          0.012289669285205078,
          0.1430278556555746,
          0.05490339436768934,
          0.041022394530357525,
          0.19660725452891403,
          0.2918733646858637,
          0.2513719454575994
         ],
         "yaxis": "y14"
        },
        {
         "marker": {
          "color": "red"
         },
         "name": "exp:9600 s",
         "type": "bar",
         "x": [
          "Glc",
          "Man",
          "All",
          "Gal",
          "Alt",
          "Tal",
          "Gul",
          "Ido"
         ],
         "xaxis": "x14",
         "y": [
          0,
          0,
          0.16,
          0.14,
          0.02,
          0.27,
          0.24,
          0.17
         ],
         "yaxis": "y14"
        },
        {
         "marker": {
          "color": "blue"
         },
         "name": "sim:9600 s",
         "type": "bar",
         "x": [
          "Glc",
          "Man",
          "All",
          "Gal",
          "Alt",
          "Tal",
          "Gul",
          "Ido"
         ],
         "xaxis": "x14",
         "y": [
          0.017033354336092113,
          0.022519557791791135,
          0.2044106395307732,
          0.06741381606295502,
          0.04422251075385091,
          0.2672936955401613,
          0.2139728466348297,
          0.16313357934954656
         ],
         "yaxis": "y14"
        }
       ],
       "layout": {
        "annotations": [
         {
          "font": {
           "size": 16
          },
          "showarrow": false,
          "text": "start = 100% glucose",
          "x": 0.11375,
          "xanchor": "center",
          "xref": "paper",
          "y": 1,
          "yanchor": "bottom",
          "yref": "paper"
         },
         {
          "font": {
           "size": 16
          },
          "showarrow": false,
          "text": "start = 100% mannose",
          "x": 0.37124999999999997,
          "xanchor": "center",
          "xref": "paper",
          "y": 1,
          "yanchor": "bottom",
          "yref": "paper"
         },
         {
          "font": {
           "size": 16
          },
          "showarrow": false,
          "text": "start = 100% allose",
          "x": 0.62875,
          "xanchor": "center",
          "xref": "paper",
          "y": 1,
          "yanchor": "bottom",
          "yref": "paper"
         },
         {
          "font": {
           "size": 16
          },
          "showarrow": false,
          "text": "start = 100% galactose",
          "x": 0.88625,
          "xanchor": "center",
          "xref": "paper",
          "y": 1,
          "yanchor": "bottom",
          "yref": "paper"
         },
         {
          "font": {
           "size": 16
          },
          "showarrow": false,
          "text": "start = 100% talose",
          "x": 0.11375,
          "xanchor": "center",
          "xref": "paper",
          "y": 0.7250000000000001,
          "yanchor": "bottom",
          "yref": "paper"
         },
         {
          "font": {
           "size": 16
          },
          "showarrow": false,
          "text": "start = 100% altrose",
          "x": 0.37124999999999997,
          "xanchor": "center",
          "xref": "paper",
          "y": 0.7250000000000001,
          "yanchor": "bottom",
          "yref": "paper"
         },
         {
          "font": {
           "size": 16
          },
          "showarrow": false,
          "text": "start = 100% gulose",
          "x": 0.62875,
          "xanchor": "center",
          "xref": "paper",
          "y": 0.7250000000000001,
          "yanchor": "bottom",
          "yref": "paper"
         },
         {
          "font": {
           "size": 16
          },
          "showarrow": false,
          "text": "start = 100% idose",
          "x": 0.88625,
          "xanchor": "center",
          "xref": "paper",
          "y": 0.7250000000000001,
          "yanchor": "bottom",
          "yref": "paper"
         },
         {
          "font": {
           "size": 16
          },
          "showarrow": false,
          "text": "start = 50% mannose 50% altrose",
          "x": 0.11375,
          "xanchor": "center",
          "xref": "paper",
          "y": 0.45,
          "yanchor": "bottom",
          "yref": "paper"
         },
         {
          "font": {
           "size": 16
          },
          "showarrow": false,
          "text": "start = 47% galactose 53% gulose",
          "x": 0.37124999999999997,
          "xanchor": "center",
          "xref": "paper",
          "y": 0.45,
          "yanchor": "bottom",
          "yref": "paper"
         },
         {
          "font": {
           "size": 16
          },
          "showarrow": false,
          "text": "start = 48% glucose 52% mannose",
          "x": 0.62875,
          "xanchor": "center",
          "xref": "paper",
          "y": 0.45,
          "yanchor": "bottom",
          "yref": "paper"
         },
         {
          "font": {
           "size": 16
          },
          "showarrow": false,
          "text": "start = 55% glucose 45% galactose",
          "x": 0.88625,
          "xanchor": "center",
          "xref": "paper",
          "y": 0.45,
          "yanchor": "bottom",
          "yref": "paper"
         },
         {
          "font": {
           "size": 16
          },
          "showarrow": false,
          "text": "start = 52% altrose 48% idose",
          "x": 0.11375,
          "xanchor": "center",
          "xref": "paper",
          "y": 0.175,
          "yanchor": "bottom",
          "yref": "paper"
         },
         {
          "font": {
           "size": 16
          },
          "showarrow": false,
          "text": "start = 48% gulose 52% idose",
          "x": 0.37124999999999997,
          "xanchor": "center",
          "xref": "paper",
          "y": 0.175,
          "yanchor": "bottom",
          "yref": "paper"
         }
        ],
        "barmode": "group",
        "height": 800,
        "showlegend": false,
        "template": {
         "data": {
          "bar": [
           {
            "error_x": {
             "color": "#2a3f5f"
            },
            "error_y": {
             "color": "#2a3f5f"
            },
            "marker": {
             "line": {
              "color": "#E5ECF6",
              "width": 0.5
             },
             "pattern": {
              "fillmode": "overlay",
              "size": 10,
              "solidity": 0.2
             }
            },
            "type": "bar"
           }
          ],
          "barpolar": [
           {
            "marker": {
             "line": {
              "color": "#E5ECF6",
              "width": 0.5
             },
             "pattern": {
              "fillmode": "overlay",
              "size": 10,
              "solidity": 0.2
             }
            },
            "type": "barpolar"
           }
          ],
          "carpet": [
           {
            "aaxis": {
             "endlinecolor": "#2a3f5f",
             "gridcolor": "white",
             "linecolor": "white",
             "minorgridcolor": "white",
             "startlinecolor": "#2a3f5f"
            },
            "baxis": {
             "endlinecolor": "#2a3f5f",
             "gridcolor": "white",
             "linecolor": "white",
             "minorgridcolor": "white",
             "startlinecolor": "#2a3f5f"
            },
            "type": "carpet"
           }
          ],
          "choropleth": [
           {
            "colorbar": {
             "outlinewidth": 0,
             "ticks": ""
            },
            "type": "choropleth"
           }
          ],
          "contour": [
           {
            "colorbar": {
             "outlinewidth": 0,
             "ticks": ""
            },
            "colorscale": [
             [
              0,
              "#0d0887"
             ],
             [
              0.1111111111111111,
              "#46039f"
             ],
             [
              0.2222222222222222,
              "#7201a8"
             ],
             [
              0.3333333333333333,
              "#9c179e"
             ],
             [
              0.4444444444444444,
              "#bd3786"
             ],
             [
              0.5555555555555556,
              "#d8576b"
             ],
             [
              0.6666666666666666,
              "#ed7953"
             ],
             [
              0.7777777777777778,
              "#fb9f3a"
             ],
             [
              0.8888888888888888,
              "#fdca26"
             ],
             [
              1,
              "#f0f921"
             ]
            ],
            "type": "contour"
           }
          ],
          "contourcarpet": [
           {
            "colorbar": {
             "outlinewidth": 0,
             "ticks": ""
            },
            "type": "contourcarpet"
           }
          ],
          "heatmap": [
           {
            "colorbar": {
             "outlinewidth": 0,
             "ticks": ""
            },
            "colorscale": [
             [
              0,
              "#0d0887"
             ],
             [
              0.1111111111111111,
              "#46039f"
             ],
             [
              0.2222222222222222,
              "#7201a8"
             ],
             [
              0.3333333333333333,
              "#9c179e"
             ],
             [
              0.4444444444444444,
              "#bd3786"
             ],
             [
              0.5555555555555556,
              "#d8576b"
             ],
             [
              0.6666666666666666,
              "#ed7953"
             ],
             [
              0.7777777777777778,
              "#fb9f3a"
             ],
             [
              0.8888888888888888,
              "#fdca26"
             ],
             [
              1,
              "#f0f921"
             ]
            ],
            "type": "heatmap"
           }
          ],
          "heatmapgl": [
           {
            "colorbar": {
             "outlinewidth": 0,
             "ticks": ""
            },
            "colorscale": [
             [
              0,
              "#0d0887"
             ],
             [
              0.1111111111111111,
              "#46039f"
             ],
             [
              0.2222222222222222,
              "#7201a8"
             ],
             [
              0.3333333333333333,
              "#9c179e"
             ],
             [
              0.4444444444444444,
              "#bd3786"
             ],
             [
              0.5555555555555556,
              "#d8576b"
             ],
             [
              0.6666666666666666,
              "#ed7953"
             ],
             [
              0.7777777777777778,
              "#fb9f3a"
             ],
             [
              0.8888888888888888,
              "#fdca26"
             ],
             [
              1,
              "#f0f921"
             ]
            ],
            "type": "heatmapgl"
           }
          ],
          "histogram": [
           {
            "marker": {
             "pattern": {
              "fillmode": "overlay",
              "size": 10,
              "solidity": 0.2
             }
            },
            "type": "histogram"
           }
          ],
          "histogram2d": [
           {
            "colorbar": {
             "outlinewidth": 0,
             "ticks": ""
            },
            "colorscale": [
             [
              0,
              "#0d0887"
             ],
             [
              0.1111111111111111,
              "#46039f"
             ],
             [
              0.2222222222222222,
              "#7201a8"
             ],
             [
              0.3333333333333333,
              "#9c179e"
             ],
             [
              0.4444444444444444,
              "#bd3786"
             ],
             [
              0.5555555555555556,
              "#d8576b"
             ],
             [
              0.6666666666666666,
              "#ed7953"
             ],
             [
              0.7777777777777778,
              "#fb9f3a"
             ],
             [
              0.8888888888888888,
              "#fdca26"
             ],
             [
              1,
              "#f0f921"
             ]
            ],
            "type": "histogram2d"
           }
          ],
          "histogram2dcontour": [
           {
            "colorbar": {
             "outlinewidth": 0,
             "ticks": ""
            },
            "colorscale": [
             [
              0,
              "#0d0887"
             ],
             [
              0.1111111111111111,
              "#46039f"
             ],
             [
              0.2222222222222222,
              "#7201a8"
             ],
             [
              0.3333333333333333,
              "#9c179e"
             ],
             [
              0.4444444444444444,
              "#bd3786"
             ],
             [
              0.5555555555555556,
              "#d8576b"
             ],
             [
              0.6666666666666666,
              "#ed7953"
             ],
             [
              0.7777777777777778,
              "#fb9f3a"
             ],
             [
              0.8888888888888888,
              "#fdca26"
             ],
             [
              1,
              "#f0f921"
             ]
            ],
            "type": "histogram2dcontour"
           }
          ],
          "mesh3d": [
           {
            "colorbar": {
             "outlinewidth": 0,
             "ticks": ""
            },
            "type": "mesh3d"
           }
          ],
          "parcoords": [
           {
            "line": {
             "colorbar": {
              "outlinewidth": 0,
              "ticks": ""
             }
            },
            "type": "parcoords"
           }
          ],
          "pie": [
           {
            "automargin": true,
            "type": "pie"
           }
          ],
          "scatter": [
           {
            "fillpattern": {
             "fillmode": "overlay",
             "size": 10,
             "solidity": 0.2
            },
            "type": "scatter"
           }
          ],
          "scatter3d": [
           {
            "line": {
             "colorbar": {
              "outlinewidth": 0,
              "ticks": ""
             }
            },
            "marker": {
             "colorbar": {
              "outlinewidth": 0,
              "ticks": ""
             }
            },
            "type": "scatter3d"
           }
          ],
          "scattercarpet": [
           {
            "marker": {
             "colorbar": {
              "outlinewidth": 0,
              "ticks": ""
             }
            },
            "type": "scattercarpet"
           }
          ],
          "scattergeo": [
           {
            "marker": {
             "colorbar": {
              "outlinewidth": 0,
              "ticks": ""
             }
            },
            "type": "scattergeo"
           }
          ],
          "scattergl": [
           {
            "marker": {
             "colorbar": {
              "outlinewidth": 0,
              "ticks": ""
             }
            },
            "type": "scattergl"
           }
          ],
          "scattermapbox": [
           {
            "marker": {
             "colorbar": {
              "outlinewidth": 0,
              "ticks": ""
             }
            },
            "type": "scattermapbox"
           }
          ],
          "scatterpolar": [
           {
            "marker": {
             "colorbar": {
              "outlinewidth": 0,
              "ticks": ""
             }
            },
            "type": "scatterpolar"
           }
          ],
          "scatterpolargl": [
           {
            "marker": {
             "colorbar": {
              "outlinewidth": 0,
              "ticks": ""
             }
            },
            "type": "scatterpolargl"
           }
          ],
          "scatterternary": [
           {
            "marker": {
             "colorbar": {
              "outlinewidth": 0,
              "ticks": ""
             }
            },
            "type": "scatterternary"
           }
          ],
          "surface": [
           {
            "colorbar": {
             "outlinewidth": 0,
             "ticks": ""
            },
            "colorscale": [
             [
              0,
              "#0d0887"
             ],
             [
              0.1111111111111111,
              "#46039f"
             ],
             [
              0.2222222222222222,
              "#7201a8"
             ],
             [
              0.3333333333333333,
              "#9c179e"
             ],
             [
              0.4444444444444444,
              "#bd3786"
             ],
             [
              0.5555555555555556,
              "#d8576b"
             ],
             [
              0.6666666666666666,
              "#ed7953"
             ],
             [
              0.7777777777777778,
              "#fb9f3a"
             ],
             [
              0.8888888888888888,
              "#fdca26"
             ],
             [
              1,
              "#f0f921"
             ]
            ],
            "type": "surface"
           }
          ],
          "table": [
           {
            "cells": {
             "fill": {
              "color": "#EBF0F8"
             },
             "line": {
              "color": "white"
             }
            },
            "header": {
             "fill": {
              "color": "#C8D4E3"
             },
             "line": {
              "color": "white"
             }
            },
            "type": "table"
           }
          ]
         },
         "layout": {
          "annotationdefaults": {
           "arrowcolor": "#2a3f5f",
           "arrowhead": 0,
           "arrowwidth": 1
          },
          "autotypenumbers": "strict",
          "coloraxis": {
           "colorbar": {
            "outlinewidth": 0,
            "ticks": ""
           }
          },
          "colorscale": {
           "diverging": [
            [
             0,
             "#8e0152"
            ],
            [
             0.1,
             "#c51b7d"
            ],
            [
             0.2,
             "#de77ae"
            ],
            [
             0.3,
             "#f1b6da"
            ],
            [
             0.4,
             "#fde0ef"
            ],
            [
             0.5,
             "#f7f7f7"
            ],
            [
             0.6,
             "#e6f5d0"
            ],
            [
             0.7,
             "#b8e186"
            ],
            [
             0.8,
             "#7fbc41"
            ],
            [
             0.9,
             "#4d9221"
            ],
            [
             1,
             "#276419"
            ]
           ],
           "sequential": [
            [
             0,
             "#0d0887"
            ],
            [
             0.1111111111111111,
             "#46039f"
            ],
            [
             0.2222222222222222,
             "#7201a8"
            ],
            [
             0.3333333333333333,
             "#9c179e"
            ],
            [
             0.4444444444444444,
             "#bd3786"
            ],
            [
             0.5555555555555556,
             "#d8576b"
            ],
            [
             0.6666666666666666,
             "#ed7953"
            ],
            [
             0.7777777777777778,
             "#fb9f3a"
            ],
            [
             0.8888888888888888,
             "#fdca26"
            ],
            [
             1,
             "#f0f921"
            ]
           ],
           "sequentialminus": [
            [
             0,
             "#0d0887"
            ],
            [
             0.1111111111111111,
             "#46039f"
            ],
            [
             0.2222222222222222,
             "#7201a8"
            ],
            [
             0.3333333333333333,
             "#9c179e"
            ],
            [
             0.4444444444444444,
             "#bd3786"
            ],
            [
             0.5555555555555556,
             "#d8576b"
            ],
            [
             0.6666666666666666,
             "#ed7953"
            ],
            [
             0.7777777777777778,
             "#fb9f3a"
            ],
            [
             0.8888888888888888,
             "#fdca26"
            ],
            [
             1,
             "#f0f921"
            ]
           ]
          },
          "colorway": [
           "#636efa",
           "#EF553B",
           "#00cc96",
           "#ab63fa",
           "#FFA15A",
           "#19d3f3",
           "#FF6692",
           "#B6E880",
           "#FF97FF",
           "#FECB52"
          ],
          "font": {
           "color": "#2a3f5f"
          },
          "geo": {
           "bgcolor": "white",
           "lakecolor": "white",
           "landcolor": "#E5ECF6",
           "showlakes": true,
           "showland": true,
           "subunitcolor": "white"
          },
          "hoverlabel": {
           "align": "left"
          },
          "hovermode": "closest",
          "mapbox": {
           "style": "light"
          },
          "paper_bgcolor": "white",
          "plot_bgcolor": "#E5ECF6",
          "polar": {
           "angularaxis": {
            "gridcolor": "white",
            "linecolor": "white",
            "ticks": ""
           },
           "bgcolor": "#E5ECF6",
           "radialaxis": {
            "gridcolor": "white",
            "linecolor": "white",
            "ticks": ""
           }
          },
          "scene": {
           "xaxis": {
            "backgroundcolor": "#E5ECF6",
            "gridcolor": "white",
            "gridwidth": 2,
            "linecolor": "white",
            "showbackground": true,
            "ticks": "",
            "zerolinecolor": "white"
           },
           "yaxis": {
            "backgroundcolor": "#E5ECF6",
            "gridcolor": "white",
            "gridwidth": 2,
            "linecolor": "white",
            "showbackground": true,
            "ticks": "",
            "zerolinecolor": "white"
           },
           "zaxis": {
            "backgroundcolor": "#E5ECF6",
            "gridcolor": "white",
            "gridwidth": 2,
            "linecolor": "white",
            "showbackground": true,
            "ticks": "",
            "zerolinecolor": "white"
           }
          },
          "shapedefaults": {
           "line": {
            "color": "#2a3f5f"
           }
          },
          "ternary": {
           "aaxis": {
            "gridcolor": "white",
            "linecolor": "white",
            "ticks": ""
           },
           "baxis": {
            "gridcolor": "white",
            "linecolor": "white",
            "ticks": ""
           },
           "bgcolor": "#E5ECF6",
           "caxis": {
            "gridcolor": "white",
            "linecolor": "white",
            "ticks": ""
           }
          },
          "title": {
           "x": 0.05
          },
          "xaxis": {
           "automargin": true,
           "gridcolor": "white",
           "linecolor": "white",
           "ticks": "",
           "title": {
            "standoff": 15
           },
           "zerolinecolor": "white",
           "zerolinewidth": 2
          },
          "yaxis": {
           "automargin": true,
           "gridcolor": "white",
           "linecolor": "white",
           "ticks": "",
           "title": {
            "standoff": 15
           },
           "zerolinecolor": "white",
           "zerolinewidth": 2
          }
         }
        },
        "width": 1400,
        "xaxis": {
         "anchor": "y",
         "autorange": true,
         "domain": [
          0,
          0.2275
         ],
         "range": [
          -0.5,
          7.5
         ],
         "type": "category"
        },
        "xaxis10": {
         "anchor": "y10",
         "autorange": true,
         "domain": [
          0.2575,
          0.485
         ],
         "range": [
          -0.5,
          7.5
         ],
         "type": "category"
        },
        "xaxis11": {
         "anchor": "y11",
         "autorange": true,
         "domain": [
          0.515,
          0.7425
         ],
         "range": [
          -0.5,
          7.5
         ],
         "type": "category"
        },
        "xaxis12": {
         "anchor": "y12",
         "autorange": true,
         "domain": [
          0.7725,
          1
         ],
         "range": [
          -0.5,
          7.5
         ],
         "type": "category"
        },
        "xaxis13": {
         "anchor": "y13",
         "autorange": true,
         "domain": [
          0,
          0.2275
         ],
         "range": [
          -0.5,
          7.5
         ],
         "type": "category"
        },
        "xaxis14": {
         "anchor": "y14",
         "autorange": true,
         "domain": [
          0.2575,
          0.485
         ],
         "range": [
          -0.5,
          7.5
         ],
         "type": "category"
        },
        "xaxis15": {
         "anchor": "y15",
         "domain": [
          0.515,
          0.7425
         ]
        },
        "xaxis16": {
         "anchor": "y16",
         "domain": [
          0.7725,
          1
         ]
        },
        "xaxis2": {
         "anchor": "y2",
         "autorange": true,
         "domain": [
          0.2575,
          0.485
         ],
         "range": [
          -0.5,
          7.5
         ],
         "type": "category"
        },
        "xaxis3": {
         "anchor": "y3",
         "autorange": true,
         "domain": [
          0.515,
          0.7425
         ],
         "range": [
          -0.5,
          7.5
         ],
         "type": "category"
        },
        "xaxis4": {
         "anchor": "y4",
         "autorange": true,
         "domain": [
          0.7725,
          1
         ],
         "range": [
          -0.5,
          7.5
         ],
         "type": "category"
        },
        "xaxis5": {
         "anchor": "y5",
         "autorange": true,
         "domain": [
          0,
          0.2275
         ],
         "range": [
          -0.5,
          7.5
         ],
         "type": "category"
        },
        "xaxis6": {
         "anchor": "y6",
         "autorange": true,
         "domain": [
          0.2575,
          0.485
         ],
         "range": [
          -0.5,
          7.5
         ],
         "type": "category"
        },
        "xaxis7": {
         "anchor": "y7",
         "autorange": true,
         "domain": [
          0.515,
          0.7425
         ],
         "range": [
          -0.5,
          7.5
         ],
         "type": "category"
        },
        "xaxis8": {
         "anchor": "y8",
         "autorange": true,
         "domain": [
          0.7725,
          1
         ],
         "range": [
          -0.5,
          7.5
         ],
         "type": "category"
        },
        "xaxis9": {
         "anchor": "y9",
         "autorange": true,
         "domain": [
          0,
          0.2275
         ],
         "range": [
          -0.5,
          7.5
         ],
         "type": "category"
        },
        "yaxis": {
         "anchor": "x",
         "domain": [
          0.825,
          1
         ],
         "range": [
          0,
          1
         ],
         "type": "linear"
        },
        "yaxis10": {
         "anchor": "x10",
         "domain": [
          0.275,
          0.45
         ],
         "range": [
          0,
          1
         ],
         "type": "linear"
        },
        "yaxis11": {
         "anchor": "x11",
         "domain": [
          0.275,
          0.45
         ],
         "range": [
          0,
          1
         ],
         "type": "linear"
        },
        "yaxis12": {
         "anchor": "x12",
         "domain": [
          0.275,
          0.45
         ],
         "range": [
          0,
          1
         ],
         "type": "linear"
        },
        "yaxis13": {
         "anchor": "x13",
         "domain": [
          0,
          0.175
         ],
         "range": [
          0,
          1
         ],
         "type": "linear"
        },
        "yaxis14": {
         "anchor": "x14",
         "domain": [
          0,
          0.175
         ],
         "range": [
          0,
          1
         ],
         "type": "linear"
        },
        "yaxis15": {
         "anchor": "x15",
         "domain": [
          0,
          0.175
         ]
        },
        "yaxis16": {
         "anchor": "x16",
         "domain": [
          0,
          0.175
         ]
        },
        "yaxis2": {
         "anchor": "x2",
         "domain": [
          0.825,
          1
         ],
         "range": [
          0,
          1
         ],
         "type": "linear"
        },
        "yaxis3": {
         "anchor": "x3",
         "domain": [
          0.825,
          1
         ],
         "range": [
          0,
          1
         ],
         "type": "linear"
        },
        "yaxis4": {
         "anchor": "x4",
         "domain": [
          0.825,
          1
         ],
         "range": [
          0,
          1
         ],
         "type": "linear"
        },
        "yaxis5": {
         "anchor": "x5",
         "domain": [
          0.55,
          0.7250000000000001
         ],
         "range": [
          0,
          1
         ],
         "type": "linear"
        },
        "yaxis6": {
         "anchor": "x6",
         "domain": [
          0.55,
          0.7250000000000001
         ],
         "range": [
          0,
          1
         ],
         "type": "linear"
        },
        "yaxis7": {
         "anchor": "x7",
         "domain": [
          0.55,
          0.7250000000000001
         ],
         "range": [
          0,
          1
         ],
         "type": "linear"
        },
        "yaxis8": {
         "anchor": "x8",
         "domain": [
          0.55,
          0.7250000000000001
         ],
         "range": [
          0,
          1
         ],
         "type": "linear"
        },
        "yaxis9": {
         "anchor": "x9",
         "domain": [
          0.275,
          0.45
         ],
         "range": [
          0,
          1
         ],
         "type": "linear"
        }
       }
      },
      "image/png": "[encoded data removed]",
      "text/html": [
       "<div>                            <div id=\"e0fa725e-5c7d-438f-a0ab-77d33156ee13\" class=\"plotly-graph-div\" style=\"height:800px; width:1400px;\"></div>            <script type=\"text/javascript\">                require([\"plotly\"], function(Plotly) {                    window.PLOTLYENV=window.PLOTLYENV || {};                                    if (document.getElementById(\"e0fa725e-5c7d-438f-a0ab-77d33156ee13\")) {                    Plotly.newPlot(                        \"e0fa725e-5c7d-438f-a0ab-77d33156ee13\",                        [{\"marker\":{\"color\":\"red\"},\"name\":\"exp:1200 s\",\"x\":[\"Glc\",\"Man\",\"All\",\"Gal\",\"Alt\",\"Tal\",\"Gul\",\"Ido\"],\"y\":[0.8282828282828283,0.010101010101010102,0.15151515151515152,0.010101010101010102,0.0,0.0,0.0,0.0],\"type\":\"bar\",\"xaxis\":\"x\",\"yaxis\":\"y\"},{\"marker\":{\"color\":\"blue\"},\"name\":\"sim:1200 s\",\"x\":[\"Glc\",\"Man\",\"All\",\"Gal\",\"Alt\",\"Tal\",\"Gul\",\"Ido\"],\"y\":[0.828465867906947,0.004145828822907294,0.15446943385424036,0.011635181520599782,0.000360300160147231,0.00037441336929532987,0.0005440831598595577,4.8912060035355075e-06],\"type\":\"bar\",\"xaxis\":\"x\",\"yaxis\":\"y\"},{\"marker\":{\"color\":\"red\"},\"name\":\"exp:2400 s\",\"x\":[\"Glc\",\"Man\",\"All\",\"Gal\",\"Alt\",\"Tal\",\"Gul\",\"Ido\"],\"y\":[0.6907216494845361,0.010309278350515464,0.28865979381443296,0.010309278350515464,0.0,0.0,0.0,0.0],\"type\":\"bar\",\"xaxis\":\"x\",\"yaxis\":\"y\"},{\"marker\":{\"color\":\"blue\"},\"name\":\"sim:2400 s\",\"x\":[\"Glc\",\"Man\",\"All\",\"Gal\",\"Alt\",\"Tal\",\"Gul\",\"Ido\"],\"y\":[0.6910387066076887,0.007162025964675804,0.27687553391577174,0.020335282787079995,0.0012717161536061952,0.0013443700517047326,0.0019386375029603832,3.3727016512360866e-05],\"type\":\"bar\",\"xaxis\":\"x\",\"yaxis\":\"y\"},{\"marker\":{\"color\":\"red\"},\"name\":\"exp:4800 s\",\"x\":[\"Glc\",\"Man\",\"All\",\"Gal\",\"Alt\",\"Tal\",\"Gul\",\"Ido\"],\"y\":[0.4742268041237113,0.010309278350515464,0.4845360824742268,0.020618556701030927,0.0,0.010309278350515464,0.0,0.0],\"type\":\"bar\",\"xaxis\":\"x\",\"yaxis\":\"y\"},{\"marker\":{\"color\":\"blue\"},\"name\":\"sim:4800 s\",\"x\":[\"Glc\",\"Man\",\"All\",\"Gal\",\"Alt\",\"Tal\",\"Gul\",\"Ido\"],\"y\":[0.4833431091232174,0.011078232722230748,0.4582508326951225,0.031945245092372114,0.004150186857387718,0.004560246185324911,0.0064482273484061225,0.00022391997593847752],\"type\":\"bar\",\"xaxis\":\"x\",\"yaxis\":\"y\"},{\"marker\":{\"color\":\"red\"},\"name\":\"exp:4920 s\",\"x\":[\"Glc\",\"Man\",\"All\",\"Gal\",\"Alt\",\"Tal\",\"Gul\",\"Ido\"],\"y\":[0.22680412371134023,0.010309278350515465,0.7010309278350516,0.04123711340206186,0.0,0.02061855670103093,0.0,0.0],\"type\":\"bar\",\"xaxis\":\"x\",\"yaxis\":\"y\"},{\"marker\":{\"color\":\"blue\"},\"name\":\"sim:4920 s\",\"x\":[\"Glc\",\"Man\",\"All\",\"Gal\",\"Alt\",\"Tal\",\"Gul\",\"Ido\"],\"y\":[0.2695861113868317,0.01404441519180895,0.6352716895860856,0.04034113456499018,0.01046219296993326,0.012451132421365106,0.016760405892041558,0.0010829179869435931],\"type\":\"bar\",\"xaxis\":\"x\",\"yaxis\":\"y\"},{\"marker\":{\"color\":\"red\"},\"name\":\"exp:9600 s\",\"x\":[\"Glc\",\"Man\",\"All\",\"Gal\",\"Alt\",\"Tal\",\"Gul\",\"Ido\"],\"y\":[0.1111111111111111,0.010101010101010102,0.7878787878787878,0.050505050505050504,0.0,0.04040404040404041,0.0,0.0],\"type\":\"bar\",\"xaxis\":\"x\",\"yaxis\":\"y\"},{\"marker\":{\"color\":\"blue\"},\"name\":\"sim:9600 s\",\"x\":[\"Glc\",\"Man\",\"All\",\"Gal\",\"Alt\",\"Tal\",\"Gul\",\"Ido\"],\"y\":[0.14503893470401338,0.015326732438670995,0.7232660769309901,0.0409443230451895,0.01804745305527366,0.024394969844373105,0.029910881061000014,0.003070628920489387],\"type\":\"bar\",\"xaxis\":\"x\",\"yaxis\":\"y\"},{\"marker\":{\"color\":\"red\"},\"name\":\"exp:1200 s\",\"x\":[\"Glc\",\"Man\",\"All\",\"Gal\",\"Alt\",\"Tal\",\"Gul\",\"Ido\"],\"y\":[0.010989010989010992,0.8901098901098902,0.0,0.0,0.021978021978021983,0.07692307692307694,0.0,0.0],\"type\":\"bar\",\"xaxis\":\"x2\",\"yaxis\":\"y2\"},{\"marker\":{\"color\":\"blue\"},\"name\":\"sim:1200 s\",\"x\":[\"Glc\",\"Man\",\"All\",\"Gal\",\"Alt\",\"Tal\",\"Gul\",\"Ido\"],\"y\":[0.012423987417333828,0.8996834211183974,0.001593223084421294,0.00020241755193592628,0.023798036358075435,0.06181324649373493,6.840079761453995e-06,0.00047882789633967726],\"type\":\"bar\",\"xaxis\":\"x2\",\"yaxis\":\"y2\"},{\"marker\":{\"color\":\"red\"},\"name\":\"exp:2400 s\",\"x\":[\"Glc\",\"Man\",\"All\",\"Gal\",\"Alt\",\"Tal\",\"Gul\",\"Ido\"],\"y\":[0.03225806451612903,0.7849462365591398,0.0,0.0,0.043010752688172046,0.13978494623655913,0.0,0.0],\"type\":\"bar\",\"xaxis\":\"x2\",\"yaxis\":\"y2\"},{\"marker\":{\"color\":\"blue\"},\"name\":\"sim:2400 s\",\"x\":[\"Glc\",\"Man\",\"All\",\"Gal\",\"Alt\",\"Tal\",\"Gul\",\"Ido\"],\"y\":[0.021385257971338584,0.8123899272764692,0.00570472813757139,0.0007311608966733138,0.042401908406470956,0.115619910891066,4.7549814189589116e-05,0.0017195566062208453],\"type\":\"bar\",\"xaxis\":\"x2\",\"yaxis\":\"y2\"},{\"marker\":{\"color\":\"red\"},\"name\":\"exp:4800 s\",\"x\":[\"Glc\",\"Man\",\"All\",\"Gal\",\"Alt\",\"Tal\",\"Gul\",\"Ido\"],\"y\":[0.04081632653061224,0.6326530612244898,0.02040816326530612,0.0,0.07142857142857142,0.23469387755102042,0.0,0.0],\"type\":\"bar\",\"xaxis\":\"x2\",\"yaxis\":\"y2\"},{\"marker\":{\"color\":\"blue\"},\"name\":\"sim:4800 s\",\"x\":[\"Glc\",\"Man\",\"All\",\"Gal\",\"Alt\",\"Tal\",\"Gul\",\"Ido\"],\"y\":[0.03255724314046795,0.6631830806622078,0.019160370600346453,0.0025031539113251518,0.06884411805179601,0.20762919747671693,0.0003242945844459962,0.005798541572693733],\"type\":\"bar\",\"xaxis\":\"x2\",\"yaxis\":\"y2\"},{\"marker\":{\"color\":\"red\"},\"name\":\"exp:4920 s\",\"x\":[\"Glc\",\"Man\",\"All\",\"Gal\",\"Alt\",\"Tal\",\"Gul\",\"Ido\"],\"y\":[0.0462962962962963,0.425925925925926,0.05555555555555556,0.00925925925925926,0.0925925925925926,0.3703703703703704,0.0,0.0],\"type\":\"bar\",\"xaxis\":\"x2\",\"yaxis\":\"y2\"},{\"marker\":{\"color\":\"blue\"},\"name\":\"sim:4920 s\",\"x\":[\"Glc\",\"Man\",\"All\",\"Gal\",\"Alt\",\"Tal\",\"Gul\",\"Ido\"],\"y\":[0.038862044084071436,0.4689154477059749,0.05076602088360834,0.0068803591411398845,0.09018054802234168,0.3274133494507567,0.0016503126796858381,0.015331918032421255],\"type\":\"bar\",\"xaxis\":\"x2\",\"yaxis\":\"y2\"},{\"marker\":{\"color\":\"red\"},\"name\":\"exp:9600 s\",\"x\":[\"Glc\",\"Man\",\"All\",\"Gal\",\"Alt\",\"Tal\",\"Gul\",\"Ido\"],\"y\":[0.04807692307692308,0.2692307692307692,0.09615384615384616,0.009615384615384616,0.09615384615384616,0.4807692307692308,0.0,0.0],\"type\":\"bar\",\"xaxis\":\"x2\",\"yaxis\":\"y2\"},{\"marker\":{\"color\":\"blue\"},\"name\":\"sim:9600 s\",\"x\":[\"Glc\",\"Man\",\"All\",\"Gal\",\"Alt\",\"Tal\",\"Gul\",\"Ido\"],\"y\":[0.03670708281189913,0.30411809144513735,0.09341237546425596,0.013336944534757393,0.09135021312213314,0.428441510330574,0.004974999623665118,0.02765878266757795],\"type\":\"bar\",\"xaxis\":\"x2\",\"yaxis\":\"y2\"},{\"marker\":{\"color\":\"red\"},\"name\":\"exp:1200 s\",\"x\":[\"Glc\",\"Man\",\"All\",\"Gal\",\"Alt\",\"Tal\",\"Gul\",\"Ido\"],\"y\":[0.03,0.0,0.97,0.0,0.0,0.0,0.0,0.0],\"type\":\"bar\",\"xaxis\":\"x3\",\"yaxis\":\"y3\"},{\"marker\":{\"color\":\"blue\"},\"name\":\"sim:1200 s\",\"x\":[\"Glc\",\"Man\",\"All\",\"Gal\",\"Alt\",\"Tal\",\"Gul\",\"Ido\"],\"y\":[0.015450568705591297,0.0001336045059397444,0.9756302704853658,0.0001623463457999463,0.0036974492131032046,6.772671499067582e-06,0.004862454276105029,5.653379659589879e-05],\"type\":\"bar\",\"xaxis\":\"x3\",\"yaxis\":\"y3\"},{\"marker\":{\"color\":\"red\"},\"name\":\"exp:2400 s\",\"x\":[\"Glc\",\"Man\",\"All\",\"Gal\",\"Alt\",\"Tal\",\"Gul\",\"Ido\"],\"y\":[0.039603960396039604,0.0,0.9603960396039604,0.0,0.0,0.0,0.0,0.0],\"type\":\"bar\",\"xaxis\":\"x3\",\"yaxis\":\"y3\"},{\"marker\":{\"color\":\"blue\"},\"name\":\"sim:2400 s\",\"x\":[\"Glc\",\"Man\",\"All\",\"Gal\",\"Alt\",\"Tal\",\"Gul\",\"Ido\"],\"y\":[0.027697307806940595,0.00048324006809014004,0.9549406651861843,0.0005900086799664261,0.006868279016594227,4.792227665147688e-05,0.00916619722982183,0.00020637973575106874],\"type\":\"bar\",\"xaxis\":\"x3\",\"yaxis\":\"y3\"},{\"marker\":{\"color\":\"red\"},\"name\":\"exp:4800 s\",\"x\":[\"Glc\",\"Man\",\"All\",\"Gal\",\"Alt\",\"Tal\",\"Gul\",\"Ido\"],\"y\":[0.047619047619047616,0.0,0.9523809523809523,0.0,0.0,0.0,0.0,0.0],\"type\":\"bar\",\"xaxis\":\"x3\",\"yaxis\":\"y3\"},{\"marker\":{\"color\":\"blue\"},\"name\":\"sim:4800 s\",\"x\":[\"Glc\",\"Man\",\"All\",\"Gal\",\"Alt\",\"Tal\",\"Gul\",\"Ido\"],\"y\":[0.045838490680922245,0.0016574912367538909,0.9204817516327878,0.0020442656934611856,0.01218651152570688,0.00033992275484686073,0.01673003430830732,0.0007215321672138722],\"type\":\"bar\",\"xaxis\":\"x3\",\"yaxis\":\"y3\"},{\"marker\":{\"color\":\"red\"},\"name\":\"exp:4920 s\",\"x\":[\"Glc\",\"Man\",\"All\",\"Gal\",\"Alt\",\"Tal\",\"Gul\",\"Ido\"],\"y\":[0.06060606060606061,0.0,0.9393939393939394,0.0,0.0,0.0,0.0,0.0],\"type\":\"bar\",\"xaxis\":\"x3\",\"yaxis\":\"y3\"},{\"marker\":{\"color\":\"blue\"},\"name\":\"sim:4920 s\",\"x\":[\"Glc\",\"Man\",\"All\",\"Gal\",\"Alt\",\"Tal\",\"Gul\",\"Ido\"],\"y\":[0.0636016628979504,0.0045328422702533505,0.8761298609956032,0.0056967050764377344,0.01892746397793546,0.0018941969476163405,0.027174114797939672,0.0020431530362638828],\"type\":\"bar\",\"xaxis\":\"x3\",\"yaxis\":\"y3\"},{\"marker\":{\"color\":\"red\"},\"name\":\"exp:9600 s\",\"x\":[\"Glc\",\"Man\",\"All\",\"Gal\",\"Alt\",\"Tal\",\"Gul\",\"Ido\"],\"y\":[0.0707070707070707,0.0,0.9292929292929293,0.0,0.0,0.0,0.0,0.0],\"type\":\"bar\",\"xaxis\":\"x3\",\"yaxis\":\"y3\"},{\"marker\":{\"color\":\"blue\"},\"name\":\"sim:9600 s\",\"x\":[\"Glc\",\"Man\",\"All\",\"Gal\",\"Alt\",\"Tal\",\"Gul\",\"Ido\"],\"y\":[0.07255684698437823,0.008645935132384272,0.8356551413747941,0.01114300172388107,0.02449744365759053,0.006467640375286039,0.03695000798830286,0.00408398276338287],\"type\":\"bar\",\"xaxis\":\"x3\",\"yaxis\":\"y3\"},{\"marker\":{\"color\":\"red\"},\"name\":\"exp:1200 s\",\"x\":[\"Glc\",\"Man\",\"All\",\"Gal\",\"Alt\",\"Tal\",\"Gul\",\"Ido\"],\"y\":[0.020202020202020204,0.0,0.0,0.9090909090909091,0.0,0.04040404040404041,0.030303030303030304,0.0],\"type\":\"bar\",\"xaxis\":\"x4\",\"yaxis\":\"y4\"},{\"marker\":{\"color\":\"blue\"},\"name\":\"sim:1200 s\",\"x\":[\"Glc\",\"Man\",\"All\",\"Gal\",\"Alt\",\"Tal\",\"Gul\",\"Ido\"],\"y\":[0.011637120113065492,0.00014625781909181372,0.00162561469530376,0.9269388516264596,5.095696420171764e-06,0.03672741526581426,0.022711266518692957,0.00020837826515188187],\"type\":\"bar\",\"xaxis\":\"x4\",\"yaxis\":\"y4\"},{\"marker\":{\"color\":\"red\"},\"name\":\"exp:2400 s\",\"x\":[\"Glc\",\"Man\",\"All\",\"Gal\",\"Alt\",\"Tal\",\"Gul\",\"Ido\"],\"y\":[0.020833333333333332,0.0,0.0,0.8541666666666666,0.0,0.08333333333333333,0.041666666666666664,0.0],\"type\":\"bar\",\"xaxis\":\"x4\",\"yaxis\":\"y4\"},{\"marker\":{\"color\":\"blue\"},\"name\":\"sim:2400 s\",\"x\":[\"Glc\",\"Man\",\"All\",\"Gal\",\"Alt\",\"Tal\",\"Gul\",\"Ido\"],\"y\":[0.020339884437632325,0.0005350111561611977,0.005906185895718558,0.8610710026189894,3.539620652194793e-05,0.0696593284757005,0.04169065720777916,0.0007625340014969317],\"type\":\"bar\",\"xaxis\":\"x4\",\"yaxis\":\"y4\"},{\"marker\":{\"color\":\"red\"},\"name\":\"exp:4800 s\",\"x\":[\"Glc\",\"Man\",\"All\",\"Gal\",\"Alt\",\"Tal\",\"Gul\",\"Ido\"],\"y\":[0.04040404040404041,0.0,0.010101010101010102,0.7171717171717171,0.0,0.1414141414141414,0.09090909090909091,0.0],\"type\":\"bar\",\"xaxis\":\"x4\",\"yaxis\":\"y4\"},{\"marker\":{\"color\":\"blue\"},\"name\":\"sim:4800 s\",\"x\":[\"Glc\",\"Man\",\"All\",\"Gal\",\"Alt\",\"Tal\",\"Gul\",\"Ido\"],\"y\":[0.03196410888672847,0.0018791014426062201,0.020434939477727516,0.7425336787319259,0.00024284396904851875,0.12844296864361537,0.07182954460854164,0.002672814239806254],\"type\":\"bar\",\"xaxis\":\"x4\",\"yaxis\":\"y4\"},{\"marker\":{\"color\":\"red\"},\"name\":\"exp:4920 s\",\"x\":[\"Glc\",\"Man\",\"All\",\"Gal\",\"Alt\",\"Tal\",\"Gul\",\"Ido\"],\"y\":[0.04854368932038835,0.0,0.04854368932038835,0.5533980582524272,0.0,0.23300970873786409,0.11650485436893204,0.0],\"type\":\"bar\",\"xaxis\":\"x4\",\"yaxis\":\"y4\"},{\"marker\":{\"color\":\"blue\"},\"name\":\"sim:4920 s\",\"x\":[\"Glc\",\"Man\",\"All\",\"Gal\",\"Alt\",\"Tal\",\"Gul\",\"Ido\"],\"y\":[0.04043311744247029,0.0053934566892691,0.056937002263795077,0.5731379428867905,0.001253044550844158,0.21113803319569308,0.10414366099391345,0.007563741977224387],\"type\":\"bar\",\"xaxis\":\"x4\",\"yaxis\":\"y4\"},{\"marker\":{\"color\":\"red\"},\"name\":\"exp:9600 s\",\"x\":[\"Glc\",\"Man\",\"All\",\"Gal\",\"Alt\",\"Tal\",\"Gul\",\"Ido\"],\"y\":[0.039603960396039604,0.0,0.1188118811881188,0.39603960396039606,0.0,0.31683168316831684,0.12871287128712872,0.0],\"type\":\"bar\",\"xaxis\":\"x4\",\"yaxis\":\"y4\"},{\"marker\":{\"color\":\"blue\"},\"name\":\"sim:9600 s\",\"x\":[\"Glc\",\"Man\",\"All\",\"Gal\",\"Alt\",\"Tal\",\"Gul\",\"Ido\"],\"y\":[0.041210277497690205,0.01101536221526239,0.11135242704480404,0.40873929016294175,0.0038465168751290043,0.2893257493216006,0.11960849147205631,0.014901885410515708],\"type\":\"bar\",\"xaxis\":\"x4\",\"yaxis\":\"y4\"},{\"marker\":{\"color\":\"red\"},\"name\":\"exp:1200 s\",\"x\":[\"Glc\",\"Man\",\"All\",\"Gal\",\"Alt\",\"Tal\",\"Gul\",\"Ido\"],\"y\":[0.0,0.0,0.0,0.0,0.0,1.0,0.0,0.0],\"type\":\"bar\",\"xaxis\":\"x5\",\"yaxis\":\"y5\"},{\"marker\":{\"color\":\"blue\"},\"name\":\"sim:1200 s\",\"x\":[\"Glc\",\"Man\",\"All\",\"Gal\",\"Alt\",\"Tal\",\"Gul\",\"Ido\"],\"y\":[6.546113305253979e-05,0.0061822260973893,7.97504599801885e-06,0.0036731483644589203,0.0001529442056605112,0.9830598927147278,9.166064381198182e-05,0.006766691794900939],\"type\":\"bar\",\"xaxis\":\"x5\",\"yaxis\":\"y5\"},{\"marker\":{\"color\":\"red\"},\"name\":\"exp:2400 s\",\"x\":[\"Glc\",\"Man\",\"All\",\"Gal\",\"Alt\",\"Tal\",\"Gul\",\"Ido\"],\"y\":[0.0,0.0,0.0,0.0,0.0,1.0,0.0,0.0],\"type\":\"bar\",\"xaxis\":\"x5\",\"yaxis\":\"y5\"},{\"marker\":{\"color\":\"blue\"},\"name\":\"sim:2400 s\",\"x\":[\"Glc\",\"Man\",\"All\",\"Gal\",\"Alt\",\"Tal\",\"Gul\",\"Ido\"],\"y\":[0.0002345208598731515,0.011567061202677023,5.571500390068662e-05,0.0069685019595349465,0.0005576088840275988,0.9676335298244231,0.00033910996137388716,0.012643952304189732],\"type\":\"bar\",\"xaxis\":\"x5\",\"yaxis\":\"y5\"},{\"marker\":{\"color\":\"red\"},\"name\":\"exp:4800 s\",\"x\":[\"Glc\",\"Man\",\"All\",\"Gal\",\"Alt\",\"Tal\",\"Gul\",\"Ido\"],\"y\":[0.0,0.0,0.0,0.010101010101010102,0.0,0.98989898989899,0.0,0.0],\"type\":\"bar\",\"xaxis\":\"x5\",\"yaxis\":\"y5\"},{\"marker\":{\"color\":\"blue\"},\"name\":\"sim:4800 s\",\"x\":[\"Glc\",\"Man\",\"All\",\"Gal\",\"Alt\",\"Tal\",\"Gul\",\"Ido\"],\"y\":[0.0007938825900653115,0.020790285253587483,0.00038754809713172636,0.012860165332181869,0.0019434253208568293,0.9393698396309182,0.001217009771286178,0.0226378440039723],\"type\":\"bar\",\"xaxis\":\"x5\",\"yaxis\":\"y5\"},{\"marker\":{\"color\":\"red\"},\"name\":\"exp:4920 s\",\"x\":[\"Glc\",\"Man\",\"All\",\"Gal\",\"Alt\",\"Tal\",\"Gul\",\"Ido\"],\"y\":[0.0,0.0,0.0,0.020833333333333332,0.0,0.9791666666666666,0.0,0.0],\"type\":\"bar\",\"xaxis\":\"x5\",\"yaxis\":\"y5\"},{\"marker\":{\"color\":\"blue\"},\"name\":\"sim:4920 s\",\"x\":[\"Glc\",\"Man\",\"All\",\"Gal\",\"Alt\",\"Tal\",\"Gul\",\"Ido\"],\"y\":[0.002128493628529826,0.0328855805152632,0.0021424675883628327,0.021198602743427487,0.005433126766986688,0.8971873012942758,0.0035855075123249662,0.035438919950829054],\"type\":\"bar\",\"xaxis\":\"x5\",\"yaxis\":\"y5\"},{\"marker\":{\"color\":\"red\"},\"name\":\"exp:9600 s\",\"x\":[\"Glc\",\"Man\",\"All\",\"Gal\",\"Alt\",\"Tal\",\"Gul\",\"Ido\"],\"y\":[0.0,0.0,0.0,0.03225806451612903,0.0,0.967741935483871,0.0,0.0],\"type\":\"bar\",\"xaxis\":\"x5\",\"yaxis\":\"y5\"},{\"marker\":{\"color\":\"blue\"},\"name\":\"sim:9600 s\",\"x\":[\"Glc\",\"Man\",\"All\",\"Gal\",\"Alt\",\"Tal\",\"Gul\",\"Ido\"],\"y\":[0.004044557592683941,0.04328789237961964,0.007242942033644997,0.02920231073364933,0.01056520677766607,0.8523960773768882,0.007459210482704648,0.045801802623143116],\"type\":\"bar\",\"xaxis\":\"x5\",\"yaxis\":\"y5\"},{\"marker\":{\"color\":\"red\"},\"name\":\"exp:1200 s\",\"x\":[\"Glc\",\"Man\",\"All\",\"Gal\",\"Alt\",\"Tal\",\"Gul\",\"Ido\"],\"y\":[0.0,0.04,0.04,0.0,0.9,0.0,0.0,0.02],\"type\":\"bar\",\"xaxis\":\"x6\",\"yaxis\":\"y6\"},{\"marker\":{\"color\":\"blue\"},\"name\":\"sim:1200 s\",\"x\":[\"Glc\",\"Man\",\"All\",\"Gal\",\"Alt\",\"Tal\",\"Gul\",\"Ido\"],\"y\":[0.0006368565997582663,0.04759199200244471,0.03699059641676042,8.006605336302911e-06,0.8926271586752391,0.0023381543767180667,0.00023291047319784914,0.01957432485054536],\"type\":\"bar\",\"xaxis\":\"x6\",\"yaxis\":\"y6\"},{\"marker\":{\"color\":\"red\"},\"name\":\"exp:2400 s\",\"x\":[\"Glc\",\"Man\",\"All\",\"Gal\",\"Alt\",\"Tal\",\"Gul\",\"Ido\"],\"y\":[0.009708737864077669,0.08737864077669903,0.08737864077669903,0.0,0.7961165048543689,0.0,0.0,0.019417475728155338],\"type\":\"bar\",\"xaxis\":\"x6\",\"yaxis\":\"y6\"},{\"marker\":{\"color\":\"blue\"},\"name\":\"sim:2400 s\",\"x\":[\"Glc\",\"Man\",\"All\",\"Gal\",\"Alt\",\"Tal\",\"Gul\",\"Ido\"],\"y\":[0.0022281348166157794,0.08477537715120155,0.06880116559663421,5.5568590463050206e-05,0.7999104968422474,0.008522653601210477,0.0008408038523453439,0.034865799549282234],\"type\":\"bar\",\"xaxis\":\"x6\",\"yaxis\":\"y6\"},{\"marker\":{\"color\":\"red\"},\"name\":\"exp:4800 s\",\"x\":[\"Glc\",\"Man\",\"All\",\"Gal\",\"Alt\",\"Tal\",\"Gul\",\"Ido\"],\"y\":[0.018867924528301886,0.12264150943396226,0.16037735849056603,0.0,0.6226415094339622,0.02830188679245283,0.0,0.04716981132075472],\"type\":\"bar\",\"xaxis\":\"x6\",\"yaxis\":\"y6\"},{\"marker\":{\"color\":\"blue\"},\"name\":\"sim:4800 s\",\"x\":[\"Glc\",\"Man\",\"All\",\"Gal\",\"Alt\",\"Tal\",\"Gul\",\"Ido\"],\"y\":[0.007123293825735721,0.13749608169032104,0.12268991081476444,0.00037863319979613885,0.6431797363580904,0.02964582174956136,0.0028708218427241296,0.0566157005190067],\"type\":\"bar\",\"xaxis\":\"x6\",\"yaxis\":\"y6\"},{\"marker\":{\"color\":\"red\"},\"name\":\"exp:4920 s\",\"x\":[\"Glc\",\"Man\",\"All\",\"Gal\",\"Alt\",\"Tal\",\"Gul\",\"Ido\"],\"y\":[0.019417475728155338,0.18446601941747573,0.24271844660194175,0.0,0.4368932038834951,0.08737864077669903,0.0,0.02912621359223301],\"type\":\"bar\",\"xaxis\":\"x6\",\"yaxis\":\"y6\"},{\"marker\":{\"color\":\"blue\"},\"name\":\"sim:4920 s\",\"x\":[\"Glc\",\"Man\",\"All\",\"Gal\",\"Alt\",\"Tal\",\"Gul\",\"Ido\"],\"y\":[0.017273374055961323,0.17940965769217387,0.1932715911287811,0.0019260522807015164,0.44304345581423416,0.08285563815415233,0.0078097138845858415,0.0744105169894098],\"type\":\"bar\",\"xaxis\":\"x6\",\"yaxis\":\"y6\"},{\"marker\":{\"color\":\"red\"},\"name\":\"exp:9600 s\",\"x\":[\"Glc\",\"Man\",\"All\",\"Gal\",\"Alt\",\"Tal\",\"Gul\",\"Ido\"],\"y\":[0.019801980198019802,0.1782178217821782,0.33663366336633666,0.0,0.2871287128712871,0.13861386138613863,0.0,0.039603960396039604],\"type\":\"bar\",\"xaxis\":\"x6\",\"yaxis\":\"y6\"},{\"marker\":{\"color\":\"blue\"},\"name\":\"sim:9600 s\",\"x\":[\"Glc\",\"Man\",\"All\",\"Gal\",\"Alt\",\"Tal\",\"Gul\",\"Ido\"],\"y\":[0.02826908374400682,0.17992791702018585,0.2563141779290805,0.00580793227555716,0.2775946117893453,0.16093149250985986,0.014806796066146731,0.07634798866581771],\"type\":\"bar\",\"xaxis\":\"x6\",\"yaxis\":\"y6\"},{\"marker\":{\"color\":\"red\"},\"name\":\"exp:1200 s\",\"x\":[\"Glc\",\"Man\",\"All\",\"Gal\",\"Alt\",\"Tal\",\"Gul\",\"Ido\"],\"y\":[0.0,0.0,0.08823529411764706,0.0,0.0,0.0,0.9117647058823529,0.0],\"type\":\"bar\",\"xaxis\":\"x7\",\"yaxis\":\"y7\"},{\"marker\":{\"color\":\"blue\"},\"name\":\"sim:1200 s\",\"x\":[\"Glc\",\"Man\",\"All\",\"Gal\",\"Alt\",\"Tal\",\"Gul\",\"Ido\"],\"y\":[0.0005434240390290035,5.389029627447315e-06,0.04862202458520092,0.022710886472059617,0.0001635766146312561,0.0006817109679223305,0.9208835591582822,0.006389429133247088],\"type\":\"bar\",\"xaxis\":\"x7\",\"yaxis\":\"y7\"},{\"marker\":{\"color\":\"red\"},\"name\":\"exp:2400 s\",\"x\":[\"Glc\",\"Man\",\"All\",\"Gal\",\"Alt\",\"Tal\",\"Gul\",\"Ido\"],\"y\":[0.0,0.0,0.13,0.0,0.0,0.0,0.87,0.0],\"type\":\"bar\",\"xaxis\":\"x7\",\"yaxis\":\"y7\"},{\"marker\":{\"color\":\"blue\"},\"name\":\"sim:2400 s\",\"x\":[\"Glc\",\"Man\",\"All\",\"Gal\",\"Alt\",\"Tal\",\"Gul\",\"Ido\"],\"y\":[0.0019379597121649988,3.7571936287940065e-05,0.09165103387877122,0.041688341416050594,0.0005930517985895114,0.002526066624720214,0.850007098105208,0.011558876528207558],\"type\":\"bar\",\"xaxis\":\"x7\",\"yaxis\":\"y7\"},{\"marker\":{\"color\":\"red\"},\"name\":\"exp:4800 s\",\"x\":[\"Glc\",\"Man\",\"All\",\"Gal\",\"Alt\",\"Tal\",\"Gul\",\"Ido\"],\"y\":[0.0,0.0,0.2222222222222222,0.0,0.0,0.030303030303030304,0.7474747474747475,0.0],\"type\":\"bar\",\"xaxis\":\"x7\",\"yaxis\":\"y7\"},{\"marker\":{\"color\":\"blue\"},\"name\":\"sim:4800 s\",\"x\":[\"Glc\",\"Man\",\"All\",\"Gal\",\"Alt\",\"Tal\",\"Gul\",\"Ido\"],\"y\":[0.00644804037444855,0.00025820160372286196,0.16725805234084246,0.07181418280898769,0.002041858034256941,0.009087711504743431,0.7237207288368683,0.019371224496129658],\"type\":\"bar\",\"xaxis\":\"x7\",\"yaxis\":\"y7\"},{\"marker\":{\"color\":\"red\"},\"name\":\"exp:4920 s\",\"x\":[\"Glc\",\"Man\",\"All\",\"Gal\",\"Alt\",\"Tal\",\"Gul\",\"Ido\"],\"y\":[0.022222222222222223,0.0,0.34444444444444444,0.0,0.0,0.06666666666666667,0.5666666666666667,0.0],\"type\":\"bar\",\"xaxis\":\"x7\",\"yaxis\":\"y7\"},{\"marker\":{\"color\":\"blue\"},\"name\":\"sim:4920 s\",\"x\":[\"Glc\",\"Man\",\"All\",\"Gal\",\"Alt\",\"Tal\",\"Gul\",\"Ido\"],\"y\":[0.016768524929157813,0.0013311590637480244,0.27150443804321955,0.1040588173545885,0.005630181549486472,0.02694921617715473,0.5468177102939572,0.026939952588687834],\"type\":\"bar\",\"xaxis\":\"x7\",\"yaxis\":\"y7\"},{\"marker\":{\"color\":\"red\"},\"name\":\"exp:9600 s\",\"x\":[\"Glc\",\"Man\",\"All\",\"Gal\",\"Alt\",\"Tal\",\"Gul\",\"Ido\"],\"y\":[0.04597701149425287,0.0,0.42528735632183906,0.0,0.0,0.10344827586206896,0.42528735632183906,0.0],\"type\":\"bar\",\"xaxis\":\"x7\",\"yaxis\":\"y7\"},{\"marker\":{\"color\":\"blue\"},\"name\":\"sim:9600 s\",\"x\":[\"Glc\",\"Man\",\"All\",\"Gal\",\"Alt\",\"Tal\",\"Gul\",\"Ido\"],\"y\":[0.029956011335048577,0.004081498528315292,0.36872596379621764,0.1193311675295622,0.010833113579772392,0.05655829244505873,0.38066643194206856,0.029847520843956633],\"type\":\"bar\",\"xaxis\":\"x7\",\"yaxis\":\"y7\"},{\"marker\":{\"color\":\"red\"},\"name\":\"exp:1200 s\",\"x\":[\"Glc\",\"Man\",\"All\",\"Gal\",\"Alt\",\"Tal\",\"Gul\",\"Ido\"],\"y\":[0.0,0.0,0.0,0.0,0.02,0.09,0.0,0.89],\"type\":\"bar\",\"xaxis\":\"x8\",\"yaxis\":\"y8\"},{\"marker\":{\"color\":\"blue\"},\"name\":\"sim:1200 s\",\"x\":[\"Glc\",\"Man\",\"All\",\"Gal\",\"Alt\",\"Tal\",\"Gul\",\"Ido\"],\"y\":[9.149922349285949e-06,0.0007387815879819316,0.0007338052617943368,0.0002873886829131996,0.01957250246348796,0.06767132084236577,0.012776982813485925,0.8982100684256215],\"type\":\"bar\",\"xaxis\":\"x8\",\"yaxis\":\"y8\"},{\"marker\":{\"color\":\"red\"},\"name\":\"exp:2400 s\",\"x\":[\"Glc\",\"Man\",\"All\",\"Gal\",\"Alt\",\"Tal\",\"Gul\",\"Ido\"],\"y\":[0.0,0.0,0.0,0.0,0.0297029702970297,0.15841584158415842,0.0297029702970297,0.7821782178217822],\"type\":\"bar\",\"xaxis\":\"x8\",\"yaxis\":\"y8\"},{\"marker\":{\"color\":\"blue\"},\"name\":\"sim:2400 s\",\"x\":[\"Glc\",\"Man\",\"All\",\"Gal\",\"Alt\",\"Tal\",\"Gul\",\"Ido\"],\"y\":[6.169879534622716e-05,0.002639292314607045,0.0026827827635747927,0.001047752207408139,0.034853475608685264,0.12648123430071667,0.02310499255783841,0.8091287714518234],\"type\":\"bar\",\"xaxis\":\"x8\",\"yaxis\":\"y8\"},{\"marker\":{\"color\":\"red\"},\"name\":\"exp:4800 s\",\"x\":[\"Glc\",\"Man\",\"All\",\"Gal\",\"Alt\",\"Tal\",\"Gul\",\"Ido\"],\"y\":[0.0,0.0,0.0,0.0,0.04,0.25,0.05,0.66],\"type\":\"bar\",\"xaxis\":\"x8\",\"yaxis\":\"y8\"},{\"marker\":{\"color\":\"blue\"},\"name\":\"sim:4800 s\",\"x\":[\"Glc\",\"Man\",\"All\",\"Gal\",\"Alt\",\"Tal\",\"Gul\",\"Ido\"],\"y\":[0.00038105793625389556,0.008466076651850668,0.009028694252709834,0.0034998621208196176,0.055756793476706826,0.2225636539527787,0.03806795604583109,0.6622359055630495],\"type\":\"bar\",\"xaxis\":\"x8\",\"yaxis\":\"y8\"},{\"marker\":{\"color\":\"red\"},\"name\":\"exp:4920 s\",\"x\":[\"Glc\",\"Man\",\"All\",\"Gal\",\"Alt\",\"Tal\",\"Gul\",\"Ido\"],\"y\":[0.0,0.0,0.01,0.0,0.05,0.38,0.07,0.49],\"type\":\"bar\",\"xaxis\":\"x8\",\"yaxis\":\"y8\"},{\"marker\":{\"color\":\"blue\"},\"name\":\"sim:4920 s\",\"x\":[\"Glc\",\"Man\",\"All\",\"Gal\",\"Alt\",\"Tal\",\"Gul\",\"Ido\"],\"y\":[0.0018767764950953626,0.022434895137407148,0.02639686620134138,0.010008907000561803,0.07378232522002022,0.35366957321586395,0.05319226026159921,0.45863839646811094],\"type\":\"bar\",\"xaxis\":\"x8\",\"yaxis\":\"y8\"},{\"marker\":{\"color\":\"red\"},\"name\":\"exp:9600 s\",\"x\":[\"Glc\",\"Man\",\"All\",\"Gal\",\"Alt\",\"Tal\",\"Gul\",\"Ido\"],\"y\":[0.0,0.0,0.04040404040404041,0.0,0.04040404040404041,0.5050505050505051,0.0707070707070707,0.3434343434343434],\"type\":\"bar\",\"xaxis\":\"x8\",\"yaxis\":\"y8\"},{\"marker\":{\"color\":\"blue\"},\"name\":\"sim:9600 s\",\"x\":[\"Glc\",\"Man\",\"All\",\"Gal\",\"Alt\",\"Tal\",\"Gul\",\"Ido\"],\"y\":[0.005272429793524587,0.03958418873766251,0.053872318530420855,0.019555824254737432,0.07511939470987215,0.4622642338576585,0.058161024910327735,0.2861705852057962],\"type\":\"bar\",\"xaxis\":\"x8\",\"yaxis\":\"y8\"},{\"marker\":{\"color\":\"red\"},\"name\":\"exp:1200 s\",\"x\":[\"Glc\",\"Man\",\"All\",\"Gal\",\"Alt\",\"Tal\",\"Gul\",\"Ido\"],\"y\":[0.02,0.46,0.02,0.0,0.46,0.04,0.0,0.0],\"type\":\"bar\",\"xaxis\":\"x9\",\"yaxis\":\"y9\"},{\"marker\":{\"color\":\"blue\"},\"name\":\"sim:1200 s\",\"x\":[\"Glc\",\"Man\",\"All\",\"Gal\",\"Alt\",\"Tal\",\"Gul\",\"Ido\"],\"y\":[0.006530663751735761,0.47363786573246036,0.019291753738362415,0.0001051903596953458,0.458212363420796,0.032075582436249396,0.00011985479896018578,0.010026725761740553],\"type\":\"bar\",\"xaxis\":\"x9\",\"yaxis\":\"y9\"},{\"marker\":{\"color\":\"red\"},\"name\":\"exp:2400 s\",\"x\":[\"Glc\",\"Man\",\"All\",\"Gal\",\"Alt\",\"Tal\",\"Gul\",\"Ido\"],\"y\":[0.02,0.43,0.04,0.0,0.42,0.07,0.0,0.02],\"type\":\"bar\",\"xaxis\":\"x9\",\"yaxis\":\"y9\"},{\"marker\":{\"color\":\"blue\"},\"name\":\"sim:2400 s\",\"x\":[\"Glc\",\"Man\",\"All\",\"Gal\",\"Alt\",\"Tal\",\"Gul\",\"Ido\"],\"y\":[0.011807123121623629,0.44858296356130234,0.03725264969239994,0.00039332917115678274,0.421155817757602,0.06207104447616196,0.00044414385696539934,0.018292928362787956],\"type\":\"bar\",\"xaxis\":\"x9\",\"yaxis\":\"y9\"},{\"marker\":{\"color\":\"red\"},\"name\":\"exp:4800 s\",\"x\":[\"Glc\",\"Man\",\"All\",\"Gal\",\"Alt\",\"Tal\",\"Gul\",\"Ido\"],\"y\":[0.0297029702970297,0.36633663366336633,0.07920792079207921,0.0,0.3564356435643564,0.13861386138613863,0.0,0.0297029702970297],\"type\":\"bar\",\"xaxis\":\"x9\",\"yaxis\":\"y9\"},{\"marker\":{\"color\":\"blue\"},\"name\":\"sim:4800 s\",\"x\":[\"Glc\",\"Man\",\"All\",\"Gal\",\"Alt\",\"Tal\",\"Gul\",\"Ido\"],\"y\":[0.01953569213216334,0.4025058508200419,0.06943747556664986,0.0013800145903697253,0.3587721513364245,0.1161300426281249,0.0015312376199470654,0.030707535306278733],\"type\":\"bar\",\"xaxis\":\"x9\",\"yaxis\":\"y9\"},{\"marker\":{\"color\":\"red\"},\"name\":\"exp:4920 s\",\"x\":[\"Glc\",\"Man\",\"All\",\"Gal\",\"Alt\",\"Tal\",\"Gul\",\"Ido\"],\"y\":[0.030303030303030304,0.31313131313131315,0.13131313131313133,0.0,0.2828282828282828,0.20202020202020202,0.0,0.04040404040404041],\"type\":\"bar\",\"xaxis\":\"x9\",\"yaxis\":\"y9\"},{\"marker\":{\"color\":\"blue\"},\"name\":\"sim:4920 s\",\"x\":[\"Glc\",\"Man\",\"All\",\"Gal\",\"Alt\",\"Tal\",\"Gul\",\"Ido\"],\"y\":[0.027929023140968734,0.32582906262923883,0.1209254158289906,0.0043209516511104685,0.26843027077767806,0.2032752668449489,0.004645110969327235,0.04464489815773718],\"type\":\"bar\",\"xaxis\":\"x9\",\"yaxis\":\"y9\"},{\"marker\":{\"color\":\"red\"},\"name\":\"exp:9600 s\",\"x\":[\"Glc\",\"Man\",\"All\",\"Gal\",\"Alt\",\"Tal\",\"Gul\",\"Ido\"],\"y\":[0.039603960396039604,0.22772277227722773,0.19801980198019803,0.0,0.18811881188118812,0.3069306930693069,0.0,0.039603960396039604],\"type\":\"bar\",\"xaxis\":\"x9\",\"yaxis\":\"y9\"},{\"marker\":{\"color\":\"blue\"},\"name\":\"sim:9600 s\",\"x\":[\"Glc\",\"Man\",\"All\",\"Gal\",\"Alt\",\"Tal\",\"Gul\",\"Ido\"],\"y\":[0.0324491651841363,0.2431314130186713,0.17416217751012333,0.009486885242413574,0.1855059499900762,0.2935048028611526,0.009808189061408772,0.05195141713201794],\"type\":\"bar\",\"xaxis\":\"x9\",\"yaxis\":\"y9\"},{\"marker\":{\"color\":\"red\"},\"name\":\"exp:1200 s\",\"x\":[\"Glc\",\"Man\",\"All\",\"Gal\",\"Alt\",\"Tal\",\"Gul\",\"Ido\"],\"y\":[0.0,0.0,0.03,0.44,0.0,0.04,0.49,0.0],\"type\":\"bar\",\"xaxis\":\"x10\",\"yaxis\":\"y10\"},{\"marker\":{\"color\":\"blue\"},\"name\":\"sim:1200 s\",\"x\":[\"Glc\",\"Man\",\"All\",\"Gal\",\"Alt\",\"Tal\",\"Gul\",\"Ido\"],\"y\":[0.005757502350001817,7.160803959439975e-05,0.02653372029755791,0.4476980610824614,8.906398153358909e-05,0.01762315862526806,0.4987425081181217,0.003484377505461072],\"type\":\"bar\",\"xaxis\":\"x10\",\"yaxis\":\"y10\"},{\"marker\":{\"color\":\"red\"},\"name\":\"exp:2400 s\",\"x\":[\"Glc\",\"Man\",\"All\",\"Gal\",\"Alt\",\"Tal\",\"Gul\",\"Ido\"],\"y\":[0.019801980198019802,0.0,0.0594059405940594,0.43564356435643564,0.0,0.04950495049504951,0.43564356435643564,0.0],\"type\":\"bar\",\"xaxis\":\"x10\",\"yaxis\":\"y10\"},{\"marker\":{\"color\":\"blue\"},\"name\":\"sim:2400 s\",\"x\":[\"Glc\",\"Man\",\"All\",\"Gal\",\"Alt\",\"Tal\",\"Gul\",\"Ido\"],\"y\":[0.0105869889828256,0.00027139120454766614,0.051350908271214996,0.4267982377148061,0.0003309031193310459,0.034078636351154074,0.4700982618970735,0.006484672459047042],\"type\":\"bar\",\"xaxis\":\"x10\",\"yaxis\":\"y10\"},{\"marker\":{\"color\":\"red\"},\"name\":\"exp:4800 s\",\"x\":[\"Glc\",\"Man\",\"All\",\"Gal\",\"Alt\",\"Tal\",\"Gul\",\"Ido\"],\"y\":[0.03,0.0,0.1,0.41,0.0,0.09,0.37,0.0],\"type\":\"bar\",\"xaxis\":\"x10\",\"yaxis\":\"y10\"},{\"marker\":{\"color\":\"blue\"},\"name\":\"sim:4800 s\",\"x\":[\"Glc\",\"Man\",\"All\",\"Gal\",\"Alt\",\"Tal\",\"Gul\",\"Ido\"],\"y\":[0.018126063777010527,0.0009759140765588758,0.09616745383145187,0.3888262124992975,0.0011465485100828111,0.06380204587764703,0.419639520172668,0.011316241255283481],\"type\":\"bar\",\"xaxis\":\"x10\",\"yaxis\":\"y10\"},{\"marker\":{\"color\":\"red\"},\"name\":\"exp:4920 s\",\"x\":[\"Glc\",\"Man\",\"All\",\"Gal\",\"Alt\",\"Tal\",\"Gul\",\"Ido\"],\"y\":[0.04,0.0,0.15,0.38,0.0,0.13,0.3,0.0],\"type\":\"bar\",\"xaxis\":\"x10\",\"yaxis\":\"y10\"},{\"marker\":{\"color\":\"blue\"},\"name\":\"sim:4920 s\",\"x\":[\"Glc\",\"Man\",\"All\",\"Gal\",\"Alt\",\"Tal\",\"Gul\",\"Ido\"],\"y\":[0.027710206681682774,0.0031769298629737448,0.16908626670713925,0.32590665453276296,0.003508062726736458,0.11246002799792404,0.3404391841525233,0.017712667338257465],\"type\":\"bar\",\"xaxis\":\"x10\",\"yaxis\":\"y10\"},{\"marker\":{\"color\":\"red\"},\"name\":\"exp:9600 s\",\"x\":[\"Glc\",\"Man\",\"All\",\"Gal\",\"Alt\",\"Tal\",\"Gul\",\"Ido\"],\"y\":[0.050505050505050504,0.0,0.2222222222222222,0.29292929292929293,0.0,0.1919191919191919,0.24242424242424243,0.0],\"type\":\"bar\",\"xaxis\":\"x10\",\"yaxis\":\"y10\"},{\"marker\":{\"color\":\"blue\"},\"name\":\"sim:9600 s\",\"x\":[\"Glc\",\"Man\",\"All\",\"Gal\",\"Alt\",\"Tal\",\"Gul\",\"Ido\"],\"y\":[0.03515852302905505,0.00727054583865003,0.24671808204102896,0.2563141442056417,0.007485067512058873,0.16523872248101057,0.25904895938782396,0.022765955504730737],\"type\":\"bar\",\"xaxis\":\"x10\",\"yaxis\":\"y10\"},{\"marker\":{\"color\":\"red\"},\"name\":\"exp:1200 s\",\"x\":[\"Glc\",\"Man\",\"All\",\"Gal\",\"Alt\",\"Tal\",\"Gul\",\"Ido\"],\"y\":[0.41,0.47,0.06,0.0,0.02,0.04,0.0,0.0],\"type\":\"bar\",\"xaxis\":\"x11\",\"yaxis\":\"y11\"},{\"marker\":{\"color\":\"blue\"},\"name\":\"sim:1200 s\",\"x\":[\"Glc\",\"Man\",\"All\",\"Gal\",\"Alt\",\"Tal\",\"Gul\",\"Ido\"],\"y\":[0.4041211399386565,0.46982570993643946,0.07497666636803799,0.0056904683365770065,0.012547670492298452,0.03232238596799179,0.00026454276304659725,0.0002514161969522254],\"type\":\"bar\",\"xaxis\":\"x11\",\"yaxis\":\"y11\"},{\"marker\":{\"color\":\"red\"},\"name\":\"exp:2400 s\",\"x\":[\"Glc\",\"Man\",\"All\",\"Gal\",\"Alt\",\"Tal\",\"Gul\",\"Ido\"],\"y\":[0.36,0.41,0.11,0.02,0.03,0.07,0.0,0.0],\"type\":\"bar\",\"xaxis\":\"x11\",\"yaxis\":\"y11\"},{\"marker\":{\"color\":\"blue\"},\"name\":\"sim:2400 s\",\"x\":[\"Glc\",\"Man\",\"All\",\"Gal\",\"Alt\",\"Tal\",\"Gul\",\"Ido\"],\"y\":[0.3428165551253585,0.4258808473413034,0.13586901363390105,0.010141403405606401,0.02265917129549637,0.06076744147103778,0.0009551243315278233,0.0009104433957686358],\"type\":\"bar\",\"xaxis\":\"x11\",\"yaxis\":\"y11\"},{\"marker\":{\"color\":\"red\"},\"name\":\"exp:4800 s\",\"x\":[\"Glc\",\"Man\",\"All\",\"Gal\",\"Alt\",\"Tal\",\"Gul\",\"Ido\"],\"y\":[0.26732673267326734,0.3465346534653465,0.19801980198019803,0.019801980198019802,0.039603960396039604,0.12871287128712872,0.0,0.0],\"type\":\"bar\",\"xaxis\":\"x11\",\"yaxis\":\"y11\"},{\"marker\":{\"color\":\"blue\"},\"name\":\"sim:4800 s\",\"x\":[\"Glc\",\"Man\",\"All\",\"Gal\",\"Alt\",\"Tal\",\"Gul\",\"Ido\"],\"y\":[0.2525257700671432,0.35333688674268526,0.22630048822532128,0.01639654443459429,0.03722571941101003,0.10808015081588103,0.003134808729300114,0.0029996315740647467],\"type\":\"bar\",\"xaxis\":\"x11\",\"yaxis\":\"y11\"},{\"marker\":{\"color\":\"red\"},\"name\":\"exp:4920 s\",\"x\":[\"Glc\",\"Man\",\"All\",\"Gal\",\"Alt\",\"Tal\",\"Gul\",\"Ido\"],\"y\":[0.18,0.23,0.29,0.04,0.06,0.2,0.0,0.0],\"type\":\"bar\",\"xaxis\":\"x11\",\"yaxis\":\"y11\"},{\"marker\":{\"color\":\"blue\"},\"name\":\"sim:4920 s\",\"x\":[\"Glc\",\"Man\",\"All\",\"Gal\",\"Alt\",\"Tal\",\"Gul\",\"Ido\"],\"y\":[0.15127376693096786,0.25253350419218035,0.32960216391294,0.02284153188262816,0.05171829508293782,0.1749166013323205,0.008758057874059007,0.008356078791966304],\"type\":\"bar\",\"xaxis\":\"x11\",\"yaxis\":\"y11\"},{\"marker\":{\"color\":\"red\"},\"name\":\"exp:9600 s\",\"x\":[\"Glc\",\"Man\",\"All\",\"Gal\",\"Alt\",\"Tal\",\"Gul\",\"Ido\"],\"y\":[0.10101010101010101,0.16161616161616163,0.3838383838383838,0.04040404040404041,0.050505050505050504,0.26262626262626265,0.0,0.0],\"type\":\"bar\",\"xaxis\":\"x11\",\"yaxis\":\"y11\"},{\"marker\":{\"color\":\"blue\"},\"name\":\"sim:9600 s\",\"x\":[\"Glc\",\"Man\",\"All\",\"Gal\",\"Alt\",\"Tal\",\"Gul\",\"Ido\"],\"y\":[0.08930609227819294,0.1665151760517428,0.39509293632638903,0.02654969655845207,0.056173421573758514,0.2337862949216113,0.016825181737423634,0.015751200552429796],\"type\":\"bar\",\"xaxis\":\"x11\",\"yaxis\":\"y11\"},{\"marker\":{\"color\":\"red\"},\"name\":\"exp:1200 s\",\"x\":[\"Glc\",\"Man\",\"All\",\"Gal\",\"Alt\",\"Tal\",\"Gul\",\"Ido\"],\"y\":[0.45454545454545453,0.0,0.08080808080808081,0.43434343434343436,0.0,0.020202020202020204,0.010101010101010102,0.0],\"type\":\"bar\",\"xaxis\":\"x12\",\"yaxis\":\"y12\"},{\"marker\":{\"color\":\"blue\"},\"name\":\"sim:1200 s\",\"x\":[\"Glc\",\"Man\",\"All\",\"Gal\",\"Alt\",\"Tal\",\"Gul\",\"Ido\"],\"y\":[0.46088972471552725,0.002346239056596542,0.08569284041218307,0.42352226378558705,0.0002002879944679758,0.01673306710497726,0.010519049159953692,9.652777070720978e-05],\"type\":\"bar\",\"xaxis\":\"x12\",\"yaxis\":\"y12\"},{\"marker\":{\"color\":\"red\"},\"name\":\"exp:2400 s\",\"x\":[\"Glc\",\"Man\",\"All\",\"Gal\",\"Alt\",\"Tal\",\"Gul\",\"Ido\"],\"y\":[0.3838383838383838,0.0,0.15151515151515152,0.37373737373737376,0.0,0.06060606060606061,0.030303030303030304,0.0],\"type\":\"bar\",\"xaxis\":\"x12\",\"yaxis\":\"y12\"},{\"marker\":{\"color\":\"blue\"},\"name\":\"sim:2400 s\",\"x\":[\"Glc\",\"Man\",\"All\",\"Gal\",\"Alt\",\"Tal\",\"Gul\",\"Ido\"],\"y\":[0.38922155651032264,0.004180068669815396,0.1549419559427461,0.39866673637075,0.000715211251027478,0.0320859102818378,0.019826793851500917,0.0003617671219997632],\"type\":\"bar\",\"xaxis\":\"x12\",\"yaxis\":\"y12\"},{\"marker\":{\"color\":\"red\"},\"name\":\"exp:4800 s\",\"x\":[\"Glc\",\"Man\",\"All\",\"Gal\",\"Alt\",\"Tal\",\"Gul\",\"Ido\"],\"y\":[0.28,0.0,0.25,0.36,0.0,0.07,0.04,0.0],\"type\":\"bar\",\"xaxis\":\"x12\",\"yaxis\":\"y12\"},{\"marker\":{\"color\":\"blue\"},\"name\":\"sim:4800 s\",\"x\":[\"Glc\",\"Man\",\"All\",\"Gal\",\"Alt\",\"Tal\",\"Gul\",\"Ido\"],\"y\":[0.28437189058491497,0.006833370487210634,0.2571547830908398,0.35379263696980756,0.002299195430973015,0.05907559570477167,0.035202078851248306,0.001270448880234024],\"type\":\"bar\",\"xaxis\":\"x12\",\"yaxis\":\"y12\"},{\"marker\":{\"color\":\"red\"},\"name\":\"exp:4920 s\",\"x\":[\"Glc\",\"Man\",\"All\",\"Gal\",\"Alt\",\"Tal\",\"Gul\",\"Ido\"],\"y\":[0.18000000000000002,0.0,0.35000000000000003,0.30000000000000004,0.0,0.11000000000000003,0.06000000000000001,0.0],\"type\":\"bar\",\"xaxis\":\"x12\",\"yaxis\":\"y12\"},{\"marker\":{\"color\":\"blue\"},\"name\":\"sim:4920 s\",\"x\":[\"Glc\",\"Man\",\"All\",\"Gal\",\"Alt\",\"Tal\",\"Gul\",\"Ido\"],\"y\":[0.1683505170225035,0.010088116514335128,0.3730877793418339,0.28163796094241256,0.006219317064250021,0.1009818645667798,0.05570847743022122,0.003925967117663996],\"type\":\"bar\",\"xaxis\":\"x12\",\"yaxis\":\"y12\"},{\"marker\":{\"color\":\"red\"},\"name\":\"exp:9600 s\",\"x\":[\"Glc\",\"Man\",\"All\",\"Gal\",\"Alt\",\"Tal\",\"Gul\",\"Ido\"],\"y\":[0.11,0.0,0.44,0.22,0.0,0.16,0.07,0.0],\"type\":\"bar\",\"xaxis\":\"x12\",\"yaxis\":\"y12\"},{\"marker\":{\"color\":\"blue\"},\"name\":\"sim:9600 s\",\"x\":[\"Glc\",\"Man\",\"All\",\"Gal\",\"Alt\",\"Tal\",\"Gul\",\"Ido\"],\"y\":[0.09897425400289726,0.013337449421504105,0.4471556245954195,0.2074229360581445,0.011579695239133452,0.1430635751075879,0.07014176720574482,0.008324698369568381],\"type\":\"bar\",\"xaxis\":\"x12\",\"yaxis\":\"y12\"},{\"marker\":{\"color\":\"red\"},\"name\":\"exp:1200 s\",\"x\":[\"Glc\",\"Man\",\"All\",\"Gal\",\"Alt\",\"Tal\",\"Gul\",\"Ido\"],\"y\":[0.0,0.01,0.04,0.0,0.44,0.05,0.01,0.45],\"type\":\"bar\",\"xaxis\":\"x13\",\"yaxis\":\"y13\"},{\"marker\":{\"color\":\"blue\"},\"name\":\"sim:1200 s\",\"x\":[\"Glc\",\"Man\",\"All\",\"Gal\",\"Alt\",\"Tal\",\"Gul\",\"Ido\"],\"y\":[0.000335356310724655,0.02510269827824308,0.01958754089883418,0.00014210795084450205,0.4735607498812286,0.03369801477237774,0.006254097105983738,0.4413194348017634],\"type\":\"bar\",\"xaxis\":\"x13\",\"yaxis\":\"y13\"},{\"marker\":{\"color\":\"red\"},\"name\":\"exp:2400 s\",\"x\":[\"Glc\",\"Man\",\"All\",\"Gal\",\"Alt\",\"Tal\",\"Gul\",\"Ido\"],\"y\":[0.0,0.03,0.05,0.0,0.4,0.09,0.03,0.4],\"type\":\"bar\",\"xaxis\":\"x13\",\"yaxis\":\"y13\"},{\"marker\":{\"color\":\"blue\"},\"name\":\"sim:2400 s\",\"x\":[\"Glc\",\"Man\",\"All\",\"Gal\",\"Alt\",\"Tal\",\"Gul\",\"Ido\"],\"y\":[0.0011878812373277757,0.04535043610550906,0.03706470983754041,0.0005318245241933206,0.4326828566389031,0.06514264028015596,0.011527646925620449,0.4065120044507499],\"type\":\"bar\",\"xaxis\":\"x13\",\"yaxis\":\"y13\"},{\"marker\":{\"color\":\"red\"},\"name\":\"exp:4800 s\",\"x\":[\"Glc\",\"Man\",\"All\",\"Gal\",\"Alt\",\"Tal\",\"Gul\",\"Ido\"],\"y\":[0.0,0.07,0.09,0.0,0.32,0.14,0.03,0.35],\"type\":\"bar\",\"xaxis\":\"x13\",\"yaxis\":\"y13\"},{\"marker\":{\"color\":\"blue\"},\"name\":\"sim:4800 s\",\"x\":[\"Glc\",\"Man\",\"All\",\"Gal\",\"Alt\",\"Tal\",\"Gul\",\"Ido\"],\"y\":[0.0037523089640940335,0.0745837079352462,0.06696976490110206,0.001864881939946903,0.364582823429495,0.12163170976719766,0.019707075144841456,0.3469077279180766],\"type\":\"bar\",\"xaxis\":\"x13\",\"yaxis\":\"y13\"},{\"marker\":{\"color\":\"red\"},\"name\":\"exp:4920 s\",\"x\":[\"Glc\",\"Man\",\"All\",\"Gal\",\"Alt\",\"Tal\",\"Gul\",\"Ido\"],\"y\":[0.0,0.06,0.13,0.0,0.25,0.23,0.04,0.29],\"type\":\"bar\",\"xaxis\":\"x13\",\"yaxis\":\"y13\"},{\"marker\":{\"color\":\"blue\"},\"name\":\"sim:4920 s\",\"x\":[\"Glc\",\"Man\",\"All\",\"Gal\",\"Alt\",\"Tal\",\"Gul\",\"Ido\"],\"y\":[0.009762753390651288,0.10382531060750894,0.11244163873051422,0.005778762626060973,0.26780682134489364,0.21212507352685206,0.029527475463000323,0.25873216431051854],\"type\":\"bar\",\"xaxis\":\"x13\",\"yaxis\":\"y13\"},{\"marker\":{\"color\":\"red\"},\"name\":\"exp:9600 s\",\"x\":[\"Glc\",\"Man\",\"All\",\"Gal\",\"Alt\",\"Tal\",\"Gul\",\"Ido\"],\"y\":[0.0,0.07,0.18,0.0,0.17,0.32,0.04,0.22],\"type\":\"bar\",\"xaxis\":\"x13\",\"yaxis\":\"y13\"},{\"marker\":{\"color\":\"blue\"},\"name\":\"sim:9600 s\",\"x\":[\"Glc\",\"Man\",\"All\",\"Gal\",\"Alt\",\"Tal\",\"Gul\",\"Ido\"],\"y\":[0.017161503810800862,0.11269388974104977,0.15872971742104217,0.012369000764715891,0.18142126231318662,0.30496238561537037,0.035562808292084136,0.1770994320417502],\"type\":\"bar\",\"xaxis\":\"x13\",\"yaxis\":\"y13\"},{\"marker\":{\"color\":\"red\"},\"name\":\"exp:1200 s\",\"x\":[\"Glc\",\"Man\",\"All\",\"Gal\",\"Alt\",\"Tal\",\"Gul\",\"Ido\"],\"y\":[0.0,0.0,0.02,0.04,0.0,0.05,0.43,0.46],\"type\":\"bar\",\"xaxis\":\"x14\",\"yaxis\":\"y14\"},{\"marker\":{\"color\":\"blue\"},\"name\":\"sim:1200 s\",\"x\":[\"Glc\",\"Man\",\"All\",\"Gal\",\"Alt\",\"Tal\",\"Gul\",\"Ido\"],\"y\":[0.00026560461365432024,0.0003865710179478081,0.02372009141975938,0.01105065715884636,0.010256441953370022,0.03551653724094187,0.44866818757605326,0.470135909019427],\"type\":\"bar\",\"xaxis\":\"x14\",\"yaxis\":\"y14\"},{\"marker\":{\"color\":\"red\"},\"name\":\"exp:2400 s\",\"x\":[\"Glc\",\"Man\",\"All\",\"Gal\",\"Alt\",\"Tal\",\"Gul\",\"Ido\"],\"y\":[0.0,0.0,0.05,0.06,0.0,0.08,0.4,0.41],\"type\":\"bar\",\"xaxis\":\"x14\",\"yaxis\":\"y14\"},{\"marker\":{\"color\":\"blue\"},\"name\":\"sim:2400 s\",\"x\":[\"Glc\",\"Man\",\"All\",\"Gal\",\"Alt\",\"Tal\",\"Gul\",\"Ido\"],\"y\":[0.0009623058418729407,0.0013901703470614885,0.045387456155208575,0.02055521821366423,0.018408813524824024,0.06698308459609498,0.42001807301439903,0.42629487830687485],\"type\":\"bar\",\"xaxis\":\"x14\",\"yaxis\":\"y14\"},{\"marker\":{\"color\":\"red\"},\"name\":\"exp:4800 s\",\"x\":[\"Glc\",\"Man\",\"All\",\"Gal\",\"Alt\",\"Tal\",\"Gul\",\"Ido\"],\"y\":[0.0,0.0,0.08,0.09,0.02,0.14,0.34,0.33],\"type\":\"bar\",\"xaxis\":\"x14\",\"yaxis\":\"y14\"},{\"marker\":{\"color\":\"blue\"},\"name\":\"sim:4800 s\",\"x\":[\"Glc\",\"Man\",\"All\",\"Gal\",\"Alt\",\"Tal\",\"Gul\",\"Ido\"],\"y\":[0.0031757009269034555,0.00451802848126431,0.08343784112753742,0.03572373931086927,0.029935892411953647,0.11991596751118543,0.36977490869621343,0.353517921534073],\"type\":\"bar\",\"xaxis\":\"x14\",\"yaxis\":\"y14\"},{\"marker\":{\"color\":\"red\"},\"name\":\"exp:4920 s\",\"x\":[\"Glc\",\"Man\",\"All\",\"Gal\",\"Alt\",\"Tal\",\"Gul\",\"Ido\"],\"y\":[0.0,0.0,0.1188118811881188,0.1188118811881188,0.0297029702970297,0.19801980198019803,0.2871287128712871,0.24752475247524752],\"type\":\"bar\",\"xaxis\":\"x14\",\"yaxis\":\"y14\"},{\"marker\":{\"color\":\"blue\"},\"name\":\"sim:4920 s\",\"x\":[\"Glc\",\"Man\",\"All\",\"Gal\",\"Alt\",\"Tal\",\"Gul\",\"Ido\"],\"y\":[0.008904121488796326,0.012289669285205078,0.1430278556555746,0.05490339436768934,0.041022394530357525,0.19660725452891403,0.2918733646858637,0.2513719454575994],\"type\":\"bar\",\"xaxis\":\"x14\",\"yaxis\":\"y14\"},{\"marker\":{\"color\":\"red\"},\"name\":\"exp:9600 s\",\"x\":[\"Glc\",\"Man\",\"All\",\"Gal\",\"Alt\",\"Tal\",\"Gul\",\"Ido\"],\"y\":[0.0,0.0,0.16,0.14,0.02,0.27,0.24,0.17],\"type\":\"bar\",\"xaxis\":\"x14\",\"yaxis\":\"y14\"},{\"marker\":{\"color\":\"blue\"},\"name\":\"sim:9600 s\",\"x\":[\"Glc\",\"Man\",\"All\",\"Gal\",\"Alt\",\"Tal\",\"Gul\",\"Ido\"],\"y\":[0.017033354336092113,0.022519557791791135,0.2044106395307732,0.06741381606295502,0.04422251075385091,0.2672936955401613,0.2139728466348297,0.16313357934954656],\"type\":\"bar\",\"xaxis\":\"x14\",\"yaxis\":\"y14\"}],                        {\"template\":{\"data\":{\"histogram2dcontour\":[{\"type\":\"histogram2dcontour\",\"colorbar\":{\"outlinewidth\":0,\"ticks\":\"\"},\"colorscale\":[[0.0,\"#0d0887\"],[0.1111111111111111,\"#46039f\"],[0.2222222222222222,\"#7201a8\"],[0.3333333333333333,\"#9c179e\"],[0.4444444444444444,\"#bd3786\"],[0.5555555555555556,\"#d8576b\"],[0.6666666666666666,\"#ed7953\"],[0.7777777777777778,\"#fb9f3a\"],[0.8888888888888888,\"#fdca26\"],[1.0,\"#f0f921\"]]}],\"choropleth\":[{\"type\":\"choropleth\",\"colorbar\":{\"outlinewidth\":0,\"ticks\":\"\"}}],\"histogram2d\":[{\"type\":\"histogram2d\",\"colorbar\":{\"outlinewidth\":0,\"ticks\":\"\"},\"colorscale\":[[0.0,\"#0d0887\"],[0.1111111111111111,\"#46039f\"],[0.2222222222222222,\"#7201a8\"],[0.3333333333333333,\"#9c179e\"],[0.4444444444444444,\"#bd3786\"],[0.5555555555555556,\"#d8576b\"],[0.6666666666666666,\"#ed7953\"],[0.7777777777777778,\"#fb9f3a\"],[0.8888888888888888,\"#fdca26\"],[1.0,\"#f0f921\"]]}],\"heatmap\":[{\"type\":\"heatmap\",\"colorbar\":{\"outlinewidth\":0,\"ticks\":\"\"},\"colorscale\":[[0.0,\"#0d0887\"],[0.1111111111111111,\"#46039f\"],[0.2222222222222222,\"#7201a8\"],[0.3333333333333333,\"#9c179e\"],[0.4444444444444444,\"#bd3786\"],[0.5555555555555556,\"#d8576b\"],[0.6666666666666666,\"#ed7953\"],[0.7777777777777778,\"#fb9f3a\"],[0.8888888888888888,\"#fdca26\"],[1.0,\"#f0f921\"]]}],\"heatmapgl\":[{\"type\":\"heatmapgl\",\"colorbar\":{\"outlinewidth\":0,\"ticks\":\"\"},\"colorscale\":[[0.0,\"#0d0887\"],[0.1111111111111111,\"#46039f\"],[0.2222222222222222,\"#7201a8\"],[0.3333333333333333,\"#9c179e\"],[0.4444444444444444,\"#bd3786\"],[0.5555555555555556,\"#d8576b\"],[0.6666666666666666,\"#ed7953\"],[0.7777777777777778,\"#fb9f3a\"],[0.8888888888888888,\"#fdca26\"],[1.0,\"#f0f921\"]]}],\"contourcarpet\":[{\"type\":\"contourcarpet\",\"colorbar\":{\"outlinewidth\":0,\"ticks\":\"\"}}],\"contour\":[{\"type\":\"contour\",\"colorbar\":{\"outlinewidth\":0,\"ticks\":\"\"},\"colorscale\":[[0.0,\"#0d0887\"],[0.1111111111111111,\"#46039f\"],[0.2222222222222222,\"#7201a8\"],[0.3333333333333333,\"#9c179e\"],[0.4444444444444444,\"#bd3786\"],[0.5555555555555556,\"#d8576b\"],[0.6666666666666666,\"#ed7953\"],[0.7777777777777778,\"#fb9f3a\"],[0.8888888888888888,\"#fdca26\"],[1.0,\"#f0f921\"]]}],\"surface\":[{\"type\":\"surface\",\"colorbar\":{\"outlinewidth\":0,\"ticks\":\"\"},\"colorscale\":[[0.0,\"#0d0887\"],[0.1111111111111111,\"#46039f\"],[0.2222222222222222,\"#7201a8\"],[0.3333333333333333,\"#9c179e\"],[0.4444444444444444,\"#bd3786\"],[0.5555555555555556,\"#d8576b\"],[0.6666666666666666,\"#ed7953\"],[0.7777777777777778,\"#fb9f3a\"],[0.8888888888888888,\"#fdca26\"],[1.0,\"#f0f921\"]]}],\"mesh3d\":[{\"type\":\"mesh3d\",\"colorbar\":{\"outlinewidth\":0,\"ticks\":\"\"}}],\"scatter\":[{\"fillpattern\":{\"fillmode\":\"overlay\",\"size\":10,\"solidity\":0.2},\"type\":\"scatter\"}],\"parcoords\":[{\"type\":\"parcoords\",\"line\":{\"colorbar\":{\"outlinewidth\":0,\"ticks\":\"\"}}}],\"scatterpolargl\":[{\"type\":\"scatterpolargl\",\"marker\":{\"colorbar\":{\"outlinewidth\":0,\"ticks\":\"\"}}}],\"bar\":[{\"error_x\":{\"color\":\"#2a3f5f\"},\"error_y\":{\"color\":\"#2a3f5f\"},\"marker\":{\"line\":{\"color\":\"#E5ECF6\",\"width\":0.5},\"pattern\":{\"fillmode\":\"overlay\",\"size\":10,\"solidity\":0.2}},\"type\":\"bar\"}],\"scattergeo\":[{\"type\":\"scattergeo\",\"marker\":{\"colorbar\":{\"outlinewidth\":0,\"ticks\":\"\"}}}],\"scatterpolar\":[{\"type\":\"scatterpolar\",\"marker\":{\"colorbar\":{\"outlinewidth\":0,\"ticks\":\"\"}}}],\"histogram\":[{\"marker\":{\"pattern\":{\"fillmode\":\"overlay\",\"size\":10,\"solidity\":0.2}},\"type\":\"histogram\"}],\"scattergl\":[{\"type\":\"scattergl\",\"marker\":{\"colorbar\":{\"outlinewidth\":0,\"ticks\":\"\"}}}],\"scatter3d\":[{\"type\":\"scatter3d\",\"line\":{\"colorbar\":{\"outlinewidth\":0,\"ticks\":\"\"}},\"marker\":{\"colorbar\":{\"outlinewidth\":0,\"ticks\":\"\"}}}],\"scattermapbox\":[{\"type\":\"scattermapbox\",\"marker\":{\"colorbar\":{\"outlinewidth\":0,\"ticks\":\"\"}}}],\"scatterternary\":[{\"type\":\"scatterternary\",\"marker\":{\"colorbar\":{\"outlinewidth\":0,\"ticks\":\"\"}}}],\"scattercarpet\":[{\"type\":\"scattercarpet\",\"marker\":{\"colorbar\":{\"outlinewidth\":0,\"ticks\":\"\"}}}],\"carpet\":[{\"aaxis\":{\"endlinecolor\":\"#2a3f5f\",\"gridcolor\":\"white\",\"linecolor\":\"white\",\"minorgridcolor\":\"white\",\"startlinecolor\":\"#2a3f5f\"},\"baxis\":{\"endlinecolor\":\"#2a3f5f\",\"gridcolor\":\"white\",\"linecolor\":\"white\",\"minorgridcolor\":\"white\",\"startlinecolor\":\"#2a3f5f\"},\"type\":\"carpet\"}],\"table\":[{\"cells\":{\"fill\":{\"color\":\"#EBF0F8\"},\"line\":{\"color\":\"white\"}},\"header\":{\"fill\":{\"color\":\"#C8D4E3\"},\"line\":{\"color\":\"white\"}},\"type\":\"table\"}],\"barpolar\":[{\"marker\":{\"line\":{\"color\":\"#E5ECF6\",\"width\":0.5},\"pattern\":{\"fillmode\":\"overlay\",\"size\":10,\"solidity\":0.2}},\"type\":\"barpolar\"}],\"pie\":[{\"automargin\":true,\"type\":\"pie\"}]},\"layout\":{\"autotypenumbers\":\"strict\",\"colorway\":[\"#636efa\",\"#EF553B\",\"#00cc96\",\"#ab63fa\",\"#FFA15A\",\"#19d3f3\",\"#FF6692\",\"#B6E880\",\"#FF97FF\",\"#FECB52\"],\"font\":{\"color\":\"#2a3f5f\"},\"hovermode\":\"closest\",\"hoverlabel\":{\"align\":\"left\"},\"paper_bgcolor\":\"white\",\"plot_bgcolor\":\"#E5ECF6\",\"polar\":{\"bgcolor\":\"#E5ECF6\",\"angularaxis\":{\"gridcolor\":\"white\",\"linecolor\":\"white\",\"ticks\":\"\"},\"radialaxis\":{\"gridcolor\":\"white\",\"linecolor\":\"white\",\"ticks\":\"\"}},\"ternary\":{\"bgcolor\":\"#E5ECF6\",\"aaxis\":{\"gridcolor\":\"white\",\"linecolor\":\"white\",\"ticks\":\"\"},\"baxis\":{\"gridcolor\":\"white\",\"linecolor\":\"white\",\"ticks\":\"\"},\"caxis\":{\"gridcolor\":\"white\",\"linecolor\":\"white\",\"ticks\":\"\"}},\"coloraxis\":{\"colorbar\":{\"outlinewidth\":0,\"ticks\":\"\"}},\"colorscale\":{\"sequential\":[[0.0,\"#0d0887\"],[0.1111111111111111,\"#46039f\"],[0.2222222222222222,\"#7201a8\"],[0.3333333333333333,\"#9c179e\"],[0.4444444444444444,\"#bd3786\"],[0.5555555555555556,\"#d8576b\"],[0.6666666666666666,\"#ed7953\"],[0.7777777777777778,\"#fb9f3a\"],[0.8888888888888888,\"#fdca26\"],[1.0,\"#f0f921\"]],\"sequentialminus\":[[0.0,\"#0d0887\"],[0.1111111111111111,\"#46039f\"],[0.2222222222222222,\"#7201a8\"],[0.3333333333333333,\"#9c179e\"],[0.4444444444444444,\"#bd3786\"],[0.5555555555555556,\"#d8576b\"],[0.6666666666666666,\"#ed7953\"],[0.7777777777777778,\"#fb9f3a\"],[0.8888888888888888,\"#fdca26\"],[1.0,\"#f0f921\"]],\"diverging\":[[0,\"#8e0152\"],[0.1,\"#c51b7d\"],[0.2,\"#de77ae\"],[0.3,\"#f1b6da\"],[0.4,\"#fde0ef\"],[0.5,\"#f7f7f7\"],[0.6,\"#e6f5d0\"],[0.7,\"#b8e186\"],[0.8,\"#7fbc41\"],[0.9,\"#4d9221\"],[1,\"#276419\"]]},\"xaxis\":{\"gridcolor\":\"white\",\"linecolor\":\"white\",\"ticks\":\"\",\"title\":{\"standoff\":15},\"zerolinecolor\":\"white\",\"automargin\":true,\"zerolinewidth\":2},\"yaxis\":{\"gridcolor\":\"white\",\"linecolor\":\"white\",\"ticks\":\"\",\"title\":{\"standoff\":15},\"zerolinecolor\":\"white\",\"automargin\":true,\"zerolinewidth\":2},\"scene\":{\"xaxis\":{\"backgroundcolor\":\"#E5ECF6\",\"gridcolor\":\"white\",\"linecolor\":\"white\",\"showbackground\":true,\"ticks\":\"\",\"zerolinecolor\":\"white\",\"gridwidth\":2},\"yaxis\":{\"backgroundcolor\":\"#E5ECF6\",\"gridcolor\":\"white\",\"linecolor\":\"white\",\"showbackground\":true,\"ticks\":\"\",\"zerolinecolor\":\"white\",\"gridwidth\":2},\"zaxis\":{\"backgroundcolor\":\"#E5ECF6\",\"gridcolor\":\"white\",\"linecolor\":\"white\",\"showbackground\":true,\"ticks\":\"\",\"zerolinecolor\":\"white\",\"gridwidth\":2}},\"shapedefaults\":{\"line\":{\"color\":\"#2a3f5f\"}},\"annotationdefaults\":{\"arrowcolor\":\"#2a3f5f\",\"arrowhead\":0,\"arrowwidth\":1},\"geo\":{\"bgcolor\":\"white\",\"landcolor\":\"#E5ECF6\",\"subunitcolor\":\"white\",\"showland\":true,\"showlakes\":true,\"lakecolor\":\"white\"},\"title\":{\"x\":0.05},\"mapbox\":{\"style\":\"light\"}}},\"xaxis\":{\"anchor\":\"y\",\"domain\":[0.0,0.2275]},\"yaxis\":{\"anchor\":\"x\",\"domain\":[0.825,1.0],\"range\":[0,1]},\"xaxis2\":{\"anchor\":\"y2\",\"domain\":[0.2575,0.485]},\"yaxis2\":{\"anchor\":\"x2\",\"domain\":[0.825,1.0],\"range\":[0,1]},\"xaxis3\":{\"anchor\":\"y3\",\"domain\":[0.515,0.7425]},\"yaxis3\":{\"anchor\":\"x3\",\"domain\":[0.825,1.0],\"range\":[0,1]},\"xaxis4\":{\"anchor\":\"y4\",\"domain\":[0.7725,1.0]},\"yaxis4\":{\"anchor\":\"x4\",\"domain\":[0.825,1.0],\"range\":[0,1]},\"xaxis5\":{\"anchor\":\"y5\",\"domain\":[0.0,0.2275]},\"yaxis5\":{\"anchor\":\"x5\",\"domain\":[0.55,0.7250000000000001],\"range\":[0,1]},\"xaxis6\":{\"anchor\":\"y6\",\"domain\":[0.2575,0.485]},\"yaxis6\":{\"anchor\":\"x6\",\"domain\":[0.55,0.7250000000000001],\"range\":[0,1]},\"xaxis7\":{\"anchor\":\"y7\",\"domain\":[0.515,0.7425]},\"yaxis7\":{\"anchor\":\"x7\",\"domain\":[0.55,0.7250000000000001],\"range\":[0,1]},\"xaxis8\":{\"anchor\":\"y8\",\"domain\":[0.7725,1.0]},\"yaxis8\":{\"anchor\":\"x8\",\"domain\":[0.55,0.7250000000000001],\"range\":[0,1]},\"xaxis9\":{\"anchor\":\"y9\",\"domain\":[0.0,0.2275]},\"yaxis9\":{\"anchor\":\"x9\",\"domain\":[0.275,0.45],\"range\":[0,1]},\"xaxis10\":{\"anchor\":\"y10\",\"domain\":[0.2575,0.485]},\"yaxis10\":{\"anchor\":\"x10\",\"domain\":[0.275,0.45],\"range\":[0,1]},\"xaxis11\":{\"anchor\":\"y11\",\"domain\":[0.515,0.7425]},\"yaxis11\":{\"anchor\":\"x11\",\"domain\":[0.275,0.45],\"range\":[0,1]},\"xaxis12\":{\"anchor\":\"y12\",\"domain\":[0.7725,1.0]},\"yaxis12\":{\"anchor\":\"x12\",\"domain\":[0.275,0.45],\"range\":[0,1]},\"xaxis13\":{\"anchor\":\"y13\",\"domain\":[0.0,0.2275]},\"yaxis13\":{\"anchor\":\"x13\",\"domain\":[0.0,0.175],\"range\":[0,1]},\"xaxis14\":{\"anchor\":\"y14\",\"domain\":[0.2575,0.485]},\"yaxis14\":{\"anchor\":\"x14\",\"domain\":[0.0,0.175],\"range\":[0,1]},\"xaxis15\":{\"anchor\":\"y15\",\"domain\":[0.515,0.7425]},\"yaxis15\":{\"anchor\":\"x15\",\"domain\":[0.0,0.175]},\"xaxis16\":{\"anchor\":\"y16\",\"domain\":[0.7725,1.0]},\"yaxis16\":{\"anchor\":\"x16\",\"domain\":[0.0,0.175]},\"annotations\":[{\"font\":{\"size\":16},\"showarrow\":false,\"text\":\"start = 100% glucose\",\"x\":0.11375,\"xanchor\":\"center\",\"xref\":\"paper\",\"y\":1.0,\"yanchor\":\"bottom\",\"yref\":\"paper\"},{\"font\":{\"size\":16},\"showarrow\":false,\"text\":\"start = 100% mannose\",\"x\":0.37124999999999997,\"xanchor\":\"center\",\"xref\":\"paper\",\"y\":1.0,\"yanchor\":\"bottom\",\"yref\":\"paper\"},{\"font\":{\"size\":16},\"showarrow\":false,\"text\":\"start = 100% allose\",\"x\":0.62875,\"xanchor\":\"center\",\"xref\":\"paper\",\"y\":1.0,\"yanchor\":\"bottom\",\"yref\":\"paper\"},{\"font\":{\"size\":16},\"showarrow\":false,\"text\":\"start = 100% galactose\",\"x\":0.88625,\"xanchor\":\"center\",\"xref\":\"paper\",\"y\":1.0,\"yanchor\":\"bottom\",\"yref\":\"paper\"},{\"font\":{\"size\":16},\"showarrow\":false,\"text\":\"start = 100% talose\",\"x\":0.11375,\"xanchor\":\"center\",\"xref\":\"paper\",\"y\":0.7250000000000001,\"yanchor\":\"bottom\",\"yref\":\"paper\"},{\"font\":{\"size\":16},\"showarrow\":false,\"text\":\"start = 100% altrose\",\"x\":0.37124999999999997,\"xanchor\":\"center\",\"xref\":\"paper\",\"y\":0.7250000000000001,\"yanchor\":\"bottom\",\"yref\":\"paper\"},{\"font\":{\"size\":16},\"showarrow\":false,\"text\":\"start = 100% gulose\",\"x\":0.62875,\"xanchor\":\"center\",\"xref\":\"paper\",\"y\":0.7250000000000001,\"yanchor\":\"bottom\",\"yref\":\"paper\"},{\"font\":{\"size\":16},\"showarrow\":false,\"text\":\"start = 100% idose\",\"x\":0.88625,\"xanchor\":\"center\",\"xref\":\"paper\",\"y\":0.7250000000000001,\"yanchor\":\"bottom\",\"yref\":\"paper\"},{\"font\":{\"size\":16},\"showarrow\":false,\"text\":\"start = 50% mannose 50% altrose\",\"x\":0.11375,\"xanchor\":\"center\",\"xref\":\"paper\",\"y\":0.45,\"yanchor\":\"bottom\",\"yref\":\"paper\"},{\"font\":{\"size\":16},\"showarrow\":false,\"text\":\"start = 47% galactose 53% gulose\",\"x\":0.37124999999999997,\"xanchor\":\"center\",\"xref\":\"paper\",\"y\":0.45,\"yanchor\":\"bottom\",\"yref\":\"paper\"},{\"font\":{\"size\":16},\"showarrow\":false,\"text\":\"start = 48% glucose 52% mannose\",\"x\":0.62875,\"xanchor\":\"center\",\"xref\":\"paper\",\"y\":0.45,\"yanchor\":\"bottom\",\"yref\":\"paper\"},{\"font\":{\"size\":16},\"showarrow\":false,\"text\":\"start = 55% glucose 45% galactose\",\"x\":0.88625,\"xanchor\":\"center\",\"xref\":\"paper\",\"y\":0.45,\"yanchor\":\"bottom\",\"yref\":\"paper\"},{\"font\":{\"size\":16},\"showarrow\":false,\"text\":\"start = 52% altrose 48% idose\",\"x\":0.11375,\"xanchor\":\"center\",\"xref\":\"paper\",\"y\":0.175,\"yanchor\":\"bottom\",\"yref\":\"paper\"},{\"font\":{\"size\":16},\"showarrow\":false,\"text\":\"start = 48% gulose 52% idose\",\"x\":0.37124999999999997,\"xanchor\":\"center\",\"xref\":\"paper\",\"y\":0.175,\"yanchor\":\"bottom\",\"yref\":\"paper\"}],\"barmode\":\"group\",\"showlegend\":false,\"height\":800,\"width\":1400},                        {\"responsive\": true}                    ).then(function(){\n",
       "                            \n",
       "var gd = document.getElementById('e0fa725e-5c7d-438f-a0ab-77d33156ee13');\n",
       "var x = new MutationObserver(function (mutations, observer) {{\n",
       "        var display = window.getComputedStyle(gd).display;\n",
       "        if (!display || display === 'none') {{\n",
       "            console.log([gd, 'removed!']);\n",
       "            Plotly.purge(gd);\n",
       "            observer.disconnect();\n",
       "        }}\n",
       "}});\n",
       "\n",
       "// Listen for the removal of the full notebook cells\n",
       "var notebookContainer = gd.closest('#notebook-container');\n",
       "if (notebookContainer) {{\n",
       "    x.observe(notebookContainer, {childList: true});\n",
       "}}\n",
       "\n",
       "// Listen for the clearing of the current output cell\n",
       "var outputEl = gd.closest('.output');\n",
       "if (outputEl) {{\n",
       "    x.observe(outputEl, {childList: true});\n",
       "}}\n",
       "\n",
       "                        })                };                });            </script>        </div>"
      ]
     },
     "metadata": {},
     "output_type": "display_data"
    }
   ],
   "source": [
    "run_simulations()\n",
    "plot() # red is experiment, blue is simulated"
   ]
  },
  {
   "cell_type": "code",
   "execution_count": 83,
   "id": "01a8abb1-0fb0-4b2f-ad18-c8c6a03aea4c",
   "metadata": {},
   "outputs": [
    {
     "name": "stdout",
     "output_type": "stream",
     "text": [
      "0.0200   0.0200   0.0220   0.0200   0.0299   0.0200   0.0381   0.0200   0.0200   0.0201   0.0200   0.0200   0.0200   0.0240     :::   0.0230\n"
     ]
    }
   ],
   "source": [
    "network = create_network(parameters)\n",
    "\n",
    "# run simulations\n",
    "losses = []\n",
    "report_string = \"\"\n",
    "for i,run in enumerate(experimental_runs):\n",
    "    concentrations_df = network.simulate_timecourse(run.initial_concentrations_dict, t_span, t_eval)\n",
    "    loss = loss_function(run, concentrations_df)\n",
    "    loss = max(0.0, loss-0.020)+0.020\n",
    "    report_string += f\"{loss:.4f}   \"\n",
    "    losses.append(loss)\n",
    "\n",
    "# aggregate losses\n",
    "loss = rms(losses) #+ np.std(losses)\n",
    "print(f\"{report_string}  ::: {loss:8.4f}\")"
   ]
  },
  {
   "cell_type": "code",
   "execution_count": 84,
   "id": "aed1df92-0699-4341-aa08-259a16f46d70",
   "metadata": {},
   "outputs": [],
   "source": [
    "def deuteration_loss_function(parameters):\n",
    "    def get_value(connection):\n",
    "        value = parameters[f\"{connection}_log10_base_rate_constant\"].value\n",
    "        return np.power(10, value)\n",
    "    \n",
    "    def get_fraction(connection_tuple):\n",
    "        numerator = get_value(connection_tuple[0])\n",
    "        denominator = get_value(connection_tuple[1])\n",
    "        return numerator/(numerator+denominator)\n",
    "                                \n",
    "    ratios_dict = {\n",
    "        # mannose\n",
    "        (\"Glc_Man\",\"Tal_Man\") : 1/7,\n",
    "        \n",
    "        # glucose\n",
    "        (\"Glc_Man\",\"Glc_All\") : 1/12,\n",
    "        (\"Glc_All\",\"Glc_Gal\") : 12/2,\n",
    "        (\"Glc_Man\",\"Glc_Gal\") : 1/2,\n",
    "        \n",
    "        # allose\n",
    "        (\"Alt_All\",\"Glc_All\") : 2/15,\n",
    "        (\"Glc_All\",\"All_Gul\") : 15/4,\n",
    "        (\"Alt_All\",\"All_Gul\") : 2/4,\n",
    "        \n",
    "        # talose\n",
    "        (\"Gal_Tal\",\"Tal_Ido\") : 2/4,\n",
    "        (\"Tal_Ido\",\"Tal_Man\") : 4/4,\n",
    "        (\"Gal_Tal\",\"Tal_Man\") : 2/4,\n",
    "        \n",
    "        # idose\n",
    "        (\"Ido_Gul\",\"Tal_Ido\") : 2/2,\n",
    "        (\"Tal_Ido\",\"Alt_Ido\") : 2/3,\n",
    "        (\"Ido_Gul\",\"Alt_Ido\") : 2/3,\n",
    "        \n",
    "        # galactose\n",
    "        (\"Gal_Tal\",\"Gul_Gal\") : 7/13,\n",
    "        (\"Gul_Gal\",\"Glc_Gal\") : 13/12,\n",
    "        (\"Gal_Tal\",\"Glc_Gal\") : 7/12,\n",
    "        \n",
    "        # altrose\n",
    "        (\"Alt_All\",\"Man_Alt\") : 1/9,\n",
    "        (\"Man_Alt\",\"Alt_Ido\") : 9/7,\n",
    "        (\"Alt_All\",\"Alt_Ido\") : 1/7,\n",
    "        \n",
    "        # gulose\n",
    "        (\"Ido_Gul\",\"Gul_Gal\") : 1/8,\n",
    "        (\"Gul_Gal\",\"All_Gul\") : 8/1,\n",
    "        (\"Ido_Gul\",\"All_Gul\") : 1/1,\n",
    "    }\n",
    "    \n",
    "    rows = []\n",
    "    for connection_tuple,observed_ratio in ratios_dict.items():\n",
    "        observed_fraction = observed_ratio / (observed_ratio + 1)\n",
    "        simulated_fraction = get_fraction(connection_tuple)\n",
    "        loss = np.square(observed_fraction-simulated_fraction)\n",
    "        #print(observed_fraction, simulated_fraction, loss)\n",
    "        row = [ connection_tuple, observed_fraction, simulated_fraction, loss ]\n",
    "        rows.append(row)\n",
    "    df = pd.DataFrame(rows, columns=[\"connection\", \"observed\", \"simulated\", \"loss\"])\n",
    "    loss = rms(df.loss.to_numpy())\n",
    "    \n",
    "    return loss, df"
   ]
  },
  {
   "cell_type": "code",
   "execution_count": 85,
   "id": "ea12984b-8c3d-440f-af3f-fcf58d8b1744",
   "metadata": {},
   "outputs": [
    {
     "name": "stdout",
     "output_type": "stream",
     "text": [
      "0.027850139686730214\n"
     ]
    },
    {
     "data": {
      "image/png": "[encoded data removed]",
      "text/plain": [
       "<Figure size 576x576 with 1 Axes>"
      ]
     },
     "metadata": {
      "needs_background": "light"
     },
     "output_type": "display_data"
    }
   ],
   "source": [
    "loss, df = deuteration_loss_function(parameters)\n",
    "print(loss)\n",
    "plt.figure(figsize=(8,8))\n",
    "plt.plot(df.observed, df.simulated, \"k.\")\n",
    "plt.xlim(0,1)\n",
    "plt.ylim(0,1)\n",
    "plt.ylabel(\"simulated relative rate fraction\")\n",
    "plt.xlabel(\"observed relative rate fraction\")\n",
    "plt.show()"
   ]
  },
  {
   "cell_type": "code",
   "execution_count": 86,
   "id": "d9be51d8-4b48-4098-ae97-ced6f6446ad8",
   "metadata": {},
   "outputs": [],
   "source": [
    "# simulate each experimental run for one set of parameters\n",
    "def trial(x):\n",
    "    global iteration, best_loss\n",
    "    iteration += 1\n",
    "    network = create_network(x)\n",
    "\n",
    "    # run simulations\n",
    "    losses = []\n",
    "    #x.pretty_print()\n",
    "    report_string = \"\"\n",
    "    for i,run in enumerate(experimental_runs, start=1):\n",
    "        concentrations_df = network.simulate_timecourse(run.initial_concentrations_dict, t_span, t_eval)\n",
    "        loss = loss_function(run, concentrations_df)\n",
    "        loss = max(0.0, loss-0.020)+0.020\n",
    "        report_string += f\"{loss:8.4f} \"\n",
    "        losses.append(loss)\n",
    "        \n",
    "    # compute deuteration loss\n",
    "    deuteration_loss, df = deuteration_loss_function(x)\n",
    "    report_string += f\"{deuteration_loss:8.4f} \"\n",
    "    losses.append(deuteration_loss)\n",
    "    \n",
    "    # aggregate losses\n",
    "    loss = rms(losses)\n",
    "    if not best_loss or loss < best_loss:\n",
    "        best_loss = loss\n",
    "\n",
    "    #history.append((loss, losses, x))\n",
    "        \n",
    "    # report progress\n",
    "    print(f\"{report_string}  ::: {loss:8.4f} (best={best_loss:8.4f})  (iteration={iteration})\", end=\"\\r\", flush=True)\n",
    "    if iteration == 1:\n",
    "        print()\n",
    "    return loss"
   ]
  },
  {
   "cell_type": "code",
   "execution_count": 93,
   "id": "42f615d3-9908-48ac-a284-9ed9fc814596",
   "metadata": {},
   "outputs": [
    {
     "name": "stdout",
     "output_type": "stream",
     "text": [
      "  0.0200   0.0200   0.0220   0.0200   0.0299   0.0200   0.0381   0.0200   0.0200   0.0201   0.0200   0.0200   0.0200   0.0240   0.0279   :::   0.0234 (best=  0.0234)  (iteration=1)\n",
      "  0.0200   0.0200   0.0213   0.0200   0.0282   0.0204   0.0377   0.0200   0.0200   0.0201   0.0200   0.0200   0.0203   0.0244   0.0258   :::   0.0230 (best=  0.0230)  (iteration=501)\r"
     ]
    }
   ],
   "source": [
    "# run the optimization\n",
    "# def iter_cb(parameters, iteration, residual):\n",
    "#     print(f\"iteration {iteration:5d}   loss = {residual:12.4f}\", flush=True)\n",
    "iteration = 0\n",
    "best_loss = None\n",
    "results = lmfit.minimize(trial, parameters, method=\"cg\", max_nfev=500)\n",
    "#results = lmfit.minimize(trial, results.params, method=\"cg\", max_nfev=500)"
   ]
  },
  {
   "cell_type": "code",
   "execution_count": 94,
   "id": "cf85bf13-f242-4cc1-8b93-886ce704b5a7",
   "metadata": {},
   "outputs": [
    {
     "name": "stdout",
     "output_type": "stream",
     "text": [
      "\n",
      "Glc_All_log10_base_rate_constant                11413           10\n",
      "Glc_Gal_log10_base_rate_constant                 2788            1\n",
      "Glc_Man_log10_base_rate_constant                 1745           -3\n",
      "All_Gul_log10_base_rate_constant                 3408          -10\n",
      "Gul_Gal_log10_base_rate_constant                 5165           -1\n",
      "Gal_Tal_log10_base_rate_constant                 2556           10\n",
      "Tal_Man_log10_base_rate_constant                 4366          -10\n",
      "Man_Alt_log10_base_rate_constant                 7893           -2\n",
      "Alt_All_log10_base_rate_constant                 2632           10\n",
      "Alt_Ido_log10_base_rate_constant                 4593            1\n",
      "Tal_Ido_log10_base_rate_constant                 4783          -10\n",
      "Ido_Gul_log10_base_rate_constant                 2087            2\n",
      "log10_catalyst_deactivation_rate_constant          14   \n"
     ]
    }
   ],
   "source": [
    "#print(lmfit.fit_report(results))\n",
    "print()\n",
    "print_count = 0\n",
    "# params is the best params (see lmfit docs)\n",
    "for name, param in results.params.items():\n",
    "    print_count += 1\n",
    "    value = np.power(10.0, param.value)\n",
    "    if \"rate\" in name:\n",
    "        value = value*1e6\n",
    "    if print_count % 2:\n",
    "        print(f\"{name:42s} {value:10.0f}   \", end=\"\")\n",
    "    else:\n",
    "        if value < 1:\n",
    "            value = -1/value\n",
    "        print(f\"{value:10.0f}\")\n",
    "print()"
   ]
  },
  {
   "cell_type": "code",
   "execution_count": null,
   "id": "d08c3795-88e7-4467-8ac1-21c180247c7b",
   "metadata": {},
   "outputs": [],
   "source": []
  }
 ],
 "metadata": {
  "kernelspec": {
   "display_name": "Python 3",
   "language": "python",
   "name": "python3"
  },
  "language_info": {
   "codemirror_mode": {
    "name": "ipython",
    "version": 3
   },
   "file_extension": ".py",
   "mimetype": "text/x-python",
   "name": "python",
   "nbconvert_exporter": "python",
   "pygments_lexer": "ipython3",
   "version": "3.9.5"
  }
 },
 "nbformat": 4,
 "nbformat_minor": 5
}
