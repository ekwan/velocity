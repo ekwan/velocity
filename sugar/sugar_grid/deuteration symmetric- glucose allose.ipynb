{
 "cells": [
  {
   "cell_type": "code",
   "execution_count": 2,
   "id": "fdc076f3-0577-44f6-a1f4-6dd9907d88ef",
   "metadata": {},
   "outputs": [
    {
     "name": "stdout",
     "output_type": "stream",
     "text": [
      "['/Users/kwaneu/research/velocity/', '/Users/kwaneu/research/velocity/sugar/sugar_grid', '/Users/kwaneu/miniconda3/envs/python/lib/python39.zip', '/Users/kwaneu/miniconda3/envs/python/lib/python3.9', '/Users/kwaneu/miniconda3/envs/python/lib/python3.9/lib-dynload', '', '/Users/kwaneu/miniconda3/envs/python/lib/python3.9/site-packages', '/Users/kwaneu/miniconda3/envs/python/lib/python3.9/site-packages/IPython/extensions', '/Users/kwaneu/.ipython']\n"
     ]
    }
   ],
   "source": [
    "import sys\n",
    "sys.path[0]=\"/Users/kwaneu/research/velocity/\"\n",
    "print(sys.path)\n",
    "import pandas as pd\n",
    "import numpy as np\n",
    "import velocity\n",
    "from velocity.chemistry import Species, Reaction, Network\n",
    "from math import sqrt\n",
    "import lmfit\n",
    "from tqdm.notebook import tqdm\n",
    "from IPython.display import display, HTML\n",
    "import matplotlib\n",
    "matplotlib.use(\"Agg\")\n",
    "import matplotlib.pyplot as plt\n",
    "%matplotlib inline\n",
    "import plotly.graph_objects as go\n",
    "from plotly.subplots import make_subplots"
   ]
  },
  {
   "cell_type": "code",
   "execution_count": 59,
   "id": "a09fd697-57d2-45ab-a791-26ddff830f06",
   "metadata": {},
   "outputs": [],
   "source": [
    "# make a symmetric deuterated reaction network with single isotopic substitutions only of the form:\n",
    "#\n",
    "# sugar1_HHH/DHH == site_A_radical == sugar2_HHH/DHH\n",
    "# sugar1_HHH == sugar1_site_X_radical -> sugar1_HDH\n",
    "# sugar2_HHH == sugar2_site_X_radical -> sugar2_HDH\n",
    "# + similar for site Y\n",
    "#\n",
    "# KIE = 1 assumed\n",
    "def make_deuteration_network(\n",
    "    base_rate_constant_A,\n",
    "    base_rate_constant_sugar1_X,\n",
    "    base_rate_constant_sugar1_Y,\n",
    "    base_rate_constant_sugar2_X,\n",
    "    base_rate_constant_sugar2_Y,\n",
    "    HAA_selectivity,       # preference for destroying sugar 1 over sugar 2\n",
    "    HAD_selectivity,       # preference for regenerating sugar 2 over sugar 1\n",
    "    abundance = 0.7,       # fraction from 0 to 1 of deuterium\n",
    "    commitment = 10000.0,  # ratio of HAD rate constant to HAA rate constant\n",
    "    conversion = 1e-6,     # base rate constants will be converted to actual rate constants by this scaling factor\n",
    "    KIE = 1.0,             # of HAD for all steps\n",
    "):\n",
    "    # abbreviations\n",
    "    a, bA = abundance, base_rate_constant_A*conversion\n",
    "    b1X, b1Y = base_rate_constant_sugar1_X*conversion, base_rate_constant_sugar1_Y*conversion\n",
    "    b2X, b2Y = base_rate_constant_sugar2_X*conversion, base_rate_constant_sugar2_Y*conversion\n",
    "    HAA, HAD, c, k = sqrt(HAA_selectivity), sqrt(HAD_selectivity), commitment, sqrt(KIE)\n",
    "\n",
    "    # setup species\n",
    "    # xyz nomenclature refers to desired site A, undesired site X, undesired site Y\n",
    "    # h is hydrogen down, H is hydrogen up,\n",
    "    # d/D is the same thing for deuterium\n",
    "    # o is radical\n",
    "    # sugar1 is hhh, sugar2 is Hhh\n",
    "    species_strings = [\"hhh\", \"ohh\", \"Hhh\", \"Hoh\", \"Hdh\", \"Hho\", \"Hhd\", \"dhh\", \"Dhh\", \"hoh\", \"hdh\", \"hho\", \"hhd\"]\n",
    "    species_dict = { v : Species(v) for v in species_strings }\n",
    "    cat = Species(\"cat\")\n",
    "\n",
    "    # setup reactions\n",
    "    reactions_dict = {}\n",
    "    def connect(s1, s2, k):\n",
    "        reversible = isinstance(k, tuple)\n",
    "        reaction = Reaction({species_dict[s1]:1, cat:1},\n",
    "                            {species_dict[s2]:1, cat:1},\n",
    "                            reversible=reversible)\n",
    "        reactions_dict[reaction] = k\n",
    "    \n",
    "    connect(\"hhh\", \"ohh\", (bA*sqrt(HAA), (1-a)*bA*c*k/sqrt(HAD)))  # these are H so *k\n",
    "    connect(\"ohh\", \"Hhh\", ((1-a)*bA*c*sqrt(HAD)*k, bA/sqrt(HAA)))\n",
    "    connect(\"dhh\", \"ohh\", (bA*sqrt(HAA), a*bA*c/(sqrt(HAD)*k)))    # these are D so /k\n",
    "    connect(\"ohh\", \"Dhh\", (a*bA*c*sqrt(HAD)/k, bA/sqrt(HAA)))\n",
    "    \n",
    "    connect(\"hhh\", \"hoh\", (b1X, (1-a)*b1X*c*k))\n",
    "    connect(\"hoh\", \"hdh\", a*b1X*c/k)\n",
    "    connect(\"hhh\", \"hho\", (b1Y, (1-a)*b1Y*c*k))\n",
    "    connect(\"hho\", \"hhd\", a*b1Y*c/k)\n",
    "            \n",
    "    connect(\"Hhh\", \"Hoh\", (b2X, (1-a)*b2X*c*k))\n",
    "    connect(\"Hoh\", \"Hdh\", a*b2X*c/k)\n",
    "    connect(\"Hhh\", \"Hho\", (b2Y, (1-a)*b2Y*c*k))\n",
    "    connect(\"Hho\", \"Hhd\", a*b2Y*c/k)\n",
    "    \n",
    "    # return result\n",
    "    network = Network(reactions_dict, fixed_concentrations=None)\n",
    "    return network, species_dict, cat"
   ]
  },
  {
   "cell_type": "code",
   "execution_count": 94,
   "id": "4eb1f3b0-ff7b-4038-9255-705b74033dfa",
   "metadata": {},
   "outputs": [],
   "source": [
    "# model glucose/allose experiment\n",
    "network, species_dict, cat = make_deuteration_network(\n",
    "    base_rate_constant_A = 13000,         # glucose/allose (C3)\n",
    "    base_rate_constant_sugar1_X = 350,   # glucose/mannose (C2)\n",
    "    base_rate_constant_sugar1_Y = 350,   # glucose/galactose (C4)\n",
    "    base_rate_constant_sugar2_X = 3700/3,   # allose/altrose (C2)\n",
    "    base_rate_constant_sugar2_Y = 4000/3,   # allose/gulose (C4)\n",
    "    HAA_selectivity = 1.2,\n",
    "    HAD_selectivity = 5.0,\n",
    ")"
   ]
  },
  {
   "cell_type": "code",
   "execution_count": 95,
   "id": "65838644-e74b-48c3-8a51-43d75886707c",
   "metadata": {},
   "outputs": [],
   "source": [
    "initial_concentrations_dict = {\n",
    "    species_dict[\"hhh\"] : 0.2,\n",
    "    cat : 0.2*0.02,\n",
    "}\n",
    "t_span = (0.0, 3600.0)\n",
    "t_eval = np.arange(0, 3605.0, 5.0)\n",
    "df = network.simulate_timecourse(initial_concentrations_dict, t_span, t_eval)"
   ]
  },
  {
   "cell_type": "code",
   "execution_count": 96,
   "id": "2b7ba253-c864-4a7b-922d-54fe2b0047f7",
   "metadata": {},
   "outputs": [
    {
     "data": {
      "image/png": "[encoded data removed]",
      "text/plain": [
       "<Figure size 432x288 with 1 Axes>"
      ]
     },
     "metadata": {
      "needs_background": "light"
     },
     "output_type": "display_data"
    },
    {
     "name": "stdout",
     "output_type": "stream",
     "text": [
      "A:86.1%  X:6.9%  Y:6.9%   deuteration:2.2%\n"
     ]
    }
   ],
   "source": [
    "recovered_A = df[\"dhh\"] * 100.0 / (df[\"dhh\"] + df[\"hdh\"] + df[\"hhd\"])\n",
    "recovered_X = df[\"hdh\"] * 100.0 / (df[\"dhh\"] + df[\"hdh\"] + df[\"hhd\"])\n",
    "recovered_Y = df[\"hhd\"] * 100.0 / (df[\"dhh\"] + df[\"hdh\"] + df[\"hhd\"])\n",
    "deuteration = (df[\"dhh\"] + df[\"hdh\"] + df[\"hhd\"])*100.0/(df[\"hhh\"] + df[\"dhh\"] + df[\"hdh\"] + df[\"hhd\"])\n",
    "plt.plot(df.index, recovered_A, \"k.\")\n",
    "plt.plot(df.index, recovered_X, \"b.\")\n",
    "plt.plot(df.index, recovered_Y+1, \"r.\")\n",
    "plt.show()\n",
    "t=1800\n",
    "print(f\"A:{recovered_A[t]:.1f}%  X:{recovered_X[t]:.1f}%  Y:{recovered_Y[t]:.1f}%   deuteration:{deuteration[t]:.1f}%\")"
   ]
  },
  {
   "cell_type": "code",
   "execution_count": 97,
   "id": "66c835a2-5581-4d6b-806b-1b3266f77827",
   "metadata": {},
   "outputs": [],
   "source": [
    "initial_concentrations_dict = {\n",
    "    species_dict[\"Hhh\"] : 0.2,\n",
    "    cat : 0.2*0.02,\n",
    "}\n",
    "t_span = (0.0, 3600.0)\n",
    "t_eval = np.arange(0, 3605.0, 5.0)\n",
    "df = network.simulate_timecourse(initial_concentrations_dict, t_span, t_eval)"
   ]
  },
  {
   "cell_type": "code",
   "execution_count": 98,
   "id": "1adeab60-50f3-45be-a7ca-1522653a14c6",
   "metadata": {},
   "outputs": [
    {
     "data": {
      "image/png": "[encoded data removed]",
      "text/plain": [
       "<Figure size 432x288 with 1 Axes>"
      ]
     },
     "metadata": {
      "needs_background": "light"
     },
     "output_type": "display_data"
    },
    {
     "name": "stdout",
     "output_type": "stream",
     "text": [
      "A:76.7%  X:11.2%  Y:12.1%   deuteration:9.4%\n"
     ]
    }
   ],
   "source": [
    "recovered_A = df[\"Dhh\"] * 100.0 / (df[\"Dhh\"] + df[\"Hdh\"] + df[\"Hhd\"])\n",
    "recovered_X = df[\"Hdh\"] * 100.0 / (df[\"Dhh\"] + df[\"Hdh\"] + df[\"Hhd\"])\n",
    "recovered_Y = df[\"Hhd\"] * 100.0 / (df[\"Dhh\"] + df[\"Hdh\"] + df[\"Hhd\"])\n",
    "deuteration = (df[\"Dhh\"] + df[\"Hdh\"] + df[\"Hhd\"])*100.0/(df[\"Hhh\"] + df[\"Dhh\"] + df[\"Hdh\"] + df[\"Hhd\"])\n",
    "plt.plot(df.index, recovered_A, \"k.\")\n",
    "plt.plot(df.index, recovered_X, \"b.\")\n",
    "plt.plot(df.index, recovered_Y+1, \"r.\")\n",
    "plt.show()\n",
    "t=3600\n",
    "print(f\"A:{recovered_A[t]:.1f}%  X:{recovered_X[t]:.1f}%  Y:{recovered_Y[t]:.1f}%   deuteration:{deuteration[t]:.1f}%\")"
   ]
  },
  {
   "cell_type": "code",
   "execution_count": 99,
   "id": "20be3bd6-348b-4f9a-ae2a-5cfd698f6cc8",
   "metadata": {},
   "outputs": [],
   "source": [
    "# model glucose/allose experiment\n",
    "network, species_dict, cat = make_deuteration_network(\n",
    "    base_rate_constant_A = 13000,         # glucose/allose (C3)\n",
    "    base_rate_constant_sugar1_X = 1000,   # glucose/mannose (C2)\n",
    "    base_rate_constant_sugar1_Y = 1000,   # glucose/galactose (C4)\n",
    "    base_rate_constant_sugar2_X = 3700,   # allose/altrose (C2)\n",
    "    base_rate_constant_sugar2_Y = 4000,   # allose/gulose (C4)\n",
    "    HAA_selectivity = 1.2,\n",
    "    HAD_selectivity = 5.0,\n",
    ")"
   ]
  },
  {
   "cell_type": "code",
   "execution_count": null,
   "id": "a72c60b8-3561-4fe5-8b02-7ca281bc0745",
   "metadata": {},
   "outputs": [],
   "source": []
  },
  {
   "cell_type": "code",
   "execution_count": null,
   "id": "fc5bbeb9-554f-4a65-855f-b6c69191532b",
   "metadata": {},
   "outputs": [],
   "source": []
  },
  {
   "cell_type": "code",
   "execution_count": null,
   "id": "f6dd78a6-c5d5-49ae-b9fb-e32b78491ea4",
   "metadata": {},
   "outputs": [],
   "source": []
  },
  {
   "cell_type": "code",
   "execution_count": null,
   "id": "4aa9e82c-5fc5-46a2-b935-61d46c88c3c7",
   "metadata": {},
   "outputs": [],
   "source": []
  },
  {
   "cell_type": "code",
   "execution_count": null,
   "id": "c00acc86-cbdb-41f4-9094-64c84bb6c27d",
   "metadata": {},
   "outputs": [],
   "source": []
  }
 ],
 "metadata": {
  "kernelspec": {
   "display_name": "Python 3",
   "language": "python",
   "name": "python3"
  },
  "language_info": {
   "codemirror_mode": {
    "name": "ipython",
    "version": 3
   },
   "file_extension": ".py",
   "mimetype": "text/x-python",
   "name": "python",
   "nbconvert_exporter": "python",
   "pygments_lexer": "ipython3",
   "version": "3.9.5"
  }
 },
 "nbformat": 4,
 "nbformat_minor": 5
}
