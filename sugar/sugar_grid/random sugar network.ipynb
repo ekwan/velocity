{
 "cells": [
  {
   "cell_type": "code",
   "execution_count": 93,
   "id": "f91ff7b3-331a-4d37-9221-87c17aa5c96a",
   "metadata": {},
   "outputs": [],
   "source": [
    "import sys\n",
    "sys.path[0]=\"/Users/kwaneu/research/velocity/\"\n",
    "#print(sys.path)\n",
    "import pandas as pd\n",
    "import numpy as np\n",
    "from numpy.random import default_rng\n",
    "import velocity\n",
    "from velocity.chemistry import Species, Reaction, Network\n",
    "from math import sqrt\n",
    "import lmfit\n",
    "from tqdm.notebook import tqdm\n",
    "from IPython.display import display, HTML\n",
    "import matplotlib\n",
    "matplotlib.use(\"Agg\")\n",
    "import matplotlib.pyplot as plt\n",
    "%matplotlib inline\n",
    "import plotly.graph_objects as go\n",
    "from plotly.subplots import make_subplots\n",
    "import plotly.express as px\n",
    "import seaborn as sns"
   ]
  },
  {
   "cell_type": "code",
   "execution_count": 4,
   "id": "ef747e51-f315-472c-8d9b-853a7ad10f4d",
   "metadata": {},
   "outputs": [],
   "source": [
    "# set random seed\n",
    "seed = 3\n",
    "rng = default_rng(seed)"
   ]
  },
  {
   "cell_type": "code",
   "execution_count": 170,
   "id": "b3feb7ca-4155-458c-8d41-8bed63918e39",
   "metadata": {},
   "outputs": [
    {
     "name": "stdout",
     "output_type": "stream",
     "text": [
      "2.5% values above log10=1\n"
     ]
    },
    {
     "data": {
      "image/png": "[encoded data removed]",
      "text/plain": [
       "<Figure size 432x144 with 1 Axes>"
      ]
     },
     "metadata": {
      "needs_background": "light"
     },
     "output_type": "display_data"
    },
    {
     "data": {
      "image/png": "[encoded data removed]",
      "text/plain": [
       "<Figure size 432x144 with 1 Axes>"
      ]
     },
     "metadata": {
      "needs_background": "light"
     },
     "output_type": "display_data"
    }
   ],
   "source": [
    "# set distribution for selectivities\n",
    "mu_star = 1.0\n",
    "sigma_star = 3.2\n",
    "mu = np.log(mu_star)\n",
    "sigma = np.log(sigma_star)\n",
    "\n",
    "values = rng.lognormal(mu, sigma, 20000)\n",
    "log10values = np.log10(values)\n",
    "high = [ i for i in log10values if i >= 1 ]\n",
    "fraction = len(high)*100/len(values)\n",
    "print(f\"{fraction:.1f}% values above log10=1\")\n",
    "\n",
    "plt.figure(figsize=(6,2))\n",
    "plt.hist(values, bins=1000)\n",
    "plt.xlim(0.0,12)\n",
    "plt.xlabel(\"selectivity\")\n",
    "plt.yticks([])\n",
    "plt.title(f\"lognormal(mu={mu:.2f}, mu*={mu_star:.2f}, sigma={sigma:.2f}, sigma*={sigma_star:.2f})\")\n",
    "plt.show()\n",
    "\n",
    "plt.figure(figsize=(6,2))\n",
    "plt.hist(np.log10(values), bins=200)\n",
    "#plt.xlim(0.0,12)\n",
    "plt.xlabel(\"log10 selectivity\")\n",
    "plt.yticks([])\n",
    "plt.title(f\"lognormal(mu={mu:.2f}, mu*={mu_star:.2f}, sigma={sigma:.2f}, sigma*={sigma_star:.2f})\")\n",
    "plt.show()\n",
    "\n",
    "mu_selectivity, sigma_selectivity = mu, sigma"
   ]
  },
  {
   "cell_type": "code",
   "execution_count": 204,
   "id": "f575aa80-6db6-477b-8d61-b7279c5f80ea",
   "metadata": {},
   "outputs": [
    {
     "name": "stdout",
     "output_type": "stream",
     "text": [
      "7.9% values above log10=1\n"
     ]
    },
    {
     "data": {
      "image/png": "[encoded data removed]",
      "text/plain": [
       "<Figure size 432x144 with 1 Axes>"
      ]
     },
     "metadata": {
      "needs_background": "light"
     },
     "output_type": "display_data"
    },
    {
     "data": {
      "image/png": "[encoded data removed]",
      "text/plain": [
       "<Figure size 432x144 with 1 Axes>"
      ]
     },
     "metadata": {
      "needs_background": "light"
     },
     "output_type": "display_data"
    }
   ],
   "source": [
    "#### set distribution for base rate constants\n",
    "mu_star = 0.0001\n",
    "sigma_star = 5#3.25\n",
    "mu = np.log(mu_star)\n",
    "sigma = np.log(sigma_star)\n",
    "\n",
    "values = rng.lognormal(mu, sigma, 20000)\n",
    "log10values = np.log10(values)\n",
    "high = [ i for i in log10values if i >= -3 ]\n",
    "fraction = len(high)*100/len(values)\n",
    "print(f\"{fraction:.1f}% values above log10=1\")\n",
    "\n",
    "plt.figure(figsize=(6,2))\n",
    "bins = np.linspace(0,0.001,2000)\n",
    "plt.hist(values, bins=bins)\n",
    "plt.xlim(0,0.001)\n",
    "\n",
    "plt.xlabel(\"rate constant\")\n",
    "plt.yticks([])\n",
    "plt.title(f\"lognormal(mu={mu:.2f}, mu*={mu_star:.2f}, sigma={sigma:.2f}, sigma*={sigma_star:.2f})\")\n",
    "plt.show()\n",
    "\n",
    "plt.figure(figsize=(6,2))\n",
    "plt.hist(np.log10(values), bins=200)\n",
    "#plt.xlim(0.0,12)\n",
    "plt.xlabel(\"log10 rate constant\")\n",
    "plt.yticks([])\n",
    "plt.title(f\"lognormal(mu={mu:.2f}, mu*={mu_star:.2f}, sigma={sigma:.2f}, sigma*={sigma_star:.2f})\")\n",
    "plt.show()\n",
    "\n",
    "mu_base_rate, sigma_base_rate = mu, sigma"
   ]
  },
  {
   "cell_type": "code",
   "execution_count": 205,
   "id": "cc8a6fcc-8963-4ecf-bc15-4c60e9afd69d",
   "metadata": {},
   "outputs": [],
   "source": [
    "# setup sugars\n",
    "glucose = Species(\"Glc\", \"glucose\")\n",
    "mannose = Species(\"Man\", \"mannose\")\n",
    "altrose = Species(\"Alt\", \"altrose\")\n",
    "allose = Species(\"All\", \"allose\")\n",
    "gulose = Species(\"Gul\", \"gulose\")\n",
    "galactose = Species(\"Gal\", \"galactose\")\n",
    "talose = Species(\"Tal\", \"talose\")\n",
    "idose = Species(\"Ido\", \"idose\")\n",
    "\n",
    "# must match order in spreadsheet!\n",
    "sugars = [ glucose, mannose, allose, galactose, altrose, talose, gulose, idose ]\n",
    "sugars_dict = { s.abbreviation : s for s in sugars }\n",
    "sugar_abbreviations = [ s.abbreviation for s in sugars ]\n",
    "\n",
    "# setup catalyst\n",
    "catalyst_active = Species(\"cat\", \"catalyst (active)\")\n",
    "catalyst_dead = Species(\"dead\", \"catalyst (dead)\")\n",
    "\n",
    "# these are the network connections\n",
    "CONNECTIONS = [\"Glc_All\",  \"Glc_Gal\",  \"Glc_Man\",\n",
    "               \"All_Gul\",  \"Gul_Gal\",  \"Gal_Tal\",\n",
    "               \"Tal_Man\",  \"Man_Alt\",  \"Alt_All\",\n",
    "               \"Alt_Ido\",  \"Tal_Ido\",  \"Ido_Gul\"]"
   ]
  },
  {
   "cell_type": "code",
   "execution_count": 206,
   "id": "faa25d24-5685-4258-bad1-1f8d34acb064",
   "metadata": {},
   "outputs": [],
   "source": [
    "def add_connection(reactions_dict, connection_string, base_rate_constant, selectivity):\n",
    "    sugar1, sugar2 = connection_string.split(\"_\")\n",
    "    sugar1 = sugars_dict[sugar1]\n",
    "    sugar2 = sugars_dict[sugar2]\n",
    "\n",
    "    jk1 = base_rate_constant*sqrt(selectivity)\n",
    "    jk2 = base_rate_constant/sqrt(selectivity)\n",
    "    reaction = Reaction({sugar1:1, catalyst_active:1}, {sugar2:1, catalyst_active:1}, reversible=True)\n",
    "    reactions_dict[reaction] = (jk1,jk2)"
   ]
  },
  {
   "cell_type": "code",
   "execution_count": 207,
   "id": "24e9691c-9e3f-481d-831c-326a1fbcf36d",
   "metadata": {},
   "outputs": [],
   "source": [
    "def create_network():\n",
    "    reactions_dict = {}\n",
    "\n",
    "    for connection in CONNECTIONS:\n",
    "        random_base_rate = rng.lognormal(mu_base_rate, sigma_base_rate)\n",
    "        random_selectivity = rng.lognormal(mu_selectivity, sigma_selectivity)\n",
    "        #base_rate_constant = np.power(10, x[f\"{connection}_log10_base_rate_constant\"])\n",
    "        #selectivity = np.power(10, x[f\"{connection}_log10_selectivity\"])\n",
    "        add_connection(reactions_dict, connection, random_base_rate, random_selectivity)\n",
    "\n",
    "    #catalyst_deactivation_reaction = Reaction(catalyst_active, catalyst_dead, reversible=False)\n",
    "    #reactions_dict[catalyst_deactivation_reaction] = np.power(10.0,x[\"log10_catalyst_deactivation_rate_constant\"])\n",
    "    \n",
    "    network = Network(reactions_dict, fixed_concentrations=None)\n",
    "    return network"
   ]
  },
  {
   "cell_type": "code",
   "execution_count": 208,
   "id": "f52c4d75-5e10-4cc2-a9e2-76300f725a1e",
   "metadata": {},
   "outputs": [],
   "source": [
    "# generate times to run simulation over\n",
    "t_span = (0.0, 1e7)\n",
    "t_eval = np.logspace(1, 7, num=500, endpoint=True, base=10.0)"
   ]
  },
  {
   "cell_type": "code",
   "execution_count": 209,
   "id": "d6881879-9038-4e70-aec5-5f5a03c309f4",
   "metadata": {},
   "outputs": [],
   "source": [
    "def trial():\n",
    "    network = create_network()\n",
    "\n",
    "    initial_concentrations_dict = {\n",
    "        glucose : 0.2,\n",
    "        catalyst_active : 0.2*0.02,\n",
    "    }\n",
    "    concentrations_df = network.simulate_timecourse(initial_concentrations_dict, t_span, t_eval)\n",
    "    concentrations_df = concentrations_df*100.0/0.2\n",
    "    concentrations_df = concentrations_df[[\"All\",\"Alt\",\"Gal\",\"Glc\",\"Gul\",\"Ido\",\"Man\",\"Tal\"]]\n",
    "    \n",
    "    # determine max kinetic selectivity\n",
    "    max_sugar = concentrations_df[[\"All\",\"Alt\",\"Gal\",\"Gul\",\"Ido\",\"Man\",\"Tal\"]].max(axis=0).idxmax()\n",
    "    max_time = concentrations_df[max_sugar].idxmax()\n",
    "    kinetics = concentrations_df.loc[max_time].to_numpy()\n",
    "    thermodynamics = concentrations_df.iloc[-1,:].to_numpy()\n",
    "    kinetic_selectivities.append(kinetics)\n",
    "    thermodynamic_selectivities.append(thermodynamics)"
   ]
  },
  {
   "cell_type": "code",
   "execution_count": 210,
   "id": "9a330f00-43f1-421b-94ae-411067134a0d",
   "metadata": {},
   "outputs": [
    {
     "data": {
      "application/vnd.jupyter.widget-view+json": {
       "model_id": "222792ef18f44af68b9fa46665fdd1bb",
       "version_major": 2,
       "version_minor": 0
      },
      "text/plain": [
       "  0%|          | 0/2000 [00:00<?, ?it/s]"
      ]
     },
     "metadata": {},
     "output_type": "display_data"
    }
   ],
   "source": [
    "kinetic_selectivities = []\n",
    "thermodynamic_selectivities = []\n",
    "for i in tqdm(range(2000)):\n",
    "    trial()"
   ]
  },
  {
   "cell_type": "code",
   "execution_count": 211,
   "id": "9432a1c7-acb2-4f15-8bae-66c902743e0f",
   "metadata": {},
   "outputs": [],
   "source": [
    "kinetic_selectivities = pd.DataFrame(kinetic_selectivities, columns=[\"All\",\"Alt\",\"Gal\",\"Glc\",\"Gul\",\"Ido\",\"Man\",\"Tal\"])\n",
    "thermodynamic_selectivities = pd.DataFrame(thermodynamic_selectivities, columns=[\"All\",\"Alt\",\"Gal\",\"Glc\",\"Gul\",\"Ido\",\"Man\",\"Tal\"])"
   ]
  },
  {
   "cell_type": "code",
   "execution_count": 212,
   "id": "52cce8b9-9534-4cd9-8a1d-273b0fdf7ee5",
   "metadata": {},
   "outputs": [
    {
     "name": "stdout",
     "output_type": "stream",
     "text": [
      "7.75% values above 60%\n"
     ]
    }
   ],
   "source": [
    "maxs = kinetic_selectivities.max(axis=1).to_numpy()\n",
    "print(f\"{(maxs>60).sum() * 100.0 / 2000.0}% values above 60%\")"
   ]
  },
  {
   "cell_type": "code",
   "execution_count": 213,
   "id": "147fbf45-7d4c-487e-86c7-abc8130c8488",
   "metadata": {},
   "outputs": [
    {
     "data": {
      "image/png": "[encoded data removed]",
      "text/plain": [
       "<Figure size 576x144 with 1 Axes>"
      ]
     },
     "metadata": {
      "needs_background": "light"
     },
     "output_type": "display_data"
    }
   ],
   "source": [
    "plt.figure(figsize=(8,2))\n",
    "plt.hist(kinetic_selectivities.max(axis=1),bins=np.linspace(0,100,100))\n",
    "plt.xlabel(\"mole percent\")\n",
    "plt.ylabel(\"density\")\n",
    "plt.xlim(0,100)\n",
    "plt.ylim(0,140)\n",
    "plt.title(\"distribution of max kinetic selectivities\")\n",
    "plt.show()"
   ]
  },
  {
   "cell_type": "code",
   "execution_count": 214,
   "id": "602d36e7-a009-4565-b377-0acce610afbe",
   "metadata": {},
   "outputs": [
    {
     "name": "stdout",
     "output_type": "stream",
     "text": [
      "1.1% values above 60%\n"
     ]
    }
   ],
   "source": [
    "maxs = thermodynamic_selectivities.max(axis=1).to_numpy()\n",
    "print(f\"{(maxs>60).sum() * 100.0 / 2000.0}% values above 60%\")"
   ]
  },
  {
   "cell_type": "code",
   "execution_count": 215,
   "id": "3f343ee2-2a71-47c1-a423-35712a8810b7",
   "metadata": {},
   "outputs": [
    {
     "data": {
      "image/png": "[encoded data removed]",
      "text/plain": [
       "<Figure size 576x144 with 1 Axes>"
      ]
     },
     "metadata": {
      "needs_background": "light"
     },
     "output_type": "display_data"
    }
   ],
   "source": [
    "plt.figure(figsize=(8,2))\n",
    "plt.hist(thermodynamic_selectivities.max(axis=1),bins=np.linspace(0,100,100))\n",
    "plt.xlabel(\"mole percent\")\n",
    "plt.ylabel(\"density\")\n",
    "plt.xlim(0,100)\n",
    "plt.ylim(0,140)\n",
    "plt.title(\"distribution of max thermodynamic selectivities\")\n",
    "plt.show()"
   ]
  },
  {
   "cell_type": "code",
   "execution_count": 203,
   "id": "7fd60a2f-0143-44ea-8b5a-871a0d7a2b5c",
   "metadata": {},
   "outputs": [
    {
     "data": {
      "image/png": "[encoded data removed]",
      "text/plain": [
       "<Figure size 576x432 with 4 Axes>"
      ]
     },
     "metadata": {
      "needs_background": "light"
     },
     "output_type": "display_data"
    }
   ],
   "source": [
    "# cbar_pos (left, bottom, width, height)\n",
    "clustermap = sns.clustermap(kinetic_selectivities, cmap=\"inferno\", vmin=0.0, vmax=100.0, figsize=(8,6),\n",
    "                            row_cluster=True, col_cluster=False,\n",
    "                            cbar_pos=(0.95,0.35,0.025,0.15),\n",
    "                            cbar_kws={'label': 'mole percent'})\n",
    "clustermap.ax_row_dendrogram.set_visible(False)\n",
    "clustermap.ax_col_dendrogram.set_visible(False)\n",
    "clustermap.ax_heatmap.set_yticks([])\n",
    "plt.show()"
   ]
  },
  {
   "cell_type": "code",
   "execution_count": 202,
   "id": "dc80a743-4d95-419c-8875-cce744af88bc",
   "metadata": {},
   "outputs": [
    {
     "data": {
      "image/png": "[encoded data removed]",
      "text/plain": [
       "<Figure size 576x432 with 4 Axes>"
      ]
     },
     "metadata": {
      "needs_background": "light"
     },
     "output_type": "display_data"
    }
   ],
   "source": [
    "clustermap = sns.clustermap(thermodynamic_selectivities, cmap=\"inferno\", vmin=0.0, vmax=100.0, figsize=(8,6),\n",
    "                            row_cluster=True, col_cluster=False,\n",
    "                            cbar_pos=(0.95,0.35,0.025,0.15),\n",
    "                            cbar_kws={'label': 'mole percent'})\n",
    "clustermap.ax_row_dendrogram.set_visible(False)\n",
    "clustermap.ax_col_dendrogram.set_visible(False)\n",
    "clustermap.ax_heatmap.set_yticks([])\n",
    "plt.show()"
   ]
  },
  {
   "cell_type": "code",
   "execution_count": null,
   "id": "4a70466a-d43d-44ca-bf57-95eca20df006",
   "metadata": {},
   "outputs": [],
   "source": []
  },
  {
   "cell_type": "code",
   "execution_count": null,
   "id": "8fb6569c-724c-455c-9a66-5f05fadf8052",
   "metadata": {},
   "outputs": [],
   "source": []
  },
  {
   "cell_type": "code",
   "execution_count": 58,
   "id": "c0357c2a-aede-475a-9644-651c5aaf13a3",
   "metadata": {},
   "outputs": [
    {
     "data": {
      "application/vnd.plotly.v1+json": {
       "config": {
        "plotlyServerURL": "https://plot.ly"
       },
       "data": [
        {
         "coloraxis": "coloraxis",
         "hovertemplate": "x: %{x}<br>time: %{y}<br>color: %{z}<extra></extra>",
         "name": "0",
         "type": "heatmap",
         "x": [
          "All",
          "Alt",
          "Gal",
          "Glc",
          "Gul",
          "Ido",
          "Man",
          "Tal"
         ],
         "xaxis": "x",
         "y": [
          10,
          10.280732238308653,
          10.569345535579883,
          10.866061138545975,
          11.171106505048241,
          11.484715478402896,
          11.807128466661903,
          12.138592626906282,
          12.479362054713114,
          12.829697978941475,
          13.189868961986699,
          13.560151105656333,
          13.940828262825779,
          14.33219225503574,
          14.734543096198351,
          15.148189222583458,
          15.573447729261343,
          16.010644613183178,
          16.460115023085507,
          16.922203516410374,
          17.397264323438016,
          17.885661618834618,
          18.38776980082328,
          18.903973778192213,
          19.434669265360213,
          19.980263085725507,
          20.541173483530642,
          21.117830444482443,
          21.71067602537265,
          22.320164692952346,
          22.94676367231936,
          23.59095330508635,
          24.25322741760353,
          24.93409369951879,
          25.63407409296515,
          26.353705192673946,
          27.093538657320515,
          27.854141632417676,
          28.63609718508116,
          29.44000475100035,
          30.26648059395692,
          31.116158278243613,
          31.989689154345378,
          32.8877428582551,
          33.81100782480685,
          34.76019181541977,
          35.736022460657885,
          36.73924781802074,
          37.77063694539368,
          38.83098049059605,
          39.92109129748054,
          41.04180502904709,
          42.19398080805026,
          43.37850187558989,
          44.596276268190934,
          45.84823751389096,
          47.1353453478691,
          48.45858644816496,
          49.818975192051624,
          51.21755443364241,
          52.65539630332756,
          54.13360302965381,
          55.65330778427646,
          57.21567555063252,
          58.82190401699956,
          60.47322449462649,
          62.17090286163827,
          63.91624053344005,
          65.7105754603627,
          67.55528315331642,
          69.45177773823696,
          71.40151304013399,
          73.40598369757213,
          75.46672630843891,
          77.58532060787836,
          79.76339067929277,
          82.0026061993413,
          84.30468371788972,
          86.67138797389234,
          89.10453324821513,
          91.60598475443709,
          94.17766006869519,
          96.82153059967087,
          99.53962309984233,
          102.33402121916423,
          105.20686710236228,
          108.16036303107094,
          111.19677311206989,
          114.31842501291503,
          117.52771174629451,
          120.82709350447759,
          124.21909954526174,
          127.70633013086447,
          131.29145852124654,
          134.97723302339418,
          138.76647909813084,
          142.66210152607383,
          146.66708663439687,
          150.7845045861051,
          155.01751173357704,
          159.36935303817762,
          163.84336455779848,
          168.44297600423153,
          173.1717133723353,
          178.03320164301138,
          183.0311675620613,
          188.16944249705557,
          193.45196537440444,
          198.88278569888098,
          204.46606665791177,
          210.20608831301584,
          216.10725088083765,
          222.17407810628848,
          228.41122073038255,
          234.82346005542763,
          241.41571161030177,
          248.19302891862552,
          255.16060737271863,
          262.3237882163124,
          269.68806263906924,
          277.2590759860481,
          285.0426320853435,
          293.0446976972144,
          301.2714070881164,
          309.72906673314066,
          318.4241601504653,
          327.36335287152474,
          336.55349755070944,
          346.0016392185109,
          355.7150206821386,
          365.7010880777493,
          375.96749657854673,
          386.5221162631262,
          397.37303814856085,
          408.52858039285655,
          419.9972946715306,
          431.78797273320214,
          443.9096531392171,
          456.37162819247584,
          469.1834510607799,
          482.3549431001467,
          495.8962013837212,
          509.81760644204246,
          524.1298302206062,
          538.8438442608224,
          553.97092811064,
          569.5226779712825,
          585.5110155867244,
          601.9481973827275,
          618.8468238624383,
          636.2198492657488,
          654.0805914998259,
          672.442742348425,
          691.3203779678128,
          710.7279696773419,
          730.6803950529508,
          751.1929493320969,
          772.2813571388642,
          793.9617845382276,
          816.2508514287229,
          839.1656442830161,
          862.723729246145,
          886.9431656014705,
          911.8425196146571,
          937.4408787663,
          963.7578663841089,
          990.8136566858666,
          1018.6289902446875,
          1047.2251898884344,
          1076.6241770454933,
          1106.848488549412,
          1137.9212939153151,
          1169.866413101307,
          1202.708334768512,
          1236.472235053715,
          1271.1839968690288,
          1306.8702297433463,
          1343.5582902208262,
          1381.2763028320094,
          1420.0531816536832,
          1459.9186524739787,
          1500.9032755797366,
          1543.0384691835645,
          1586.3565335085896,
          1630.8906755493326,
          1676.6750345276992,
          1723.7447080636198,
          1772.1357790803584,
          1821.8853434651671,
          1873.0315385064366,
          1925.6135721291987,
          1979.6717529513326,
          2035.2475211835779,
          2092.383480396977,
          2151.1234301821673,
          2211.5123997254886,
          2273.5966823277176,
          2337.423870891815,
          2403.0428944069695,
          2470.5040554568254,
          2539.8590687807264,
          2611.1611009174594,
          2684.4648109619625,
          2759.8263924661806,
          2837.3036165162116,
          2916.955876018796,
          2998.8442312310276,
          3083.031456568277,
          3169.582088726115,
          3258.5624761532263,
          3350.0408299131327,
          3444.0872759738236,
          3540.7739089652696,
          3640.1748474461415,
          3742.366290721981,
          3847.426577258506,
          3955.4362447347016,
          4066.478091781858,
          4180.637241455758,
          4298.001206490799,
          4418.659956385942,
          4542.705986374043,
          4670.234388327335,
          4801.34292365345,
          4936.132098237917,
          5074.705239490466,
          5217.168575554349,
          5363.63131673924,
          5514.205739240302,
          5669.007271207434,
          5828.154581230846,
          5991.769669310619,
          6159.977960380169,
          6332.908400455115,
          6510.693555481461,
          6693.469712958661,
          6881.37698641567,
          7074.559422819879,
          7273.165113001454,
          7477.346305177588,
          7687.259521663728,
          7903.065678861348,
          8124.930210614048,
          8353.023195026779,
          8587.51948484517,
          8828.59884149515,
          9076.446072885357,
          9331.25117507825,
          9593.20947793824,
          9862.521794868784,
          10139.394576752917,
          10424.040070215578,
          10716.676480328644,
          11017.528137883874,
          11326.825671361537,
          11644.806183726854,
          11971.713434189656,
          12307.798025066633,
          12653.31759388943,
          13008.537010905706,
          13373.728582124977,
          13749.172258064205,
          14135.155848353957,
          14531.975242368953,
          14939.934636052561,
          15359.346765108954,
          15790.533144741757,
          16233.824316122782,
          16689.560099780265,
          17158.089856100065,
          17639.772753140453,
          18134.978041964954,
          18644.085339704852,
          19167.48492056813,
          19705.578015018003,
          20258.77711735017,
          20827.506301905145,
          21412.201548157314,
          22013.311074930323,
          22631.295683995297,
          23266.62911331458,
          23919.798400202373,
          24591.304254680414,
          25281.661443315006,
          25991.39918382933,
          26721.06155079438,
          27471.207892708146,
          28242.413260784357,
          29035.26884977814,
          29850.382451187295,
          30688.37891917639,
          31549.900649580886,
          32435.608072358114,
          33346.18015786363,
          34282.31493733974,
          35244.73003801588,
          36234.1632332315,
          37251.3730080021,
          38297.13914046277,
          39372.26329963475,
          40477.569659973225,
          41613.90553316707,
          42782.14201767622,
          43983.17466650228,
          45217.92417370702,
          46487.33708020257,
          47792.38649935595,
          49134.07286296357,
          50513.424688167666,
          51931.49936590212,
          53389.38397147361,
          54888.19609789677,
          56429.08471262542,
          58013.23103833378,
          59641.8494584246,
          61316.18844795769,
          63037.53153071269,
          64807.19826311971,
          66626.5452458115,
          68496.96716357453,
          70419.89785449296,
          72396.81140910876,
          74429.22330043757,
          76518.69154570818,
          78666.81790071575,
          80875.24908770458,
          83145.67805772064,
          85479.84528840422,
          87879.54011821328,
          90346.60211810534,
          92882.92250172498,
          95490.44557518078,
          98171.17022752183,
          100927.15146305718,
          103760.50197669117,
          106673.3937734857,
          109668.05983368674,
          112746.79582449472,
          115911.96185988857,
          119165.98430985588,
          122511.35766041177,
          125950.64642583589,
          129486.48711459049,
          133121.59025043077,
          136858.74245025177,
          140700.80856026863,
          144650.7338521647,
          148711.5462808954,
          152886.35880587294,
          157178.37177731612,
          161590.8753895919,
          166127.2522034293,
          170790.9797389427,
          175585.6331414467,
          180514.887922111,
          185582.5227755519,
          190792.4224765265,
          196148.58085794293,
          201655.10387247487,
          207316.21274012313,
          213136.24718414375,
          219119.66875781474,
          225271.06426459827,
          231595.14927431545,
          238096.77173803584,
          244780.91570444402,
          251652.7051405389,
          258717.40785959238,
          265980.43955937587,
          273447.36797375797,
          281123.91714084614,
          289015.97179095115,
          297129.5818577334,
          305470.9671159968,
          314046.5219496749,
          322862.82025367336,
          331926.62047331897,
          341244.8707852889,
          350824.7144239789,
          360673.4951574032,
          370798.7629168173,
          381208.2795843888,
          391910.0249433402,
          402912.2027951352,
          414223.2472483898,
          425851.8291843415,
          437806.8629038166,
          450097.5129608042,
          462733.20118786936,
          475723.61391878896,
          489078.709413959,
          502808.7254942475,
          516924.1873891604,
          531435.9158053241,
          546355.0352214876,
          561692.9824163804,
          577461.5152359826,
          593672.7216069127,
          610339.0288028622,
          627473.2129711575,
          645088.40892677,
          663198.1202212676,
          681816.2294944479,
          700957.0091165617,
          720635.1321293045,
          740865.6834939568,
          761664.1716552892,
          783046.5404301183,
          805029.1812295973,
          827628.9456246352,
          850863.1582640582,
          874749.6301554416,
          899306.6723187614,
          924553.109823358,
          950508.2962189511,
          977192.1283717996,
          1004625.0617173403,
          1032828.1259410296,
          1061822.9410993846,
          1091631.7341936147,
          1122277.3562085072,
          1153783.2996296596,
          1186173.7164524791,
          1219473.4366967382,
          1253707.9874409197,
          1288903.6123908916,
          1325087.2919979538,
          1362286.764141647,
          1400530.5453932197,
          1439847.9528760065,
          1480269.12673951,
          1521825.053264387,
          1564547.5886160957,
          1608469.4832653552,
          1653624.4070941822,
          1700046.975206718,
          1747772.7744646808,
          1796838.3907677194,
          1847281.437099636,
          1899140.5823619356,
          1952455.581016861,
          2007267.3035625683,
          2063617.7678638566,
          2121550.171362452,
          2181108.92419152,
          2242339.683219845,
          2305289.387051706,
          2370006.2920093304,
          2436540.009125466,
          2504941.5421745023,
          2575263.326771199,
          2647559.2705670693,
          2721884.7945751795,
          2798296.875655116,
          2876854.0901905913,
          2957616.6589932567,
          3040646.4934670688,
          3126007.2430687035,
          3213764.3441002755,
          3303985.069871855,
          3396738.5822722097,
          3492095.9847872714,
          3590130.3770070686,
          3690916.9106627745,
          3794532.847236942,
          3901057.6171909934,
          4010572.880855496,
          4123162.5910297483,
          4238913.0573387835,
          4357913.012397029,
          4480253.679829489,
          4606028.844202398,
          4735334.922917121,
          4868271.040122284,
          5004939.102700953,
          5145443.878390924,
          5289893.076098146,
          5438397.428464801,
          5591070.776755293,
          5748030.158125351,
          5909395.895340965,
          6075291.689016078,
          6245844.712439618,
          6421185.709064758,
          6601449.092734883,
          6786773.050723302,
          6977299.649665538,
          7173174.944465613,
          7374549.090259546,
          7581576.4575221175,
          7794415.750404951,
          8013230.128396886,
          8238187.331399601,
          8469459.808314594,
          8707224.849239921,
          8951664.721378302,
          9202966.80876041,
          9461323.75589076,
          9726933.615426179,
          10000000
         ],
         "yaxis": "y",
         "z": [
          [
           0.00046577771415825983,
           1.4679156116500974e-09,
           0.0001368367961535498,
           99.99907422733786,
           6.593791944189286e-10,
           2.85385077952731e-15,
           0.00032315520960163834,
           8.149278746619083e-10
          ],
          [
           0.0004788535008956309,
           1.5514903280591065e-09,
           0.00014067821366417092,
           99.99904823804987,
           6.969204858366824e-10,
           3.1010107898011413e-15,
           0.0003322271258256742,
           8.613251334300352e-10
          ],
          [
           0.0004922963616957111,
           1.6398232986814148e-09,
           0.00014462747029825998,
           99.99902151916648,
           7.365991593159357e-10,
           3.3695762608773337e-15,
           0.0003415537147290065,
           9.10363973780821e-10
          ],
          [
           0.0005061166012019502,
           1.7331854295691437e-09,
           0.00014868759334233264,
           99.99899405020604,
           7.785369044852364e-10,
           3.6614010239653645e-15,
           0.000351142125495552,
           9.621947907625222e-10
          ],
          [
           0.0005203248133247742,
           1.8318630504273702e-09,
           0.00015286169506259915,
           99.99896581011193,
           8.228623392082582e-10,
           3.978499461920059e-15,
           0.0003609997079928322,
           1.016976541906074e-09
          ],
          [
           0.0005349318893612411,
           1.9361587927302236e-09,
           0.00015715297509027732,
           99.99893677723638,
           8.697114040302879e-10,
           4.323060413823401e-15,
           0.0003711340184048397,
           1.0748772347095712e-09
          ],
          [
           0.000549949026342584,
           2.0463925178301506e-09,
           0.0001615647228738489,
           99.99890692932406,
           9.192277790815243e-10,
           4.697462283767927e-15,
           0.00038155282502298126,
           1.136074441876015e-09
          ],
          [
           0.000565387735616037,
           2.162902297906539e-09,
           0.00016610032020013824,
           99.99887624349476,
           9.715633247156878e-10,
           5.10428945813063e-15,
           0.0003922641141995334,
           1.2007558458843263e-09
          ],
          [
           0.0005812598516675157,
           2.286045452761888e-09,
           0.00017076324378614426,
           99.99884469622603,
           1.0268785472352237e-09,
           5.546350144657962e-15,
           0.0004032760964681689,
           1.2691198145635627e-09
          ],
          [
           0.000597577541191913,
           2.416199645644983e-09,
           0.00017555706794361033,
           99.9988122633351,
           1.0853430911313027e-09,
           6.026695756496528e-15,
           0.00041459721283624055,
           1.3413760094353452e-09
          ],
          [
           0.000614353312417956,
           2.5537640414615387e-09,
           0.00018048546731837324,
           99.99877891996037,
           1.1471362593481539e-09,
           6.5486419749680025e-15,
           0.0004262361412536425,
           1.4177460286899888e-09
          ],
          [
           0.000631600024694764,
           2.6991605309240543e-09,
           0.00018555221970658814,
           99.99874464054226,
           1.2124475631671492e-09,
           7.115791636473908e-15,
           0.000438201803263197,
           1.4984640867679872e-09
          ],
          [
           0.0006493308983474572,
           2.8528350243948714e-09,
           0.0001907612089499881,
           99.99870939880377,
           1.2814773033969627e-09,
           7.732059601507203e-15,
           0.0004505033708376662,
           1.583777732630817e-09
          ],
          [
           0.0006675595248093557,
           3.015258819390089e-09,
           0.0001961164279123931,
           99.99867316773022,
           1.3544371846520466e-09,
           8.40169977742841e-15,
           0.000463150273408616,
           1.6739486089235713e-09
          ],
          [
           0.0006862998770385356,
           3.1869300459378735e-09,
           0.00020162198153975006,
           99.99863591954859,
           1.431550964603188e-09,
           9.129334481530541e-15,
           0.00047615220509251933,
           1.7692532543573892e-09
          ],
          [
           0.0007055663202267173,
           3.368375194223461e-09,
           0.00020728209000604478,
           99.99859762570622,
           1.5130551401911224e-09,
           9.919986347070227e-15,
           0.000489519132119627,
           1.869983951772116e-09
          ],
          [
           0.0007253736228086879,
           3.5601507292054166e-09,
           0.0002131010919474973,
           99.99855825684897,
           1.5991996729075219e-09,
           1.0779112992495211e-14,
           0.0005032613004712954,
           1.976449624479731e-09
          ],
          [
           0.0007457369677806871,
           3.7628447971544645e-09,
           0.00021908344778751485,
           99.99851778279863,
           1.6902487553674909e-09,
           1.1712644693170697e-14,
           0.0005173892437316173,
           2.088976783637092e-09
          ],
          [
           0.0007666719643364275,
           3.977079029347996e-09,
           0.00022523374315494958,
           99.99847617252986,
           1.786481621524291e-09,
           1.2727025315631273e-14,
           0.0005319137911593651,
           2.2079105295530095e-09
          ],
          [
           0.0007881946598296589,
           4.2035104484513486e-09,
           0.0002315566923982778,
           99.99843339414646,
           1.8881934030108664e-09,
           1.382925679690429e-14,
           0.0005468460759864274,
           2.3336156100000576e-09
          ],
          [
           0.0008103215520724344,
           4.442833483431755e-09,
           0.00023805714219839126,
           99.99838941485677,
           1.9956960342341625e-09,
           1.5026947475919412e-14,
           0.0005621975439490883,
           2.4664775387762766e-09
          ],
          [
           0.0008330696019785003,
           4.695782099183681e-09,
           0.00024474007528276686,
           99.99834420094867,
           2.1093192089977275e-09,
           1.632836461060758e-14,
           0.0005779799620586815,
           2.6069037779466793e-09
          ],
          [
           0.0008564562465614861,
           4.9631320473960034e-09,
           0.0002516106142438575,
           99.99829771776369,
           2.229411391586091e-09,
           1.774249144318314e-14,
           0.0005942054276183302,
           2.7553249873896956e-09
          ],
          [
           0.0008804994122978502,
           5.24570324556324e-09,
           0.0002586740254646278,
           99.9982499296705,
           2.35634088541141e-09,
           1.92790892074957e-14,
           0.0006108863774926748,
           2.9121963454800763e-09
          ],
          [
           0.0009052175288648152,
           5.544362291435959e-09,
           0.00026593572315423985,
           99.99820080003747,
           2.490496962499374e-09,
           2.0948764506449796e-14,
           0.000628035597637683,
           3.0779989449578585e-09
          ],
          [
           0.0009306295432638007,
           5.8600251206207406e-09,
           0.0002734012734969777,
           99.99815029120477,
           2.6322910572778917e-09,
           2.2763042524555476e-14,
           0.0006456662328978323,
           3.253241268263504e-09
          ],
          [
           0.0009567549343401832,
           6.193659815479091e-09,
           0.00028107639891758674,
           99.99809836445536,
           2.7821580283292924e-09,
           2.4734446580948706e-14,
           0.0006637917970781656,
           3.4384607468630196e-09
          ],
          [
           0.000983613727710484,
           6.546289573938519e-09,
           0.00028896698246629315,
           99.99804497998542,
           2.940557491975126e-09,
           2.68765845719834e-14,
           0.0006824261832989255,
           3.6342254093442987e-09
          ],
          [
           0.0010112265111084176,
           6.918995847319217e-09,
           0.000297079072326858,
           99.99799009687379,
           3.107975231782875e-09,
           2.920424290004923e-14,
           0.0007015836746406863,
           3.841135623338087e-09
          ],
          [
           0.0010396144501615562,
           7.31292165679841e-09,
           0.0003054188864511202,
           99.9979336730506,
           3.284924688316819e-09,
           3.173348853694282e-14,
           0.0007212789550881388,
           4.05982593660479e-09
          ],
          [
           0.0010687993046106718,
           7.729275098681455e-09,
           0.00031399281732356833,
           99.99787566526507,
           3.4719485337010803e-09,
           3.448177992626165e-14,
           0.0007415271207808851,
           4.290967022932035e-09
          ],
          [
           0.0010988034449841918,
           8.169333049228556e-09,
           0.0003228074368595968,
           99.99781602905232,
           3.6696203358232626e-09,
           3.746808749030353e-14,
           0.0007623436915798687,
           4.535267738809672e-09
          ],
          [
           0.0011296498697405048,
           8.634445080396833e-09,
           0.0003318695014411857,
           99.99775471869935,
           3.878546317281554e-09,
           4.071302457323951e-14,
           0.0007837446229582688,
           4.793477297188022e-09
          ],
          [
           0.0011613622228912647,
           9.12603759850511e-09,
           0.00034118595709386394,
           99.99769168720995,
           4.099367214469047e-09,
           4.4238989724366296e-14,
           0.0008057463182259721,
           5.066387564984599e-09
          ],
          [
           0.0011939648121191645,
           9.645618218511496e-09,
           0.0003507639448089138,
           99.9976268862687,
           4.332760242495733e-09,
           4.80703213035093e-14,
           0.0008283656410969602,
           5.354835491383547e-09
          ],
          [
           0.001227482627404047,
           1.0194780387316668e-08,
           0.00036061080601489115,
           99.99756026620399,
           4.579441171973336e-09,
           5.223346547569836e-14,
           0.0008516199286092303,
           5.6597056743731956e-09
          ],
          [
           0.001261941360171618,
           1.0775208270269131e-08,
           0.00037073408820264566,
           99.99749177594985,
           4.840166524031056e-09,
           5.675715875465056e-14,
           0.0008755270044071304,
           5.981933073390893e-09
          ],
          [
           0.001297367422979401,
           1.1388681915855624e-08,
           0.0003811415507081454,
           99.99742136300692,
           5.115735890292716e-09,
           6.167262635500923e-14,
           0.0009001051923962614,
           6.322505876392079e-09
          ],
          [
           0.001333787969755009,
           1.203708271441285e-08,
           0.0003918411706575301,
           99.9973489734022,
           5.406994384929104e-09,
           6.70137977224024e-14,
           0.0009253733307813973,
           6.682468530134143e-09
          ],
          [
           0.0013712309166022158,
           1.2722399167597982e-08,
           0.00040284114907893965,
           99.99727455164759,
           5.7148352363040586e-09,
           7.281754072894166e-14,
           0.0009513507864981454,
           7.062924942965741e-09
          ],
          [
           0.0014097249631907411,
           1.344673298630835e-08,
           0.0004141499171857948,
           99.99719804069751,
           6.040202526160921e-09,
           7.91239161506125e-14,
           0.000978057470049392,
           7.465041869941244e-09
          ],
          [
           0.0014492996147461277,
           1.4212305535747436e-08,
           0.0004257761428363334,
           99.99711938190512,
           6.384094084748332e-09,
           8.597645418298958e-14,
           0.0010055138507578693,
           7.890052490638752e-09
          ],
          [
           0.0014899852046565238,
           1.5021464647398708e-08,
           0.00043772873717434535,
           99.99703851497735,
           6.747564550762366e-09,
           9.342245490381625e-14,
           0.001033740972446506,
           8.339260190650923e-09
          ],
          [
           0.001531812917713661,
           1.5876691818793667e-08,
           0.00045001686145618213,
           99.9969553779287,
           7.131728605487342e-09,
           1.0151331475626626e-13,
           0.0010627604695585468,
           8.81404255834211e-09
          ],
          [
           0.0015748148140058318,
           1.678060982314935e-08,
           0.00046264993406926533,
           99.99686990703385,
           7.537764391051749e-09,
           1.1030488130629666e-13,
           0.0010925945837297673,
           9.315855609125284e-09
          ],
          [
           0.001619023853481102,
           1.773599075220679e-08,
           0.00047563763774745527,
           99.99678203677868,
           7.96691712327999e-09,
           1.1985783872263845e-13,
           0.001123266180825436,
           9.846238250209361e-09
          ],
          [
           0.0016644739211995974,
           1.874576451693074e-08,
           0.000488989926988806,
           99.99669169981014,
           8.420502910217598e-09,
           1.3023812664002283e-13,
           0.001154798768455067,
           1.0406816999505169e-08
          ],
          [
           0.0017111998532941194,
           1.98130278321332e-08,
           0.0005027170356813644,
           99.99659882688465,
           8.899912788037531e-09,
           1.4151739529662716e-13,
           0.001187216513978319,
           1.0999310973156483e-08
          ],
          [
           0.001759237463659014,
           2.0941053712568666e-08,
           0.0005168294849428607,
           99.99650334681502,
           9.406616986702327e-09,
           1.537735000871005e-13,
           0.0012205442630158275,
           1.1625537156987072e-08
          ],
          [
           0.0018086235713876252,
           2.213330150961484e-08,
           0.0005313380911802649,
           99.99640518641591,
           9.942169438460355e-09,
           1.6709103894453817e-13,
           0.0012548075584790837,
           1.228741597802357e-08
          ],
          [
           0.001859396028979394,
           2.339342751931181e-08,
           0.0005462539743753867,
           99.99630427044771,
           1.0508212542999795e-08,
           1.8156193626039162e-13,
           0.0012900326601339282,
           1.298697719317516e-08
          ],
          [
           0.0019115937513380968,
           2.4725296194282034e-08,
           0.000561588566602837,
           99.996200521559,
           1.1106482203869735e-08,
           1.9728607737246006e-13,
           0.0013262465647125704,
           1.3726366113121666e-08
          ],
          [
           0.001965256745583467,
           2.6132991993906942e-08,
           0.0005773536207868755,
           99.99609386022716,
           1.17388131516105e-08,
           2.1437199800014054e-13,
           0.0013634770265895314,
           1.4507850180490568e-08
          ],
          [
           0.0020204261416989187,
           2.762083190908988e-08,
           0.0005935612197038213,
           99.99598420469754,
           1.240714456991296e-08,
           2.329376333853019e-13,
           0.001401752579037266,
           1.5333825922487682e-08
          ],
          [
           0.0020771442240388677,
           2.9193378700005313e-08,
           0.0006102237852369183,
           99.99587147092066,
           1.3113526042056654e-08,
           2.531111323092396e-13,
           0.0014411025560777187,
           1.620682629929537e-08
          ],
          [
           0.0021354544637196865,
           3.085545488741816e-08,
           0.0006273540878907197,
           99.99575557248805,
           1.3860123835857538e-08,
           2.750317416038864e-13,
           0.00148155711494649,
           1.712952847076396e-08
          ],
          [
           0.002195401551919079,
           3.2612157540467545e-08,
           0.0006449652565722628,
           99.99563642056589,
           1.4649227546394187e-08,
           2.9885076726198066e-13,
           0.0015231472591867655,
           1.8104762005204663e-08
          ],
          [
           0.002257031434109313,
           3.446887390625039e-08,
           0.0006630707886465029,
           99.99551392382688,
           1.5483257116877778e-08,
           3.2473261877952467e-13,
           0.0015659048623906321,
           1.9135517555446605e-08
          ],
          [
           0.002320391345250474,
           3.6431297929120845e-08,
           0.0006816845602736954,
           99.99538798838049,
           1.6364770259190594e-08,
           3.528559439382959e-13,
           0.0016098626926059141,
           2.0224956028753255e-08
          ],
          [
           0.00238552984597064,
           3.850544771034815e-08,
           0.0007008208370366102,
           99.99525851770085,
           1.7296470296842384e-08,
           3.8341486186031626e-13,
           0.001655054437427139,
           2.1376418278706033e-08
          ],
          [
           0.002452496859760605,
           4.0697683961657714e-08,
           0.000720494284865702,
           99.99512541255285,
           1.8281214454389133e-08,
           4.166203028443987e-13,
           0.0017015147297897992,
           2.2593435348763244e-08
          ],
          [
           0.0025213437112116036,
           4.301472950922735e-08,
           0.0007407199812705796,
           99.99498857091609,
           1.9322022618727114e-08,
           4.5270146423182183e-13,
           0.0017492791744875805,
           2.3879739298892565e-08
          ],
          [
           0.002592123165325192,
           4.5463689907928084e-08,
           0.0007615134268863408,
           99.99484788790681,
           2.0422086599121e-08,
           4.919073923489058e-13,
           0.0017983843754327755,
           2.523927464846185e-08
          ],
          [
           0.002664889467925382,
           4.8052075229005065e-08,
           0.0007828905573436019,
           99.99470325569746,
           2.158477991435449e-08,
           5.345087014443816e-13,
           0.001848867963680713,
           2.6676210470462167e-08
          ],
          [
           0.0027396983872038276,
           5.078782308798569e-08,
           0.0008048677554712661,
           99.99455456343406,
           2.2813668137005884e-08,
           5.807994414847969e-13,
           0.0019007686262395252,
           2.8194953174131158e-08
          ],
          [
           0.0028166072564298557,
           5.3679322983409147e-08,
           0.0008274618638413637,
           99.9944016971514,
           2.4112519826560595e-08,
           6.310991276985714e-13,
           0.001954126135687278,
           2.9800160015156493e-08
          ],
          [
           0.0028956750178578843,
           5.6735442020981536e-08,
           0.0008506901976655154,
           99.99424453968567,
           2.5485318084874943e-08,
           6.857549458754379e-13,
           0.0020089813806189916,
           3.149675337486528e-08
          ],
          [
           0.002976962267865845,
           5.996555210201456e-08,
           0.0008745705580528854,
           99.99408297058463,
           2.693627276941561e-08,
           7.451441486410118e-13,
           0.0020653763969468177,
           3.328993585216523e-08
          ],
          [
           0.003060531303358972,
           6.33795586594848e-08,
           0.0008991212456397116,
           99.99391686601551,
           2.8469833401711873e-08,
           8.096766592439989e-13,
           0.0021233544000771754,
           3.518520621448898e-08
          ],
          [
           0.0031464461694744638,
           6.69879310298016e-08,
           0.0009243610746008392,
           99.99374609867004,
           3.0090702810591934e-08,
           8.797979008257171e-13,
           0.0021829598179894283,
           3.718837625662955e-08
          ],
          [
           0.003234772708623381,
           7.080173455337598e-08,
           0.0009503093870539197,
           99.99357053766695,
           3.1803851552022847e-08,
           9.559918706974757e-13,
           0.0022442383252412423,
           3.9305588619131774e-08
          ],
          [
           0.0033255786109072268,
           7.483266450238771e-08,
           0.0009769860678672771,
           99.99339004845172,
           3.361453314975637e-08,
           1.038784480842217e-12,
           0.0023072368779265963,
           4.154333562084754e-08
          ],
          [
           0.0034189334659476844,
           7.90930819397414e-08,
           0.0010044115598827274,
           99.99320449269356,
           3.552830020349661e-08,
           1.1287471876938761e-12,
           0.002372003749613022,
           4.3908479163367664e-08
          ],
          [
           0.003514908816169053,
           8.359605161912337e-08,
           0.0010326068795649575,
           99.9930137281794,
           3.7551021413964596e-08,
           1.2265009362441668e-12,
           0.002438588568285476,
           4.640827176832739e-08
          ],
          [
           0.0036135782115740314,
           8.835538204232358e-08,
           0.0010615936330893938,
           99.99281760870502,
           3.968889957704424e-08,
           1.33272044569552e-12,
           0.002507042354324957,
           4.9050378812052366e-08
          ],
          [
           0.0037150172660546377,
           9.338566779659682e-08,
           0.0010913940328808236,
           99.99261598396302,
           4.194849060216367e-08,
           1.4481388662357582e-12,
           0.0025774175595507888,
           5.1842902025680006e-08
          ],
          [
           0.0038193037152812036,
           9.870233430182451e-08,
           0.0011220309146153695,
           99.9924086994277,
           4.433672361320444e-08,
           1.573552839070993e-12,
           0.0026497681073562825,
           5.479440433276679e-08
          ],
          [
           0.003926517476213603,
           1.0432168510462041e-07,
           0.0011535277546987782,
           99.99219559623687,
           4.6860922193548134e-08,
           1.7098279946358879e-12,
           0.0027241494339683226,
           5.7913936100489075e-08
          ],
          [
           0.004036740708280074,
           1.102609518643212e-07,
           0.0011859086882343303,
           99.99197651106992,
           4.9528826840372135e-08,
           1.8579049304103622e-12,
           0.002800618530862276,
           6.121106288486698e-08
          ],
          [
           0.004150057876270287,
           1.1653834718407087e-07,
           0.0012191985274940616,
           99.991751276023,
           5.2348618697021856e-08,
           2.0188057015092757e-12,
           0.002879233988364464,
           6.469589475504061e-08
          ],
          [
           0.004266555814990605,
           1.2317312044891388e-07,
           0.0012534227809073693,
           99.99151971848025,
           5.5328944636197494e-08,
           2.1936408668139654e-12,
           0.0029600560404754095,
           6.837911728645075e-08
          ],
          [
           0.004386323795730767,
           1.3018561684198154e-07,
           0.001288607672581438,
           99.99128166098177,
           5.8478943770811366e-08,
           2.383617158850992e-12,
           0.003043146610947853,
           7.227202431784363e-08
          ],
          [
           0.004509453594592725,
           1.3759733971966746e-07,
           0.0013247801623683829,
           99.99103692108763,
           6.18082754737824e-08,
           2.590045812224202e-12,
           0.003128569360654679,
           7.63865525724987e-08
          ],
          [
           0.004636039562733584,
           1.454310165369244e-07,
           0.001361967966494338,
           99.99078531123818,
           6.532714899263127e-08,
           2.8143516131594093e-12,
           0.0032163897362826347,
           8.073531824973527e-08
          ],
          [
           0.004766178698576278,
           1.5371066852471336e-07,
           0.0014001995787662365,
           99.99052663861053,
           6.904635474963667e-08,
           3.0580827326812086e-12,
           0.0033066750203889416,
           8.533165569880416e-08
          ],
          [
           0.004899970722042824,
           1.6246168433311112e-07,
           0.0014395042923723638,
           99.99026070497075,
           7.297729742346846e-08,
           3.3229214112756787e-12,
           0.0033994943828587307,
           9.018965829363783e-08
          ],
          [
           0.005037518150866851,
           1.717108978657494e-07,
           0.0014799122222933204,
           99.98998730652228,
           7.713203091368005e-08,
           3.6106955687682614e-12,
           0.003494918933802472,
           9.532422163368113e-08
          ],
          [
           0.005178926379043353,
           1.8148667054407802e-07,
           0.0015214543283403924,
           99.9897062337497,
           8.152329529520077e-08,
           3.923391419529229e-12,
           0.003593021777933478,
           1.0075108920313611e-07
          ],
          [
           0.00532430375747545,
           1.9181897825352313e-07,
           0.0015641624388388654,
           99.98941727125853,
           8.616455587607051e-08,
           4.263167180055806e-12,
           0.0036938780704667902,
           1.0648690062848798e-07
          ],
          [
           0.0054737616768795365,
           2.0273950323794913e-07,
           0.0016080692749742872,
           99.98912019761012,
           9.107004447809974e-08,
           4.632367963516708e-12,
           0.0037975650745818742,
           1.1254924268213095e-07
          ],
          [
           0.005627414653011887,
           2.1428173122398454e-07,
           0.0016532084758201775,
           99.9888147851524,
           9.625480306694533e-08,
           5.033541964034125e-12,
           0.0039041622204927066,
           1.1895670318831871e-07
          ],
          [
           0.005785380414281508,
           2.2648105407278778e-07,
           0.0016996146240661873,
           99.9885007998453,
           1.0173472986528847e-07,
           5.46945804237632e-12,
           0.004013751166170025,
           1.2572892799654692e-07
          ],
          [
           0.005947779991815911,
           2.393748782737582e-07,
           0.0017473232724662636,
           99.98817800108182,
           1.075266280904063e-07,
           5.943124834402704e-12,
           0.004126415859761793,
           1.328866811968665e-07
          ],
          [
           0.006114737812048298,
           2.530027396125876e-07,
           0.001796370971026901,
           99.98784614150381,
           1.1364825746546712e-07,
           6.457811514108848e-12,
           0.0042422426037592035,
           1.4045190876154843e-07
          ],
          [
           0.006286381791896527,
           2.674064243649499e-07,
           0.0018467952949561227,
           99.98750496681255,
           1.201183886623718e-07,
           7.0170703545337276e-12,
           0.004361320120956829,
           1.4844780580800587e-07
          ],
          [
           0.00646284343660617,
           2.8263009738710747e-07,
           0.0018986348733943887,
           99.98715421557428,
           1.2695686084293954e-07,
           7.624761242194731e-12,
           0.004483739622256842,
           1.5689888768896e-07
          ],
          [
           0.006644257940332,
           2.9872043749583097e-07,
           0.00195192941894924,
           99.98679361901992,
           1.3418464247472695e-07,
           8.285078314192823e-12,
           0.004609594876368663,
           1.6583106512755138e-07
          ],
          [
           0.006830764289534408,
           3.1572678055235093e-07,
           0.0020067197580560868,
           99.98642290083954,
           1.41823895607796e-07,
           9.00257890177398e-12,
           0.004738982281456826,
           1.7527172362747418e-07
          ],
          [
           0.007022505369269152,
           3.3370127068863623e-07,
           0.0020630478621881587,
           99.98604177697084,
           1.498980438093401e-07,
           9.782214980043725e-12,
           0.00487200093879121,
           1.852498074012905e-07
          ],
          [
           0.007219628072451202,
           3.5269902013922434e-07,
           0.002120956879939264,
           99.98564995538176,
           1.5843184396427934e-07,
           1.0629367340820229e-11,
           0.005008752728455383,
           1.9579590807390346e-07
          ],
          [
           0.007422283412175561,
           3.7277827816817175e-07,
           0.0021804911700036814,
           99.985247135847,
           1.674514621617704e-07,
           1.1549882724396206e-11,
           0.005149342387170228,
           2.069423584327801e-07
          ],
          [
           0.007630626637180382,
           3.9400060960853673e-07,
           0.00224169633507817,
           99.98483300971839,
           1.7698455390008877e-07,
           1.2550114166391103e-11,
           0.005293877588291778,
           2.1872333151195193e-07
          ],
          [
           0.0078448173505399,
           4.164310835612229e-07,
           0.0023046192567117746,
           99.9844072596887,
           1.8706034885555582e-07,
           1.3636964838052525e-11,
           0.005442469024043591,
           2.3117494531313756e-07
          ],
          [
           0.008065019631677177,
           4.401384728311032e-07,
           0.0023693081311297916,
           99.98396955954874,
           1.9770974047515496e-07,
           1.481793568246286e-11,
           0.005595230490045784,
           2.443353734845665e-07
          ],
          [
           0.008291402161789236,
           4.651954647112182e-07,
           0.0024358125060590227,
           99.98351957393804,
           2.0896538066725044e-07,
           1.610117717529102e-11,
           0.00575227897220455,
           2.582449622963168e-07
          ],
          [
           0.00852413835277955,
           4.916788837605546e-07,
           0.0025041833185821686,
           99.9830569580881,
           2.2086177988041928e-07,
           1.7495545567177633e-11,
           0.005913734736027678,
           2.729463542702218e-07
          ],
          [
           0.008763406479795647,
           5.196699272576268e-07,
           0.0025744729340499892,
           99.98258135755873,
           2.3343541287690567e-07,
           1.9010663995754847e-11,
           0.006079721418433459,
           2.8848461884276234e-07
          ],
          [
           0.009009389817472221,
           5.492544140508628e-07,
           0.0026467351860806564,
           99.98209240796702,
           2.467248305246294e-07,
           2.0656988888888353e-11,
           0.006250366122122175,
           3.04907390460856e-07
          ],
          [
           0.009262276779982816,
           5.805230475677818e-07,
           0.002721025417676501,
           99.98158973470846,
           2.6077077795009646e-07,
           2.2445882117223715e-11,
           0.006425799512581236,
           3.2226501453318305e-07
          ],
          [
           0.00952226106500614,
           6.135716937882748e-07,
           0.0027974005234892175,
           99.98107295267059,
           2.7561631941402924e-07,
           2.438968939377188e-11,
           0.006606155917797028,
           3.4061070168370406e-07
          ],
          [
           0.009789541801715965,
           6.485016750330912e-07,
           0.002875918993265456,
           99.98054166593843,
           2.9130697029210524e-07,
           2.6501825461354063e-11,
           0.006791573430748544,
           3.6000069077940775e-07
          ],
          [
           0.010064323702906507,
           6.854200804669938e-07,
           0.0029566409565055757,
           99.9799954674917,
           3.0789083656492645e-07,
           2.879686665553868e-11,
           0.006982194014759884,
           3.804944212311394e-07
          ],
          [
           0.010346817221368296,
           7.244400942671769e-07,
           0.0030396282283692328,
           99.9794339388936,
           3.254187622443161e-07,
           3.129065148156805e-11,
           0.007178163611790802,
           4.0215471509470113e-07
          ],
          [
           0.010637238710632636,
           7.656813424615849e-07,
           0.00312494435686243,
           99.97885664997095,
           3.439444851873237e-07,
           3.400038989903967e-11,
           0.007379632253746669,
           4.2504796952936976e-07
          ],
          [
           0.010935810590206298,
           8.092702594988657e-07,
           0.0032126546713415987,
           99.97826315848518,
           3.635248017749751e-07,
           3.6944782068157e-11,
           0.007586754176891533,
           4.4924436020262717e-07
          ],
          [
           0.011242761515421033,
           8.553404756720311e-07,
           0.003302826332371245,
           99.97765300979434,
           3.842197409599186e-07,
           4.014414737661015e-11,
           0.007799687939450049,
           4.748180562633406e-07
          ],
          [
           0.011558326552026094,
           9.040332265816546e-07,
           0.0033955283829726767,
           99.97702573650547,
           4.0609274821576875e-07,
           4.3620564637038644e-11,
           0.008018596542486512,
           5.018474475409616e-07
          ],
          [
           0.011882747355655622,
           9.554977858918496e-07,
           0.003490831801302392,
           99.97638085811744,
           4.2921087995123995e-07,
           4.739802442205739e-11,
           0.008243647554151622,
           5.304153846656793e-07
          ],
          [
           0.012216272356306138,
           1.0098919227034822e-06,
           0.0035888095547997757,
           99.97571788065365,
           4.536450089841653e-07,
           5.150259458751838e-11,
           0.008475013237390092,
           5.606094328439179e-07
          ],
          [
           0.012559156947963265,
           1.0673823849443138e-06,
           0.003689536655844763,
           99.97503629628444,
           4.794700417043055e-07,
           5.596260012561506e-11,
           0.008712870681204668,
           5.925221400652683e-07
          ],
          [
           0.012911663683520428,
           1.128145410255305e-06,
           0.0037930902189673124,
           99.97433558293925,
           5.067651475895958e-07,
           6.080881858823852e-11,
           0.008957401935574746,
           6.262513205610166e-07
          ],
          [
           0.01327406247513644,
           1.19236726593638e-06,
           0.003899549519651633,
           99.9736152039074,
           5.35614001778255e-07,
           6.607469242834827e-11,
           0.009208794150130518,
           6.619003543809991e-07
          ],
          [
           0.013646630800182651,
           1.2602448196037173e-06,
           0.004008996054779296,
           99.9728746074282,
           5.661050414390783e-07,
           7.179655972375852e-11,
           0.00946723971668618,
           6.99578504004718e-07
          ],
          [
           0.01402965391293475,
           1.3319861423045493e-06,
           0.004121513604756571,
           99.97211322626943,
           5.983317367244299e-07,
           7.801390487447605e-11,
           0.009732936415738688,
           7.394012489546572e-07
          ],
          [
           0.014423425062168224,
           1.4078111459345816e-06,
           0.004237188297372557,
           99.97133047729399,
           6.323928771350142e-07,
           8.476963100242057e-11,
           0.010006087567041317,
           7.814906394346722e-07
          ],
          [
           0.014828245714821045,
           1.4879522569079566e-06,
           0.004356108673435901,
           99.97052576101446,
           6.683928741725948e-07,
           9.211035593196837e-11,
           0.010286902184364208,
           8.259756700743804e-07
          ],
          [
           0.015244425785891505,
           1.572655128140462e-06,
           0.00447836575423925,
           99.96969846113534,
           7.064420812066251e-07,
           1.0008673379231566e-10,
           0.010575595134557197,
           8.729926749218413e-07
          ],
          [
           0.01567228387474389,
           1.662179391523719e-06,
           0.0046040531109019555,
           99.96884794408228,
           7.466571315333446e-07,
           1.0875380445927526e-10,
           0.01087238730103339,
           9.226857448916389e-07
          ],
          [
           0.016112147507999185,
           1.7567994531917404e-06,
           0.004733266935642786,
           99.96797355851847,
           7.891612956614753e-07,
           1.1817137324601305e-10,
           0.011177505751794936,
           9.752071689439648e-07
          ],
          [
           0.016564353389192713,
           1.8568053340119263e-06,
           0.004866106115035927,
           99.96707463484714,
           8.340848589173781e-07,
           1.2840442346072667e-10,
           0.011491183912125835,
           1.0307179003426717e-06
          ],
          [
           0.017029247655386055,
           1.9625035578707113e-06,
           0.0050026723053049225,
           99.96615048470056,
           8.81565520524616e-07,
           1.395235646758024e-10,
           0.011813661742079967,
           1.089388049416757e-06
          ],
          [
           0.017507186140925137,
           2.0742180904699675e-06,
           0.005143070009710739,
           99.96520040041455,
           9.317488153784551e-07,
           1.516055197991121e-10,
           0.012145185918896038,
           1.151397404330548e-06
          ],
          [
           0.017998534648542033,
           2.1922913315045006e-06,
           0.005287406658091646,
           99.9642236544883,
           9.847885598051306e-07,
           1.64733654305529e-10,
           0.012486010024474492,
           1.216935981453223e-06
          ],
          [
           0.018503669228002863,
           2.31708516325387e-06,
           0.005435792688614052,
           99.96321949902924,
           1.0408473226689445e-06,
           1.7899855127727994e-10,
           0.012836394738055175,
           1.2862046070085099e-06
          ],
          [
           0.0190229764625103,
           2.4489820587940084e-06,
           0.005588341631795224,
           99.96218716518244,
           1.1000969232676578e-06,
           1.944986362174389e-10,
           0.01319660803423813,
           1.3594155317807551e-06
          ],
          [
           0.019556853763074294,
           2.5883862532160244e-06,
           0.005745170196860283,
           99.96112586254394,
           1.1627189575384283e-06,
           2.1134085594383733e-10,
           0.013566925386493966,
           1.4367930807542545e-06
          ],
          [
           0.02010570967107082,
           2.735724981431852e-06,
           0.005906398360497687,
           99.9600347785578,
           1.228905354182942e-06,
           2.2964141624331136e-10,
           0.013947629976313842,
           1.5185743396691547e-06
          ],
          [
           0.0206699641692139,
           2.8914497863494552e-06,
           0.006072149458078945,
           99.95891307789638,
           1.2988589624116844e-06,
           2.495265833710646e-10,
           0.014339012908153106,
           1.6050098805896422e-06
          ],
          [
           0.021250049001172645,
           3.056037901415093e-06,
           0.006242550277410324,
           99.95775990182335,
           1.3727941731038182e-06,
           2.7113355491981584e-10,
           0.014741373430326978,
           1.6963645286989672e-06
          ],
          [
           0.021846408000071565,
           3.2299937117468986e-06,
           0.006417731155085911,
           99.95657436753875,
           1.450937575281094e-06,
           2.946114060613199e-10,
           0.015155019162020708,
           1.7929181726613776e-06
          ],
          [
           0.02245949742611755,
           3.4138502983235716e-06,
           0.006597826075513313,
           99.95535556750607,
           1.5335286499018655e-06,
           3.201221176820705e-10,
           0.015580266326580718,
           1.894966621023533e-06
          ],
          [
           0.02308978631360539,
           3.60817106994547e-06,
           0.006782972772685268,
           99.95410256876052,
           1.6208205030952564e-06,
           3.478416934991741e-10,
           0.016017439991258157,
           2.0028225072682614e-06
          ],
          [
           0.023737756827558517,
           3.813551487952657e-06,
           0.006973312834772233,
           99.95281441219775,
           1.7130806410756611e-06,
           3.7796137385526354e-10,
           0.016466874313580213,
           2.1168162462813374e-06
          ],
          [
           0.024403904630269996,
           4.030620888967373e-06,
           0.0071689918116131235,
           99.95149011184317,
           1.8105917891049534e-06,
           4.106889545572532e-10,
           0.016928912794529554,
           2.2372970451484967e-06
          ],
          [
           0.025088739258015122,
           4.26004441122707e-06,
           0.007370159325183445,
           99.9501286541007,
           1.9136527570040256e-06,
           4.462502198472205e-10,
           0.017403908538716855,
           2.3646339713650728e-06
          ],
          [
           0.025792784508214567,
           4.502525030389764e-06,
           0.007576969183122078,
           99.94872899698056,
           2.0225793538572074e-06,
           4.848904993797194e-10,
           0.017892224521736357,
           2.4992170817151886e-06
          ],
          [
           0.02651657883733415,
           4.758805711026837e-06,
           0.007789579495400151,
           99.9472900693058,
           2.1377053547029535e-06,
           5.26876359933801e-10,
           0.01839423386489893,
           2.6414586152618276e-06
          ],
          [
           0.027260675769815185,
           5.029671680370937e-06,
           0.008008152794217675,
           99.94581076989647,
           2.259383522162703e-06,
           5.724974435158275e-10,
           0.018910320117542716,
           2.791794254083957e-06
          ],
          [
           0.028025644318337387,
           5.315952831258823e-06,
           0.0082328561572159,
           99.94428996673129,
           2.387986686127145e-06,
           6.220684645171596e-10,
           0.019440877547126444,
           2.9506844556027398e-06
          ],
          [
           0.02881206941572386,
           5.6185262616023064e-06,
           0.00846386133409559,
           99.94272649608592,
           2.5239088847959574e-06,
           6.759313796859016e-10,
           0.01998631143731568,
           3.118615860556195e-06
          ],
          [
           0.029620552358806004,
           5.9383189581359606e-06,
           0.008701344876733786,
           99.9411191616474,
           2.667566570553919e-06,
           7.344577458616465e-10,
           0.02054703839427786,
           3.2961027809114185e-06
          ],
          [
           0.030451711264574955,
           6.27631063262945e-06,
           0.008945488272894158,
           99.93946673360378,
           2.8193998843637605e-06,
           7.980512817147693e-10,
           0.021123486661407415,
           3.4836887722461475e-06
          ],
          [
           0.031306181538954585,
           6.633536719216144e-06,
           0.00919647808362842,
           99.93776794770854,
           2.979874002564678e-06,
           8.671506511360948e-10,
           0.02171609644270833,
           3.6819482953877584e-06
          ],
          [
           0.03218461635853987,
           7.011091541979779e-06,
           0.009454506084468945,
           99.93602150431911,
           3.149480560185802e-06,
           9.422324874484078e-10,
           0.022325320235066892,
           3.8914884723685996e-06
          ],
          [
           0.033087687165653426,
           7.4101316624585755e-06,
           0.009719769410515191,
           99.9342260674086,
           3.328739155116706e-06,
           1.0238146792687022e-09,
           0.022951623169653455,
           4.11295094204251e-06
          ],
          [
           0.03401608417708249,
           7.831879417273439e-06,
           0.009992470705519231,
           99.93238026355006,
           3.5181989377230844e-06,
           1.1124599406507697e-09,
           0.023595483362698354,
           4.3470138210096216e-06
          ],
          [
           0.03497051690686822,
           8.277626656664669e-06,
           0.010272818275078671,
           99.93048268087266,
           3.7184402907555992e-06,
           1.2087796900939567e-09,
           0.02425739227589319,
           4.594393775815737e-06
          ],
          [
           0.03595171470352859,
           8.748738695332195e-06,
           0.010561026244047665,
           99.92853186798878,
           3.930076604674479e-06,
           1.3134382651291312e-09,
           0.024937855086675113,
           4.855848212729623e-06
          ],
          [
           0.03696042730210628,
           9.246658487619105e-06,
           0.010857314718279767,
           99.92652633289156,
           4.153756153802395e-06,
           1.4271575015017076e-09,
           0.025637391068658127,
           5.132177591757668e-06
          ],
          [
           0.037997425391443275,
           9.772911039760071e-06,
           0.011161909950819412,
           99.92446454182154,
           4.390164079024832e-06,
           1.5507217084798643e-09,
           0.026356533982482288,
           5.424227871931654e-06
          ],
          [
           0.03906350119709397,
           1.0329108072635602e-05,
           0.011475044512661552,
           99.92234491810225,
           4.6400244830806685e-06,
           1.6849830745409014e-09,
           0.02709583247735842,
           5.73289309530249e-06
          ],
          [
           0.040159469080300256,
           1.0916952948853835e-05,
           0.011796957468202607,
           99.92016584094333,
           4.904102644645853e-06,
           1.830867750102232e-09,
           0.027855850503593255,
           6.0591181170728555e-06
          ],
          [
           0.041286166153461666,
           1.1538245879436832e-05,
           0.012127894555508384,
           99.91792564421054,
           5.183207358086689e-06,
           1.9893824977850928e-09,
           0.028637167736386564,
           6.4039014904650405e-06
          ],
          [
           0.04244445291254462,
           1.219488942849523e-05,
           0.012468108371525687,
           99.91562261516175,
           5.478193407222562e-06,
           2.1616205596898443e-09,
           0.029440380011195876,
           6.768298517882565e-06
          ],
          [
           0.043635213886889165,
           1.2888894327303654e-05,
           0.012817858562374695,
           99.913254993148,
           5.78996417807274e-06,
           2.348769730661325e-09,
           0.030266099770981474,
           7.153424471729321e-06
          ],
          [
           0.04485935830688019,
           1.362238561928233e-05,
           0.013177412018854565,
           99.91082096827847,
           6.11947442036855e-06,
           2.5521205906726132e-09,
           0.031114956525641224,
           7.5604579988730125e-06
          ],
          [
           0.046117820789963196,
           1.4397609153775712e-05,
           0.013547043077301976,
           99.90831868004865,
           6.467733165851819e-06,
           2.7730753969016216e-09,
           0.031987597323957555,
           7.990644718194562e-06
          ],
          [
           0.04741156204549686,
           1.5216938448294243e-05,
           0.013927033725945271,
           99.90574621593072,
           6.835806812200056e-06,
           3.0131577447941418e-09,
           0.03288468723838608,
           8.445301022041542e-06
          ],
          [
           0.04874156959894742,
           1.6082881940088844e-05,
           0.014317673816900434,
           99.90310160992469,
           7.224822381962889e-06,
           3.274023064582201e-09,
           0.03380690986302322,
           8.925818093115219e-06
          ],
          [
           0.050108858535943046,
           1.699809064910695e-05,
           0.01471926128395884,
           99.90038284106976,
           7.635970966424761e-06,
           3.5574700254681227e-09,
           0.03475496782509899,
           9.433666148970562e-06
          ],
          [
           0.05151447226671794,
           1.7965366275622704e-05,
           0.015132102366320017,
           99.89758783191459,
           8.070511364868641e-06,
           3.865452925921323e-09,
           0.035729583310347784,
           9.970398926993948e-06
          ],
          [
           0.05295948331149169,
           1.898766975715103e-05,
           0.015556511838427193,
           99.89471444694524,
           8.529773930307974e-06,
           4.200095155310418e-09,
           0.03673149860262082,
           1.053765842344845e-05
          ],
          [
           0.0544449941073402,
           2.0068130310642053e-05,
           0.0159928132460664,
           99.89176049096993,
           9.015164633378373e-06,
           4.563703819452354e-09,
           0.037761476638110025,
           1.113717990094056e-05
          ],
          [
           0.055972137837131924,
           2.1210054987421777e-05,
           0.016441339148894805,
           99.8887237074591,
           9.528169356741626e-06,
           4.95878563065548e-09,
           0.03882030157456436,
           1.1770797179470973e-05
          ],
          [
           0.05754207928111323,
           2.2416938769892003e-05,
           0.016902431369566977,
           99.88560177683995,
           1.0070358433050886e-05,
           5.38806417151695e-09,
           0.03990877937588622,
           1.2440448227083648e-05
          ],
          [
           0.05915601569174612,
           2.3692475240641487e-05,
           0.017376441249632973,
           99.88239231474385,
           1.0643391440263624e-05,
           5.854498651168952e-09,
           0.04102773841250692,
           1.3148181067029241e-05
          ],
          [
           0.0608151776924112,
           2.5040567856345843e-05,
           0.017863729912385256,
           99.87909287020581,
           1.1249022268865495e-05,
           6.36130428291403e-09,
           0.04217803007794717,
           1.389616001930833e-05
          ],
          [
           0.06252083020060925,
           2.646534186066195e-05,
           0.01836466853283674,
           99.87570092381397,
           1.188910447639124e-05,
           6.911974423321284e-09,
           0.04336052942198038,
           1.4686672295465298e-05
          ],
          [
           0.06427427337630513,
           2.79711568722472e-05,
           0.018879638615015685,
           99.87221388580878,
           1.2565596945494997e-05,
           7.510304624944022e-09,
           0.04457613580082351,
           1.5522134966562017e-05
          ],
          [
           0.06607684359607831,
           2.9562620186072612e-05,
           0.019409032276768486,
           99.86862909412957,
           1.3280569862740207e-05,
           8.16041876795304e-09,
           0.04582577354479264,
           1.6405102325380987e-05
          ],
          [
           0.0679299144537558,
           3.124460082834537e-05,
           0.01995325254226506,
           99.86494381240779,
           1.4036211036245698e-05,
           8.866797450242698e-09,
           0.04711039264386757,
           1.73382736650875e-05
          ],
          [
           0.06983489778822467,
           3.302224440762975e-05,
           0.020512713642407004,
           99.86115522790496,
           1.4834832571347919e-05,
           9.634308831062036e-09,
           0.04843096945162239,
           1.832450149782888e-05
          ],
          [
           0.07179324473913236,
           3.490098880714897e-05,
           0.021087841323342432,
           99.85726044939433,
           1.5678877924517214e-05,
           1.0468242140050587e-08,
           0.04978850740798643,
           1.9366800238063898e-05
          ],
          [
           0.07380644683120624,
           3.688658076578547e-05,
           0.02167907316329715,
           99.85325650498434,
           1.6570929356907294e-05,
           1.1374344081838919e-08,
           0.051184037781313155,
           2.046835537680687e-05
          ],
          [
           0.07587603708793526,
           3.898509339796638e-05,
           0.022286858897935854,
           99.84914033988264,
           1.751371581011921e-05,
           1.2358858386226278e-08,
           0.05261862043024205,
           2.1632533174436322e-05
          ],
          [
           0.07800359117537874,
           4.120294470544514e-05,
           0.02291166075447218,
           99.8449088140989,
           1.8510121228032936e-05,
           1.342856877551209e-08,
           0.0540933445858511,
           2.2862890901267363e-05
          ],
          [
           0.0801907285768835,
           4.3546917136970535e-05,
           0.02355395379475208,
           99.84055870008477,
           1.9563193349901965e-05,
           1.4590845643979453e-08,
           0.05560932965460806,
           2.416318765672206e-05
          ],
          [
           0.0824391137995076,
           4.60241782549774e-05,
           0.024214226267538618,
           99.83608668030956,
           2.0676153001321885e-05,
           1.5853696769964946e-08,
           0.057167726042637465,
           2.5537395799654763e-05
          ],
          [
           0.08475045761297098,
           4.86423025717593e-05,
           0.024892979970233264,
           99.83148934476962,
           2.185240391118249e-05,
           1.7225822408578963e-08,
           0.05876971600183429,
           2.6989713024213246e-05
          ],
          [
           0.08712651832196773,
           5.140929462108553e-05,
           0.025590730620272138,
           99.82676318842991,
           2.309554308428986e-05,
           1.8716675143144383e-08,
           0.060416514498362835,
           2.8524575117534407e-05
          ],
          [
           0.08956910307269884,
           5.433361333493224e-05,
           0.026308008236442595,
           99.82190460859572,
           2.4409371761016153e-05,
           2.0336524906012655e-08,
           0.06210937010409399,
           3.0146669437604572e-05
          ],
          [
           0.09208006919449849,
           5.7424197798900026e-05,
           0.027045357530369404,
           99.81690990221311,
           2.5797906997092236e-05,
           2.209652961480609e-08,
           0.06384956591154103,
           3.186094915175066e-05
          ],
          [
           0.09466132557745262,
           6.069049446402294e-05,
           0.0278033383084267,
           99.8117752630958,
           2.7265393898521135e-05,
           2.4008811908576425e-08,
           0.06563842047287015,
           3.367264827849025e-05
          ],
          [
           0.09731483408692208,
           6.41424858970221e-05,
           0.028582525884335734,
           99.80649677907661,
           2.8816318548549497e-05,
           2.608654251011022e-08,
           0.06747728876356804,
           3.558729757784705e-05
          ],
          [
           0.10004261101591021,
           6.779072115566238e-05,
           0.02938351150271572,
           99.80107042908183,
           3.045542166570972e-05,
           2.8344030785949956e-08,
           0.06936756317136507,
           3.76107413377568e-05
          ],
          [
           0.1028467285762274,
           7.164634788071519e-05,
           0.03020690277385897,
           99.79549208012607,
           3.2187713034129416e-05,
           3.079682312492793e-08,
           0.07131067451101977,
           3.974915510683627e-05
          ],
          [
           0.10572931642943478,
           7.572114620116173e-05,
           0.031053324120008895,
           99.78975748422579,
           3.4018486749617424e-05,
           3.3461809809479226e-08,
           0.07330809306558517,
           4.2009064426591195e-05
          ],
          [
           0.10869256325856139,
           8.002756455466736e-05,
           0.03192341723342325,
           99.7838622752294,
           3.5953337327468685e-05,
           3.6357341112055e-08,
           0.07536132965478545,
           4.439736461908624e-05
          ],
          [
           0.11173871838161914,
           8.457875753107455e-05,
           0.0328178415465129,
           99.77780196556142,
           3.799817672050794e-05,
           3.9503353412012294e-08,
           0.0774719367311471,
           4.69213416892197e-05
          ],
          [
           0.11487009340795386,
           8.938862585267247e-05,
           0.033737274714349945,
           99.77157194287912,
           4.015925229860214e-05,
           4.292150619681567e-08,
           0.07964150950453457,
           4.958869440402503e-05
          ],
          [
           0.11808906393849891,
           9.447185861136771e-05,
           0.03468241310984691,
           99.7651674666385,
           4.2443165843742866e-05,
           4.663533088573909e-08,
           0.0818716870957577,
           5.2407557614892494e-05
          ],
          [
           0.1213980713110149,
           9.984397788957577e-05,
           0.03565397233191284,
           99.75858366456835,
           4.48568936178195e-05,
           5.067039249497974e-08,
           0.08416415371992379,
           5.5386526892252486e-05
          ],
          [
           0.12479962439142576,
           0.00010552138589874075,
           0.036652687726899474,
           99.75181552904897,
           4.740780756340136e-05,
           5.5054465250763664e-08,
           0.08652063990022323,
           5.8534684546123554e-05
          ],
          [
           0.12829630141237905,
           0.00011152141477684864,
           0.037679314923655394,
           99.7448579133938,
           5.010369770121101e-05,
           5.981772335220116e-08,
           0.08894292371284404,
           6.186162710998662e-05
          ],
          [
           0.13189075186018465,
           0.00011786237919418398,
           0.03873463038251241,
           99.73770552803127,
           5.295279579152894e-05,
           6.49929481890055e-08,
           0.09143283206372525,
           6.537749436973762e-05
          ],
          [
           0.13558569841130885,
           0.00012456363192489423,
           0.03981943195853506,
           99.73035293658427,
           5.596380033052132e-05,
           7.061575343140773e-08,
           0.09399224199786803,
           6.909300002399125e-05
          ],
          [
           0.13938393891961823,
           0.00013164562255068877,
           0.040934539479368114,
           99.72279455184467,
           5.9145902956437096e-05,
           7.672482953143454e-08,
           0.09662308204193261,
           7.301946406676955e-05
          ],
          [
           0.14328834845559923,
           0.00013912995947226394,
           0.04208079533802535,
           99.7150246316405,
           6.250881634480333e-05,
           8.33622093070135e-08,
           0.09932733358086306,
           7.71688469886413e-05
          ],
          [
           0.14730188139879274,
           0.00014703947541379333,
           0.043259065100965916,
           99.70703727459241,
           6.606280367614651e-05,
           9.057355642398321e-08,
           0.1021070322692866,
           8.155378589766727e-05
          ],
          [
           0.15142757358471481,
           0.00015539829661613284,
           0.0444702381318134,
           99.69882641575751,
           6.981870976442504e-05,
           9.840847874703019e-08,
           0.10496426947844942,
           8.618763266709874e-05
          ],
          [
           0.15566854450754905,
           0.0001642319159252352,
           0.045715228231075385,
           99.69038582215697,
           7.378799393925293e-05,
           1.0692086869984762e-07,
           0.10790119377945495,
           9.10844942226544e-05
          ],
          [
           0.16002799957992717,
           0.0001735672699937409,
           0.0469949742922297,
           99.68170908818512,
           7.79827647801786e-05,
           1.1616927295860986e-07,
           0.11092001246358385,
           9.62592750884133e-05
          ],
          [
           0.1645092324511283,
           0.00018343282082577462,
           0.04831044097454702,
           99.67278963089662,
           8.241581680672941e-05,
           1.2621729400235473e-07,
           0.11402299310047904,
           0.0001017277223168901
          ],
          [
           0.16911562738506003,
           0.0001938586419077379,
           0.0496626193930266,
           99.66362068516881,
           8.710066923369956e-05,
           1.3713402626047267e-07,
           0.11721246513499207,
           0.00010750647293576013
          ],
          [
           0.17385066169939456,
           0.0002048765091813028,
           0.05105252782582574,
           99.65419529873664,
           9.20516069072196e-05,
           1.4899452983259422e-07,
           0.12049082152348779,
           0.0001136131040509488
          ],
          [
           0.17871790826726885,
           0.00021651999712900193,
           0.05248121243957086,
           99.64450632709597,
           9.728372354355986e-05,
           1.618803450114116e-07,
           0.12386052041041937,
           0.00012006618575346362
          ],
          [
           0.1837210380829657,
           0.00022882458025772452,
           0.0539497480329405,
           99.63454642827341,
           0.00010281296739936122,
           1.7588005111597727e-07,
           0.12732408684598184,
           0.000126885336985391
          ],
          [
           0.1888638228930269,
           0.0002418277402812025,
           0.055459238798918564,
           99.6243080574582,
           0.0001086561895091201,
           1.9108987344375772e-07,
           0.1308841145456683,
           0.00013409128452898477
          ],
          [
           0.1941501378942589,
           0.00025556907931914937,
           0.05701081910611772,
           99.61378346149348,
           0.00011483119463324932,
           2.0761434247607825e-07,
           0.1345432676925469,
           0.0001417059252916982
          ],
          [
           0.1995839645001228,
           0.00027009043944824435,
           0.05860565429958066,
           99.60296467322361,
           0.00012135679506796784,
           2.2556700982588315e-07,
           0.13830428278309007,
           0.00014975239206944772
          ],
          [
           0.20516939317700966,
           0.0002854360289585765,
           0.06024494152146775,
           99.59184350569352,
           0.0001282528674766046,
           2.4507122580118735e-07,
           0.14216997051738073,
           0.00015825512298029456
          ],
          [
           0.21091062635193178,
           0.000301652555688639,
           0.061929910552047426,
           99.58041154619714,
           0.00013554041291071522,
           2.662609838749167e-07,
           0.14614321773453112,
           0.00016723993477119227
          ],
          [
           0.21681198139317032,
           0.00031878936783242976,
           0.0636618246714056,
           99.56866015017121,
           0.00014324162019867367,
           2.8928183780466436e-07,
           0.15022698939414192,
           0.00017673410021142646
          ],
          [
           0.222877893665442,
           0.00033689860263383235,
           0.065441981542297,
           99.55658043493041,
           0.00015137993288918578,
           3.142918976373732e-07,
           0.15442433060463395,
           0.0001867664297979588
          ],
          [
           0.22911291966116598,
           0.0003560353434062066,
           0.06727171411456273,
           99.54416327324071,
           0.0001599801199474776,
           3.4146291136727853e-07,
           0.15873836869928196,
           0.0001973673580100698
          ],
          [
           0.2355217402094202,
           0.0003762577853390803,
           0.0691523915515412,
           99.53139928672671,
           0.0001690683504127627,
           3.709814395941546e-07,
           0.1631723153607727,
           0.00020856903436350822
          ],
          [
           0.2421091637642025,
           0.0003976274105791245,
           0.07108542017890275,
           99.51827883910931,
           0.0001786722722370514,
           4.030501311569325e-07,
           0.167729468795111,
           0.00022040541952786523
          ],
          [
           0.24888012977361185,
           0.00042020917309917253,
           0.07307224445633875,
           99.50479202926985,
           0.00018882109553740867,
           4.378891083991037e-07,
           0.17241321595568251,
           0.0002329123867850705
          ],
          [
           0.25583971213159207,
           0.0004440716938971132,
           0.07511434797253956,
           99.49092868413659,
           0.00019954568050649087,
           4.7573747146170737e-07,
           0.1772270348182834,
           0.00024612782912186715
          ],
          [
           0.2629931227138744,
           0.00046928746709596595,
           0.07721325446389281,
           99.47667835138981,
           0.0002108786302395569,
           5.168549318017564e-07,
           0.18217449670790464,
           0.0002600917722648066
          ],
          [
           0.2703457149997811,
           0.0004959330775475899,
           0.07937052885733926,
           99.46203029198095,
           0.00022285438875027492,
           5.615235860043007e-07,
           0.18725926867805942,
           0.000274846493982866
          ],
          [
           0.27790298778154426,
           0.0005240894305751603,
           0.08158777833781682,
           99.44697347246235,
           0.00023550934446247207,
           6.100498419003283e-07,
           0.19248511594341425,
           0.00029043665000012765
          ],
          [
           0.2856705889628111,
           0.000553841994524072,
           0.08386665344072793,
           99.43149655712259,
           0.0002488819394806439,
           6.627665100269708e-07,
           0.19785590436647968,
           0.0003069094068792735
          ],
          [
           0.2936543194480013,
           0.0005852810568271636,
           0.08620884916985964,
           99.41558789992393,
           0.00026301278495848875,
           7.200350745773638e-07,
           0.20337560299908497,
           0.00032431458225581656
          ],
          [
           0.3018601371241899,
           0.0006185019943284091,
           0.08861610614118655,
           99.39923553623707,
           0.0002779447829021035,
           7.822481591926993e-07,
           0.20904828667935074,
           0.00034270479282321636
          ],
          [
           0.3102941609371789,
           0.0006536055586493654,
           0.09109021175297953,
           99.3824271743689,
           0.0002937232547627143,
           8.498322042559747e-07,
           0.21487813868483616,
           0.0003621356104902061
          ],
          [
           0.3189626750634303,
           0.0006906981774250409,
           0.09363300138264412,
           99.36515018687925,
           0.00031039607719306927,
           9.232503737647198e-07,
           0.22086945344252085,
           0.00038266572715398814
          ],
          [
           0.3278721331795054,
           0.0007298922722802966,
           0.09624635961070137,
           99.34739160168165,
           0.00032801382536183177,
           1.0030057113973381e-06,
           0.22702663929623895,
           0.0004043571285563326
          ],
          [
           0.33702916283066936,
           0.0007713065944647934,
           0.09893222147232375,
           99.32913809292387,
           0.0003466299242416361,
           1.0896445670551646e-06,
           0.23335422133215786,
           0.00042727527771425043
          ],
          [
           0.3464405699002833,
           0.0008150665791137151,
           0.1016925737368259,
           99.31037597164386,
           0.00036630080830886544,
           1.1837603169702943e-06,
           0.23985684426284654,
           0.0004514893084427012
          ],
          [
           0.35611334318160415,
           0.0008613047191533393,
           0.10452945621550534,
           99.29109117619626,
           0.0003870860901168016,
           1.2859974024298505e-06,
           0.24653927537044015,
           0.0004770722295139354
          ],
          [
           0.36605465905358725,
           0.0009101609599250387,
           0.10744496309821822,
           99.27126926244495,
           0.000409048738228623,
           1.397055714293136e-06,
           0.25340640750936266,
           0.0005041011400265326
          ],
          [
           0.3762718862622555,
           0.0009617831156585378,
           0.11044124431906086,
           99.25089539371706,
           0.0004322552650227976,
           1.5176953527827194e-06,
           0.2604632621690083,
           0.0005326574565870379
          ],
          [
           0.3867725908091797,
           0.001016327308985564,
           0.11352050695152129,
           99.22995433051392,
           0.00045677592491091216,
           1.6487417945292948e-06,
           0.2677149925967406,
           0.0005628271529384791
          ],
          [
           0.39756454095813426,
           0.001073958411686659,
           0.1166850166537494,
           99.20843041996505,
           0.00048268491236612697,
           1.7911044406794993e-06,
           0.27516688700764247,
           0.0005947009869336497
          ],
          [
           0.40865571238123416,
           0.0011348504401789666,
           0.11993709920639133,
           99.186307585002,
           0.0005100605371968854,
           1.945835418994132e-06,
           0.2828243719354728,
           0.0006283746621164579
          ],
          [
           0.4200542932843738,
           0.0011991872966202546,
           0.12327914180034283,
           99.16356931339902,
           0.00053898556636303,
           2.1140101423512524e-06,
           0.290693015283253,
           0.0006639493598765589
          ],
          [
           0.4317686897744361,
           0.0012671632278270634,
           0.12671359462877388,
           99.14019864643099,
           0.0005695474282004003,
           2.296782713844738e-06,
           0.2987785297872294,
           0.0007015319398253351
          ],
          [
           0.4438075313140653,
           0.0013389833783050758,
           0.13024297245375285,
           99.11617816728953,
           0.0006018384612652155,
           2.495405990540242e-06,
           0.3070867764691597,
           0.0007412352279282694
          ],
          [
           0.45617967628277456,
           0.0014148643968241073,
           0.1338698561848633,
           99.09148998923662,
           0.0006359561881040575,
           2.711240019951645e-06,
           0.31562376812467724,
           0.0007831783461193382
          ],
          [
           0.46889421765463823,
           0.0014950350763390007,
           0.13759689448932205,
           99.06611574348221,
           0.0006720036041147869,
           2.9457611956127354e-06,
           0.3243956728723633,
           0.0008274870598208144
          ],
          [
           0.4819604887936803,
           0.0015797370290535659,
           0.14142680543380173,
           99.04003656678142,
           0.0007100894823153093,
           3.200572192805408e-06,
           0.3334088177632242,
           0.0008742941443147398
          ],
          [
           0.4953880693679494,
           0.0016692253985181652,
           0.1453623781581216,
           99.01323308874669,
           0.0007503286948799216,
           3.4774127506590795e-06,
           0.34266969245013035,
           0.0009237397709598909
          ],
          [
           0.5091867913832145,
           0.0017637696107501385,
           0.1494064745809485,
           98.98568541887039,
           0.0007928425523481496,
           3.778171372421943e-06,
           0.3521849529166843,
           0.000975971914298094
          ],
          [
           0.523366745337072,
           0.0018636541664690729,
           0.15356203113760322,
           98.95737313325343,
           0.0008377591614581504,
           4.1048980217557116e-06,
           0.3619614252648125,
           0.0010311467811457437
          ],
          [
           0.5379382864941664,
           0.0019691794766472925,
           0.15783206055004037,
           98.92827526103555,
           0.0008852138026064935,
           4.459817899463261e-06,
           0.3720061095602701,
           0.0010894292628210389
          ],
          [
           0.5529120412830953,
           0.0020806627436891936,
           0.16221965362902144,
           98.89837027052303,
           0.0009353493279881452,
           4.845346392161996e-06,
           0.38232618373506894,
           0.001150993411714351
          ],
          [
           0.5682989138154282,
           0.002198438890671895,
           0.16672798110846135,
           98.86763605500946,
           0.0009883165815251322,
           5.264105292111359e-06,
           0.3929290075456936,
           0.0012160229434686682
          ],
          [
           0.5841100925271278,
           0.002322861541204194,
           0.17136029551187842,
           98.83604991828577,
           0.001044274841749627,
           5.718940395738502e-06,
           0.403822126585785,
           0.0012847117660991854
          ],
          [
           0.6003570569424945,
           0.0024543040525911927,
           0.1761199330508271,
           98.80358855983539,
           0.0011033922888672434,
           6.21294059743417e-06,
           0.415013276351787,
           0.0013572645374459185
          ],
          [
           0.6170515845606045,
           0.0025931606051286726,
           0.18101031555514438,
           98.77022805971094,
           0.0011658464972893446,
           6.749458604968827e-06,
           0.42651038635986754,
           0.001433897252420938
          ],
          [
           0.6342057578639767,
           0.0027398473504939855,
           0.18603495243476822,
           98.73594386308861,
           0.0012318249549889669,
           7.332133413465312e-06,
           0.4383215843121817,
           0.0015148378615821166
          ],
          [
           0.651831971449072,
           0.0028948036223503037,
           0.19119744267284347,
           98.70071076449695,
           0.0013015256111042824,
           7.964914686329959e-06,
           0.450455200310363,
           0.0016003269226390505
          ],
          [
           0.6699429392779388,
           0.0030584932124371163,
           0.19650147684974476,
           98.66450289171698,
           0.0013751574532856394,
           8.652089203953197e-06,
           0.46291977111384497,
           0.0016906182865730009
          ],
          [
           0.6885517020501405,
           0.003231405715583994,
           0.20195083919758813,
           98.62729368935024,
           0.001452941116358163,
           9.398309554427383e-06,
           0.47572404444039523,
           0.0017859798201325975
          ],
          [
           0.7076716346938191,
           0.003414057947255533,
           0.20754940968472205,
           98.5890559020525,
           0.0015351095239510635,
           1.0208625255070857e-05,
           0.48887698330595236,
           0.0018866941665497447
          ],
          [
           0.7273164539744948,
           0.003606995437414385,
           0.21330116612960734,
           98.54976155743017,
           0.0016219085648278102,
           1.10885165092858e-05,
           0.5023877704005786,
           0.0019930595464063613
          ],
          [
           0.7475002262198932,
           0.0038107940046759768,
           0.21921018634340958,
           98.50938194859776,
           0.0017135978057380005,
           1.2043930820307613e-05,
           0.5162658124970265,
           0.0021053906006719986
          ],
          [
           0.7682373751588258,
           0.004026061414923907,
           0.225280650300543,
           98.46788761639417,
           0.0018104512427026143,
           1.3081322701831783e-05,
           0.5305207448881147,
           0.002224019278025446
          ],
          [
           0.7895426898717448,
           0.004253439128758063,
           0.23151684233629208,
           98.42524833125633,
           0.0019127580927388436,
           1.4207696745436082e-05,
           0.5451624358487258,
           0.00234929576866949
          ],
          [
           0.8114313328503318,
           0.004493604142360705,
           0.23792315337055644,
           98.38143307474941,
           0.002020823628130098,
           1.543065432628279e-05,
           0.5602009911179295,
           0.00248158948694837
          ],
          [
           0.8339188481630118,
           0.004747270926586443,
           0.24450408315663408,
           98.33641002075258,
           0.002134970055449793,
           1.675844425190227e-05,
           0.5756467583962951,
           0.002621290105180469
          ],
          [
           0.8570211697229482,
           0.005015193469313497,
           0.2512642425538582,
           98.29014651630023,
           0.002255537441655779,
           1.820001768408054e-05,
           0.5915103318530901,
           0.0027688086412263092
          ],
          [
           0.8807546296546116,
           0.0052981674263338436,
           0.2582083558227745,
           98.24260906207887,
           0.0023828846896847395,
           1.976508769113722e-05,
           0.6078025566376161,
           0.002924578602422428
          ],
          [
           0.9051359667545613,
           0.005597032386310212,
           0.2653412629414175,
           98.1937632925807,
           0.0025173905660933645,
           2.1464193817354943e-05,
           0.6245345333884759,
           0.0030890571886262467
          ],
          [
           0.9301823350415913,
           0.005912674255588392,
           0.2726679219411079,
           98.14357395591489,
           0.002659454783415512,
           2.3308772088177295e-05,
           0.6417176227340923,
           0.0032627265572350334
          ],
          [
           0.9559113123908931,
           0.0062460277689245156,
           0.2801934112600571,
           98.09200489327873,
           0.0028094991400322788,
           2.531123090421948e-05,
           0.6593634497772995,
           0.003446095153163969
          ],
          [
           0.9823409092462937,
           0.006598079132467913,
           0.28792293211290104,
           98.03901901809137,
           0.0029679687204844417,
           2.7485033314326902e-05,
           0.6774839085562742,
           0.003639699106893383
          ],
          [
           1.0094895774040777,
           0.00696986880563301,
           0.29586181087413516,
           97.98457829479332,
           0.003135333159295217,
           2.984478619809757e-05,
           0.696091166473527,
           0.003844103703824325
          ],
          [
           1.0373762188612834,
           0.007362494428797294,
           0.3040155014732608,
           97.92864371731582,
           0.00331208797151507,
           3.2406336931678624e-05,
           0.715197668684095,
           0.004059904928314126
          ],
          [
           1.0660201947206593,
           0.0077771139040763914,
           0.3123895877992601,
           97.87117528722519,
           0.003498755953349541,
           3.518687815749832e-05,
           0.7348161424334138,
           0.004287731085899016
          ],
          [
           1.095441334143817,
           0.008214948636754196,
           0.32098978611185003,
           97.81213199154779,
           0.0036958886563866183,
           3.820506132918331e-05,
           0.7549596013347354,
           0.004528244507350329
          ],
          [
           1.1256599433433512,
           0.008677286945283188,
           0.32982194745676197,
           97.75147178028215,
           0.003904067939101246,
           4.1481119757503134e-05,
           0.7756413495752418,
           0.004782143338352742
          ],
          [
           1.1566968146039134,
           0.009165487648119681,
           0.3388920600820966,
           97.68915154360641,
           0.0041239075994818596,
           4.50370019420975e-05,
           0.7968749860392961,
           0.0050501634187382315
          ],
          [
           1.188573235321386,
           0.009680983836019398,
           0.34820625185258175,
           97.62512708878933,
           0.004356055092797114,
           4.8896516037293714e-05,
           0.8186744083364947,
           0.005333080255357032
          ],
          [
           1.2213109970484781,
           0.010225286838792659,
           0.3577707926583601,
           97.55935311681506,
           0.0046011933387009735,
           5.308548636887236e-05,
           0.8410538167214271,
           0.005631711092817689
          ],
          [
           1.2549324045340238,
           0.010799990395901292,
           0.3675920968146659,
           97.49178319873273,
           0.004860042622059518,
           5.7631922992535426e-05,
           0.8640277178911465,
           0.005946917086479709
          ],
          [
           1.2894602847424346,
           0.011406775040678097,
           0.37767672544855174,
           97.42236975174309,
           0.0051333625920760885,
           6.256620536451482e-05,
           0.8876109286455703,
           0.006279605582237852
          ],
          [
           1.3249179958385753,
           0.012047412708355309,
           0.38803138886853117,
           97.35106401503596,
           0.00542195436448909,
           6.792128128059491e-05,
           0.9118185793950202,
           0.006630732507791347
          ],
          [
           1.3613294361223407,
           0.01272377157850955,
           0.3986629489127703,
           97.27781602539376,
           0.005726662731822569,
           7.373288233232381e-05,
           0.9366661174982275,
           0.007001304880248925
          ],
          [
           1.3987190528960147,
           0.013437821162960504,
           0.40957842127117106,
           97.20257459257759,
           0.006048378486880897,
           8.003975722878755e-05,
           0.9621693104130852,
           0.007392383435076865
          ],
          [
           1.4371118512462948,
           0.014191637650602312,
           0.42078497777641033,
           97.12528727451439,
           0.00638804086489683,
           8.688392443956109e-05,
           0.988344248641402,
           0.007805085381554404
          ],
          [
           1.476533402721562,
           0.014987409521097965,
           0.4322899486586944,
           97.0459003523051,
           0.006746640109966296,
           9.43109457298547e-05,
           1.0152073484478015,
           0.008240587290056422
          ],
          [
           1.517009853883692,
           0.01582744343983023,
           0.4441008247587015,
           96.9643588050754,
           0.007125220171634269,
           0.00010237022228304898,
           1.0427753543318152,
           0.008700128116638521
          ],
          [
           1.5585679347121997,
           0.016714170446971703,
           0.4562252596928329,
           96.88060628469351,
           0.007524881537731705,
           0.00011111531523932127,
           1.0710653412309612,
           0.009185012370550517
          ],
          [
           1.6012349668370887,
           0.01765015245401813,
           0.46867107196459495,
           96.79458509038,
           0.007946784209806813,
           0.00012060429262261958,
           1.1000947164314272,
           0.009696613430454096
          ],
          [
           1.6450388715752196,
           0.018638089061616687,
           0.4814462470155809,
           96.70623614323812,
           0.008392150827742115,
           0.000130900104782482,
           1.1298812211616767,
           0.01023637701526484
          ],
          [
           1.6900081777433045,
           0.019680824713013984,
           0.49455893920916266,
           96.61549896073488,
           0.008862269950401812,
           0.0001420709906428462,
           1.1604429318429241,
           0.010805824815677238
          ],
          [
           1.7361720292189793,
           0.02078135619795044,
           0.5080174737396492,
           96.52231163116512,
           0.009358499499413598,
           0.00015419091722786222,
           1.1917982609690903,
           0.011406558292564817
          ],
          [
           1.7835601922195787,
           0.02194284052233147,
           0.5218303484592941,
           96.42661078813427,
           0.009882270373452419,
           0.00016734005512554696,
           1.2239659575873707,
           0.01204026264857174
          ],
          [
           1.8322030622663392,
           0.02316860315951394,
           0.5360062356151444,
           96.32833158509719,
           0.010435090240661821,
           0.00018160529275479842,
           1.2569651073490844,
           0.012708710979327858
          ],
          [
           1.8821316707997655,
           0.024462146699554755,
           0.5505539834873289,
           96.22740766999401,
           0.011018547517120263,
           0.00019708079252065737,
           1.2908151320988894,
           0.01341376861082333
          ],
          [
           1.933377691409895,
           0.025827159913279326,
           0.5654826179199965,
           96.12377116002662,
           0.011634315539536077,
           0.00021386859217775538,
           1.3255357889689237,
           0.014157397629572036
          ],
          [
           1.985973445642877,
           0.027267527248529738,
           0.5808013437356616,
           96.01735261662239,
           0.012284156940630928,
           0.00023207925497345514,
           1.3611471689426682,
           0.014941661612268366
          ],
          [
           2.0399519083432236,
           0.028787338776459576,
           0.596519546023348,
           95.90808102063514,
           0.012969928235954224,
           0.0002518325724114685,
           1.3976696948517677,
           0.01576873056170612
          ],
          [
           2.095346712488517,
           0.030390900606230963,
           0.6126467912904318,
           95.795883747837,
           0.013693584631149615,
           0.00027325832376450936,
           1.4351241187671449,
           0.01664088605576784
          ],
          [
           2.1521921534710375,
           0.03208274578695798,
           0.6291928284676904,
           95.68068654475819,
           0.01445718505897819,
           0.0002964970967721235,
           1.473531518744053,
           0.017560526616316803
          ],
          [
           2.2105231927781444,
           0.03386764571621002,
           0.6461675897565985,
           95.56241350493546,
           0.01526289745568302,
           0.0003217011742881327,
           1.5129132948787976,
           0.01853017330482181
          ],
          [
           2.2703754610205507,
           0.03575062207484377,
           0.6635811913074615,
           95.44098704563412,
           0.01611300428655893,
           0.0003490354919923492,
           1.5532911646329528,
           0.019552475551517172
          ],
          [
           2.331785260254863,
           0.037736959308367776,
           0.6814439337165215,
           95.31632788511291,
           0.017009908330867577,
           0.00037867867265447267,
           1.5946871573789696,
           0.02063021722484475
          ],
          [
           2.3947895655438853,
           0.03983221767545635,
           0.6997663023297293,
           95.18835502050466,
           0.01795613873651069,
           0.000410824142835532,
           1.6371236081190828,
           0.021766322947838288
          ],
          [
           2.4594260256950338,
           0.042042246884607795,
           0.7185589673403586,
           95.05698570639123,
           0.018954357355138278,
           0.0004456813383349004,
           1.6806231503272984,
           0.02296386466798525
          ],
          [
           2.52573296311431,
           0.044373200340300276,
           0.7378327836672566,
           94.9221354341551,
           0.020007365368631444,
           0.00048347700514021785,
           1.7252087078623228,
           0.024226068486946094
          ],
          [
           2.593749372709763,
           0.04683155002030213,
           0.7575987905999705,
           94.7837179121954,
           0.02111811021814551,
           0.0005244566031141333,
           1.7709034858969963,
           0.025556321756304446
          ],
          [
           2.663514919775211,
           0.0494241020060706,
           0.7778682111965949,
           94.64164504710178,
           0.022289692847142002,
           0.0005688858201572098,
           1.8177309608077765,
           0.026958180445279905
          ],
          [
           2.7350699367813878,
           0.05215801268838919,
           0.7986524514196791,
           94.49582692588375,
           0.023525375270063337,
           0.0006170522051211738,
           1.8657148689655718,
           0.028435376786038736
          ],
          [
           2.8084554189981357,
           0.05504080567056258,
           0.8199630989951001,
           94.34617179936042,
           0.024828588478517395,
           0.0006692669283121048,
           1.914879194367049,
           0.029991827201892144
          ],
          [
           2.8837130188674847,
           0.058080389391591394,
           0.8418119219783379,
           94.19258606681997,
           0.026202940697034598,
           0.0007258666790198252,
           1.9652481550432856,
           0.031631640523269805
          ],
          [
           2.9608850390436263,
           0.06128507549178592,
           0.8642108670121413,
           94.03497426206536,
           0.027652226000636795,
           0.0007872157101383059,
           2.016846188180418,
           0.03335912649589429
          ],
          [
           3.0400144240119142,
           0.06466359794324404,
           0.8871720572591638,
           93.87323904096868,
           0.02918043330661489,
           0.0008537080406029327,
           2.0696979338847257,
           0.03517880458505955
          ],
          [
           3.121144750194718,
           0.06822513296748937,
           0.9107077899926571,
           93.70728117066349,
           0.030791755753040325,
           0.0009257698270638452,
           2.12382821752222,
           0.03709541307932077
          ],
          [
           3.2043202144480607,
           0.07197931976236675,
           0.9348305338279702,
           93.53699952051102,
           0.032490600476646654,
           0.0010038619169408238,
           2.1792620305607557,
           0.03911391849624725
          ],
          [
           3.2895856208483614,
           0.07593628205997213,
           0.9595529255771168,
           93.36229105498359,
           0.03428159880278977,
           0.001088482595763142,
           2.2360245098402562,
           0.041239525292148776
          ],
          [
           3.3769863656643895,
           0.08010665053698705,
           0.984887766708332,
           93.1830508286161,
           0.03616961686024478,
           0.001180170542487401,
           2.2941409151945704,
           0.04347768587687902
          ],
          [
           3.4665684204049194,
           0.08450158609825502,
           1.01084801939213,
           92.99917198318361,
           0.03815976663360856,
           0.0012795080073057224,
           2.353636605346248,
           0.04583411093392701
          ],
          [
           3.5583783128279527,
           0.08913280405378719,
           1.03744680211501,
           92.81054574727146,
           0.04025741746605368,
           0.0013871242273041833,
           2.414537011993388,
           0.048314780045038336
          ],
          [
           3.6524631057926165,
           0.09401259920859767,
           1.0646973848415875,
           92.61706143841273,
           0.04246820802511585,
           0.0015036990962043174,
           2.476867612005594,
           0.05092595261755402
          ],
          [
           3.7488703976820275,
           0.09915381295724712,
           1.0926132366023968,
           92.41860644572765,
           0.04479802973615565,
           0.0016300010281683987,
           2.540653964121289,
           0.05367411214505302
          ],
          [
           3.8476485545811556,
           0.10456922245922505,
           1.1212085924320392,
           92.2150659971167,
           0.04725272565248035,
           0.001767258539008917,
           2.6059223965404246,
           0.05656525267895884
          ],
          [
           3.948846191928349,
           0.11027277862817544,
           1.1504973610662936,
           92.00632362727576,
           0.04983869945686703,
           0.0019164683970239597,
           2.6726986077287864,
           0.05960626551873303
          ],
          [
           4.052512258195242,
           0.11627935222226073,
           1.1804933715985046,
           91.79226108494585,
           0.05256279034552362,
           0.0020785629641000645,
           2.741007949396166,
           0.06280463033235709
          ],
          [
           4.158696092600629,
           0.12260453755393343,
           1.2112105690689734,
           91.57275826535891,
           0.05543217617256274,
           0.0022545455703410523,
           2.8108756431320208,
           0.0661681705426217
          ],
          [
           4.267447388119053,
           0.12926468374870115,
           1.242663006163407,
           91.34769323205214,
           0.05845438863151747,
           0.0024454958833309017,
           2.882326739021496,
           0.06970506638037068
          ],
          [
           4.378816151373067,
           0.13627692699606833,
           1.274864834330465,
           91.11694224271031,
           0.061637328974725424,
           0.0026525756791134195,
           2.9553860717639173,
           0.07342386817233651
          ],
          [
           4.492852659254893,
           0.14365922378915347,
           1.3078302943054354,
           90.8803797792817,
           0.06498928427611121,
           0.002877035044033537,
           3.0300782142096194,
           0.07733350983904982
          ],
          [
           4.609607412119083,
           0.15143038514505236,
           1.3415737060285156,
           90.63787858262067,
           0.06851894424141444,
           0.003120219038554226,
           3.106427428232376,
           0.08144332257434857
          ],
          [
           4.729131083383494,
           0.1596101117930489,
           1.3761094579477287,
           90.38930969192137,
           0.07223541856821288,
           0.0033835748562428512,
           3.1844576128562307,
           0.08576304867367464
          ],
          [
           4.851474465372158,
           0.1682190303122954,
           1.4114519956984355,
           90.13454248921592,
           0.07614825485619829,
           0.003668659513316555,
           3.2641922495580467,
           0.09030285547363989
          ],
          [
           4.976688411229841,
           0.17727873019448853,
           1.4476158101534933,
           89.87344474921959,
           0.08026745706602183,
           0.00397714810644841,
           3.3456543446699043,
           0.09507334936020839
          ],
          [
           5.104823772734803,
           0.18681180180036908,
           1.4846154248405696,
           89.60588269481616,
           0.08460350452265242,
           0.004310842678968777,
           3.428866368809181,
           0.10008558979728759
          ],
          [
           5.235931333832938,
           0.19684187517147506,
           1.5224653827257617,
           89.33172105848531,
           0.08916737145653476,
           0.004671681738148436,
           3.513850193268329,
           0.10535110332148986
          ],
          [
           5.370061739713979,
           0.20739365965050457,
           1.561180232365781,
           89.05082314998391,
           0.09397054707290822,
           0.005061750468924958,
           3.600627023301653,
           0.11088189744233326
          ],
          [
           5.507265421247958,
           0.2184929842547812,
           1.6007745134342894,
           88.76305093060198,
           0.09902505613640568,
           0.005483291692227633,
           3.6892173282522305,
           0.11669047438013398
          ],
          [
           5.647592514598416,
           0.23016683873769003,
           1.641262741631764,
           88.46826509432316,
           0.10434348005449574,
           0.005938717618970038,
           3.7796407684691857,
           0.12278984456632157
          ],
          [
           5.791092775827269,
           0.2424434152624369,
           1.6826593929923135,
           88.16632515622875,
           0.10993897843941819,
           0.006430622453805726,
           3.8719161189731754,
           0.1291935398228128
          ],
          [
           5.9378154903057805,
           0.25535215060114413,
           1.7249788876054688,
           87.85708954849214,
           0.11582531112400507,
           0.006961795905880285,
           3.96606118983713,
           0.13591562612845415
          ],
          [
           6.087809376745756,
           0.26892376875998203,
           1.7682355727758419,
           87.54041572431876,
           0.12201686060212104,
           0.007535237667049702,
           4.062092743259181,
           0.14297071587130974
          ],
          [
           6.241122485665982,
           0.2831903239178103,
           1.8124437056489835,
           87.21616027019454,
           0.1285286548594177,
           0.008154172921364332,
           4.160026407316123,
           0.15037397947577652
          ],
          [
           6.397802092109988,
           0.2981852435515292,
           1.8576174353374877,
           86.88417902681223,
           0.13537639055461304,
           0.008822068953021223,
           4.259876586398059,
           0.15814115628308578
          ],
          [
           6.557894582433937,
           0.3139433716061128,
           1.903770784587743,
           86.54432721905145,
           0.14257645650561804,
           0.00954265292345347,
           4.361656368338918,
           0.16628856455277052
          ],
          [
           6.721445334986359,
           0.3305010115509725,
           1.9509176310343914,
           86.19645959539443,
           0.1501459574284737,
           0.01031993089172613,
           4.465377428272583,
           0.17483311044107575
          ],
          [
           6.888498594505879,
           0.3478959691469459,
           1.9990716880967399,
           85.84043057716312,
           0.15810273787024962,
           0.011158208155921515,
           4.571049929261007,
           0.1837922958001347
          ],
          [
           7.05909734006861,
           0.36616759472981725,
           2.048246485579029,
           85.47609441796816,
           0.16646540626978432,
           0.012062110996688786,
           4.678682419758882,
           0.193184224629031
          ],
          [
           7.233283146423069,
           0.3853568247967746,
           2.0984553500444214,
           85.10330537376241,
           0.17525335907237913,
           0.013036609907561862,
           4.788281727998743,
           0.20302760799463807
          ],
          [
           7.411096038558786,
           0.4055062226617823,
           2.1497113850411345,
           84.72191788389378,
           0.18448680481635232,
           0.014087044399974756,
           4.899852853401701,
           0.21334176722647313
          ],
          [
           7.592574339363574,
           0.42666001792435904,
           2.202027451267871,
           84.3317867635524,
           0.19418678810065584,
           0.015219149474061815,
           5.013398855141351,
           0.22414663517573888
          ],
          [
           7.777754510235415,
           0.4488641444739373,
           2.255416146774933,
           83.93276740800583,
           0.20437521333364247,
           0.016439083849262945,
           5.128920738012576,
           0.2354627553143976
          ],
          [
           7.966670984526576,
           0.47216627672876765,
           2.309889787306678,
           83.52471600901538,
           0.21507486815348578,
           0.017753460051375406,
           5.2464173357821675,
           0.24731127843558431
          ],
          [
           8.159355993711578,
           0.49661586378453293,
           2.3654603869006223,
           83.10748978382027,
           0.22630944640083264,
           0.019169376454922137,
           5.365885192225097,
           0.25971395670214226
          ],
          [
           8.355839386185611,
           0.5222641611234323,
           2.422139638868,
           82.68094721707392,
           0.23810357051396316,
           0.020694451381426133,
           5.487318440078008,
           0.2726931347756498
          ],
          [
           8.556148438617068,
           0.549164259509872,
           2.4799388972902006,
           82.24494831610653,
           0.25048281320619353,
           0.022336859355276094,
           5.610708678170548,
           0.28627173774430487
          ],
          [
           8.760307659795986,
           0.5773711106741172,
           2.5388691591745762,
           81.7993548798825,
           0.26347371827447424,
           0.0241053696191852,
           5.736044847024569,
           0.30047325555459786
          ],
          [
           8.968338586940602,
           0.6069415493608806,
           2.5989410474220533,
           81.34403078200774,
           0.27710382037733083,
           0.02600938701062986,
           5.863313103241473,
           0.31532172363929134
          ],
          [
           9.180259574445646,
           0.6379343112960021,
           2.660164794766884,
           80.87884226813206,
           0.29140166360947145,
           0.028058995298899502,
           5.992496693027976,
           0.3308416994230566
          ],
          [
           9.39608557507949,
           0.6704100466018131,
           2.7225502288560524,
           80.40365826807532,
           0.3063968186898248,
           0.0302650030792852,
           6.123575825240445,
           0.34705823437778505
          ],
          [
           9.615827913661205,
           0.7044313281707837,
           2.7861067586413206,
           79.91835072299227,
           0.3221198985695398,
           0.03263899231620901,
           6.256527544356205,
           0.36399684129246335
          ],
          [
           9.839494053275057,
           0.7400626544886254,
           2.8508433622608864,
           79.42279492787205,
           0.33860257225695195,
           0.03519336962047337,
           6.391325603807581,
           0.3816834564183684
          ],
          [
           10.067087354106183,
           0.7773704463826876,
           2.916768576589132,
           78.9168698896491,
           0.3558775766478568,
           0.03794142033693304,
           6.527940340138332,
           0.40014439614976377
          ],
          [
           10.298606825008664,
           0.8164230371603289,
           2.9838904886315043,
           78.40045870118311,
           0.3739787261420215,
           0.04089736550738165,
           6.666338548462792,
           0.41940630790419026
          ],
          [
           10.534046867945307,
           0.8572906555961657,
           3.0522167289367976,
           77.87344893134201,
           0.3929409198211327,
           0.04407642175886126,
           6.806483359723885,
           0.4394961148758401
          ],
          [
           10.773397015465163,
           0.9000454012277571,
           3.1217544671895516,
           77.33573303140204,
           0.4128001459596896,
           0.04749486414941885,
           6.94833412025497,
           0.46044095435140686
          ],
          [
           11.016641661412105,
           0.9447612114282766,
           3.192510410130796,
           76.78720875795479,
           0.43359348363939,
           0.05117009198099508,
           7.0918462741519415,
           0.4822681093017124
          ],
          [
           11.26375978508244,
           0.9915138197434944,
           3.2644908019341323,
           76.2277796124899,
           0.4553591012398441,
           0.055120697561949795,
           7.2369712489525835,
           0.5050049329956636
          ],
          [
           11.51472466907233,
           1.0403807050113278,
           3.337701427135452,
           75.65735529780085,
           0.4781362515848302,
           0.05936653786897164,
           7.383656345098625,
           0.5286787664276208
          ],
          [
           11.769503611074295,
           1.0914410308274163,
           3.4121476161764397,
           75.07585219134315,
           0.5019652635345443,
           0.06392880901890355,
           7.531844629618361,
           0.5533168484069076
          ],
          [
           12.028057629896498,
           1.1447755749828248,
           3.4878342535733213,
           74.48319383565779,
           0.526887529831553,
           0.06883012341439405,
           7.681474834412105,
           0.57894621823151
          ],
          [
           12.290341165985504,
           1.2004666485828959,
           3.5647657886604978,
           73.87931144596317,
           0.5529454910324487,
           0.07409458937211075,
           7.832481259443923,
           0.6055936109594547
          ],
          [
           12.556301776732745,
           1.2585980046635772,
           3.642946248782075,
           73.26414443501207,
           0.5801826153900438,
           0.07974789297730024,
           7.984793681037983,
           0.6332853454042092
          ],
          [
           12.825879826832512,
           1.3192547362570695,
           3.722379254709649,
           72.63764095531702,
           0.6086433745937012,
           0.0858173818322731,
           8.138337265339787,
           0.6620472051179954
          ],
          [
           13.099008173935218,
           1.3825231640278657,
           3.8030680379498194,
           71.99975845885861,
           0.6383732153301428,
           0.09233215027735786,
           8.293032486827556,
           0.6919043127934418
          ],
          [
           13.375612144595529,
           1.4484903657765782,
           3.8850155218523916,
           71.35046397177317,
           0.6694184689675922,
           0.09932311056166977,
           8.44879553423949,
           0.7228808822335827
          ],
          [
           13.655610242797044,
           1.5172439030196831,
           3.968222882321819,
           70.68973355207368,
           0.7018269660820362,
           0.10682179558361074,
           8.605538967920923,
           0.7550016902012042
          ],
          [
           13.938909298103974,
           1.5888780109312521,
           4.052687075230888,
           70.01755747565682,
           0.7356496621602254,
           0.11485954774091925,
           8.763163360215156,
           0.7882955699607685
          ],
          [
           14.225406646764545,
           1.6634889047745365,
           4.138403854482083,
           69.33393840252357,
           0.7709388454603802,
           0.12346928650591245,
           8.921562748742705,
           0.8227913107462587
          ],
          [
           14.514990470658873,
           1.7411736668994797,
           4.225368187567755,
           68.63889134556307,
           0.8077478268726408,
           0.13268574411592304,
           9.080625818581563,
           0.8585169397406909
          ],
          [
           14.807539519236913,
           1.822030008203003,
           4.31357429587844,
           67.93244427588075,
           0.8461308701739779,
           0.14254555111907366,
           9.240235941362718,
           0.8954995381451181
          ],
          [
           15.102922841727555,
           1.906156003107979,
           4.403015704082707,
           67.21463873265232,
           0.8861431116121599,
           0.15308732430609687,
           9.400271241046013,
           0.9337650414651686
          ],
          [
           15.400999531455376,
           1.9936497968169171,
           4.4936852991612435,
           66.48553043584894,
           0.9278404681315627,
           0.16435175685084155,
           9.560604688303862,
           0.9733380234312383
          ],
          [
           15.701618484151219,
           2.0846092837091934,
           4.5855753996430515,
           65.74518990009034,
           0.9712795335657946,
           0.17638171043377324,
           9.72110422535432,
           1.014241463052304
          ],
          [
           16.00461817217021,
           2.179131755904756,
           4.678677835539985,
           64.99370304780903,
           1.016517462146293,
           0.18922230906710644,
           9.881632922949954,
           1.0564964944126627
          ],
          [
           16.309826436530823,
           2.2773135212201465,
           4.77298403940424,
           64.23117181985977,
           1.0636118387147142,
           0.2029210342762315,
           10.042049171033916,
           1.100122138960166
          ],
          [
           16.617060298652284,
           2.3792494900026893,
           4.868485148837465,
           63.457714781689184,
           1.1126205350826828,
           0.21752782121867809,
           10.202206904308339,
           1.1451350202086712
          ],
          [
           16.92612579358973,
           2.485032730656567,
           4.965172120656273,
           62.67346772319842,
           1.1636015520589655,
           0.2330951552378676,
           10.361955863609513,
           1.1915490609926556
          ],
          [
           17.23681782643513,
           2.594753994080795,
           5.06303585676113,
           61.8785842504974,
           1.2166128467647526,
           0.2496781682528571,
           10.52114189353332,
           1.239375163674619
          ],
          [
           17.548920053358074,
           2.7085012077378527,
           5.162067341558887,
           61.07323636787211,
           1.2717121449871984,
           0.26733473427574306,
           10.679607276186097,
           1.2886208740240364
          ],
          [
           17.86220478848955,
           2.8263589406769887,
           5.262257790546028,
           60.257615048482215,
           1.328956738484302,
           0.2861255632235098,
           10.837191100228749,
           1.3392900298686508
          ],
          [
           18.176432937491622,
           2.9484078415663237,
           5.3635988093632,
           59.431930792583465,
           1.3884032673568363,
           0.30611429204908647,
           10.993729663514177,
           1.3913823960752825
          ],
          [
           18.49135395818669,
           3.07472405266127,
           5.466082562272184,
           58.5964141724539,
           1.4501074878514002,
           0.3273675720548705,
           11.149056906560686,
           1.4448932879590028
          ],
          [
           18.80670584802501,
           3.2053786036770147,
           5.569701948574697,
           57.75131636370542,
           1.514124026260863,
           0.3499551510686941,
           11.30300487282832,
           1.4998131858599728
          ],
          [
           19.122215157423003,
           3.340436790764172,
           5.674450784976006,
           56.89690966331509,
           1.5805061199525328,
           0.37394994895423145,
           11.45540419023419,
           1.5561273443807717
          ],
          [
           19.43759702708451,
           3.479957547239645,
           5.780323991283091,
           56.03348799553057,
           1.6493053469907848,
           0.39942812469227684,
           11.606084566518069,
           1.6138154006610388
          ],
          [
           19.752555246290875,
           3.623992814431015,
           5.887317776100944,
           55.16136740783136,
           1.7205713463403043,
           0.4264691330025318,
           11.75487528890367,
           1.672850987099304
          ],
          [
           20.066782327780164,
           3.772586922991128,
           5.995429818335303,
           54.28088656038864,
           1.7943515312518115,
           0.4551557681737956,
           11.90160571594297,
           1.7332013551361827
          ],
          [
           20.37996206038415,
           3.9257730533007895,
           6.104660471267986,
           53.39240467119454,
           1.8706900229298153,
           0.48557438879908266,
           12.046109779544775,
           1.7948255525788632
          ],
          [
           20.69177396714138,
           4.0835737898686,
           6.21500605398571,
           52.49629701563735,
           1.9496303229472096,
           0.5178087612890152,
           12.188227831624744,
           1.8576822575059853
          ],
          [
           21.001865414160683,
           4.2460385811199135,
           6.326441076924905,
           51.592983903938126,
           2.031226921113543,
           0.5519331590114923,
           12.327757130051141,
           1.9217538136801948
          ],
          [
           21.309870319881316,
           4.413212824513475,
           6.438937572723278,
           50.682912625945676,
           2.115533447036632,
           0.5880223609630649,
           12.464490045092331,
           1.9870208038442223
          ],
          [
           21.615412991162035,
           4.585132389425108,
           6.552467645387587,
           49.76655413984046,
           2.202600766971251,
           0.6261525525466699,
           12.598220988917323,
           2.053458525749566
          ],
          [
           21.91810888752329,
           4.761822528814146,
           6.667003808795005,
           48.84440287653907,
           2.2924765030213328,
           0.6664012810968097,
           12.728747659705794,
           2.121036454504554
          ],
          [
           22.217565478401024,
           4.943296731845139,
           6.7825193699736595,
           47.916976447961524,
           2.3852045144621936,
           0.7088474158789313,
           12.855872380973215,
           2.189717660504311
          ],
          [
           22.51338319257662,
           5.1295555199887914,
           6.8989888607929615,
           46.98481525795101,
           2.480824340065261,
           0.7535711156054228,
           12.979403533241394,
           2.2594581797785263
          ],
          [
           22.805156457068165,
           5.320585190432673,
           7.016388521842522,
           46.048482016461705,
           2.579370600559844,
           0.8006538071835099,
           13.099157073034322,
           2.330206333417262
          ],
          [
           23.09247482046665,
           5.516356512189364,
           7.134696842411084,
           45.10856115991212,
           2.680872360685981,
           0.8501781801949033,
           13.214958131583645,
           2.40190199255625
          ],
          [
           23.374924152910687,
           5.716823382137591,
           7.253895160589938,
           44.165658183409086,
           2.7853524506920238,
           0.9022282025199896,
           13.326642682517592,
           2.474475785223089
          ],
          [
           23.65208791153338,
           5.921921450412701,
           7.373968327611698,
           43.2203988939757,
           2.8928267476226375,
           0.9568891635787772,
           13.434059264099833,
           2.5478482411652803
          ],
          [
           23.92354845619585,
           6.13156672712817,
           7.494905440589116,
           42.27342859806331,
           3.0033034173433713,
           1.0142477528880738,
           13.537070737189385,
           2.621928870602718
          ],
          [
           24.188888395539003,
           6.345654185414616,
           7.6167006478303785,
           41.325411241614425,
           3.1167821189733904,
           1.074392183052822,
           13.635556054902827,
           2.696615172672537
          ],
          [
           24.4476919377216,
           6.564056379273727,
           7.739354030868975,
           40.37702852689542,
           3.233253174269231,
           1.1374123679466746,
           13.729412013857672,
           2.771791569166694
          ],
          [
           24.699546213532876,
           6.786622098832372,
           7.86287256724507,
           39.42897903739807,
           3.3526967055411103,
           1.203400168722708,
           13.818554949723149,
           2.847328259004639
          ],
          [
           24.944042531719504,
           7.013175090332362,
           7.987271177899707,
           38.48197741048015,
           3.4750817469161785,
           1.2724497224647375,
           13.902922331447899,
           2.9230799887394685
          ],
          [
           25.180782839744335,
           7.243511710341492,
           8.112570641639408,
           37.5367476351043,
           3.6003662669167174,
           1.3446540108252958,
           13.982478087982939,
           2.998888807445511
          ],
          [
           25.40938416024467,
           7.477443329429048,
           8.238744257891932,
           36.59401474220868,
           3.7285224776948827,
           1.420062581538959,
           14.057175780517934,
           3.074652670473894
          ],
          [
           25.629398916641595,
           7.7148491533559005,
           8.365725519958172,
           35.65459147617969,
           3.8595424698703673,
           1.4987079717730447,
           14.126867591498904,
           3.1503169007223346
          ],
          [
           25.840379302086593,
           7.955597406113691,
           8.493447712238643,
           34.71931198358434,
           3.993410902164559,
           1.5806191644342664,
           14.191410491691247,
           3.225823037686664
          ],
          [
           26.04189147677487,
           8.199535099360231,
           8.621845235952138,
           33.78901678068776,
           4.130102466470489,
           1.6658187493649446,
           14.25068287624737,
           3.3011073151421937
          ],
          [
           26.233518708100796,
           8.446486071453597,
           8.750854784138154,
           32.86454956755644,
           4.269580780017816,
           1.754322857546901,
           14.30458774973007,
           3.3760994814562304
          ],
          [
           26.414864618887435,
           8.696248863858441,
           8.880416731120945,
           31.946753874367317,
           4.411797182650784,
           1.8461412440337037,
           14.353056119434202,
           3.450721365647175
          ],
          [
           26.585556507495554,
           8.948594421892349,
           9.010476766619892,
           31.03646957809781,
           4.556689432424754,
           1.9412775564010936,
           14.396050592362274,
           3.524885144706274
          ],
          [
           26.745248693530254,
           9.2032636057582,
           9.140987808551845,
           30.134529339780038,
           4.704180292368468,
           2.039729831831457,
           14.433569167252118,
           3.5984912609276245
          ],
          [
           26.893625830992804,
           9.4599644967077,
           9.271912232904855,
           29.24175502672566,
           4.854176000899246,
           2.1414912732089144,
           14.465649208284693,
           3.671425930276131
          ],
          [
           27.030406116805203,
           9.718369481998215,
           9.403224463927042,
           28.3589542008947,
           5.006564618021796,
           2.246551362925293,
           14.492371581390117,
           3.7435581740376302
          ],
          [
           27.155344306361975,
           9.978112101031455,
           9.53491397333201,
           27.486916774284094,
           5.161214239091301,
           2.354897382627136,
           14.513864927273087,
           3.8147362959989444
          ],
          [
           27.26823442879395,
           10.23878363369415,
           9.666988743344966,
           26.62641195528069,
           5.317971067584436,
           2.4665164180333,
           14.530310037228432,
           3.884783716040073
          ],
          [
           27.368912072570776,
           10.499929410448686,
           9.799479255280476,
           25.778185636862435,
           5.476657338002974,
           2.581397940404403,
           14.541944288323393,
           3.953494058106856
          ],
          [
           27.45725874160661,
           10.76104710831759,
           9.932439452078915,
           24.94295505583477,
           5.637070458055284,
           2.6995334276608145,
           14.549065307092084,
           4.020630449353941
          ],
          [
           27.533215780006053,
           11.021736919104905,
           10.065795477558739,
           24.121375971963836,
           5.799053568176327,
           2.820792145972764,
           14.55189809755468,
           4.086132039662697
          ],
          [
           27.596574790418977,
           11.281770320245418,
           10.199393285868565,
           23.314279880661424,
           5.962500657554228,
           2.9450191296687653,
           14.55042404925193,
           4.150037886330695
          ],
          [
           27.647116471986973,
           11.540908864506028,
           10.333104826953738,
           22.52252952627168,
           6.127287954907433,
           3.0720798354477767,
           14.544620263621942,
           4.2123522563044276
          ],
          [
           27.68467532066727,
           11.798894845840794,
           10.466805401259093,
           21.746943088331683,
           6.293276608221988,
           3.201823750791845,
           14.53450114251793,
           4.273079842369396
          ],
          [
           27.709145338937223,
           12.055447662022761,
           10.60037647336117,
           20.98828676630382,
           6.460311040147363,
           3.3340852528297096,
           14.520124661565527,
           4.332222804832425
          ],
          [
           27.720485774527067,
           12.310259414121495,
           10.733709044587897,
           20.247267308298813,
           6.628217096027723,
           3.4686849712851755,
           14.501599413523822,
           4.389776977628013
          ],
          [
           27.718726798102466,
           12.562989609170238,
           10.866707670315012,
           19.52452461617456,
           6.7967999565802755,
           3.6054317593073972,
           14.4790925063523,
           4.445727083997751
          ],
          [
           27.70397500887688,
           12.81325881194547,
           10.99929521941393,
           18.82062459115887,
           6.9658417834684165,
           3.744125392580561,
           14.45283840961336,
           4.500040782942505
          ],
          [
           27.676418632705445,
           13.060641068499265,
           11.131418486641664,
           18.136052421287914,
           7.135099061759926,
           3.884560136071749,
           14.423148852696416,
           4.55266134033762
          ],
          [
           27.636332248791067,
           13.304654897564236,
           11.263054783802836,
           17.471206555260927,
           7.304299598446942,
           4.026529339413313,
           14.390423889232542,
           4.603498687488139
          ],
          [
           27.584080848146208,
           13.544752615764848,
           11.394219652492792,
           16.826393657680168,
           7.4731391307645305,
           4.169831246584634,
           14.355164254084363,
           4.652418594482472
          ],
          [
           27.52012298874945,
           13.780307728234721,
           11.524975860390802,
           16.201824899091964,
           7.641277491897623,
           4.3142762336571625,
           14.317985152564116,
           4.699229645414169
          ],
          [
           27.445021477626323,
           14.010672142491035,
           11.655391521276025,
           15.597592419476635,
           7.808357802641448,
           4.459649009981972,
           14.279567949307891,
           4.743747677198671
          ],
          [
           27.359227966691495,
           14.235722991151981,
           11.785208261593766,
           15.013846971408146,
           7.974193202863692,
           4.605497635779825,
           14.240037877045433,
           4.78626509346566
          ],
          [
           27.26285575851879,
           14.455376972755408,
           11.914238019653808,
           14.451144978931062,
           8.138611812503994,
           4.751538374774065,
           14.19931022394977,
           4.826923858913106
          ],
          [
           27.156063643577795,
           14.669512592440622,
           12.042333660511467,
           13.909988259647694,
           8.301420130541034,
           4.897511922870182,
           14.157354456811797,
           4.86581533359941
          ],
          [
           27.039098961232533,
           14.87800270740216,
           12.169357549419614,
           13.390763838179753,
           8.462413222996286,
           5.043144404497435,
           14.114185464890651,
           4.903033851381573
          ],
          [
           26.912307377233795,
           15.080706367907274,
           12.295185531014392,
           12.89373067919874,
           8.621372673536863,
           5.188148564235235,
           14.069876780080962,
           4.938672026792741
          ],
          [
           26.776143271232968,
           15.277458409912818,
           12.419711619320735,
           12.419006180570587,
           8.77806406771742,
           5.332225414798835,
           14.02457627731191,
           4.972814759134725
          ],
          [
           26.631180728932023,
           15.468056382460217,
           12.54285350184953,
           11.966552598384663,
           8.932233925319938,
           5.475066425415138,
           13.978524741573503,
           5.005531696064988
          ],
          [
           26.47812512438121,
           15.6522443284164,
           12.664558974793131,
           11.536163618302908,
           9.083605981855602,
           5.616356347272281,
           13.932077742422372,
           5.036867882556098
          ],
          [
           26.317825266927716,
           15.829692863435785,
           12.784813441804292,
           11.127451337591122,
           9.23187670499501,
           5.755776787112678,
           13.88573131850316,
           5.066832279630239
          ],
          [
           26.15128607410206,
           15.99997491404196,
           12.903648626282767,
           10.7398339804396,
           9.376709914239255,
           5.893010656385423,
           13.840152044454783,
           5.095383790054154
          ],
          [
           25.979681715960904,
           16.162536380109973,
           13.021152666734114,
           10.372524736957232,
           9.517730352246351,
           6.027747641932512,
           13.796212131591673,
           5.122414374467237
          ],
          [
           25.80420791498975,
           16.317007478390046,
           13.137360497380666,
           10.02463642643539,
           9.65460267562856,
           6.1596328223801375,
           13.754622678455522,
           5.14792950633993
          ],
          [
           25.625249082308688,
           16.46394984075578,
           13.251977545232872,
           9.696056706335245,
           9.7872835803389,
           6.288292999020029,
           13.714817651286435,
           5.172372594722055
          ],
          [
           25.442994118420614,
           16.60349820174534,
           13.364859583356434,
           9.387012345543381,
           9.915685863340967,
           6.413575531781361,
           13.676545446235004,
           5.1958289095769015
          ],
          [
           25.25772151744903,
           16.735764203450753,
           13.475888566400407,
           9.0975810385587,
           10.039717572196723,
           6.535337094320261,
           13.639627848919133,
           5.218362158704995
          ],
          [
           25.06981021783663,
           16.860868547906637,
           13.58496220937312,
           8.827666066529694,
           10.159287263429972,
           6.65343052768801,
           13.603935952158626,
           5.240039215077313
          ],
          [
           24.8797594964892,
           16.978929204093987,
           13.691998049332733,
           8.576972212896795,
           10.274299588411688,
           6.7677018009014205,
           13.569412036758433,
           5.260927611115742
          ],
          [
           24.688212072330835,
           17.09004619922295,
           13.79693810972982,
           8.344979569048153,
           10.384649550132716,
           6.877986089836861,
           13.536096100493683,
           5.281092309204976
          ],
          [
           24.49598088260787,
           17.194282359728835,
           13.899754244010364,
           8.130915112207685,
           10.490215177478609,
           6.984102805978401,
           13.50415780298324,
           5.300591615004997
          ],
          [
           24.304080057798522,
           17.291639269301026,
           14.000454244262821,
           7.933721939301336,
           10.590848323832962,
           7.085849379980865,
           13.473934705910102,
           5.319472079612369
          ],
          [
           24.11376069157993,
           17.382027599396185,
           14.099088810941845,
           7.75202604382086,
           10.686363251415838,
           7.182993574665728,
           13.445977814948447,
           5.337762213231165
          ],
          [
           23.9265520819898,
           17.465230840244914,
           14.195759491147347,
           7.5841005280808735,
           10.776522610962227,
           7.275264067447333,
           13.421105573745617,
           5.355464806381891
          ],
          [
           23.743354911428213,
           17.541493238996704,
           14.290493161457306,
           7.428774579128836,
           10.86126930899385,
           7.3625561237441435,
           13.399417271855896,
           5.372641404395055
          ],
          [
           23.563754095576066,
           17.61153144830028,
           14.383077679650311,
           7.286407637171632,
           10.940854717467413,
           7.445018886471979,
           13.379938990607966,
           5.38941654475436
          ],
          [
           23.387774293627146,
           17.675575710643702,
           14.473338774269804,
           7.156997846143298,
           11.015411294995491,
           7.5226906892081224,
           13.362375808538438,
           5.405835582574001
          ],
          [
           23.21551172596286,
           17.733877206012163,
           14.561131847420384,
           7.040368042259735,
           11.085078849787768,
           7.595626478670619,
           13.346469650161623,
           5.421936199724852
          ],
          [
           23.04715913213942,
           17.78670062401237,
           14.646351261267798,
           6.936135066725344,
           11.149995933203401,
           7.663894912380938,
           13.332018682904732,
           5.4377443873660045
          ],
          [
           22.88303805490604,
           17.83431251055395,
           14.728941527880325,
           6.843673136425415,
           11.21028815086212,
           7.727573693136261,
           13.3189036455815,
           5.453269280654389
          ],
          [
           22.723637696313812,
           17.876966252884607,
           14.808910463649225,
           6.762072204227382,
           11.26605338299528,
           7.786743300948748,
           13.307119806628595,
           5.468496892352356
          ],
          [
           22.5696614184046,
           17.91488308299007,
           14.886344598972917,
           6.6900906848464246,
           11.317343357559109,
           7.841478810728537,
           13.29681548348263,
           5.483382563015716
          ],
          [
           22.42208211643162,
           17.94822838398722,
           14.961427173389753,
           6.626101847478757,
           11.364140934912061,
           7.891839434788131,
           13.288338190156843,
           5.497841918855616
          ],
          [
           22.28198580637095,
           17.977143532204643,
           15.03442593891288,
           6.568268840749496,
           11.406394097411923,
           7.937916214590071,
           13.2821325956711,
           5.511732974088941
          ],
          [
           22.14884165871683,
           18.002132985691375,
           15.105232220946663,
           6.516651629497017,
           11.444490091221864,
           7.980088005494365,
           13.277562601103458,
           5.52500080732843
          ],
          [
           22.022187051979294,
           18.0235634239293,
           15.1734726436275,
           6.4715626226596195,
           11.47879875557536,
           8.018419465674187,
           13.274121277138038,
           5.537874759416699
          ],
          [
           21.901760931466935,
           18.04174925952423,
           15.238844322323203,
           6.433022222422527,
           11.509638062270016,
           8.052956440139248,
           13.271467550061326,
           5.550561211792515
          ],
          [
           21.787373419869837,
           18.056993126488255,
           15.301143347320094,
           6.400857500399415,
           11.537302161792935,
           8.083806140514792,
           13.269334274596238,
           5.563190029018428
          ],
          [
           21.67894382042132,
           18.069568710658466,
           15.360297966061742,
           6.374654376466902,
           11.562040149624128,
           8.111148285715624,
           13.267560904612155,
           5.575785786439665
          ],
          [
           21.57654710892486,
           18.079699396257222,
           15.416408151696528,
           6.353701526725362,
           11.584029833141937,
           8.135247792704673,
           13.266133025008717,
           5.5882331655406965
          ],
          [
           21.48047035005763,
           18.087532000443538,
           15.469792560069555,
           6.336924792217144,
           11.603345639248065,
           8.156469213301994,
           13.265229869747154,
           5.600235574914922
          ],
          [
           21.391280685113927,
           18.093104758842827,
           15.521044018869496,
           6.322810692042979,
           11.619919674999602,
           8.17529313678548,
           13.26528111404406,
           5.611265919301626
          ],
          [
           21.309503371771296,
           18.096071270385774,
           15.571308576801101,
           6.309878317797587,
           11.633416108929051,
           8.19262274425245,
           13.267066928788322,
           5.620132681274417
          ],
          [
           21.234268950842516,
           18.096481603197272,
           15.620614486776324,
           6.298743346995705,
           11.644080697827443,
           8.208890298641153,
           13.27031925833906,
           5.626601357380517
          ],
          [
           21.164764217433255,
           18.09569765403618,
           15.667039311079304,
           6.29006084422036,
           11.653069935579815,
           8.222979489031957,
           13.273558682386563,
           5.632829866232565
          ],
          [
           21.100320687101622,
           18.094838248661375,
           15.709083711953824,
           6.284232188200165,
           11.661333508371477,
           8.2340422441085,
           13.275619801860797,
           5.640529609742228
          ],
          [
           21.040452107561816,
           18.09459427442745,
           15.74594302783232,
           6.281361005827308,
           11.669474682367738,
           8.241692501258083,
           13.275837583517015,
           5.650644817208265
          ],
          [
           20.984934523983494,
           18.095071187521917,
           15.777747190217177,
           6.281158634043698,
           11.67762052457869,
           8.246161392196788,
           13.274225624343522,
           5.663080923114708
          ],
          [
           20.933903278833494,
           18.09559983165917,
           15.805847990107354,
           6.282831375428889,
           11.685265874890584,
           8.248482837260502,
           13.27168996142575,
           5.676378850394248
          ],
          [
           20.88796973640467,
           18.09451046900747,
           15.83316124280064,
           6.28494667782955,
           11.69108683487532,
           8.25071438117441,
           13.27028412327015,
           5.687326534637785
          ],
          [
           20.84818457160182,
           18.089236879173736,
           15.863997582323536,
           6.28550200425307,
           11.693022769374387,
           8.25582036080004,
           13.273087773952025,
           5.691148058521383
          ],
          [
           20.812870513831825,
           18.08302859795962,
           15.893677379180891,
           6.286044657680305,
           11.693748466969476,
           8.260821663134541,
           13.276560820930776,
           5.693247900312565
          ],
          [
           20.780915286996144,
           18.07785056702354,
           15.919420549386535,
           6.287492672962758,
           11.694894056471524,
           8.26395344160944,
           13.278588365935455,
           5.696885059614605
          ],
          [
           20.752280481854964,
           18.073134895267078,
           15.942258157865036,
           6.289503916071988,
           11.69602817006082,
           8.265939685077164,
           13.279858517586469,
           5.700996176216486
          ]
         ]
        }
       ],
       "layout": {
        "autosize": false,
        "coloraxis": {
         "colorscale": [
          [
           0,
           "#0d0887"
          ],
          [
           0.1111111111111111,
           "#46039f"
          ],
          [
           0.2222222222222222,
           "#7201a8"
          ],
          [
           0.3333333333333333,
           "#9c179e"
          ],
          [
           0.4444444444444444,
           "#bd3786"
          ],
          [
           0.5555555555555556,
           "#d8576b"
          ],
          [
           0.6666666666666666,
           "#ed7953"
          ],
          [
           0.7777777777777778,
           "#fb9f3a"
          ],
          [
           0.8888888888888888,
           "#fdca26"
          ],
          [
           1,
           "#f0f921"
          ]
         ]
        },
        "height": 500,
        "margin": {
         "b": 5,
         "l": 5,
         "r": 5,
         "t": 5
        },
        "showlegend": false,
        "template": {
         "data": {
          "bar": [
           {
            "error_x": {
             "color": "#2a3f5f"
            },
            "error_y": {
             "color": "#2a3f5f"
            },
            "marker": {
             "line": {
              "color": "#E5ECF6",
              "width": 0.5
             },
             "pattern": {
              "fillmode": "overlay",
              "size": 10,
              "solidity": 0.2
             }
            },
            "type": "bar"
           }
          ],
          "barpolar": [
           {
            "marker": {
             "line": {
              "color": "#E5ECF6",
              "width": 0.5
             },
             "pattern": {
              "fillmode": "overlay",
              "size": 10,
              "solidity": 0.2
             }
            },
            "type": "barpolar"
           }
          ],
          "carpet": [
           {
            "aaxis": {
             "endlinecolor": "#2a3f5f",
             "gridcolor": "white",
             "linecolor": "white",
             "minorgridcolor": "white",
             "startlinecolor": "#2a3f5f"
            },
            "baxis": {
             "endlinecolor": "#2a3f5f",
             "gridcolor": "white",
             "linecolor": "white",
             "minorgridcolor": "white",
             "startlinecolor": "#2a3f5f"
            },
            "type": "carpet"
           }
          ],
          "choropleth": [
           {
            "colorbar": {
             "outlinewidth": 0,
             "ticks": ""
            },
            "type": "choropleth"
           }
          ],
          "contour": [
           {
            "colorbar": {
             "outlinewidth": 0,
             "ticks": ""
            },
            "colorscale": [
             [
              0,
              "#0d0887"
             ],
             [
              0.1111111111111111,
              "#46039f"
             ],
             [
              0.2222222222222222,
              "#7201a8"
             ],
             [
              0.3333333333333333,
              "#9c179e"
             ],
             [
              0.4444444444444444,
              "#bd3786"
             ],
             [
              0.5555555555555556,
              "#d8576b"
             ],
             [
              0.6666666666666666,
              "#ed7953"
             ],
             [
              0.7777777777777778,
              "#fb9f3a"
             ],
             [
              0.8888888888888888,
              "#fdca26"
             ],
             [
              1,
              "#f0f921"
             ]
            ],
            "type": "contour"
           }
          ],
          "contourcarpet": [
           {
            "colorbar": {
             "outlinewidth": 0,
             "ticks": ""
            },
            "type": "contourcarpet"
           }
          ],
          "heatmap": [
           {
            "colorbar": {
             "outlinewidth": 0,
             "ticks": ""
            },
            "colorscale": [
             [
              0,
              "#0d0887"
             ],
             [
              0.1111111111111111,
              "#46039f"
             ],
             [
              0.2222222222222222,
              "#7201a8"
             ],
             [
              0.3333333333333333,
              "#9c179e"
             ],
             [
              0.4444444444444444,
              "#bd3786"
             ],
             [
              0.5555555555555556,
              "#d8576b"
             ],
             [
              0.6666666666666666,
              "#ed7953"
             ],
             [
              0.7777777777777778,
              "#fb9f3a"
             ],
             [
              0.8888888888888888,
              "#fdca26"
             ],
             [
              1,
              "#f0f921"
             ]
            ],
            "type": "heatmap"
           }
          ],
          "heatmapgl": [
           {
            "colorbar": {
             "outlinewidth": 0,
             "ticks": ""
            },
            "colorscale": [
             [
              0,
              "#0d0887"
             ],
             [
              0.1111111111111111,
              "#46039f"
             ],
             [
              0.2222222222222222,
              "#7201a8"
             ],
             [
              0.3333333333333333,
              "#9c179e"
             ],
             [
              0.4444444444444444,
              "#bd3786"
             ],
             [
              0.5555555555555556,
              "#d8576b"
             ],
             [
              0.6666666666666666,
              "#ed7953"
             ],
             [
              0.7777777777777778,
              "#fb9f3a"
             ],
             [
              0.8888888888888888,
              "#fdca26"
             ],
             [
              1,
              "#f0f921"
             ]
            ],
            "type": "heatmapgl"
           }
          ],
          "histogram": [
           {
            "marker": {
             "pattern": {
              "fillmode": "overlay",
              "size": 10,
              "solidity": 0.2
             }
            },
            "type": "histogram"
           }
          ],
          "histogram2d": [
           {
            "colorbar": {
             "outlinewidth": 0,
             "ticks": ""
            },
            "colorscale": [
             [
              0,
              "#0d0887"
             ],
             [
              0.1111111111111111,
              "#46039f"
             ],
             [
              0.2222222222222222,
              "#7201a8"
             ],
             [
              0.3333333333333333,
              "#9c179e"
             ],
             [
              0.4444444444444444,
              "#bd3786"
             ],
             [
              0.5555555555555556,
              "#d8576b"
             ],
             [
              0.6666666666666666,
              "#ed7953"
             ],
             [
              0.7777777777777778,
              "#fb9f3a"
             ],
             [
              0.8888888888888888,
              "#fdca26"
             ],
             [
              1,
              "#f0f921"
             ]
            ],
            "type": "histogram2d"
           }
          ],
          "histogram2dcontour": [
           {
            "colorbar": {
             "outlinewidth": 0,
             "ticks": ""
            },
            "colorscale": [
             [
              0,
              "#0d0887"
             ],
             [
              0.1111111111111111,
              "#46039f"
             ],
             [
              0.2222222222222222,
              "#7201a8"
             ],
             [
              0.3333333333333333,
              "#9c179e"
             ],
             [
              0.4444444444444444,
              "#bd3786"
             ],
             [
              0.5555555555555556,
              "#d8576b"
             ],
             [
              0.6666666666666666,
              "#ed7953"
             ],
             [
              0.7777777777777778,
              "#fb9f3a"
             ],
             [
              0.8888888888888888,
              "#fdca26"
             ],
             [
              1,
              "#f0f921"
             ]
            ],
            "type": "histogram2dcontour"
           }
          ],
          "mesh3d": [
           {
            "colorbar": {
             "outlinewidth": 0,
             "ticks": ""
            },
            "type": "mesh3d"
           }
          ],
          "parcoords": [
           {
            "line": {
             "colorbar": {
              "outlinewidth": 0,
              "ticks": ""
             }
            },
            "type": "parcoords"
           }
          ],
          "pie": [
           {
            "automargin": true,
            "type": "pie"
           }
          ],
          "scatter": [
           {
            "fillpattern": {
             "fillmode": "overlay",
             "size": 10,
             "solidity": 0.2
            },
            "type": "scatter"
           }
          ],
          "scatter3d": [
           {
            "line": {
             "colorbar": {
              "outlinewidth": 0,
              "ticks": ""
             }
            },
            "marker": {
             "colorbar": {
              "outlinewidth": 0,
              "ticks": ""
             }
            },
            "type": "scatter3d"
           }
          ],
          "scattercarpet": [
           {
            "marker": {
             "colorbar": {
              "outlinewidth": 0,
              "ticks": ""
             }
            },
            "type": "scattercarpet"
           }
          ],
          "scattergeo": [
           {
            "marker": {
             "colorbar": {
              "outlinewidth": 0,
              "ticks": ""
             }
            },
            "type": "scattergeo"
           }
          ],
          "scattergl": [
           {
            "marker": {
             "colorbar": {
              "outlinewidth": 0,
              "ticks": ""
             }
            },
            "type": "scattergl"
           }
          ],
          "scattermapbox": [
           {
            "marker": {
             "colorbar": {
              "outlinewidth": 0,
              "ticks": ""
             }
            },
            "type": "scattermapbox"
           }
          ],
          "scatterpolar": [
           {
            "marker": {
             "colorbar": {
              "outlinewidth": 0,
              "ticks": ""
             }
            },
            "type": "scatterpolar"
           }
          ],
          "scatterpolargl": [
           {
            "marker": {
             "colorbar": {
              "outlinewidth": 0,
              "ticks": ""
             }
            },
            "type": "scatterpolargl"
           }
          ],
          "scatterternary": [
           {
            "marker": {
             "colorbar": {
              "outlinewidth": 0,
              "ticks": ""
             }
            },
            "type": "scatterternary"
           }
          ],
          "surface": [
           {
            "colorbar": {
             "outlinewidth": 0,
             "ticks": ""
            },
            "colorscale": [
             [
              0,
              "#0d0887"
             ],
             [
              0.1111111111111111,
              "#46039f"
             ],
             [
              0.2222222222222222,
              "#7201a8"
             ],
             [
              0.3333333333333333,
              "#9c179e"
             ],
             [
              0.4444444444444444,
              "#bd3786"
             ],
             [
              0.5555555555555556,
              "#d8576b"
             ],
             [
              0.6666666666666666,
              "#ed7953"
             ],
             [
              0.7777777777777778,
              "#fb9f3a"
             ],
             [
              0.8888888888888888,
              "#fdca26"
             ],
             [
              1,
              "#f0f921"
             ]
            ],
            "type": "surface"
           }
          ],
          "table": [
           {
            "cells": {
             "fill": {
              "color": "#EBF0F8"
             },
             "line": {
              "color": "white"
             }
            },
            "header": {
             "fill": {
              "color": "#C8D4E3"
             },
             "line": {
              "color": "white"
             }
            },
            "type": "table"
           }
          ]
         },
         "layout": {
          "annotationdefaults": {
           "arrowcolor": "#2a3f5f",
           "arrowhead": 0,
           "arrowwidth": 1
          },
          "autotypenumbers": "strict",
          "coloraxis": {
           "colorbar": {
            "outlinewidth": 0,
            "ticks": ""
           }
          },
          "colorscale": {
           "diverging": [
            [
             0,
             "#8e0152"
            ],
            [
             0.1,
             "#c51b7d"
            ],
            [
             0.2,
             "#de77ae"
            ],
            [
             0.3,
             "#f1b6da"
            ],
            [
             0.4,
             "#fde0ef"
            ],
            [
             0.5,
             "#f7f7f7"
            ],
            [
             0.6,
             "#e6f5d0"
            ],
            [
             0.7,
             "#b8e186"
            ],
            [
             0.8,
             "#7fbc41"
            ],
            [
             0.9,
             "#4d9221"
            ],
            [
             1,
             "#276419"
            ]
           ],
           "sequential": [
            [
             0,
             "#0d0887"
            ],
            [
             0.1111111111111111,
             "#46039f"
            ],
            [
             0.2222222222222222,
             "#7201a8"
            ],
            [
             0.3333333333333333,
             "#9c179e"
            ],
            [
             0.4444444444444444,
             "#bd3786"
            ],
            [
             0.5555555555555556,
             "#d8576b"
            ],
            [
             0.6666666666666666,
             "#ed7953"
            ],
            [
             0.7777777777777778,
             "#fb9f3a"
            ],
            [
             0.8888888888888888,
             "#fdca26"
            ],
            [
             1,
             "#f0f921"
            ]
           ],
           "sequentialminus": [
            [
             0,
             "#0d0887"
            ],
            [
             0.1111111111111111,
             "#46039f"
            ],
            [
             0.2222222222222222,
             "#7201a8"
            ],
            [
             0.3333333333333333,
             "#9c179e"
            ],
            [
             0.4444444444444444,
             "#bd3786"
            ],
            [
             0.5555555555555556,
             "#d8576b"
            ],
            [
             0.6666666666666666,
             "#ed7953"
            ],
            [
             0.7777777777777778,
             "#fb9f3a"
            ],
            [
             0.8888888888888888,
             "#fdca26"
            ],
            [
             1,
             "#f0f921"
            ]
           ]
          },
          "colorway": [
           "#636efa",
           "#EF553B",
           "#00cc96",
           "#ab63fa",
           "#FFA15A",
           "#19d3f3",
           "#FF6692",
           "#B6E880",
           "#FF97FF",
           "#FECB52"
          ],
          "font": {
           "color": "#2a3f5f"
          },
          "geo": {
           "bgcolor": "white",
           "lakecolor": "white",
           "landcolor": "#E5ECF6",
           "showlakes": true,
           "showland": true,
           "subunitcolor": "white"
          },
          "hoverlabel": {
           "align": "left"
          },
          "hovermode": "closest",
          "mapbox": {
           "style": "light"
          },
          "paper_bgcolor": "white",
          "plot_bgcolor": "#E5ECF6",
          "polar": {
           "angularaxis": {
            "gridcolor": "white",
            "linecolor": "white",
            "ticks": ""
           },
           "bgcolor": "#E5ECF6",
           "radialaxis": {
            "gridcolor": "white",
            "linecolor": "white",
            "ticks": ""
           }
          },
          "scene": {
           "xaxis": {
            "backgroundcolor": "#E5ECF6",
            "gridcolor": "white",
            "gridwidth": 2,
            "linecolor": "white",
            "showbackground": true,
            "ticks": "",
            "zerolinecolor": "white"
           },
           "yaxis": {
            "backgroundcolor": "#E5ECF6",
            "gridcolor": "white",
            "gridwidth": 2,
            "linecolor": "white",
            "showbackground": true,
            "ticks": "",
            "zerolinecolor": "white"
           },
           "zaxis": {
            "backgroundcolor": "#E5ECF6",
            "gridcolor": "white",
            "gridwidth": 2,
            "linecolor": "white",
            "showbackground": true,
            "ticks": "",
            "zerolinecolor": "white"
           }
          },
          "shapedefaults": {
           "line": {
            "color": "#2a3f5f"
           }
          },
          "ternary": {
           "aaxis": {
            "gridcolor": "white",
            "linecolor": "white",
            "ticks": ""
           },
           "baxis": {
            "gridcolor": "white",
            "linecolor": "white",
            "ticks": ""
           },
           "bgcolor": "#E5ECF6",
           "caxis": {
            "gridcolor": "white",
            "linecolor": "white",
            "ticks": ""
           }
          },
          "title": {
           "x": 0.05
          },
          "xaxis": {
           "automargin": true,
           "gridcolor": "white",
           "linecolor": "white",
           "ticks": "",
           "title": {
            "standoff": 15
           },
           "zerolinecolor": "white",
           "zerolinewidth": 2
          },
          "yaxis": {
           "automargin": true,
           "gridcolor": "white",
           "linecolor": "white",
           "ticks": "",
           "title": {
            "standoff": 15
           },
           "zerolinecolor": "white",
           "zerolinewidth": 2
          }
         }
        },
        "width": 500,
        "xaxis": {
         "anchor": "y",
         "autorange": true,
         "constrain": "domain",
         "domain": [
          0,
          1
         ],
         "range": [
          -0.5,
          7.5
         ],
         "scaleanchor": "y",
         "type": "category"
        },
        "yaxis": {
         "anchor": "x",
         "autorange": true,
         "constrain": "domain",
         "domain": [
          0,
          1
         ],
         "range": [
          10136533.19228691,
          9.859633880845674
         ],
         "title": {
          "text": "time"
         },
         "type": "linear"
        }
       }
      },
      "image/png": "[encoded data removed]",
      "text/html": [
       "<div>                            <div id=\"568210ca-1daa-4663-b8ef-c083970a72d2\" class=\"plotly-graph-div\" style=\"height:500px; width:500px;\"></div>            <script type=\"text/javascript\">                require([\"plotly\"], function(Plotly) {                    window.PLOTLYENV=window.PLOTLYENV || {};                                    if (document.getElementById(\"568210ca-1daa-4663-b8ef-c083970a72d2\")) {                    Plotly.newPlot(                        \"568210ca-1daa-4663-b8ef-c083970a72d2\",                        [{\"coloraxis\":\"coloraxis\",\"name\":\"0\",\"x\":[\"All\",\"Alt\",\"Gal\",\"Glc\",\"Gul\",\"Ido\",\"Man\",\"Tal\"],\"y\":[10.0,10.280732238308653,10.569345535579883,10.866061138545975,11.171106505048241,11.484715478402896,11.807128466661903,12.138592626906282,12.479362054713114,12.829697978941475,13.189868961986699,13.560151105656333,13.940828262825779,14.33219225503574,14.734543096198351,15.148189222583458,15.573447729261343,16.010644613183178,16.460115023085507,16.922203516410374,17.397264323438016,17.885661618834618,18.38776980082328,18.903973778192213,19.434669265360213,19.980263085725507,20.541173483530642,21.117830444482443,21.71067602537265,22.320164692952346,22.94676367231936,23.59095330508635,24.25322741760353,24.93409369951879,25.63407409296515,26.353705192673946,27.093538657320515,27.854141632417676,28.63609718508116,29.44000475100035,30.26648059395692,31.116158278243613,31.989689154345378,32.8877428582551,33.81100782480685,34.76019181541977,35.736022460657885,36.73924781802074,37.77063694539368,38.83098049059605,39.92109129748054,41.04180502904709,42.19398080805026,43.37850187558989,44.596276268190934,45.84823751389096,47.1353453478691,48.45858644816496,49.818975192051624,51.21755443364241,52.65539630332756,54.13360302965381,55.65330778427646,57.21567555063252,58.82190401699956,60.47322449462649,62.17090286163827,63.91624053344005,65.7105754603627,67.55528315331642,69.45177773823696,71.40151304013399,73.40598369757213,75.46672630843891,77.58532060787836,79.76339067929277,82.0026061993413,84.30468371788972,86.67138797389234,89.10453324821513,91.60598475443709,94.17766006869519,96.82153059967087,99.53962309984233,102.33402121916423,105.20686710236228,108.16036303107094,111.19677311206989,114.31842501291503,117.52771174629451,120.82709350447759,124.21909954526174,127.70633013086447,131.29145852124654,134.97723302339418,138.76647909813084,142.66210152607383,146.66708663439687,150.7845045861051,155.01751173357704,159.36935303817762,163.84336455779848,168.44297600423153,173.1717133723353,178.03320164301138,183.0311675620613,188.16944249705557,193.45196537440444,198.88278569888098,204.46606665791177,210.20608831301584,216.10725088083765,222.17407810628848,228.41122073038255,234.82346005542763,241.41571161030177,248.19302891862552,255.16060737271863,262.3237882163124,269.68806263906924,277.2590759860481,285.0426320853435,293.0446976972144,301.2714070881164,309.72906673314066,318.4241601504653,327.36335287152474,336.55349755070944,346.0016392185109,355.7150206821386,365.7010880777493,375.96749657854673,386.5221162631262,397.37303814856085,408.52858039285655,419.9972946715306,431.78797273320214,443.9096531392171,456.37162819247584,469.1834510607799,482.3549431001467,495.8962013837212,509.81760644204246,524.1298302206062,538.8438442608224,553.97092811064,569.5226779712825,585.5110155867244,601.9481973827275,618.8468238624383,636.2198492657488,654.0805914998259,672.442742348425,691.3203779678128,710.7279696773419,730.6803950529508,751.1929493320969,772.2813571388642,793.9617845382276,816.2508514287229,839.1656442830161,862.723729246145,886.9431656014705,911.8425196146571,937.4408787663,963.7578663841089,990.8136566858666,1018.6289902446875,1047.2251898884344,1076.6241770454933,1106.848488549412,1137.9212939153151,1169.866413101307,1202.708334768512,1236.472235053715,1271.1839968690288,1306.8702297433463,1343.5582902208262,1381.2763028320094,1420.0531816536832,1459.9186524739787,1500.9032755797366,1543.0384691835645,1586.3565335085896,1630.8906755493326,1676.6750345276992,1723.7447080636198,1772.1357790803584,1821.8853434651671,1873.0315385064366,1925.6135721291987,1979.6717529513326,2035.2475211835779,2092.383480396977,2151.1234301821673,2211.5123997254886,2273.5966823277176,2337.423870891815,2403.0428944069695,2470.5040554568254,2539.8590687807264,2611.1611009174594,2684.4648109619625,2759.8263924661806,2837.3036165162116,2916.955876018796,2998.8442312310276,3083.031456568277,3169.582088726115,3258.5624761532263,3350.0408299131327,3444.0872759738236,3540.7739089652696,3640.1748474461415,3742.366290721981,3847.426577258506,3955.4362447347016,4066.478091781858,4180.637241455758,4298.001206490799,4418.659956385942,4542.705986374043,4670.234388327335,4801.34292365345,4936.132098237917,5074.705239490466,5217.168575554349,5363.63131673924,5514.205739240302,5669.007271207434,5828.154581230846,5991.769669310619,6159.977960380169,6332.908400455115,6510.693555481461,6693.469712958661,6881.37698641567,7074.559422819879,7273.165113001454,7477.346305177588,7687.259521663728,7903.065678861348,8124.930210614048,8353.023195026779,8587.51948484517,8828.59884149515,9076.446072885357,9331.25117507825,9593.20947793824,9862.521794868784,10139.394576752917,10424.040070215578,10716.676480328644,11017.528137883874,11326.825671361537,11644.806183726854,11971.713434189656,12307.798025066633,12653.31759388943,13008.537010905706,13373.728582124977,13749.172258064205,14135.155848353957,14531.975242368953,14939.934636052561,15359.346765108954,15790.533144741757,16233.824316122782,16689.560099780265,17158.089856100065,17639.772753140453,18134.978041964954,18644.085339704852,19167.48492056813,19705.578015018003,20258.77711735017,20827.506301905145,21412.201548157314,22013.311074930323,22631.295683995297,23266.62911331458,23919.798400202373,24591.304254680414,25281.661443315006,25991.39918382933,26721.06155079438,27471.207892708146,28242.413260784357,29035.26884977814,29850.382451187295,30688.37891917639,31549.900649580886,32435.608072358114,33346.18015786363,34282.31493733974,35244.73003801588,36234.1632332315,37251.3730080021,38297.13914046277,39372.26329963475,40477.569659973225,41613.90553316707,42782.14201767622,43983.17466650228,45217.92417370702,46487.33708020257,47792.38649935595,49134.07286296357,50513.424688167666,51931.49936590212,53389.38397147361,54888.19609789677,56429.08471262542,58013.23103833378,59641.8494584246,61316.18844795769,63037.53153071269,64807.19826311971,66626.5452458115,68496.96716357453,70419.89785449296,72396.81140910876,74429.22330043757,76518.69154570818,78666.81790071575,80875.24908770458,83145.67805772064,85479.84528840422,87879.54011821328,90346.60211810534,92882.92250172498,95490.44557518078,98171.17022752183,100927.15146305718,103760.50197669117,106673.3937734857,109668.05983368674,112746.79582449472,115911.96185988857,119165.98430985588,122511.35766041177,125950.64642583589,129486.48711459049,133121.59025043077,136858.74245025177,140700.80856026863,144650.7338521647,148711.5462808954,152886.35880587294,157178.37177731612,161590.8753895919,166127.2522034293,170790.9797389427,175585.6331414467,180514.887922111,185582.5227755519,190792.4224765265,196148.58085794293,201655.10387247487,207316.21274012313,213136.24718414375,219119.66875781474,225271.06426459827,231595.14927431545,238096.77173803584,244780.91570444402,251652.7051405389,258717.40785959238,265980.43955937587,273447.36797375797,281123.91714084614,289015.97179095115,297129.5818577334,305470.9671159968,314046.5219496749,322862.82025367336,331926.62047331897,341244.8707852889,350824.7144239789,360673.4951574032,370798.7629168173,381208.2795843888,391910.0249433402,402912.2027951352,414223.2472483898,425851.8291843415,437806.8629038166,450097.5129608042,462733.20118786936,475723.61391878896,489078.709413959,502808.7254942475,516924.1873891604,531435.9158053241,546355.0352214876,561692.9824163804,577461.5152359826,593672.7216069127,610339.0288028622,627473.2129711575,645088.40892677,663198.1202212676,681816.2294944479,700957.0091165617,720635.1321293045,740865.6834939568,761664.1716552892,783046.5404301183,805029.1812295973,827628.9456246352,850863.1582640582,874749.6301554416,899306.6723187614,924553.109823358,950508.2962189511,977192.1283717996,1004625.0617173403,1032828.1259410296,1061822.9410993846,1091631.7341936147,1122277.3562085072,1153783.2996296596,1186173.7164524791,1219473.4366967382,1253707.9874409197,1288903.6123908916,1325087.2919979538,1362286.764141647,1400530.5453932197,1439847.9528760065,1480269.12673951,1521825.053264387,1564547.5886160957,1608469.4832653552,1653624.4070941822,1700046.975206718,1747772.7744646808,1796838.3907677194,1847281.437099636,1899140.5823619356,1952455.581016861,2007267.3035625683,2063617.7678638566,2121550.171362452,2181108.92419152,2242339.683219845,2305289.387051706,2370006.2920093304,2436540.009125466,2504941.5421745023,2575263.326771199,2647559.2705670693,2721884.7945751795,2798296.875655116,2876854.0901905913,2957616.6589932567,3040646.4934670688,3126007.2430687035,3213764.3441002755,3303985.069871855,3396738.5822722097,3492095.9847872714,3590130.3770070686,3690916.9106627745,3794532.847236942,3901057.6171909934,4010572.880855496,4123162.5910297483,4238913.0573387835,4357913.012397029,4480253.679829489,4606028.844202398,4735334.922917121,4868271.040122284,5004939.102700953,5145443.878390924,5289893.076098146,5438397.428464801,5591070.776755293,5748030.158125351,5909395.895340965,6075291.689016078,6245844.712439618,6421185.709064758,6601449.092734883,6786773.050723302,6977299.649665538,7173174.944465613,7374549.090259546,7581576.4575221175,7794415.750404951,8013230.128396886,8238187.331399601,8469459.808314594,8707224.849239921,8951664.721378302,9202966.80876041,9461323.75589076,9726933.615426179,10000000.0],\"z\":[[0.00046577771415825983,1.4679156116500974e-09,0.0001368367961535498,99.99907422733786,6.593791944189286e-10,2.85385077952731e-15,0.00032315520960163834,8.149278746619083e-10],[0.0004788535008956309,1.5514903280591065e-09,0.00014067821366417092,99.99904823804987,6.969204858366824e-10,3.1010107898011413e-15,0.0003322271258256742,8.613251334300352e-10],[0.0004922963616957111,1.6398232986814148e-09,0.00014462747029825998,99.99902151916648,7.365991593159357e-10,3.3695762608773337e-15,0.0003415537147290065,9.10363973780821e-10],[0.0005061166012019502,1.7331854295691437e-09,0.00014868759334233264,99.99899405020604,7.785369044852364e-10,3.6614010239653645e-15,0.000351142125495552,9.621947907625222e-10],[0.0005203248133247742,1.8318630504273702e-09,0.00015286169506259915,99.99896581011193,8.228623392082582e-10,3.978499461920059e-15,0.0003609997079928322,1.016976541906074e-09],[0.0005349318893612411,1.9361587927302236e-09,0.00015715297509027732,99.99893677723638,8.697114040302879e-10,4.323060413823401e-15,0.0003711340184048397,1.0748772347095712e-09],[0.000549949026342584,2.0463925178301506e-09,0.0001615647228738489,99.99890692932406,9.192277790815243e-10,4.697462283767927e-15,0.00038155282502298126,1.136074441876015e-09],[0.000565387735616037,2.162902297906539e-09,0.00016610032020013824,99.99887624349476,9.715633247156878e-10,5.10428945813063e-15,0.0003922641141995334,1.2007558458843263e-09],[0.0005812598516675157,2.286045452761888e-09,0.00017076324378614426,99.99884469622603,1.0268785472352237e-09,5.546350144657962e-15,0.0004032760964681689,1.2691198145635627e-09],[0.000597577541191913,2.416199645644983e-09,0.00017555706794361033,99.9988122633351,1.0853430911313027e-09,6.026695756496528e-15,0.00041459721283624055,1.3413760094353452e-09],[0.000614353312417956,2.5537640414615387e-09,0.00018048546731837324,99.99877891996037,1.1471362593481539e-09,6.5486419749680025e-15,0.0004262361412536425,1.4177460286899888e-09],[0.000631600024694764,2.6991605309240543e-09,0.00018555221970658814,99.99874464054226,1.2124475631671492e-09,7.115791636473908e-15,0.000438201803263197,1.4984640867679872e-09],[0.0006493308983474572,2.8528350243948714e-09,0.0001907612089499881,99.99870939880377,1.2814773033969627e-09,7.732059601507203e-15,0.0004505033708376662,1.583777732630817e-09],[0.0006675595248093557,3.015258819390089e-09,0.0001961164279123931,99.99867316773022,1.3544371846520466e-09,8.40169977742841e-15,0.000463150273408616,1.6739486089235713e-09],[0.0006862998770385356,3.1869300459378735e-09,0.00020162198153975006,99.99863591954859,1.431550964603188e-09,9.129334481530541e-15,0.00047615220509251933,1.7692532543573892e-09],[0.0007055663202267173,3.368375194223461e-09,0.00020728209000604478,99.99859762570622,1.5130551401911224e-09,9.919986347070227e-15,0.000489519132119627,1.869983951772116e-09],[0.0007253736228086879,3.5601507292054166e-09,0.0002131010919474973,99.99855825684897,1.5991996729075219e-09,1.0779112992495211e-14,0.0005032613004712954,1.976449624479731e-09],[0.0007457369677806871,3.7628447971544645e-09,0.00021908344778751485,99.99851778279863,1.6902487553674909e-09,1.1712644693170697e-14,0.0005173892437316173,2.088976783637092e-09],[0.0007666719643364275,3.977079029347996e-09,0.00022523374315494958,99.99847617252986,1.786481621524291e-09,1.2727025315631273e-14,0.0005319137911593651,2.2079105295530095e-09],[0.0007881946598296589,4.2035104484513486e-09,0.0002315566923982778,99.99843339414646,1.8881934030108664e-09,1.382925679690429e-14,0.0005468460759864274,2.3336156100000576e-09],[0.0008103215520724344,4.442833483431755e-09,0.00023805714219839126,99.99838941485677,1.9956960342341625e-09,1.5026947475919412e-14,0.0005621975439490883,2.4664775387762766e-09],[0.0008330696019785003,4.695782099183681e-09,0.00024474007528276686,99.99834420094867,2.1093192089977275e-09,1.632836461060758e-14,0.0005779799620586815,2.6069037779466793e-09],[0.0008564562465614861,4.9631320473960034e-09,0.0002516106142438575,99.99829771776369,2.229411391586091e-09,1.774249144318314e-14,0.0005942054276183302,2.7553249873896956e-09],[0.0008804994122978502,5.24570324556324e-09,0.0002586740254646278,99.9982499296705,2.35634088541141e-09,1.92790892074957e-14,0.0006108863774926748,2.9121963454800763e-09],[0.0009052175288648152,5.544362291435959e-09,0.00026593572315423985,99.99820080003747,2.490496962499374e-09,2.0948764506449796e-14,0.000628035597637683,3.0779989449578585e-09],[0.0009306295432638007,5.8600251206207406e-09,0.0002734012734969777,99.99815029120477,2.6322910572778917e-09,2.2763042524555476e-14,0.0006456662328978323,3.253241268263504e-09],[0.0009567549343401832,6.193659815479091e-09,0.00028107639891758674,99.99809836445536,2.7821580283292924e-09,2.4734446580948706e-14,0.0006637917970781656,3.4384607468630196e-09],[0.000983613727710484,6.546289573938519e-09,0.00028896698246629315,99.99804497998542,2.940557491975126e-09,2.68765845719834e-14,0.0006824261832989255,3.6342254093442987e-09],[0.0010112265111084176,6.918995847319217e-09,0.000297079072326858,99.99799009687379,3.107975231782875e-09,2.920424290004923e-14,0.0007015836746406863,3.841135623338087e-09],[0.0010396144501615562,7.31292165679841e-09,0.0003054188864511202,99.9979336730506,3.284924688316819e-09,3.173348853694282e-14,0.0007212789550881388,4.05982593660479e-09],[0.0010687993046106718,7.729275098681455e-09,0.00031399281732356833,99.99787566526507,3.4719485337010803e-09,3.448177992626165e-14,0.0007415271207808851,4.290967022932035e-09],[0.0010988034449841918,8.169333049228556e-09,0.0003228074368595968,99.99781602905232,3.6696203358232626e-09,3.746808749030353e-14,0.0007623436915798687,4.535267738809672e-09],[0.0011296498697405048,8.634445080396833e-09,0.0003318695014411857,99.99775471869935,3.878546317281554e-09,4.071302457323951e-14,0.0007837446229582688,4.793477297188022e-09],[0.0011613622228912647,9.12603759850511e-09,0.00034118595709386394,99.99769168720995,4.099367214469047e-09,4.4238989724366296e-14,0.0008057463182259721,5.066387564984599e-09],[0.0011939648121191645,9.645618218511496e-09,0.0003507639448089138,99.9976268862687,4.332760242495733e-09,4.80703213035093e-14,0.0008283656410969602,5.354835491383547e-09],[0.001227482627404047,1.0194780387316668e-08,0.00036061080601489115,99.99756026620399,4.579441171973336e-09,5.223346547569836e-14,0.0008516199286092303,5.6597056743731956e-09],[0.001261941360171618,1.0775208270269131e-08,0.00037073408820264566,99.99749177594985,4.840166524031056e-09,5.675715875465056e-14,0.0008755270044071304,5.981933073390893e-09],[0.001297367422979401,1.1388681915855624e-08,0.0003811415507081454,99.99742136300692,5.115735890292716e-09,6.167262635500923e-14,0.0009001051923962614,6.322505876392079e-09],[0.001333787969755009,1.203708271441285e-08,0.0003918411706575301,99.9973489734022,5.406994384929104e-09,6.70137977224024e-14,0.0009253733307813973,6.682468530134143e-09],[0.0013712309166022158,1.2722399167597982e-08,0.00040284114907893965,99.99727455164759,5.7148352363040586e-09,7.281754072894166e-14,0.0009513507864981454,7.062924942965741e-09],[0.0014097249631907411,1.344673298630835e-08,0.0004141499171857948,99.99719804069751,6.040202526160921e-09,7.91239161506125e-14,0.000978057470049392,7.465041869941244e-09],[0.0014492996147461277,1.4212305535747436e-08,0.0004257761428363334,99.99711938190512,6.384094084748332e-09,8.597645418298958e-14,0.0010055138507578693,7.890052490638752e-09],[0.0014899852046565238,1.5021464647398708e-08,0.00043772873717434535,99.99703851497735,6.747564550762366e-09,9.342245490381625e-14,0.001033740972446506,8.339260190650923e-09],[0.001531812917713661,1.5876691818793667e-08,0.00045001686145618213,99.9969553779287,7.131728605487342e-09,1.0151331475626626e-13,0.0010627604695585468,8.81404255834211e-09],[0.0015748148140058318,1.678060982314935e-08,0.00046264993406926533,99.99686990703385,7.537764391051749e-09,1.1030488130629666e-13,0.0010925945837297673,9.315855609125284e-09],[0.001619023853481102,1.773599075220679e-08,0.00047563763774745527,99.99678203677868,7.96691712327999e-09,1.1985783872263845e-13,0.001123266180825436,9.846238250209361e-09],[0.0016644739211995974,1.874576451693074e-08,0.000488989926988806,99.99669169981014,8.420502910217598e-09,1.3023812664002283e-13,0.001154798768455067,1.0406816999505169e-08],[0.0017111998532941194,1.98130278321332e-08,0.0005027170356813644,99.99659882688465,8.899912788037531e-09,1.4151739529662716e-13,0.001187216513978319,1.0999310973156483e-08],[0.001759237463659014,2.0941053712568666e-08,0.0005168294849428607,99.99650334681502,9.406616986702327e-09,1.537735000871005e-13,0.0012205442630158275,1.1625537156987072e-08],[0.0018086235713876252,2.213330150961484e-08,0.0005313380911802649,99.99640518641591,9.942169438460355e-09,1.6709103894453817e-13,0.0012548075584790837,1.228741597802357e-08],[0.001859396028979394,2.339342751931181e-08,0.0005462539743753867,99.99630427044771,1.0508212542999795e-08,1.8156193626039162e-13,0.0012900326601339282,1.298697719317516e-08],[0.0019115937513380968,2.4725296194282034e-08,0.000561588566602837,99.996200521559,1.1106482203869735e-08,1.9728607737246006e-13,0.0013262465647125704,1.3726366113121666e-08],[0.001965256745583467,2.6132991993906942e-08,0.0005773536207868755,99.99609386022716,1.17388131516105e-08,2.1437199800014054e-13,0.0013634770265895314,1.4507850180490568e-08],[0.0020204261416989187,2.762083190908988e-08,0.0005935612197038213,99.99598420469754,1.240714456991296e-08,2.329376333853019e-13,0.001401752579037266,1.5333825922487682e-08],[0.0020771442240388677,2.9193378700005313e-08,0.0006102237852369183,99.99587147092066,1.3113526042056654e-08,2.531111323092396e-13,0.0014411025560777187,1.620682629929537e-08],[0.0021354544637196865,3.085545488741816e-08,0.0006273540878907197,99.99575557248805,1.3860123835857538e-08,2.750317416038864e-13,0.00148155711494649,1.712952847076396e-08],[0.002195401551919079,3.2612157540467545e-08,0.0006449652565722628,99.99563642056589,1.4649227546394187e-08,2.9885076726198066e-13,0.0015231472591867655,1.8104762005204663e-08],[0.002257031434109313,3.446887390625039e-08,0.0006630707886465029,99.99551392382688,1.5483257116877778e-08,3.2473261877952467e-13,0.0015659048623906321,1.9135517555446605e-08],[0.002320391345250474,3.6431297929120845e-08,0.0006816845602736954,99.99538798838049,1.6364770259190594e-08,3.528559439382959e-13,0.0016098626926059141,2.0224956028753255e-08],[0.00238552984597064,3.850544771034815e-08,0.0007008208370366102,99.99525851770085,1.7296470296842384e-08,3.8341486186031626e-13,0.001655054437427139,2.1376418278706033e-08],[0.002452496859760605,4.0697683961657714e-08,0.000720494284865702,99.99512541255285,1.8281214454389133e-08,4.166203028443987e-13,0.0017015147297897992,2.2593435348763244e-08],[0.0025213437112116036,4.301472950922735e-08,0.0007407199812705796,99.99498857091609,1.9322022618727114e-08,4.5270146423182183e-13,0.0017492791744875805,2.3879739298892565e-08],[0.002592123165325192,4.5463689907928084e-08,0.0007615134268863408,99.99484788790681,2.0422086599121e-08,4.919073923489058e-13,0.0017983843754327755,2.523927464846185e-08],[0.002664889467925382,4.8052075229005065e-08,0.0007828905573436019,99.99470325569746,2.158477991435449e-08,5.345087014443816e-13,0.001848867963680713,2.6676210470462167e-08],[0.0027396983872038276,5.078782308798569e-08,0.0008048677554712661,99.99455456343406,2.2813668137005884e-08,5.807994414847969e-13,0.0019007686262395252,2.8194953174131158e-08],[0.0028166072564298557,5.3679322983409147e-08,0.0008274618638413637,99.9944016971514,2.4112519826560595e-08,6.310991276985714e-13,0.001954126135687278,2.9800160015156493e-08],[0.0028956750178578843,5.6735442020981536e-08,0.0008506901976655154,99.99424453968567,2.5485318084874943e-08,6.857549458754379e-13,0.0020089813806189916,3.149675337486528e-08],[0.002976962267865845,5.996555210201456e-08,0.0008745705580528854,99.99408297058463,2.693627276941561e-08,7.451441486410118e-13,0.0020653763969468177,3.328993585216523e-08],[0.003060531303358972,6.33795586594848e-08,0.0008991212456397116,99.99391686601551,2.8469833401711873e-08,8.096766592439989e-13,0.0021233544000771754,3.518520621448898e-08],[0.0031464461694744638,6.69879310298016e-08,0.0009243610746008392,99.99374609867004,3.0090702810591934e-08,8.797979008257171e-13,0.0021829598179894283,3.718837625662955e-08],[0.003234772708623381,7.080173455337598e-08,0.0009503093870539197,99.99357053766695,3.1803851552022847e-08,9.559918706974757e-13,0.0022442383252412423,3.9305588619131774e-08],[0.0033255786109072268,7.483266450238771e-08,0.0009769860678672771,99.99339004845172,3.361453314975637e-08,1.038784480842217e-12,0.0023072368779265963,4.154333562084754e-08],[0.0034189334659476844,7.90930819397414e-08,0.0010044115598827274,99.99320449269356,3.552830020349661e-08,1.1287471876938761e-12,0.002372003749613022,4.3908479163367664e-08],[0.003514908816169053,8.359605161912337e-08,0.0010326068795649575,99.9930137281794,3.7551021413964596e-08,1.2265009362441668e-12,0.002438588568285476,4.640827176832739e-08],[0.0036135782115740314,8.835538204232358e-08,0.0010615936330893938,99.99281760870502,3.968889957704424e-08,1.33272044569552e-12,0.002507042354324957,4.9050378812052366e-08],[0.0037150172660546377,9.338566779659682e-08,0.0010913940328808236,99.99261598396302,4.194849060216367e-08,1.4481388662357582e-12,0.0025774175595507888,5.1842902025680006e-08],[0.0038193037152812036,9.870233430182451e-08,0.0011220309146153695,99.9924086994277,4.433672361320444e-08,1.573552839070993e-12,0.0026497681073562825,5.479440433276679e-08],[0.003926517476213603,1.0432168510462041e-07,0.0011535277546987782,99.99219559623687,4.6860922193548134e-08,1.7098279946358879e-12,0.0027241494339683226,5.7913936100489075e-08],[0.004036740708280074,1.102609518643212e-07,0.0011859086882343303,99.99197651106992,4.9528826840372135e-08,1.8579049304103622e-12,0.002800618530862276,6.121106288486698e-08],[0.004150057876270287,1.1653834718407087e-07,0.0012191985274940616,99.991751276023,5.2348618697021856e-08,2.0188057015092757e-12,0.002879233988364464,6.469589475504061e-08],[0.004266555814990605,1.2317312044891388e-07,0.0012534227809073693,99.99151971848025,5.5328944636197494e-08,2.1936408668139654e-12,0.0029600560404754095,6.837911728645075e-08],[0.004386323795730767,1.3018561684198154e-07,0.001288607672581438,99.99128166098177,5.8478943770811366e-08,2.383617158850992e-12,0.003043146610947853,7.227202431784363e-08],[0.004509453594592725,1.3759733971966746e-07,0.0013247801623683829,99.99103692108763,6.18082754737824e-08,2.590045812224202e-12,0.003128569360654679,7.63865525724987e-08],[0.004636039562733584,1.454310165369244e-07,0.001361967966494338,99.99078531123818,6.532714899263127e-08,2.8143516131594093e-12,0.0032163897362826347,8.073531824973527e-08],[0.004766178698576278,1.5371066852471336e-07,0.0014001995787662365,99.99052663861053,6.904635474963667e-08,3.0580827326812086e-12,0.0033066750203889416,8.533165569880416e-08],[0.004899970722042824,1.6246168433311112e-07,0.0014395042923723638,99.99026070497075,7.297729742346846e-08,3.3229214112756787e-12,0.0033994943828587307,9.018965829363783e-08],[0.005037518150866851,1.717108978657494e-07,0.0014799122222933204,99.98998730652228,7.713203091368005e-08,3.6106955687682614e-12,0.003494918933802472,9.532422163368113e-08],[0.005178926379043353,1.8148667054407802e-07,0.0015214543283403924,99.9897062337497,8.152329529520077e-08,3.923391419529229e-12,0.003593021777933478,1.0075108920313611e-07],[0.00532430375747545,1.9181897825352313e-07,0.0015641624388388654,99.98941727125853,8.616455587607051e-08,4.263167180055806e-12,0.0036938780704667902,1.0648690062848798e-07],[0.0054737616768795365,2.0273950323794913e-07,0.0016080692749742872,99.98912019761012,9.107004447809974e-08,4.632367963516708e-12,0.0037975650745818742,1.1254924268213095e-07],[0.005627414653011887,2.1428173122398454e-07,0.0016532084758201775,99.9888147851524,9.625480306694533e-08,5.033541964034125e-12,0.0039041622204927066,1.1895670318831871e-07],[0.005785380414281508,2.2648105407278778e-07,0.0016996146240661873,99.9885007998453,1.0173472986528847e-07,5.46945804237632e-12,0.004013751166170025,1.2572892799654692e-07],[0.005947779991815911,2.393748782737582e-07,0.0017473232724662636,99.98817800108182,1.075266280904063e-07,5.943124834402704e-12,0.004126415859761793,1.328866811968665e-07],[0.006114737812048298,2.530027396125876e-07,0.001796370971026901,99.98784614150381,1.1364825746546712e-07,6.457811514108848e-12,0.0042422426037592035,1.4045190876154843e-07],[0.006286381791896527,2.674064243649499e-07,0.0018467952949561227,99.98750496681255,1.201183886623718e-07,7.0170703545337276e-12,0.004361320120956829,1.4844780580800587e-07],[0.00646284343660617,2.8263009738710747e-07,0.0018986348733943887,99.98715421557428,1.2695686084293954e-07,7.624761242194731e-12,0.004483739622256842,1.5689888768896e-07],[0.006644257940332,2.9872043749583097e-07,0.00195192941894924,99.98679361901992,1.3418464247472695e-07,8.285078314192823e-12,0.004609594876368663,1.6583106512755138e-07],[0.006830764289534408,3.1572678055235093e-07,0.0020067197580560868,99.98642290083954,1.41823895607796e-07,9.00257890177398e-12,0.004738982281456826,1.7527172362747418e-07],[0.007022505369269152,3.3370127068863623e-07,0.0020630478621881587,99.98604177697084,1.498980438093401e-07,9.782214980043725e-12,0.00487200093879121,1.852498074012905e-07],[0.007219628072451202,3.5269902013922434e-07,0.002120956879939264,99.98564995538176,1.5843184396427934e-07,1.0629367340820229e-11,0.005008752728455383,1.9579590807390346e-07],[0.007422283412175561,3.7277827816817175e-07,0.0021804911700036814,99.985247135847,1.674514621617704e-07,1.1549882724396206e-11,0.005149342387170228,2.069423584327801e-07],[0.007630626637180382,3.9400060960853673e-07,0.00224169633507817,99.98483300971839,1.7698455390008877e-07,1.2550114166391103e-11,0.005293877588291778,2.1872333151195193e-07],[0.0078448173505399,4.164310835612229e-07,0.0023046192567117746,99.9844072596887,1.8706034885555582e-07,1.3636964838052525e-11,0.005442469024043591,2.3117494531313756e-07],[0.008065019631677177,4.401384728311032e-07,0.0023693081311297916,99.98396955954874,1.9770974047515496e-07,1.481793568246286e-11,0.005595230490045784,2.443353734845665e-07],[0.008291402161789236,4.651954647112182e-07,0.0024358125060590227,99.98351957393804,2.0896538066725044e-07,1.610117717529102e-11,0.00575227897220455,2.582449622963168e-07],[0.00852413835277955,4.916788837605546e-07,0.0025041833185821686,99.9830569580881,2.2086177988041928e-07,1.7495545567177633e-11,0.005913734736027678,2.729463542702218e-07],[0.008763406479795647,5.196699272576268e-07,0.0025744729340499892,99.98258135755873,2.3343541287690567e-07,1.9010663995754847e-11,0.006079721418433459,2.8848461884276234e-07],[0.009009389817472221,5.492544140508628e-07,0.0026467351860806564,99.98209240796702,2.467248305246294e-07,2.0656988888888353e-11,0.006250366122122175,3.04907390460856e-07],[0.009262276779982816,5.805230475677818e-07,0.002721025417676501,99.98158973470846,2.6077077795009646e-07,2.2445882117223715e-11,0.006425799512581236,3.2226501453318305e-07],[0.00952226106500614,6.135716937882748e-07,0.0027974005234892175,99.98107295267059,2.7561631941402924e-07,2.438968939377188e-11,0.006606155917797028,3.4061070168370406e-07],[0.009789541801715965,6.485016750330912e-07,0.002875918993265456,99.98054166593843,2.9130697029210524e-07,2.6501825461354063e-11,0.006791573430748544,3.6000069077940775e-07],[0.010064323702906507,6.854200804669938e-07,0.0029566409565055757,99.9799954674917,3.0789083656492645e-07,2.879686665553868e-11,0.006982194014759884,3.804944212311394e-07],[0.010346817221368296,7.244400942671769e-07,0.0030396282283692328,99.9794339388936,3.254187622443161e-07,3.129065148156805e-11,0.007178163611790802,4.0215471509470113e-07],[0.010637238710632636,7.656813424615849e-07,0.00312494435686243,99.97885664997095,3.439444851873237e-07,3.400038989903967e-11,0.007379632253746669,4.2504796952936976e-07],[0.010935810590206298,8.092702594988657e-07,0.0032126546713415987,99.97826315848518,3.635248017749751e-07,3.6944782068157e-11,0.007586754176891533,4.4924436020262717e-07],[0.011242761515421033,8.553404756720311e-07,0.003302826332371245,99.97765300979434,3.842197409599186e-07,4.014414737661015e-11,0.007799687939450049,4.748180562633406e-07],[0.011558326552026094,9.040332265816546e-07,0.0033955283829726767,99.97702573650547,4.0609274821576875e-07,4.3620564637038644e-11,0.008018596542486512,5.018474475409616e-07],[0.011882747355655622,9.554977858918496e-07,0.003490831801302392,99.97638085811744,4.2921087995123995e-07,4.739802442205739e-11,0.008243647554151622,5.304153846656793e-07],[0.012216272356306138,1.0098919227034822e-06,0.0035888095547997757,99.97571788065365,4.536450089841653e-07,5.150259458751838e-11,0.008475013237390092,5.606094328439179e-07],[0.012559156947963265,1.0673823849443138e-06,0.003689536655844763,99.97503629628444,4.794700417043055e-07,5.596260012561506e-11,0.008712870681204668,5.925221400652683e-07],[0.012911663683520428,1.128145410255305e-06,0.0037930902189673124,99.97433558293925,5.067651475895958e-07,6.080881858823852e-11,0.008957401935574746,6.262513205610166e-07],[0.01327406247513644,1.19236726593638e-06,0.003899549519651633,99.9736152039074,5.35614001778255e-07,6.607469242834827e-11,0.009208794150130518,6.619003543809991e-07],[0.013646630800182651,1.2602448196037173e-06,0.004008996054779296,99.9728746074282,5.661050414390783e-07,7.179655972375852e-11,0.00946723971668618,6.99578504004718e-07],[0.01402965391293475,1.3319861423045493e-06,0.004121513604756571,99.97211322626943,5.983317367244299e-07,7.801390487447605e-11,0.009732936415738688,7.394012489546572e-07],[0.014423425062168224,1.4078111459345816e-06,0.004237188297372557,99.97133047729399,6.323928771350142e-07,8.476963100242057e-11,0.010006087567041317,7.814906394346722e-07],[0.014828245714821045,1.4879522569079566e-06,0.004356108673435901,99.97052576101446,6.683928741725948e-07,9.211035593196837e-11,0.010286902184364208,8.259756700743804e-07],[0.015244425785891505,1.572655128140462e-06,0.00447836575423925,99.96969846113534,7.064420812066251e-07,1.0008673379231566e-10,0.010575595134557197,8.729926749218413e-07],[0.01567228387474389,1.662179391523719e-06,0.0046040531109019555,99.96884794408228,7.466571315333446e-07,1.0875380445927526e-10,0.01087238730103339,9.226857448916389e-07],[0.016112147507999185,1.7567994531917404e-06,0.004733266935642786,99.96797355851847,7.891612956614753e-07,1.1817137324601305e-10,0.011177505751794936,9.752071689439648e-07],[0.016564353389192713,1.8568053340119263e-06,0.004866106115035927,99.96707463484714,8.340848589173781e-07,1.2840442346072667e-10,0.011491183912125835,1.0307179003426717e-06],[0.017029247655386055,1.9625035578707113e-06,0.0050026723053049225,99.96615048470056,8.81565520524616e-07,1.395235646758024e-10,0.011813661742079967,1.089388049416757e-06],[0.017507186140925137,2.0742180904699675e-06,0.005143070009710739,99.96520040041455,9.317488153784551e-07,1.516055197991121e-10,0.012145185918896038,1.151397404330548e-06],[0.017998534648542033,2.1922913315045006e-06,0.005287406658091646,99.9642236544883,9.847885598051306e-07,1.64733654305529e-10,0.012486010024474492,1.216935981453223e-06],[0.018503669228002863,2.31708516325387e-06,0.005435792688614052,99.96321949902924,1.0408473226689445e-06,1.7899855127727994e-10,0.012836394738055175,1.2862046070085099e-06],[0.0190229764625103,2.4489820587940084e-06,0.005588341631795224,99.96218716518244,1.1000969232676578e-06,1.944986362174389e-10,0.01319660803423813,1.3594155317807551e-06],[0.019556853763074294,2.5883862532160244e-06,0.005745170196860283,99.96112586254394,1.1627189575384283e-06,2.1134085594383733e-10,0.013566925386493966,1.4367930807542545e-06],[0.02010570967107082,2.735724981431852e-06,0.005906398360497687,99.9600347785578,1.228905354182942e-06,2.2964141624331136e-10,0.013947629976313842,1.5185743396691547e-06],[0.0206699641692139,2.8914497863494552e-06,0.006072149458078945,99.95891307789638,1.2988589624116844e-06,2.495265833710646e-10,0.014339012908153106,1.6050098805896422e-06],[0.021250049001172645,3.056037901415093e-06,0.006242550277410324,99.95775990182335,1.3727941731038182e-06,2.7113355491981584e-10,0.014741373430326978,1.6963645286989672e-06],[0.021846408000071565,3.2299937117468986e-06,0.006417731155085911,99.95657436753875,1.450937575281094e-06,2.946114060613199e-10,0.015155019162020708,1.7929181726613776e-06],[0.02245949742611755,3.4138502983235716e-06,0.006597826075513313,99.95535556750607,1.5335286499018655e-06,3.201221176820705e-10,0.015580266326580718,1.894966621023533e-06],[0.02308978631360539,3.60817106994547e-06,0.006782972772685268,99.95410256876052,1.6208205030952564e-06,3.478416934991741e-10,0.016017439991258157,2.0028225072682614e-06],[0.023737756827558517,3.813551487952657e-06,0.006973312834772233,99.95281441219775,1.7130806410756611e-06,3.7796137385526354e-10,0.016466874313580213,2.1168162462813374e-06],[0.024403904630269996,4.030620888967373e-06,0.0071689918116131235,99.95149011184317,1.8105917891049534e-06,4.106889545572532e-10,0.016928912794529554,2.2372970451484967e-06],[0.025088739258015122,4.26004441122707e-06,0.007370159325183445,99.9501286541007,1.9136527570040256e-06,4.462502198472205e-10,0.017403908538716855,2.3646339713650728e-06],[0.025792784508214567,4.502525030389764e-06,0.007576969183122078,99.94872899698056,2.0225793538572074e-06,4.848904993797194e-10,0.017892224521736357,2.4992170817151886e-06],[0.02651657883733415,4.758805711026837e-06,0.007789579495400151,99.9472900693058,2.1377053547029535e-06,5.26876359933801e-10,0.01839423386489893,2.6414586152618276e-06],[0.027260675769815185,5.029671680370937e-06,0.008008152794217675,99.94581076989647,2.259383522162703e-06,5.724974435158275e-10,0.018910320117542716,2.791794254083957e-06],[0.028025644318337387,5.315952831258823e-06,0.0082328561572159,99.94428996673129,2.387986686127145e-06,6.220684645171596e-10,0.019440877547126444,2.9506844556027398e-06],[0.02881206941572386,5.6185262616023064e-06,0.00846386133409559,99.94272649608592,2.5239088847959574e-06,6.759313796859016e-10,0.01998631143731568,3.118615860556195e-06],[0.029620552358806004,5.9383189581359606e-06,0.008701344876733786,99.9411191616474,2.667566570553919e-06,7.344577458616465e-10,0.02054703839427786,3.2961027809114185e-06],[0.030451711264574955,6.27631063262945e-06,0.008945488272894158,99.93946673360378,2.8193998843637605e-06,7.980512817147693e-10,0.021123486661407415,3.4836887722461475e-06],[0.031306181538954585,6.633536719216144e-06,0.00919647808362842,99.93776794770854,2.979874002564678e-06,8.671506511360948e-10,0.02171609644270833,3.6819482953877584e-06],[0.03218461635853987,7.011091541979779e-06,0.009454506084468945,99.93602150431911,3.149480560185802e-06,9.422324874484078e-10,0.022325320235066892,3.8914884723685996e-06],[0.033087687165653426,7.4101316624585755e-06,0.009719769410515191,99.9342260674086,3.328739155116706e-06,1.0238146792687022e-09,0.022951623169653455,4.11295094204251e-06],[0.03401608417708249,7.831879417273439e-06,0.009992470705519231,99.93238026355006,3.5181989377230844e-06,1.1124599406507697e-09,0.023595483362698354,4.3470138210096216e-06],[0.03497051690686822,8.277626656664669e-06,0.010272818275078671,99.93048268087266,3.7184402907555992e-06,1.2087796900939567e-09,0.02425739227589319,4.594393775815737e-06],[0.03595171470352859,8.748738695332195e-06,0.010561026244047665,99.92853186798878,3.930076604674479e-06,1.3134382651291312e-09,0.024937855086675113,4.855848212729623e-06],[0.03696042730210628,9.246658487619105e-06,0.010857314718279767,99.92652633289156,4.153756153802395e-06,1.4271575015017076e-09,0.025637391068658127,5.132177591757668e-06],[0.037997425391443275,9.772911039760071e-06,0.011161909950819412,99.92446454182154,4.390164079024832e-06,1.5507217084798643e-09,0.026356533982482288,5.424227871931654e-06],[0.03906350119709397,1.0329108072635602e-05,0.011475044512661552,99.92234491810225,4.6400244830806685e-06,1.6849830745409014e-09,0.02709583247735842,5.73289309530249e-06],[0.040159469080300256,1.0916952948853835e-05,0.011796957468202607,99.92016584094333,4.904102644645853e-06,1.830867750102232e-09,0.027855850503593255,6.0591181170728555e-06],[0.041286166153461666,1.1538245879436832e-05,0.012127894555508384,99.91792564421054,5.183207358086689e-06,1.9893824977850928e-09,0.028637167736386564,6.4039014904650405e-06],[0.04244445291254462,1.219488942849523e-05,0.012468108371525687,99.91562261516175,5.478193407222562e-06,2.1616205596898443e-09,0.029440380011195876,6.768298517882565e-06],[0.043635213886889165,1.2888894327303654e-05,0.012817858562374695,99.913254993148,5.78996417807274e-06,2.348769730661325e-09,0.030266099770981474,7.153424471729321e-06],[0.04485935830688019,1.362238561928233e-05,0.013177412018854565,99.91082096827847,6.11947442036855e-06,2.5521205906726132e-09,0.031114956525641224,7.5604579988730125e-06],[0.046117820789963196,1.4397609153775712e-05,0.013547043077301976,99.90831868004865,6.467733165851819e-06,2.7730753969016216e-09,0.031987597323957555,7.990644718194562e-06],[0.04741156204549686,1.5216938448294243e-05,0.013927033725945271,99.90574621593072,6.835806812200056e-06,3.0131577447941418e-09,0.03288468723838608,8.445301022041542e-06],[0.04874156959894742,1.6082881940088844e-05,0.014317673816900434,99.90310160992469,7.224822381962889e-06,3.274023064582201e-09,0.03380690986302322,8.925818093115219e-06],[0.050108858535943046,1.699809064910695e-05,0.01471926128395884,99.90038284106976,7.635970966424761e-06,3.5574700254681227e-09,0.03475496782509899,9.433666148970562e-06],[0.05151447226671794,1.7965366275622704e-05,0.015132102366320017,99.89758783191459,8.070511364868641e-06,3.865452925921323e-09,0.035729583310347784,9.970398926993948e-06],[0.05295948331149169,1.898766975715103e-05,0.015556511838427193,99.89471444694524,8.529773930307974e-06,4.200095155310418e-09,0.03673149860262082,1.053765842344845e-05],[0.0544449941073402,2.0068130310642053e-05,0.0159928132460664,99.89176049096993,9.015164633378373e-06,4.563703819452354e-09,0.037761476638110025,1.113717990094056e-05],[0.055972137837131924,2.1210054987421777e-05,0.016441339148894805,99.8887237074591,9.528169356741626e-06,4.95878563065548e-09,0.03882030157456436,1.1770797179470973e-05],[0.05754207928111323,2.2416938769892003e-05,0.016902431369566977,99.88560177683995,1.0070358433050886e-05,5.38806417151695e-09,0.03990877937588622,1.2440448227083648e-05],[0.05915601569174612,2.3692475240641487e-05,0.017376441249632973,99.88239231474385,1.0643391440263624e-05,5.854498651168952e-09,0.04102773841250692,1.3148181067029241e-05],[0.0608151776924112,2.5040567856345843e-05,0.017863729912385256,99.87909287020581,1.1249022268865495e-05,6.36130428291403e-09,0.04217803007794717,1.389616001930833e-05],[0.06252083020060925,2.646534186066195e-05,0.01836466853283674,99.87570092381397,1.188910447639124e-05,6.911974423321284e-09,0.04336052942198038,1.4686672295465298e-05],[0.06427427337630513,2.79711568722472e-05,0.018879638615015685,99.87221388580878,1.2565596945494997e-05,7.510304624944022e-09,0.04457613580082351,1.5522134966562017e-05],[0.06607684359607831,2.9562620186072612e-05,0.019409032276768486,99.86862909412957,1.3280569862740207e-05,8.16041876795304e-09,0.04582577354479264,1.6405102325380987e-05],[0.0679299144537558,3.124460082834537e-05,0.01995325254226506,99.86494381240779,1.4036211036245698e-05,8.866797450242698e-09,0.04711039264386757,1.73382736650875e-05],[0.06983489778822467,3.302224440762975e-05,0.020512713642407004,99.86115522790496,1.4834832571347919e-05,9.634308831062036e-09,0.04843096945162239,1.832450149782888e-05],[0.07179324473913236,3.490098880714897e-05,0.021087841323342432,99.85726044939433,1.5678877924517214e-05,1.0468242140050587e-08,0.04978850740798643,1.9366800238063898e-05],[0.07380644683120624,3.688658076578547e-05,0.02167907316329715,99.85325650498434,1.6570929356907294e-05,1.1374344081838919e-08,0.051184037781313155,2.046835537680687e-05],[0.07587603708793526,3.898509339796638e-05,0.022286858897935854,99.84914033988264,1.751371581011921e-05,1.2358858386226278e-08,0.05261862043024205,2.1632533174436322e-05],[0.07800359117537874,4.120294470544514e-05,0.02291166075447218,99.8449088140989,1.8510121228032936e-05,1.342856877551209e-08,0.0540933445858511,2.2862890901267363e-05],[0.0801907285768835,4.3546917136970535e-05,0.02355395379475208,99.84055870008477,1.9563193349901965e-05,1.4590845643979453e-08,0.05560932965460806,2.416318765672206e-05],[0.0824391137995076,4.60241782549774e-05,0.024214226267538618,99.83608668030956,2.0676153001321885e-05,1.5853696769964946e-08,0.057167726042637465,2.5537395799654763e-05],[0.08475045761297098,4.86423025717593e-05,0.024892979970233264,99.83148934476962,2.185240391118249e-05,1.7225822408578963e-08,0.05876971600183429,2.6989713024213246e-05],[0.08712651832196773,5.140929462108553e-05,0.025590730620272138,99.82676318842991,2.309554308428986e-05,1.8716675143144383e-08,0.060416514498362835,2.8524575117534407e-05],[0.08956910307269884,5.433361333493224e-05,0.026308008236442595,99.82190460859572,2.4409371761016153e-05,2.0336524906012655e-08,0.06210937010409399,3.0146669437604572e-05],[0.09208006919449849,5.7424197798900026e-05,0.027045357530369404,99.81690990221311,2.5797906997092236e-05,2.209652961480609e-08,0.06384956591154103,3.186094915175066e-05],[0.09466132557745262,6.069049446402294e-05,0.0278033383084267,99.8117752630958,2.7265393898521135e-05,2.4008811908576425e-08,0.06563842047287015,3.367264827849025e-05],[0.09731483408692208,6.41424858970221e-05,0.028582525884335734,99.80649677907661,2.8816318548549497e-05,2.608654251011022e-08,0.06747728876356804,3.558729757784705e-05],[0.10004261101591021,6.779072115566238e-05,0.02938351150271572,99.80107042908183,3.045542166570972e-05,2.8344030785949956e-08,0.06936756317136507,3.76107413377568e-05],[0.1028467285762274,7.164634788071519e-05,0.03020690277385897,99.79549208012607,3.2187713034129416e-05,3.079682312492793e-08,0.07131067451101977,3.974915510683627e-05],[0.10572931642943478,7.572114620116173e-05,0.031053324120008895,99.78975748422579,3.4018486749617424e-05,3.3461809809479226e-08,0.07330809306558517,4.2009064426591195e-05],[0.10869256325856139,8.002756455466736e-05,0.03192341723342325,99.7838622752294,3.5953337327468685e-05,3.6357341112055e-08,0.07536132965478545,4.439736461908624e-05],[0.11173871838161914,8.457875753107455e-05,0.0328178415465129,99.77780196556142,3.799817672050794e-05,3.9503353412012294e-08,0.0774719367311471,4.69213416892197e-05],[0.11487009340795386,8.938862585267247e-05,0.033737274714349945,99.77157194287912,4.015925229860214e-05,4.292150619681567e-08,0.07964150950453457,4.958869440402503e-05],[0.11808906393849891,9.447185861136771e-05,0.03468241310984691,99.7651674666385,4.2443165843742866e-05,4.663533088573909e-08,0.0818716870957577,5.2407557614892494e-05],[0.1213980713110149,9.984397788957577e-05,0.03565397233191284,99.75858366456835,4.48568936178195e-05,5.067039249497974e-08,0.08416415371992379,5.5386526892252486e-05],[0.12479962439142576,0.00010552138589874075,0.036652687726899474,99.75181552904897,4.740780756340136e-05,5.5054465250763664e-08,0.08652063990022323,5.8534684546123554e-05],[0.12829630141237905,0.00011152141477684864,0.037679314923655394,99.7448579133938,5.010369770121101e-05,5.981772335220116e-08,0.08894292371284404,6.186162710998662e-05],[0.13189075186018465,0.00011786237919418398,0.03873463038251241,99.73770552803127,5.295279579152894e-05,6.49929481890055e-08,0.09143283206372525,6.537749436973762e-05],[0.13558569841130885,0.00012456363192489423,0.03981943195853506,99.73035293658427,5.596380033052132e-05,7.061575343140773e-08,0.09399224199786803,6.909300002399125e-05],[0.13938393891961823,0.00013164562255068877,0.040934539479368114,99.72279455184467,5.9145902956437096e-05,7.672482953143454e-08,0.09662308204193261,7.301946406676955e-05],[0.14328834845559923,0.00013912995947226394,0.04208079533802535,99.7150246316405,6.250881634480333e-05,8.33622093070135e-08,0.09932733358086306,7.71688469886413e-05],[0.14730188139879274,0.00014703947541379333,0.043259065100965916,99.70703727459241,6.606280367614651e-05,9.057355642398321e-08,0.1021070322692866,8.155378589766727e-05],[0.15142757358471481,0.00015539829661613284,0.0444702381318134,99.69882641575751,6.981870976442504e-05,9.840847874703019e-08,0.10496426947844942,8.618763266709874e-05],[0.15566854450754905,0.0001642319159252352,0.045715228231075385,99.69038582215697,7.378799393925293e-05,1.0692086869984762e-07,0.10790119377945495,9.10844942226544e-05],[0.16002799957992717,0.0001735672699937409,0.0469949742922297,99.68170908818512,7.79827647801786e-05,1.1616927295860986e-07,0.11092001246358385,9.62592750884133e-05],[0.1645092324511283,0.00018343282082577462,0.04831044097454702,99.67278963089662,8.241581680672941e-05,1.2621729400235473e-07,0.11402299310047904,0.0001017277223168901],[0.16911562738506003,0.0001938586419077379,0.0496626193930266,99.66362068516881,8.710066923369956e-05,1.3713402626047267e-07,0.11721246513499207,0.00010750647293576013],[0.17385066169939456,0.0002048765091813028,0.05105252782582574,99.65419529873664,9.20516069072196e-05,1.4899452983259422e-07,0.12049082152348779,0.0001136131040509488],[0.17871790826726885,0.00021651999712900193,0.05248121243957086,99.64450632709597,9.728372354355986e-05,1.618803450114116e-07,0.12386052041041937,0.00012006618575346362],[0.1837210380829657,0.00022882458025772452,0.0539497480329405,99.63454642827341,0.00010281296739936122,1.7588005111597727e-07,0.12732408684598184,0.000126885336985391],[0.1888638228930269,0.0002418277402812025,0.055459238798918564,99.6243080574582,0.0001086561895091201,1.9108987344375772e-07,0.1308841145456683,0.00013409128452898477],[0.1941501378942589,0.00025556907931914937,0.05701081910611772,99.61378346149348,0.00011483119463324932,2.0761434247607825e-07,0.1345432676925469,0.0001417059252916982],[0.1995839645001228,0.00027009043944824435,0.05860565429958066,99.60296467322361,0.00012135679506796784,2.2556700982588315e-07,0.13830428278309007,0.00014975239206944772],[0.20516939317700966,0.0002854360289585765,0.06024494152146775,99.59184350569352,0.0001282528674766046,2.4507122580118735e-07,0.14216997051738073,0.00015825512298029456],[0.21091062635193178,0.000301652555688639,0.061929910552047426,99.58041154619714,0.00013554041291071522,2.662609838749167e-07,0.14614321773453112,0.00016723993477119227],[0.21681198139317032,0.00031878936783242976,0.0636618246714056,99.56866015017121,0.00014324162019867367,2.8928183780466436e-07,0.15022698939414192,0.00017673410021142646],[0.222877893665442,0.00033689860263383235,0.065441981542297,99.55658043493041,0.00015137993288918578,3.142918976373732e-07,0.15442433060463395,0.0001867664297979588],[0.22911291966116598,0.0003560353434062066,0.06727171411456273,99.54416327324071,0.0001599801199474776,3.4146291136727853e-07,0.15873836869928196,0.0001973673580100698],[0.2355217402094202,0.0003762577853390803,0.0691523915515412,99.53139928672671,0.0001690683504127627,3.709814395941546e-07,0.1631723153607727,0.00020856903436350822],[0.2421091637642025,0.0003976274105791245,0.07108542017890275,99.51827883910931,0.0001786722722370514,4.030501311569325e-07,0.167729468795111,0.00022040541952786523],[0.24888012977361185,0.00042020917309917253,0.07307224445633875,99.50479202926985,0.00018882109553740867,4.378891083991037e-07,0.17241321595568251,0.0002329123867850705],[0.25583971213159207,0.0004440716938971132,0.07511434797253956,99.49092868413659,0.00019954568050649087,4.7573747146170737e-07,0.1772270348182834,0.00024612782912186715],[0.2629931227138744,0.00046928746709596595,0.07721325446389281,99.47667835138981,0.0002108786302395569,5.168549318017564e-07,0.18217449670790464,0.0002600917722648066],[0.2703457149997811,0.0004959330775475899,0.07937052885733926,99.46203029198095,0.00022285438875027492,5.615235860043007e-07,0.18725926867805942,0.000274846493982866],[0.27790298778154426,0.0005240894305751603,0.08158777833781682,99.44697347246235,0.00023550934446247207,6.100498419003283e-07,0.19248511594341425,0.00029043665000012765],[0.2856705889628111,0.000553841994524072,0.08386665344072793,99.43149655712259,0.0002488819394806439,6.627665100269708e-07,0.19785590436647968,0.0003069094068792735],[0.2936543194480013,0.0005852810568271636,0.08620884916985964,99.41558789992393,0.00026301278495848875,7.200350745773638e-07,0.20337560299908497,0.00032431458225581656],[0.3018601371241899,0.0006185019943284091,0.08861610614118655,99.39923553623707,0.0002779447829021035,7.822481591926993e-07,0.20904828667935074,0.00034270479282321636],[0.3102941609371789,0.0006536055586493654,0.09109021175297953,99.3824271743689,0.0002937232547627143,8.498322042559747e-07,0.21487813868483616,0.0003621356104902061],[0.3189626750634303,0.0006906981774250409,0.09363300138264412,99.36515018687925,0.00031039607719306927,9.232503737647198e-07,0.22086945344252085,0.00038266572715398814],[0.3278721331795054,0.0007298922722802966,0.09624635961070137,99.34739160168165,0.00032801382536183177,1.0030057113973381e-06,0.22702663929623895,0.0004043571285563326],[0.33702916283066936,0.0007713065944647934,0.09893222147232375,99.32913809292387,0.0003466299242416361,1.0896445670551646e-06,0.23335422133215786,0.00042727527771425043],[0.3464405699002833,0.0008150665791137151,0.1016925737368259,99.31037597164386,0.00036630080830886544,1.1837603169702943e-06,0.23985684426284654,0.0004514893084427012],[0.35611334318160415,0.0008613047191533393,0.10452945621550534,99.29109117619626,0.0003870860901168016,1.2859974024298505e-06,0.24653927537044015,0.0004770722295139354],[0.36605465905358725,0.0009101609599250387,0.10744496309821822,99.27126926244495,0.000409048738228623,1.397055714293136e-06,0.25340640750936266,0.0005041011400265326],[0.3762718862622555,0.0009617831156585378,0.11044124431906086,99.25089539371706,0.0004322552650227976,1.5176953527827194e-06,0.2604632621690083,0.0005326574565870379],[0.3867725908091797,0.001016327308985564,0.11352050695152129,99.22995433051392,0.00045677592491091216,1.6487417945292948e-06,0.2677149925967406,0.0005628271529384791],[0.39756454095813426,0.001073958411686659,0.1166850166537494,99.20843041996505,0.00048268491236612697,1.7911044406794993e-06,0.27516688700764247,0.0005947009869336497],[0.40865571238123416,0.0011348504401789666,0.11993709920639133,99.186307585002,0.0005100605371968854,1.945835418994132e-06,0.2828243719354728,0.0006283746621164579],[0.4200542932843738,0.0011991872966202546,0.12327914180034283,99.16356931339902,0.00053898556636303,2.1140101423512524e-06,0.290693015283253,0.0006639493598765589],[0.4317686897744361,0.0012671632278270634,0.12671359462877388,99.14019864643099,0.0005695474282004003,2.296782713844738e-06,0.2987785297872294,0.0007015319398253351],[0.4438075313140653,0.0013389833783050758,0.13024297245375285,99.11617816728953,0.0006018384612652155,2.495405990540242e-06,0.3070867764691597,0.0007412352279282694],[0.45617967628277456,0.0014148643968241073,0.1338698561848633,99.09148998923662,0.0006359561881040575,2.711240019951645e-06,0.31562376812467724,0.0007831783461193382],[0.46889421765463823,0.0014950350763390007,0.13759689448932205,99.06611574348221,0.0006720036041147869,2.9457611956127354e-06,0.3243956728723633,0.0008274870598208144],[0.4819604887936803,0.0015797370290535659,0.14142680543380173,99.04003656678142,0.0007100894823153093,3.200572192805408e-06,0.3334088177632242,0.0008742941443147398],[0.4953880693679494,0.0016692253985181652,0.1453623781581216,99.01323308874669,0.0007503286948799216,3.4774127506590795e-06,0.34266969245013035,0.0009237397709598909],[0.5091867913832145,0.0017637696107501385,0.1494064745809485,98.98568541887039,0.0007928425523481496,3.778171372421943e-06,0.3521849529166843,0.000975971914298094],[0.523366745337072,0.0018636541664690729,0.15356203113760322,98.95737313325343,0.0008377591614581504,4.1048980217557116e-06,0.3619614252648125,0.0010311467811457437],[0.5379382864941664,0.0019691794766472925,0.15783206055004037,98.92827526103555,0.0008852138026064935,4.459817899463261e-06,0.3720061095602701,0.0010894292628210389],[0.5529120412830953,0.0020806627436891936,0.16221965362902144,98.89837027052303,0.0009353493279881452,4.845346392161996e-06,0.38232618373506894,0.001150993411714351],[0.5682989138154282,0.002198438890671895,0.16672798110846135,98.86763605500946,0.0009883165815251322,5.264105292111359e-06,0.3929290075456936,0.0012160229434686682],[0.5841100925271278,0.002322861541204194,0.17136029551187842,98.83604991828577,0.001044274841749627,5.718940395738502e-06,0.403822126585785,0.0012847117660991854],[0.6003570569424945,0.0024543040525911927,0.1761199330508271,98.80358855983539,0.0011033922888672434,6.21294059743417e-06,0.415013276351787,0.0013572645374459185],[0.6170515845606045,0.0025931606051286726,0.18101031555514438,98.77022805971094,0.0011658464972893446,6.749458604968827e-06,0.42651038635986754,0.001433897252420938],[0.6342057578639767,0.0027398473504939855,0.18603495243476822,98.73594386308861,0.0012318249549889669,7.332133413465312e-06,0.4383215843121817,0.0015148378615821166],[0.651831971449072,0.0028948036223503037,0.19119744267284347,98.70071076449695,0.0013015256111042824,7.964914686329959e-06,0.450455200310363,0.0016003269226390505],[0.6699429392779388,0.0030584932124371163,0.19650147684974476,98.66450289171698,0.0013751574532856394,8.652089203953197e-06,0.46291977111384497,0.0016906182865730009],[0.6885517020501405,0.003231405715583994,0.20195083919758813,98.62729368935024,0.001452941116358163,9.398309554427383e-06,0.47572404444039523,0.0017859798201325975],[0.7076716346938191,0.003414057947255533,0.20754940968472205,98.5890559020525,0.0015351095239510635,1.0208625255070857e-05,0.48887698330595236,0.0018866941665497447],[0.7273164539744948,0.003606995437414385,0.21330116612960734,98.54976155743017,0.0016219085648278102,1.10885165092858e-05,0.5023877704005786,0.0019930595464063613],[0.7475002262198932,0.0038107940046759768,0.21921018634340958,98.50938194859776,0.0017135978057380005,1.2043930820307613e-05,0.5162658124970265,0.0021053906006719986],[0.7682373751588258,0.004026061414923907,0.225280650300543,98.46788761639417,0.0018104512427026143,1.3081322701831783e-05,0.5305207448881147,0.002224019278025446],[0.7895426898717448,0.004253439128758063,0.23151684233629208,98.42524833125633,0.0019127580927388436,1.4207696745436082e-05,0.5451624358487258,0.00234929576866949],[0.8114313328503318,0.004493604142360705,0.23792315337055644,98.38143307474941,0.002020823628130098,1.543065432628279e-05,0.5602009911179295,0.00248158948694837],[0.8339188481630118,0.004747270926586443,0.24450408315663408,98.33641002075258,0.002134970055449793,1.675844425190227e-05,0.5756467583962951,0.002621290105180469],[0.8570211697229482,0.005015193469313497,0.2512642425538582,98.29014651630023,0.002255537441655779,1.820001768408054e-05,0.5915103318530901,0.0027688086412263092],[0.8807546296546116,0.0052981674263338436,0.2582083558227745,98.24260906207887,0.0023828846896847395,1.976508769113722e-05,0.6078025566376161,0.002924578602422428],[0.9051359667545613,0.005597032386310212,0.2653412629414175,98.1937632925807,0.0025173905660933645,2.1464193817354943e-05,0.6245345333884759,0.0030890571886262467],[0.9301823350415913,0.005912674255588392,0.2726679219411079,98.14357395591489,0.002659454783415512,2.3308772088177295e-05,0.6417176227340923,0.0032627265572350334],[0.9559113123908931,0.0062460277689245156,0.2801934112600571,98.09200489327873,0.0028094991400322788,2.531123090421948e-05,0.6593634497772995,0.003446095153163969],[0.9823409092462937,0.006598079132467913,0.28792293211290104,98.03901901809137,0.0029679687204844417,2.7485033314326902e-05,0.6774839085562742,0.003639699106893383],[1.0094895774040777,0.00696986880563301,0.29586181087413516,97.98457829479332,0.003135333159295217,2.984478619809757e-05,0.696091166473527,0.003844103703824325],[1.0373762188612834,0.007362494428797294,0.3040155014732608,97.92864371731582,0.00331208797151507,3.2406336931678624e-05,0.715197668684095,0.004059904928314126],[1.0660201947206593,0.0077771139040763914,0.3123895877992601,97.87117528722519,0.003498755953349541,3.518687815749832e-05,0.7348161424334138,0.004287731085899016],[1.095441334143817,0.008214948636754196,0.32098978611185003,97.81213199154779,0.0036958886563866183,3.820506132918331e-05,0.7549596013347354,0.004528244507350329],[1.1256599433433512,0.008677286945283188,0.32982194745676197,97.75147178028215,0.003904067939101246,4.1481119757503134e-05,0.7756413495752418,0.004782143338352742],[1.1566968146039134,0.009165487648119681,0.3388920600820966,97.68915154360641,0.0041239075994818596,4.50370019420975e-05,0.7968749860392961,0.0050501634187382315],[1.188573235321386,0.009680983836019398,0.34820625185258175,97.62512708878933,0.004356055092797114,4.8896516037293714e-05,0.8186744083364947,0.005333080255357032],[1.2213109970484781,0.010225286838792659,0.3577707926583601,97.55935311681506,0.0046011933387009735,5.308548636887236e-05,0.8410538167214271,0.005631711092817689],[1.2549324045340238,0.010799990395901292,0.3675920968146659,97.49178319873273,0.004860042622059518,5.7631922992535426e-05,0.8640277178911465,0.005946917086479709],[1.2894602847424346,0.011406775040678097,0.37767672544855174,97.42236975174309,0.0051333625920760885,6.256620536451482e-05,0.8876109286455703,0.006279605582237852],[1.3249179958385753,0.012047412708355309,0.38803138886853117,97.35106401503596,0.00542195436448909,6.792128128059491e-05,0.9118185793950202,0.006630732507791347],[1.3613294361223407,0.01272377157850955,0.3986629489127703,97.27781602539376,0.005726662731822569,7.373288233232381e-05,0.9366661174982275,0.007001304880248925],[1.3987190528960147,0.013437821162960504,0.40957842127117106,97.20257459257759,0.006048378486880897,8.003975722878755e-05,0.9621693104130852,0.007392383435076865],[1.4371118512462948,0.014191637650602312,0.42078497777641033,97.12528727451439,0.00638804086489683,8.688392443956109e-05,0.988344248641402,0.007805085381554404],[1.476533402721562,0.014987409521097965,0.4322899486586944,97.0459003523051,0.006746640109966296,9.43109457298547e-05,1.0152073484478015,0.008240587290056422],[1.517009853883692,0.01582744343983023,0.4441008247587015,96.9643588050754,0.007125220171634269,0.00010237022228304898,1.0427753543318152,0.008700128116638521],[1.5585679347121997,0.016714170446971703,0.4562252596928329,96.88060628469351,0.007524881537731705,0.00011111531523932127,1.0710653412309612,0.009185012370550517],[1.6012349668370887,0.01765015245401813,0.46867107196459495,96.79458509038,0.007946784209806813,0.00012060429262261958,1.1000947164314272,0.009696613430454096],[1.6450388715752196,0.018638089061616687,0.4814462470155809,96.70623614323812,0.008392150827742115,0.000130900104782482,1.1298812211616767,0.01023637701526484],[1.6900081777433045,0.019680824713013984,0.49455893920916266,96.61549896073488,0.008862269950401812,0.0001420709906428462,1.1604429318429241,0.010805824815677238],[1.7361720292189793,0.02078135619795044,0.5080174737396492,96.52231163116512,0.009358499499413598,0.00015419091722786222,1.1917982609690903,0.011406558292564817],[1.7835601922195787,0.02194284052233147,0.5218303484592941,96.42661078813427,0.009882270373452419,0.00016734005512554696,1.2239659575873707,0.01204026264857174],[1.8322030622663392,0.02316860315951394,0.5360062356151444,96.32833158509719,0.010435090240661821,0.00018160529275479842,1.2569651073490844,0.012708710979327858],[1.8821316707997655,0.024462146699554755,0.5505539834873289,96.22740766999401,0.011018547517120263,0.00019708079252065737,1.2908151320988894,0.01341376861082333],[1.933377691409895,0.025827159913279326,0.5654826179199965,96.12377116002662,0.011634315539536077,0.00021386859217775538,1.3255357889689237,0.014157397629572036],[1.985973445642877,0.027267527248529738,0.5808013437356616,96.01735261662239,0.012284156940630928,0.00023207925497345514,1.3611471689426682,0.014941661612268366],[2.0399519083432236,0.028787338776459576,0.596519546023348,95.90808102063514,0.012969928235954224,0.0002518325724114685,1.3976696948517677,0.01576873056170612],[2.095346712488517,0.030390900606230963,0.6126467912904318,95.795883747837,0.013693584631149615,0.00027325832376450936,1.4351241187671449,0.01664088605576784],[2.1521921534710375,0.03208274578695798,0.6291928284676904,95.68068654475819,0.01445718505897819,0.0002964970967721235,1.473531518744053,0.017560526616316803],[2.2105231927781444,0.03386764571621002,0.6461675897565985,95.56241350493546,0.01526289745568302,0.0003217011742881327,1.5129132948787976,0.01853017330482181],[2.2703754610205507,0.03575062207484377,0.6635811913074615,95.44098704563412,0.01611300428655893,0.0003490354919923492,1.5532911646329528,0.019552475551517172],[2.331785260254863,0.037736959308367776,0.6814439337165215,95.31632788511291,0.017009908330867577,0.00037867867265447267,1.5946871573789696,0.02063021722484475],[2.3947895655438853,0.03983221767545635,0.6997663023297293,95.18835502050466,0.01795613873651069,0.000410824142835532,1.6371236081190828,0.021766322947838288],[2.4594260256950338,0.042042246884607795,0.7185589673403586,95.05698570639123,0.018954357355138278,0.0004456813383349004,1.6806231503272984,0.02296386466798525],[2.52573296311431,0.044373200340300276,0.7378327836672566,94.9221354341551,0.020007365368631444,0.00048347700514021785,1.7252087078623228,0.024226068486946094],[2.593749372709763,0.04683155002030213,0.7575987905999705,94.7837179121954,0.02111811021814551,0.0005244566031141333,1.7709034858969963,0.025556321756304446],[2.663514919775211,0.0494241020060706,0.7778682111965949,94.64164504710178,0.022289692847142002,0.0005688858201572098,1.8177309608077765,0.026958180445279905],[2.7350699367813878,0.05215801268838919,0.7986524514196791,94.49582692588375,0.023525375270063337,0.0006170522051211738,1.8657148689655718,0.028435376786038736],[2.8084554189981357,0.05504080567056258,0.8199630989951001,94.34617179936042,0.024828588478517395,0.0006692669283121048,1.914879194367049,0.029991827201892144],[2.8837130188674847,0.058080389391591394,0.8418119219783379,94.19258606681997,0.026202940697034598,0.0007258666790198252,1.9652481550432856,0.031631640523269805],[2.9608850390436263,0.06128507549178592,0.8642108670121413,94.03497426206536,0.027652226000636795,0.0007872157101383059,2.016846188180418,0.03335912649589429],[3.0400144240119142,0.06466359794324404,0.8871720572591638,93.87323904096868,0.02918043330661489,0.0008537080406029327,2.0696979338847257,0.03517880458505955],[3.121144750194718,0.06822513296748937,0.9107077899926571,93.70728117066349,0.030791755753040325,0.0009257698270638452,2.12382821752222,0.03709541307932077],[3.2043202144480607,0.07197931976236675,0.9348305338279702,93.53699952051102,0.032490600476646654,0.0010038619169408238,2.1792620305607557,0.03911391849624725],[3.2895856208483614,0.07593628205997213,0.9595529255771168,93.36229105498359,0.03428159880278977,0.001088482595763142,2.2360245098402562,0.041239525292148776],[3.3769863656643895,0.08010665053698705,0.984887766708332,93.1830508286161,0.03616961686024478,0.001180170542487401,2.2941409151945704,0.04347768587687902],[3.4665684204049194,0.08450158609825502,1.01084801939213,92.99917198318361,0.03815976663360856,0.0012795080073057224,2.353636605346248,0.04583411093392701],[3.5583783128279527,0.08913280405378719,1.03744680211501,92.81054574727146,0.04025741746605368,0.0013871242273041833,2.414537011993388,0.048314780045038336],[3.6524631057926165,0.09401259920859767,1.0646973848415875,92.61706143841273,0.04246820802511585,0.0015036990962043174,2.476867612005594,0.05092595261755402],[3.7488703976820275,0.09915381295724712,1.0926132366023968,92.41860644572765,0.04479802973615565,0.0016300010281683987,2.540653964121289,0.05367411214505302],[3.8476485545811556,0.10456922245922505,1.1212085924320392,92.2150659971167,0.04725272565248035,0.001767258539008917,2.6059223965404246,0.05656525267895884],[3.948846191928349,0.11027277862817544,1.1504973610662936,92.00632362727576,0.04983869945686703,0.0019164683970239597,2.6726986077287864,0.05960626551873303],[4.052512258195242,0.11627935222226073,1.1804933715985046,91.79226108494585,0.05256279034552362,0.0020785629641000645,2.741007949396166,0.06280463033235709],[4.158696092600629,0.12260453755393343,1.2112105690689734,91.57275826535891,0.05543217617256274,0.0022545455703410523,2.8108756431320208,0.0661681705426217],[4.267447388119053,0.12926468374870115,1.242663006163407,91.34769323205214,0.05845438863151747,0.0024454958833309017,2.882326739021496,0.06970506638037068],[4.378816151373067,0.13627692699606833,1.274864834330465,91.11694224271031,0.061637328974725424,0.0026525756791134195,2.9553860717639173,0.07342386817233651],[4.492852659254893,0.14365922378915347,1.3078302943054354,90.8803797792817,0.06498928427611121,0.002877035044033537,3.0300782142096194,0.07733350983904982],[4.609607412119083,0.15143038514505236,1.3415737060285156,90.63787858262067,0.06851894424141444,0.003120219038554226,3.106427428232376,0.08144332257434857],[4.729131083383494,0.1596101117930489,1.3761094579477287,90.38930969192137,0.07223541856821288,0.0033835748562428512,3.1844576128562307,0.08576304867367464],[4.851474465372158,0.1682190303122954,1.4114519956984355,90.13454248921592,0.07614825485619829,0.003668659513316555,3.2641922495580467,0.09030285547363989],[4.976688411229841,0.17727873019448853,1.4476158101534933,89.87344474921959,0.08026745706602183,0.00397714810644841,3.3456543446699043,0.09507334936020839],[5.104823772734803,0.18681180180036908,1.4846154248405696,89.60588269481616,0.08460350452265242,0.004310842678968777,3.428866368809181,0.10008558979728759],[5.235931333832938,0.19684187517147506,1.5224653827257617,89.33172105848531,0.08916737145653476,0.004671681738148436,3.513850193268329,0.10535110332148986],[5.370061739713979,0.20739365965050457,1.561180232365781,89.05082314998391,0.09397054707290822,0.005061750468924958,3.600627023301653,0.11088189744233326],[5.507265421247958,0.2184929842547812,1.6007745134342894,88.76305093060198,0.09902505613640568,0.005483291692227633,3.6892173282522305,0.11669047438013398],[5.647592514598416,0.23016683873769003,1.641262741631764,88.46826509432316,0.10434348005449574,0.005938717618970038,3.7796407684691857,0.12278984456632157],[5.791092775827269,0.2424434152624369,1.6826593929923135,88.16632515622875,0.10993897843941819,0.006430622453805726,3.8719161189731754,0.1291935398228128],[5.9378154903057805,0.25535215060114413,1.7249788876054688,87.85708954849214,0.11582531112400507,0.006961795905880285,3.96606118983713,0.13591562612845415],[6.087809376745756,0.26892376875998203,1.7682355727758419,87.54041572431876,0.12201686060212104,0.007535237667049702,4.062092743259181,0.14297071587130974],[6.241122485665982,0.2831903239178103,1.8124437056489835,87.21616027019454,0.1285286548594177,0.008154172921364332,4.160026407316123,0.15037397947577652],[6.397802092109988,0.2981852435515292,1.8576174353374877,86.88417902681223,0.13537639055461304,0.008822068953021223,4.259876586398059,0.15814115628308578],[6.557894582433937,0.3139433716061128,1.903770784587743,86.54432721905145,0.14257645650561804,0.00954265292345347,4.361656368338918,0.16628856455277052],[6.721445334986359,0.3305010115509725,1.9509176310343914,86.19645959539443,0.1501459574284737,0.01031993089172613,4.465377428272583,0.17483311044107575],[6.888498594505879,0.3478959691469459,1.9990716880967399,85.84043057716312,0.15810273787024962,0.011158208155921515,4.571049929261007,0.1837922958001347],[7.05909734006861,0.36616759472981725,2.048246485579029,85.47609441796816,0.16646540626978432,0.012062110996688786,4.678682419758882,0.193184224629031],[7.233283146423069,0.3853568247967746,2.0984553500444214,85.10330537376241,0.17525335907237913,0.013036609907561862,4.788281727998743,0.20302760799463807],[7.411096038558786,0.4055062226617823,2.1497113850411345,84.72191788389378,0.18448680481635232,0.014087044399974756,4.899852853401701,0.21334176722647313],[7.592574339363574,0.42666001792435904,2.202027451267871,84.3317867635524,0.19418678810065584,0.015219149474061815,5.013398855141351,0.22414663517573888],[7.777754510235415,0.4488641444739373,2.255416146774933,83.93276740800583,0.20437521333364247,0.016439083849262945,5.128920738012576,0.2354627553143976],[7.966670984526576,0.47216627672876765,2.309889787306678,83.52471600901538,0.21507486815348578,0.017753460051375406,5.2464173357821675,0.24731127843558431],[8.159355993711578,0.49661586378453293,2.3654603869006223,83.10748978382027,0.22630944640083264,0.019169376454922137,5.365885192225097,0.25971395670214226],[8.355839386185611,0.5222641611234323,2.422139638868,82.68094721707392,0.23810357051396316,0.020694451381426133,5.487318440078008,0.2726931347756498],[8.556148438617068,0.549164259509872,2.4799388972902006,82.24494831610653,0.25048281320619353,0.022336859355276094,5.610708678170548,0.28627173774430487],[8.760307659795986,0.5773711106741172,2.5388691591745762,81.7993548798825,0.26347371827447424,0.0241053696191852,5.736044847024569,0.30047325555459786],[8.968338586940602,0.6069415493608806,2.5989410474220533,81.34403078200774,0.27710382037733083,0.02600938701062986,5.863313103241473,0.31532172363929134],[9.180259574445646,0.6379343112960021,2.660164794766884,80.87884226813206,0.29140166360947145,0.028058995298899502,5.992496693027976,0.3308416994230566],[9.39608557507949,0.6704100466018131,2.7225502288560524,80.40365826807532,0.3063968186898248,0.0302650030792852,6.123575825240445,0.34705823437778505],[9.615827913661205,0.7044313281707837,2.7861067586413206,79.91835072299227,0.3221198985695398,0.03263899231620901,6.256527544356205,0.36399684129246335],[9.839494053275057,0.7400626544886254,2.8508433622608864,79.42279492787205,0.33860257225695195,0.03519336962047337,6.391325603807581,0.3816834564183684],[10.067087354106183,0.7773704463826876,2.916768576589132,78.9168698896491,0.3558775766478568,0.03794142033693304,6.527940340138332,0.40014439614976377],[10.298606825008664,0.8164230371603289,2.9838904886315043,78.40045870118311,0.3739787261420215,0.04089736550738165,6.666338548462792,0.41940630790419026],[10.534046867945307,0.8572906555961657,3.0522167289367976,77.87344893134201,0.3929409198211327,0.04407642175886126,6.806483359723885,0.4394961148758401],[10.773397015465163,0.9000454012277571,3.1217544671895516,77.33573303140204,0.4128001459596896,0.04749486414941885,6.94833412025497,0.46044095435140686],[11.016641661412105,0.9447612114282766,3.192510410130796,76.78720875795479,0.43359348363939,0.05117009198099508,7.0918462741519415,0.4822681093017124],[11.26375978508244,0.9915138197434944,3.2644908019341323,76.2277796124899,0.4553591012398441,0.055120697561949795,7.2369712489525835,0.5050049329956636],[11.51472466907233,1.0403807050113278,3.337701427135452,75.65735529780085,0.4781362515848302,0.05936653786897164,7.383656345098625,0.5286787664276208],[11.769503611074295,1.0914410308274163,3.4121476161764397,75.07585219134315,0.5019652635345443,0.06392880901890355,7.531844629618361,0.5533168484069076],[12.028057629896498,1.1447755749828248,3.4878342535733213,74.48319383565779,0.526887529831553,0.06883012341439405,7.681474834412105,0.57894621823151],[12.290341165985504,1.2004666485828959,3.5647657886604978,73.87931144596317,0.5529454910324487,0.07409458937211075,7.832481259443923,0.6055936109594547],[12.556301776732745,1.2585980046635772,3.642946248782075,73.26414443501207,0.5801826153900438,0.07974789297730024,7.984793681037983,0.6332853454042092],[12.825879826832512,1.3192547362570695,3.722379254709649,72.63764095531702,0.6086433745937012,0.0858173818322731,8.138337265339787,0.6620472051179954],[13.099008173935218,1.3825231640278657,3.8030680379498194,71.99975845885861,0.6383732153301428,0.09233215027735786,8.293032486827556,0.6919043127934418],[13.375612144595529,1.4484903657765782,3.8850155218523916,71.35046397177317,0.6694184689675922,0.09932311056166977,8.44879553423949,0.7228808822335827],[13.655610242797044,1.5172439030196831,3.968222882321819,70.68973355207368,0.7018269660820362,0.10682179558361074,8.605538967920923,0.7550016902012042],[13.938909298103974,1.5888780109312521,4.052687075230888,70.01755747565682,0.7356496621602254,0.11485954774091925,8.763163360215156,0.7882955699607685],[14.225406646764545,1.6634889047745365,4.138403854482083,69.33393840252357,0.7709388454603802,0.12346928650591245,8.921562748742705,0.8227913107462587],[14.514990470658873,1.7411736668994797,4.225368187567755,68.63889134556307,0.8077478268726408,0.13268574411592304,9.080625818581563,0.8585169397406909],[14.807539519236913,1.822030008203003,4.31357429587844,67.93244427588075,0.8461308701739779,0.14254555111907366,9.240235941362718,0.8954995381451181],[15.102922841727555,1.906156003107979,4.403015704082707,67.21463873265232,0.8861431116121599,0.15308732430609687,9.400271241046013,0.9337650414651686],[15.400999531455376,1.9936497968169171,4.4936852991612435,66.48553043584894,0.9278404681315627,0.16435175685084155,9.560604688303862,0.9733380234312383],[15.701618484151219,2.0846092837091934,4.5855753996430515,65.74518990009034,0.9712795335657946,0.17638171043377324,9.72110422535432,1.014241463052304],[16.00461817217021,2.179131755904756,4.678677835539985,64.99370304780903,1.016517462146293,0.18922230906710644,9.881632922949954,1.0564964944126627],[16.309826436530823,2.2773135212201465,4.77298403940424,64.23117181985977,1.0636118387147142,0.2029210342762315,10.042049171033916,1.100122138960166],[16.617060298652284,2.3792494900026893,4.868485148837465,63.457714781689184,1.1126205350826828,0.21752782121867809,10.202206904308339,1.1451350202086712],[16.92612579358973,2.485032730656567,4.965172120656273,62.67346772319842,1.1636015520589655,0.2330951552378676,10.361955863609513,1.1915490609926556],[17.23681782643513,2.594753994080795,5.06303585676113,61.8785842504974,1.2166128467647526,0.2496781682528571,10.52114189353332,1.239375163674619],[17.548920053358074,2.7085012077378527,5.162067341558887,61.07323636787211,1.2717121449871984,0.26733473427574306,10.679607276186097,1.2886208740240364],[17.86220478848955,2.8263589406769887,5.262257790546028,60.257615048482215,1.328956738484302,0.2861255632235098,10.837191100228749,1.3392900298686508],[18.176432937491622,2.9484078415663237,5.3635988093632,59.431930792583465,1.3884032673568363,0.30611429204908647,10.993729663514177,1.3913823960752825],[18.49135395818669,3.07472405266127,5.466082562272184,58.5964141724539,1.4501074878514002,0.3273675720548705,11.149056906560686,1.4448932879590028],[18.80670584802501,3.2053786036770147,5.569701948574697,57.75131636370542,1.514124026260863,0.3499551510686941,11.30300487282832,1.4998131858599728],[19.122215157423003,3.340436790764172,5.674450784976006,56.89690966331509,1.5805061199525328,0.37394994895423145,11.45540419023419,1.5561273443807717],[19.43759702708451,3.479957547239645,5.780323991283091,56.03348799553057,1.6493053469907848,0.39942812469227684,11.606084566518069,1.6138154006610388],[19.752555246290875,3.623992814431015,5.887317776100944,55.16136740783136,1.7205713463403043,0.4264691330025318,11.75487528890367,1.672850987099304],[20.066782327780164,3.772586922991128,5.995429818335303,54.28088656038864,1.7943515312518115,0.4551557681737956,11.90160571594297,1.7332013551361827],[20.37996206038415,3.9257730533007895,6.104660471267986,53.39240467119454,1.8706900229298153,0.48557438879908266,12.046109779544775,1.7948255525788632],[20.69177396714138,4.0835737898686,6.21500605398571,52.49629701563735,1.9496303229472096,0.5178087612890152,12.188227831624744,1.8576822575059853],[21.001865414160683,4.2460385811199135,6.326441076924905,51.592983903938126,2.031226921113543,0.5519331590114923,12.327757130051141,1.9217538136801948],[21.309870319881316,4.413212824513475,6.438937572723278,50.682912625945676,2.115533447036632,0.5880223609630649,12.464490045092331,1.9870208038442223],[21.615412991162035,4.585132389425108,6.552467645387587,49.76655413984046,2.202600766971251,0.6261525525466699,12.598220988917323,2.053458525749566],[21.91810888752329,4.761822528814146,6.667003808795005,48.84440287653907,2.2924765030213328,0.6664012810968097,12.728747659705794,2.121036454504554],[22.217565478401024,4.943296731845139,6.7825193699736595,47.916976447961524,2.3852045144621936,0.7088474158789313,12.855872380973215,2.189717660504311],[22.51338319257662,5.1295555199887914,6.8989888607929615,46.98481525795101,2.480824340065261,0.7535711156054228,12.979403533241394,2.2594581797785263],[22.805156457068165,5.320585190432673,7.016388521842522,46.048482016461705,2.579370600559844,0.8006538071835099,13.099157073034322,2.330206333417262],[23.09247482046665,5.516356512189364,7.134696842411084,45.10856115991212,2.680872360685981,0.8501781801949033,13.214958131583645,2.40190199255625],[23.374924152910687,5.716823382137591,7.253895160589938,44.165658183409086,2.7853524506920238,0.9022282025199896,13.326642682517592,2.474475785223089],[23.65208791153338,5.921921450412701,7.373968327611698,43.2203988939757,2.8928267476226375,0.9568891635787772,13.434059264099833,2.5478482411652803],[23.92354845619585,6.13156672712817,7.494905440589116,42.27342859806331,3.0033034173433713,1.0142477528880738,13.537070737189385,2.621928870602718],[24.188888395539003,6.345654185414616,7.6167006478303785,41.325411241614425,3.1167821189733904,1.074392183052822,13.635556054902827,2.696615172672537],[24.4476919377216,6.564056379273727,7.739354030868975,40.37702852689542,3.233253174269231,1.1374123679466746,13.729412013857672,2.771791569166694],[24.699546213532876,6.786622098832372,7.86287256724507,39.42897903739807,3.3526967055411103,1.203400168722708,13.818554949723149,2.847328259004639],[24.944042531719504,7.013175090332362,7.987271177899707,38.48197741048015,3.4750817469161785,1.2724497224647375,13.902922331447899,2.9230799887394685],[25.180782839744335,7.243511710341492,8.112570641639408,37.5367476351043,3.6003662669167174,1.3446540108252958,13.982478087982939,2.998888807445511],[25.40938416024467,7.477443329429048,8.238744257891932,36.59401474220868,3.7285224776948827,1.420062581538959,14.057175780517934,3.074652670473894],[25.629398916641595,7.7148491533559005,8.365725519958172,35.65459147617969,3.8595424698703673,1.4987079717730447,14.126867591498904,3.1503169007223346],[25.840379302086593,7.955597406113691,8.493447712238643,34.71931198358434,3.993410902164559,1.5806191644342664,14.191410491691247,3.225823037686664],[26.04189147677487,8.199535099360231,8.621845235952138,33.78901678068776,4.130102466470489,1.6658187493649446,14.25068287624737,3.3011073151421937],[26.233518708100796,8.446486071453597,8.750854784138154,32.86454956755644,4.269580780017816,1.754322857546901,14.30458774973007,3.3760994814562304],[26.414864618887435,8.696248863858441,8.880416731120945,31.946753874367317,4.411797182650784,1.8461412440337037,14.353056119434202,3.450721365647175],[26.585556507495554,8.948594421892349,9.010476766619892,31.03646957809781,4.556689432424754,1.9412775564010936,14.396050592362274,3.524885144706274],[26.745248693530254,9.2032636057582,9.140987808551845,30.134529339780038,4.704180292368468,2.039729831831457,14.433569167252118,3.5984912609276245],[26.893625830992804,9.4599644967077,9.271912232904855,29.24175502672566,4.854176000899246,2.1414912732089144,14.465649208284693,3.671425930276131],[27.030406116805203,9.718369481998215,9.403224463927042,28.3589542008947,5.006564618021796,2.246551362925293,14.492371581390117,3.7435581740376302],[27.155344306361975,9.978112101031455,9.53491397333201,27.486916774284094,5.161214239091301,2.354897382627136,14.513864927273087,3.8147362959989444],[27.26823442879395,10.23878363369415,9.666988743344966,26.62641195528069,5.317971067584436,2.4665164180333,14.530310037228432,3.884783716040073],[27.368912072570776,10.499929410448686,9.799479255280476,25.778185636862435,5.476657338002974,2.581397940404403,14.541944288323393,3.953494058106856],[27.45725874160661,10.76104710831759,9.932439452078915,24.94295505583477,5.637070458055284,2.6995334276608145,14.549065307092084,4.020630449353941],[27.533215780006053,11.021736919104905,10.065795477558739,24.121375971963836,5.799053568176327,2.820792145972764,14.55189809755468,4.086132039662697],[27.596574790418977,11.281770320245418,10.199393285868565,23.314279880661424,5.962500657554228,2.9450191296687653,14.55042404925193,4.150037886330695],[27.647116471986973,11.540908864506028,10.333104826953738,22.52252952627168,6.127287954907433,3.0720798354477767,14.544620263621942,4.2123522563044276],[27.68467532066727,11.798894845840794,10.466805401259093,21.746943088331683,6.293276608221988,3.201823750791845,14.53450114251793,4.273079842369396],[27.709145338937223,12.055447662022761,10.60037647336117,20.98828676630382,6.460311040147363,3.3340852528297096,14.520124661565527,4.332222804832425],[27.720485774527067,12.310259414121495,10.733709044587897,20.247267308298813,6.628217096027723,3.4686849712851755,14.501599413523822,4.389776977628013],[27.718726798102466,12.562989609170238,10.866707670315012,19.52452461617456,6.7967999565802755,3.6054317593073972,14.4790925063523,4.445727083997751],[27.70397500887688,12.81325881194547,10.99929521941393,18.82062459115887,6.9658417834684165,3.744125392580561,14.45283840961336,4.500040782942505],[27.676418632705445,13.060641068499265,11.131418486641664,18.136052421287914,7.135099061759926,3.884560136071749,14.423148852696416,4.55266134033762],[27.636332248791067,13.304654897564236,11.263054783802836,17.471206555260927,7.304299598446942,4.026529339413313,14.390423889232542,4.603498687488139],[27.584080848146208,13.544752615764848,11.394219652492792,16.826393657680168,7.4731391307645305,4.169831246584634,14.355164254084363,4.652418594482472],[27.52012298874945,13.780307728234721,11.524975860390802,16.201824899091964,7.641277491897623,4.3142762336571625,14.317985152564116,4.699229645414169],[27.445021477626323,14.010672142491035,11.655391521276025,15.597592419476635,7.808357802641448,4.459649009981972,14.279567949307891,4.743747677198671],[27.359227966691495,14.235722991151981,11.785208261593766,15.013846971408146,7.974193202863692,4.605497635779825,14.240037877045433,4.78626509346566],[27.26285575851879,14.455376972755408,11.914238019653808,14.451144978931062,8.138611812503994,4.751538374774065,14.19931022394977,4.826923858913106],[27.156063643577795,14.669512592440622,12.042333660511467,13.909988259647694,8.301420130541034,4.897511922870182,14.157354456811797,4.86581533359941],[27.039098961232533,14.87800270740216,12.169357549419614,13.390763838179753,8.462413222996286,5.043144404497435,14.114185464890651,4.903033851381573],[26.912307377233795,15.080706367907274,12.295185531014392,12.89373067919874,8.621372673536863,5.188148564235235,14.069876780080962,4.938672026792741],[26.776143271232968,15.277458409912818,12.419711619320735,12.419006180570587,8.77806406771742,5.332225414798835,14.02457627731191,4.972814759134725],[26.631180728932023,15.468056382460217,12.54285350184953,11.966552598384663,8.932233925319938,5.475066425415138,13.978524741573503,5.005531696064988],[26.47812512438121,15.6522443284164,12.664558974793131,11.536163618302908,9.083605981855602,5.616356347272281,13.932077742422372,5.036867882556098],[26.317825266927716,15.829692863435785,12.784813441804292,11.127451337591122,9.23187670499501,5.755776787112678,13.88573131850316,5.066832279630239],[26.15128607410206,15.99997491404196,12.903648626282767,10.7398339804396,9.376709914239255,5.893010656385423,13.840152044454783,5.095383790054154],[25.979681715960904,16.162536380109973,13.021152666734114,10.372524736957232,9.517730352246351,6.027747641932512,13.796212131591673,5.122414374467237],[25.80420791498975,16.317007478390046,13.137360497380666,10.02463642643539,9.65460267562856,6.1596328223801375,13.754622678455522,5.14792950633993],[25.625249082308688,16.46394984075578,13.251977545232872,9.696056706335245,9.7872835803389,6.288292999020029,13.714817651286435,5.172372594722055],[25.442994118420614,16.60349820174534,13.364859583356434,9.387012345543381,9.915685863340967,6.413575531781361,13.676545446235004,5.1958289095769015],[25.25772151744903,16.735764203450753,13.475888566400407,9.0975810385587,10.039717572196723,6.535337094320261,13.639627848919133,5.218362158704995],[25.06981021783663,16.860868547906637,13.58496220937312,8.827666066529694,10.159287263429972,6.65343052768801,13.603935952158626,5.240039215077313],[24.8797594964892,16.978929204093987,13.691998049332733,8.576972212896795,10.274299588411688,6.7677018009014205,13.569412036758433,5.260927611115742],[24.688212072330835,17.09004619922295,13.79693810972982,8.344979569048153,10.384649550132716,6.877986089836861,13.536096100493683,5.281092309204976],[24.49598088260787,17.194282359728835,13.899754244010364,8.130915112207685,10.490215177478609,6.984102805978401,13.50415780298324,5.300591615004997],[24.304080057798522,17.291639269301026,14.000454244262821,7.933721939301336,10.590848323832962,7.085849379980865,13.473934705910102,5.319472079612369],[24.11376069157993,17.382027599396185,14.099088810941845,7.75202604382086,10.686363251415838,7.182993574665728,13.445977814948447,5.337762213231165],[23.9265520819898,17.465230840244914,14.195759491147347,7.5841005280808735,10.776522610962227,7.275264067447333,13.421105573745617,5.355464806381891],[23.743354911428213,17.541493238996704,14.290493161457306,7.428774579128836,10.86126930899385,7.3625561237441435,13.399417271855896,5.372641404395055],[23.563754095576066,17.61153144830028,14.383077679650311,7.286407637171632,10.940854717467413,7.445018886471979,13.379938990607966,5.38941654475436],[23.387774293627146,17.675575710643702,14.473338774269804,7.156997846143298,11.015411294995491,7.5226906892081224,13.362375808538438,5.405835582574001],[23.21551172596286,17.733877206012163,14.561131847420384,7.040368042259735,11.085078849787768,7.595626478670619,13.346469650161623,5.421936199724852],[23.04715913213942,17.78670062401237,14.646351261267798,6.936135066725344,11.149995933203401,7.663894912380938,13.332018682904732,5.4377443873660045],[22.88303805490604,17.83431251055395,14.728941527880325,6.843673136425415,11.21028815086212,7.727573693136261,13.3189036455815,5.453269280654389],[22.723637696313812,17.876966252884607,14.808910463649225,6.762072204227382,11.26605338299528,7.786743300948748,13.307119806628595,5.468496892352356],[22.5696614184046,17.91488308299007,14.886344598972917,6.6900906848464246,11.317343357559109,7.841478810728537,13.29681548348263,5.483382563015716],[22.42208211643162,17.94822838398722,14.961427173389753,6.626101847478757,11.364140934912061,7.891839434788131,13.288338190156843,5.497841918855616],[22.28198580637095,17.977143532204643,15.03442593891288,6.568268840749496,11.406394097411923,7.937916214590071,13.2821325956711,5.511732974088941],[22.14884165871683,18.002132985691375,15.105232220946663,6.516651629497017,11.444490091221864,7.980088005494365,13.277562601103458,5.52500080732843],[22.022187051979294,18.0235634239293,15.1734726436275,6.4715626226596195,11.47879875557536,8.018419465674187,13.274121277138038,5.537874759416699],[21.901760931466935,18.04174925952423,15.238844322323203,6.433022222422527,11.509638062270016,8.052956440139248,13.271467550061326,5.550561211792515],[21.787373419869837,18.056993126488255,15.301143347320094,6.400857500399415,11.537302161792935,8.083806140514792,13.269334274596238,5.563190029018428],[21.67894382042132,18.069568710658466,15.360297966061742,6.374654376466902,11.562040149624128,8.111148285715624,13.267560904612155,5.575785786439665],[21.57654710892486,18.079699396257222,15.416408151696528,6.353701526725362,11.584029833141937,8.135247792704673,13.266133025008717,5.5882331655406965],[21.48047035005763,18.087532000443538,15.469792560069555,6.336924792217144,11.603345639248065,8.156469213301994,13.265229869747154,5.600235574914922],[21.391280685113927,18.093104758842827,15.521044018869496,6.322810692042979,11.619919674999602,8.17529313678548,13.26528111404406,5.611265919301626],[21.309503371771296,18.096071270385774,15.571308576801101,6.309878317797587,11.633416108929051,8.19262274425245,13.267066928788322,5.620132681274417],[21.234268950842516,18.096481603197272,15.620614486776324,6.298743346995705,11.644080697827443,8.208890298641153,13.27031925833906,5.626601357380517],[21.164764217433255,18.09569765403618,15.667039311079304,6.29006084422036,11.653069935579815,8.222979489031957,13.273558682386563,5.632829866232565],[21.100320687101622,18.094838248661375,15.709083711953824,6.284232188200165,11.661333508371477,8.2340422441085,13.275619801860797,5.640529609742228],[21.040452107561816,18.09459427442745,15.74594302783232,6.281361005827308,11.669474682367738,8.241692501258083,13.275837583517015,5.650644817208265],[20.984934523983494,18.095071187521917,15.777747190217177,6.281158634043698,11.67762052457869,8.246161392196788,13.274225624343522,5.663080923114708],[20.933903278833494,18.09559983165917,15.805847990107354,6.282831375428889,11.685265874890584,8.248482837260502,13.27168996142575,5.676378850394248],[20.88796973640467,18.09451046900747,15.83316124280064,6.28494667782955,11.69108683487532,8.25071438117441,13.27028412327015,5.687326534637785],[20.84818457160182,18.089236879173736,15.863997582323536,6.28550200425307,11.693022769374387,8.25582036080004,13.273087773952025,5.691148058521383],[20.812870513831825,18.08302859795962,15.893677379180891,6.286044657680305,11.693748466969476,8.260821663134541,13.276560820930776,5.693247900312565],[20.780915286996144,18.07785056702354,15.919420549386535,6.287492672962758,11.694894056471524,8.26395344160944,13.278588365935455,5.696885059614605],[20.752280481854964,18.073134895267078,15.942258157865036,6.289503916071988,11.69602817006082,8.265939685077164,13.279858517586469,5.700996176216486]],\"type\":\"heatmap\",\"xaxis\":\"x\",\"yaxis\":\"y\",\"hovertemplate\":\"x: %{x}<br>time: %{y}<br>color: %{z}<extra></extra>\"}],                        {\"template\":{\"data\":{\"histogram2dcontour\":[{\"type\":\"histogram2dcontour\",\"colorbar\":{\"outlinewidth\":0,\"ticks\":\"\"},\"colorscale\":[[0.0,\"#0d0887\"],[0.1111111111111111,\"#46039f\"],[0.2222222222222222,\"#7201a8\"],[0.3333333333333333,\"#9c179e\"],[0.4444444444444444,\"#bd3786\"],[0.5555555555555556,\"#d8576b\"],[0.6666666666666666,\"#ed7953\"],[0.7777777777777778,\"#fb9f3a\"],[0.8888888888888888,\"#fdca26\"],[1.0,\"#f0f921\"]]}],\"choropleth\":[{\"type\":\"choropleth\",\"colorbar\":{\"outlinewidth\":0,\"ticks\":\"\"}}],\"histogram2d\":[{\"type\":\"histogram2d\",\"colorbar\":{\"outlinewidth\":0,\"ticks\":\"\"},\"colorscale\":[[0.0,\"#0d0887\"],[0.1111111111111111,\"#46039f\"],[0.2222222222222222,\"#7201a8\"],[0.3333333333333333,\"#9c179e\"],[0.4444444444444444,\"#bd3786\"],[0.5555555555555556,\"#d8576b\"],[0.6666666666666666,\"#ed7953\"],[0.7777777777777778,\"#fb9f3a\"],[0.8888888888888888,\"#fdca26\"],[1.0,\"#f0f921\"]]}],\"heatmap\":[{\"type\":\"heatmap\",\"colorbar\":{\"outlinewidth\":0,\"ticks\":\"\"},\"colorscale\":[[0.0,\"#0d0887\"],[0.1111111111111111,\"#46039f\"],[0.2222222222222222,\"#7201a8\"],[0.3333333333333333,\"#9c179e\"],[0.4444444444444444,\"#bd3786\"],[0.5555555555555556,\"#d8576b\"],[0.6666666666666666,\"#ed7953\"],[0.7777777777777778,\"#fb9f3a\"],[0.8888888888888888,\"#fdca26\"],[1.0,\"#f0f921\"]]}],\"heatmapgl\":[{\"type\":\"heatmapgl\",\"colorbar\":{\"outlinewidth\":0,\"ticks\":\"\"},\"colorscale\":[[0.0,\"#0d0887\"],[0.1111111111111111,\"#46039f\"],[0.2222222222222222,\"#7201a8\"],[0.3333333333333333,\"#9c179e\"],[0.4444444444444444,\"#bd3786\"],[0.5555555555555556,\"#d8576b\"],[0.6666666666666666,\"#ed7953\"],[0.7777777777777778,\"#fb9f3a\"],[0.8888888888888888,\"#fdca26\"],[1.0,\"#f0f921\"]]}],\"contourcarpet\":[{\"type\":\"contourcarpet\",\"colorbar\":{\"outlinewidth\":0,\"ticks\":\"\"}}],\"contour\":[{\"type\":\"contour\",\"colorbar\":{\"outlinewidth\":0,\"ticks\":\"\"},\"colorscale\":[[0.0,\"#0d0887\"],[0.1111111111111111,\"#46039f\"],[0.2222222222222222,\"#7201a8\"],[0.3333333333333333,\"#9c179e\"],[0.4444444444444444,\"#bd3786\"],[0.5555555555555556,\"#d8576b\"],[0.6666666666666666,\"#ed7953\"],[0.7777777777777778,\"#fb9f3a\"],[0.8888888888888888,\"#fdca26\"],[1.0,\"#f0f921\"]]}],\"surface\":[{\"type\":\"surface\",\"colorbar\":{\"outlinewidth\":0,\"ticks\":\"\"},\"colorscale\":[[0.0,\"#0d0887\"],[0.1111111111111111,\"#46039f\"],[0.2222222222222222,\"#7201a8\"],[0.3333333333333333,\"#9c179e\"],[0.4444444444444444,\"#bd3786\"],[0.5555555555555556,\"#d8576b\"],[0.6666666666666666,\"#ed7953\"],[0.7777777777777778,\"#fb9f3a\"],[0.8888888888888888,\"#fdca26\"],[1.0,\"#f0f921\"]]}],\"mesh3d\":[{\"type\":\"mesh3d\",\"colorbar\":{\"outlinewidth\":0,\"ticks\":\"\"}}],\"scatter\":[{\"fillpattern\":{\"fillmode\":\"overlay\",\"size\":10,\"solidity\":0.2},\"type\":\"scatter\"}],\"parcoords\":[{\"type\":\"parcoords\",\"line\":{\"colorbar\":{\"outlinewidth\":0,\"ticks\":\"\"}}}],\"scatterpolargl\":[{\"type\":\"scatterpolargl\",\"marker\":{\"colorbar\":{\"outlinewidth\":0,\"ticks\":\"\"}}}],\"bar\":[{\"error_x\":{\"color\":\"#2a3f5f\"},\"error_y\":{\"color\":\"#2a3f5f\"},\"marker\":{\"line\":{\"color\":\"#E5ECF6\",\"width\":0.5},\"pattern\":{\"fillmode\":\"overlay\",\"size\":10,\"solidity\":0.2}},\"type\":\"bar\"}],\"scattergeo\":[{\"type\":\"scattergeo\",\"marker\":{\"colorbar\":{\"outlinewidth\":0,\"ticks\":\"\"}}}],\"scatterpolar\":[{\"type\":\"scatterpolar\",\"marker\":{\"colorbar\":{\"outlinewidth\":0,\"ticks\":\"\"}}}],\"histogram\":[{\"marker\":{\"pattern\":{\"fillmode\":\"overlay\",\"size\":10,\"solidity\":0.2}},\"type\":\"histogram\"}],\"scattergl\":[{\"type\":\"scattergl\",\"marker\":{\"colorbar\":{\"outlinewidth\":0,\"ticks\":\"\"}}}],\"scatter3d\":[{\"type\":\"scatter3d\",\"line\":{\"colorbar\":{\"outlinewidth\":0,\"ticks\":\"\"}},\"marker\":{\"colorbar\":{\"outlinewidth\":0,\"ticks\":\"\"}}}],\"scattermapbox\":[{\"type\":\"scattermapbox\",\"marker\":{\"colorbar\":{\"outlinewidth\":0,\"ticks\":\"\"}}}],\"scatterternary\":[{\"type\":\"scatterternary\",\"marker\":{\"colorbar\":{\"outlinewidth\":0,\"ticks\":\"\"}}}],\"scattercarpet\":[{\"type\":\"scattercarpet\",\"marker\":{\"colorbar\":{\"outlinewidth\":0,\"ticks\":\"\"}}}],\"carpet\":[{\"aaxis\":{\"endlinecolor\":\"#2a3f5f\",\"gridcolor\":\"white\",\"linecolor\":\"white\",\"minorgridcolor\":\"white\",\"startlinecolor\":\"#2a3f5f\"},\"baxis\":{\"endlinecolor\":\"#2a3f5f\",\"gridcolor\":\"white\",\"linecolor\":\"white\",\"minorgridcolor\":\"white\",\"startlinecolor\":\"#2a3f5f\"},\"type\":\"carpet\"}],\"table\":[{\"cells\":{\"fill\":{\"color\":\"#EBF0F8\"},\"line\":{\"color\":\"white\"}},\"header\":{\"fill\":{\"color\":\"#C8D4E3\"},\"line\":{\"color\":\"white\"}},\"type\":\"table\"}],\"barpolar\":[{\"marker\":{\"line\":{\"color\":\"#E5ECF6\",\"width\":0.5},\"pattern\":{\"fillmode\":\"overlay\",\"size\":10,\"solidity\":0.2}},\"type\":\"barpolar\"}],\"pie\":[{\"automargin\":true,\"type\":\"pie\"}]},\"layout\":{\"autotypenumbers\":\"strict\",\"colorway\":[\"#636efa\",\"#EF553B\",\"#00cc96\",\"#ab63fa\",\"#FFA15A\",\"#19d3f3\",\"#FF6692\",\"#B6E880\",\"#FF97FF\",\"#FECB52\"],\"font\":{\"color\":\"#2a3f5f\"},\"hovermode\":\"closest\",\"hoverlabel\":{\"align\":\"left\"},\"paper_bgcolor\":\"white\",\"plot_bgcolor\":\"#E5ECF6\",\"polar\":{\"bgcolor\":\"#E5ECF6\",\"angularaxis\":{\"gridcolor\":\"white\",\"linecolor\":\"white\",\"ticks\":\"\"},\"radialaxis\":{\"gridcolor\":\"white\",\"linecolor\":\"white\",\"ticks\":\"\"}},\"ternary\":{\"bgcolor\":\"#E5ECF6\",\"aaxis\":{\"gridcolor\":\"white\",\"linecolor\":\"white\",\"ticks\":\"\"},\"baxis\":{\"gridcolor\":\"white\",\"linecolor\":\"white\",\"ticks\":\"\"},\"caxis\":{\"gridcolor\":\"white\",\"linecolor\":\"white\",\"ticks\":\"\"}},\"coloraxis\":{\"colorbar\":{\"outlinewidth\":0,\"ticks\":\"\"}},\"colorscale\":{\"sequential\":[[0.0,\"#0d0887\"],[0.1111111111111111,\"#46039f\"],[0.2222222222222222,\"#7201a8\"],[0.3333333333333333,\"#9c179e\"],[0.4444444444444444,\"#bd3786\"],[0.5555555555555556,\"#d8576b\"],[0.6666666666666666,\"#ed7953\"],[0.7777777777777778,\"#fb9f3a\"],[0.8888888888888888,\"#fdca26\"],[1.0,\"#f0f921\"]],\"sequentialminus\":[[0.0,\"#0d0887\"],[0.1111111111111111,\"#46039f\"],[0.2222222222222222,\"#7201a8\"],[0.3333333333333333,\"#9c179e\"],[0.4444444444444444,\"#bd3786\"],[0.5555555555555556,\"#d8576b\"],[0.6666666666666666,\"#ed7953\"],[0.7777777777777778,\"#fb9f3a\"],[0.8888888888888888,\"#fdca26\"],[1.0,\"#f0f921\"]],\"diverging\":[[0,\"#8e0152\"],[0.1,\"#c51b7d\"],[0.2,\"#de77ae\"],[0.3,\"#f1b6da\"],[0.4,\"#fde0ef\"],[0.5,\"#f7f7f7\"],[0.6,\"#e6f5d0\"],[0.7,\"#b8e186\"],[0.8,\"#7fbc41\"],[0.9,\"#4d9221\"],[1,\"#276419\"]]},\"xaxis\":{\"gridcolor\":\"white\",\"linecolor\":\"white\",\"ticks\":\"\",\"title\":{\"standoff\":15},\"zerolinecolor\":\"white\",\"automargin\":true,\"zerolinewidth\":2},\"yaxis\":{\"gridcolor\":\"white\",\"linecolor\":\"white\",\"ticks\":\"\",\"title\":{\"standoff\":15},\"zerolinecolor\":\"white\",\"automargin\":true,\"zerolinewidth\":2},\"scene\":{\"xaxis\":{\"backgroundcolor\":\"#E5ECF6\",\"gridcolor\":\"white\",\"linecolor\":\"white\",\"showbackground\":true,\"ticks\":\"\",\"zerolinecolor\":\"white\",\"gridwidth\":2},\"yaxis\":{\"backgroundcolor\":\"#E5ECF6\",\"gridcolor\":\"white\",\"linecolor\":\"white\",\"showbackground\":true,\"ticks\":\"\",\"zerolinecolor\":\"white\",\"gridwidth\":2},\"zaxis\":{\"backgroundcolor\":\"#E5ECF6\",\"gridcolor\":\"white\",\"linecolor\":\"white\",\"showbackground\":true,\"ticks\":\"\",\"zerolinecolor\":\"white\",\"gridwidth\":2}},\"shapedefaults\":{\"line\":{\"color\":\"#2a3f5f\"}},\"annotationdefaults\":{\"arrowcolor\":\"#2a3f5f\",\"arrowhead\":0,\"arrowwidth\":1},\"geo\":{\"bgcolor\":\"white\",\"landcolor\":\"#E5ECF6\",\"subunitcolor\":\"white\",\"showland\":true,\"showlakes\":true,\"lakecolor\":\"white\"},\"title\":{\"x\":0.05},\"mapbox\":{\"style\":\"light\"}}},\"xaxis\":{\"anchor\":\"y\",\"domain\":[0.0,1.0],\"scaleanchor\":\"y\",\"constrain\":\"domain\"},\"yaxis\":{\"anchor\":\"x\",\"domain\":[0.0,1.0],\"autorange\":\"reversed\",\"constrain\":\"domain\",\"title\":{\"text\":\"time\"}},\"coloraxis\":{\"colorscale\":[[0.0,\"#0d0887\"],[0.1111111111111111,\"#46039f\"],[0.2222222222222222,\"#7201a8\"],[0.3333333333333333,\"#9c179e\"],[0.4444444444444444,\"#bd3786\"],[0.5555555555555556,\"#d8576b\"],[0.6666666666666666,\"#ed7953\"],[0.7777777777777778,\"#fb9f3a\"],[0.8888888888888888,\"#fdca26\"],[1.0,\"#f0f921\"]]},\"margin\":{\"t\":5,\"r\":5,\"b\":5,\"l\":5},\"showlegend\":false,\"height\":500,\"width\":500,\"autosize\":false},                        {\"responsive\": true}                    ).then(function(){\n",
       "                            \n",
       "var gd = document.getElementById('568210ca-1daa-4663-b8ef-c083970a72d2');\n",
       "var x = new MutationObserver(function (mutations, observer) {{\n",
       "        var display = window.getComputedStyle(gd).display;\n",
       "        if (!display || display === 'none') {{\n",
       "            console.log([gd, 'removed!']);\n",
       "            Plotly.purge(gd);\n",
       "            observer.disconnect();\n",
       "        }}\n",
       "}});\n",
       "\n",
       "// Listen for the removal of the full notebook cells\n",
       "var notebookContainer = gd.closest('#notebook-container');\n",
       "if (notebookContainer) {{\n",
       "    x.observe(notebookContainer, {childList: true});\n",
       "}}\n",
       "\n",
       "// Listen for the clearing of the current output cell\n",
       "var outputEl = gd.closest('.output');\n",
       "if (outputEl) {{\n",
       "    x.observe(outputEl, {childList: true});\n",
       "}}\n",
       "\n",
       "                        })                };                });            </script>        </div>"
      ]
     },
     "metadata": {},
     "output_type": "display_data"
    }
   ],
   "source": [
    "fig = px.imshow(concentrations_df)\n",
    "fig.update_layout(\n",
    "    margin = dict(t=5,r=5,b=5,l=5),\n",
    "    showlegend = False,\n",
    "    height = 500,\n",
    "    width = 500,\n",
    "    autosize = False )\n",
    "fig.show()"
   ]
  },
  {
   "cell_type": "code",
   "execution_count": null,
   "id": "833e43b5-a127-43d6-89e0-9b3cc794dd3f",
   "metadata": {},
   "outputs": [],
   "source": []
  }
 ],
 "metadata": {
  "kernelspec": {
   "display_name": "Python 3",
   "language": "python",
   "name": "python3"
  },
  "language_info": {
   "codemirror_mode": {
    "name": "ipython",
    "version": 3
   },
   "file_extension": ".py",
   "mimetype": "text/x-python",
   "name": "python",
   "nbconvert_exporter": "python",
   "pygments_lexer": "ipython3",
   "version": "3.9.5"
  }
 },
 "nbformat": 4,
 "nbformat_minor": 5
}
